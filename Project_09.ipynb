{
 "cells": [
  {
   "cell_type": "markdown",
   "metadata": {},
   "source": [
    "# Событийный анализ пользователей мобильного приложения"
   ]
  },
  {
   "cell_type": "markdown",
   "metadata": {},
   "source": [
    " ОПИСАНИЕ ПРОЕКТА\n"
   ]
  },
  {
   "cell_type": "markdown",
   "metadata": {},
   "source": [
    "Стартап продаёт продукты питания. Нужно разобраться, как ведут себя пользователи мобильного приложения.\n",
    "Изучим воронку продаж. Узнаем, как пользователи доходят до покупки. Сколько пользователей доходит до покупки, а сколько — «застревает» на предыдущих шагах? На каких именно?\\\n",
    "Далее исследуем результаты A/A/B-эксперимента замены шрифтов во всём приложении"
   ]
  },
  {
   "cell_type": "markdown",
   "metadata": {},
   "source": [
    "ОПИСАНИЕ ДАННЫХ"
   ]
  },
  {
   "cell_type": "markdown",
   "metadata": {},
   "source": [
    "EventName — название события;\\\n",
    "DeviceIDHash — уникальный идентификатор пользователя;\\\n",
    "EventTimestamp — время события;\\\n",
    "ExpId — номер эксперимента: 246 и 247 — контрольные группы, а 248 — экспериментальная."
   ]
  },
  {
   "cell_type": "markdown",
   "metadata": {},
   "source": [
    "##  Откроем файл с данными и изучим общую информацию"
   ]
  },
  {
   "cell_type": "code",
   "execution_count": 349,
   "metadata": {},
   "outputs": [],
   "source": [
    "#импортируем нужные библиотеки\n",
    "import pandas as pd\n",
    "import numpy as np\n",
    "import datetime as dt\n",
    "import scipy.stats as st\n",
    "import matplotlib.pyplot as plt\n",
    "import seaborn as sns\n",
    "sns.set(rc={'figure.figsize':(10,8)})\n",
    "import math as mth\n",
    "import warnings\n",
    "warnings.filterwarnings('ignore')\n",
    "from plotly import graph_objects as go"
   ]
  },
  {
   "cell_type": "code",
   "execution_count": 350,
   "metadata": {},
   "outputs": [],
   "source": [
    "#загрузим данные в переменную 'data'\n",
    "try:\n",
    "    data = pd.read_csv('/datasets/logs_exp.csv', sep='\\t')\n",
    "except:\n",
    "    data = pd.read_csv('https://code.s3.yandex.net/datasets/logs_exp.csv', sep='\\t')"
   ]
  },
  {
   "cell_type": "code",
   "execution_count": 351,
   "metadata": {},
   "outputs": [
    {
     "name": "stdout",
     "output_type": "stream",
     "text": [
      "<class 'pandas.core.frame.DataFrame'>\n",
      "RangeIndex: 244126 entries, 0 to 244125\n",
      "Data columns (total 4 columns):\n",
      " #   Column          Non-Null Count   Dtype \n",
      "---  ------          --------------   ----- \n",
      " 0   EventName       244126 non-null  object\n",
      " 1   DeviceIDHash    244126 non-null  int64 \n",
      " 2   EventTimestamp  244126 non-null  int64 \n",
      " 3   ExpId           244126 non-null  int64 \n",
      "dtypes: int64(3), object(1)\n",
      "memory usage: 7.5+ MB\n"
     ]
    }
   ],
   "source": [
    "#общая информация\n",
    "data.info()"
   ]
  },
  {
   "cell_type": "code",
   "execution_count": 352,
   "metadata": {},
   "outputs": [
    {
     "data": {
      "text/html": [
       "<div>\n",
       "<style scoped>\n",
       "    .dataframe tbody tr th:only-of-type {\n",
       "        vertical-align: middle;\n",
       "    }\n",
       "\n",
       "    .dataframe tbody tr th {\n",
       "        vertical-align: top;\n",
       "    }\n",
       "\n",
       "    .dataframe thead th {\n",
       "        text-align: right;\n",
       "    }\n",
       "</style>\n",
       "<table border=\"1\" class=\"dataframe\">\n",
       "  <thead>\n",
       "    <tr style=\"text-align: right;\">\n",
       "      <th></th>\n",
       "      <th>EventName</th>\n",
       "      <th>DeviceIDHash</th>\n",
       "      <th>EventTimestamp</th>\n",
       "      <th>ExpId</th>\n",
       "    </tr>\n",
       "  </thead>\n",
       "  <tbody>\n",
       "    <tr>\n",
       "      <th>0</th>\n",
       "      <td>MainScreenAppear</td>\n",
       "      <td>4575588528974610257</td>\n",
       "      <td>1564029816</td>\n",
       "      <td>246</td>\n",
       "    </tr>\n",
       "    <tr>\n",
       "      <th>1</th>\n",
       "      <td>MainScreenAppear</td>\n",
       "      <td>7416695313311560658</td>\n",
       "      <td>1564053102</td>\n",
       "      <td>246</td>\n",
       "    </tr>\n",
       "    <tr>\n",
       "      <th>2</th>\n",
       "      <td>PaymentScreenSuccessful</td>\n",
       "      <td>3518123091307005509</td>\n",
       "      <td>1564054127</td>\n",
       "      <td>248</td>\n",
       "    </tr>\n",
       "    <tr>\n",
       "      <th>3</th>\n",
       "      <td>CartScreenAppear</td>\n",
       "      <td>3518123091307005509</td>\n",
       "      <td>1564054127</td>\n",
       "      <td>248</td>\n",
       "    </tr>\n",
       "    <tr>\n",
       "      <th>4</th>\n",
       "      <td>PaymentScreenSuccessful</td>\n",
       "      <td>6217807653094995999</td>\n",
       "      <td>1564055322</td>\n",
       "      <td>248</td>\n",
       "    </tr>\n",
       "  </tbody>\n",
       "</table>\n",
       "</div>"
      ],
      "text/plain": [
       "                 EventName         DeviceIDHash  EventTimestamp  ExpId\n",
       "0         MainScreenAppear  4575588528974610257      1564029816    246\n",
       "1         MainScreenAppear  7416695313311560658      1564053102    246\n",
       "2  PaymentScreenSuccessful  3518123091307005509      1564054127    248\n",
       "3         CartScreenAppear  3518123091307005509      1564054127    248\n",
       "4  PaymentScreenSuccessful  6217807653094995999      1564055322    248"
      ]
     },
     "execution_count": 352,
     "metadata": {},
     "output_type": "execute_result"
    }
   ],
   "source": [
    "#выведем\n",
    "data.head()"
   ]
  },
  {
   "cell_type": "markdown",
   "metadata": {},
   "source": [
    "##  Подготовим данные"
   ]
  },
  {
   "cell_type": "markdown",
   "metadata": {},
   "source": [
    "Пропусков в данных нет. Столбец с данными о дате имеет тип int, менять  не будем, далее переименуем столбцы, добавим с датой с соответствующим типом, используя для преобразования данный столбец. Проверим данные на явные дубликаты"
   ]
  },
  {
   "cell_type": "code",
   "execution_count": 353,
   "metadata": {},
   "outputs": [],
   "source": [
    "#присваиваем столбцам понятные названия\n",
    "data.columns = ['event_name', 'user_id', 'event_time', 'group']"
   ]
  },
  {
   "cell_type": "code",
   "execution_count": 354,
   "metadata": {},
   "outputs": [
    {
     "data": {
      "text/plain": [
       "413"
      ]
     },
     "execution_count": 354,
     "metadata": {},
     "output_type": "execute_result"
    }
   ],
   "source": [
    "#проверим явные дубликаты\n",
    "data.duplicated().sum()"
   ]
  },
  {
   "cell_type": "code",
   "execution_count": 355,
   "metadata": {},
   "outputs": [],
   "source": [
    "#удалим дубликаты, кроме первого, сбросим индекс\n",
    "data = data.drop_duplicates().reset_index(drop= True)"
   ]
  },
  {
   "cell_type": "code",
   "execution_count": 356,
   "metadata": {},
   "outputs": [
    {
     "data": {
      "text/plain": [
       "0"
      ]
     },
     "execution_count": 356,
     "metadata": {},
     "output_type": "execute_result"
    }
   ],
   "source": [
    "data.duplicated().sum()"
   ]
  },
  {
   "cell_type": "code",
   "execution_count": 357,
   "metadata": {},
   "outputs": [
    {
     "data": {
      "text/plain": [
       "group    0\n",
       "dtype: int64"
      ]
     },
     "execution_count": 357,
     "metadata": {},
     "output_type": "execute_result"
    }
   ],
   "source": [
    "# Проверим пользователей, которые могли участвовать в двух или нескольких группах одновременно\n",
    "data.groupby('user_id').agg({'group':'nunique'}).query('group > 1').count()"
   ]
  },
  {
   "attachments": {},
   "cell_type": "markdown",
   "metadata": {},
   "source": [
    "Дубликатов нет, поменяем типы данных времени"
   ]
  },
  {
   "cell_type": "code",
   "execution_count": 358,
   "metadata": {},
   "outputs": [],
   "source": [
    "#переведем дату в нужный формат\n",
    "data['event_time'] = pd.to_datetime(data['event_time'],unit='s')"
   ]
  },
  {
   "cell_type": "markdown",
   "metadata": {},
   "source": [
    "### Добавим отдельный столбец дат"
   ]
  },
  {
   "cell_type": "code",
   "execution_count": 359,
   "metadata": {},
   "outputs": [],
   "source": [
    "data['date'] = data['event_time'].astype('datetime64[D]')"
   ]
  },
  {
   "cell_type": "code",
   "execution_count": 360,
   "metadata": {},
   "outputs": [
    {
     "name": "stdout",
     "output_type": "stream",
     "text": [
      "<class 'pandas.core.frame.DataFrame'>\n",
      "RangeIndex: 243713 entries, 0 to 243712\n",
      "Data columns (total 5 columns):\n",
      " #   Column      Non-Null Count   Dtype         \n",
      "---  ------      --------------   -----         \n",
      " 0   event_name  243713 non-null  object        \n",
      " 1   user_id     243713 non-null  int64         \n",
      " 2   event_time  243713 non-null  datetime64[ns]\n",
      " 3   group       243713 non-null  int64         \n",
      " 4   date        243713 non-null  datetime64[ns]\n",
      "dtypes: datetime64[ns](2), int64(2), object(1)\n",
      "memory usage: 9.3+ MB\n"
     ]
    }
   ],
   "source": [
    "data.info()"
   ]
  },
  {
   "cell_type": "markdown",
   "metadata": {},
   "source": [
    "Набор данных достаточен. Данные прошли предобработку и соответствуют необходимому уровню качества для дальнейшего интеллектуального анализа и проверке гипотез"
   ]
  },
  {
   "cell_type": "markdown",
   "metadata": {},
   "source": [
    "## Изучим и проверим данные"
   ]
  },
  {
   "cell_type": "code",
   "execution_count": 361,
   "metadata": {},
   "outputs": [
    {
     "data": {
      "text/plain": [
       "243713"
      ]
     },
     "execution_count": 361,
     "metadata": {},
     "output_type": "execute_result"
    }
   ],
   "source": [
    "#всего событий\n",
    "data['user_id'].count()"
   ]
  },
  {
   "cell_type": "code",
   "execution_count": 362,
   "metadata": {},
   "outputs": [
    {
     "data": {
      "text/plain": [
       "7551"
      ]
     },
     "execution_count": 362,
     "metadata": {},
     "output_type": "execute_result"
    }
   ],
   "source": [
    "#уникальных пользователей\n",
    "data['user_id'].nunique()"
   ]
  },
  {
   "cell_type": "code",
   "execution_count": 363,
   "metadata": {},
   "outputs": [
    {
     "data": {
      "text/html": [
       "<div>\n",
       "<style scoped>\n",
       "    .dataframe tbody tr th:only-of-type {\n",
       "        vertical-align: middle;\n",
       "    }\n",
       "\n",
       "    .dataframe tbody tr th {\n",
       "        vertical-align: top;\n",
       "    }\n",
       "\n",
       "    .dataframe thead th {\n",
       "        text-align: right;\n",
       "    }\n",
       "</style>\n",
       "<table border=\"1\" class=\"dataframe\">\n",
       "  <thead>\n",
       "    <tr style=\"text-align: right;\">\n",
       "      <th></th>\n",
       "      <th>user_id</th>\n",
       "    </tr>\n",
       "    <tr>\n",
       "      <th>event_name</th>\n",
       "      <th></th>\n",
       "    </tr>\n",
       "  </thead>\n",
       "  <tbody>\n",
       "    <tr>\n",
       "      <th>MainScreenAppear</th>\n",
       "      <td>119101</td>\n",
       "    </tr>\n",
       "    <tr>\n",
       "      <th>OffersScreenAppear</th>\n",
       "      <td>46808</td>\n",
       "    </tr>\n",
       "    <tr>\n",
       "      <th>CartScreenAppear</th>\n",
       "      <td>42668</td>\n",
       "    </tr>\n",
       "    <tr>\n",
       "      <th>PaymentScreenSuccessful</th>\n",
       "      <td>34118</td>\n",
       "    </tr>\n",
       "    <tr>\n",
       "      <th>Tutorial</th>\n",
       "      <td>1018</td>\n",
       "    </tr>\n",
       "  </tbody>\n",
       "</table>\n",
       "</div>"
      ],
      "text/plain": [
       "                         user_id\n",
       "event_name                      \n",
       "MainScreenAppear          119101\n",
       "OffersScreenAppear         46808\n",
       "CartScreenAppear           42668\n",
       "PaymentScreenSuccessful    34118\n",
       "Tutorial                    1018"
      ]
     },
     "execution_count": 363,
     "metadata": {},
     "output_type": "execute_result"
    }
   ],
   "source": [
    "#cколько всего событий в логе\n",
    "data.groupby('event_name').agg({'user_id': 'count'}).sort_values(by='user_id', ascending=False)"
   ]
  },
  {
   "cell_type": "code",
   "execution_count": 364,
   "metadata": {},
   "outputs": [],
   "source": [
    "# 119205    MainScreenAppear           главный экран\n",
    "# 46825     OffersScreenAppear         каталог\n",
    "# 42731     CartScreenAppear           корзина\n",
    "# 34313     PaymentScreenSuccessful    успешная оплата\n",
    "# 1052      Tutorial                   руководство       "
   ]
  },
  {
   "cell_type": "markdown",
   "metadata": {},
   "source": [
    "Число событий в логах соответствуют продуктовой воронке, а вот руководство читают редко"
   ]
  },
  {
   "cell_type": "code",
   "execution_count": 365,
   "metadata": {},
   "outputs": [
    {
     "data": {
      "text/html": [
       "<div>\n",
       "<style scoped>\n",
       "    .dataframe tbody tr th:only-of-type {\n",
       "        vertical-align: middle;\n",
       "    }\n",
       "\n",
       "    .dataframe tbody tr th {\n",
       "        vertical-align: top;\n",
       "    }\n",
       "\n",
       "    .dataframe thead th {\n",
       "        text-align: right;\n",
       "    }\n",
       "</style>\n",
       "<table border=\"1\" class=\"dataframe\">\n",
       "  <thead>\n",
       "    <tr style=\"text-align: right;\">\n",
       "      <th></th>\n",
       "      <th>user_id</th>\n",
       "    </tr>\n",
       "    <tr>\n",
       "      <th>event_name</th>\n",
       "      <th></th>\n",
       "    </tr>\n",
       "  </thead>\n",
       "  <tbody>\n",
       "    <tr>\n",
       "      <th>MainScreenAppear</th>\n",
       "      <td>7439</td>\n",
       "    </tr>\n",
       "    <tr>\n",
       "      <th>OffersScreenAppear</th>\n",
       "      <td>4613</td>\n",
       "    </tr>\n",
       "    <tr>\n",
       "      <th>CartScreenAppear</th>\n",
       "      <td>3749</td>\n",
       "    </tr>\n",
       "    <tr>\n",
       "      <th>PaymentScreenSuccessful</th>\n",
       "      <td>3547</td>\n",
       "    </tr>\n",
       "    <tr>\n",
       "      <th>Tutorial</th>\n",
       "      <td>847</td>\n",
       "    </tr>\n",
       "  </tbody>\n",
       "</table>\n",
       "</div>"
      ],
      "text/plain": [
       "                         user_id\n",
       "event_name                      \n",
       "MainScreenAppear            7439\n",
       "OffersScreenAppear          4613\n",
       "CartScreenAppear            3749\n",
       "PaymentScreenSuccessful     3547\n",
       "Tutorial                     847"
      ]
     },
     "execution_count": 365,
     "metadata": {},
     "output_type": "execute_result"
    }
   ],
   "source": [
    "#число уникальных пользователей в логах\n",
    "data.groupby('event_name').agg({'user_id': 'nunique'}).sort_values(by='user_id', ascending=False)"
   ]
  },
  {
   "cell_type": "code",
   "execution_count": 366,
   "metadata": {},
   "outputs": [
    {
     "data": {
      "text/plain": [
       "32.28"
      ]
     },
     "execution_count": 366,
     "metadata": {},
     "output_type": "execute_result"
    }
   ],
   "source": [
    "#Сколько в среднем событий приходится на пользователя\n",
    "(data['user_id'].count()/data['user_id'].nunique()).round(2)"
   ]
  },
  {
   "cell_type": "code",
   "execution_count": 367,
   "metadata": {},
   "outputs": [
    {
     "data": {
      "text/plain": [
       "count    2.437130e+05\n",
       "mean     4.627963e+18\n",
       "std      2.642723e+18\n",
       "min      6.888747e+15\n",
       "25%      2.372212e+18\n",
       "50%      4.623192e+18\n",
       "75%      6.932517e+18\n",
       "max      9.222603e+18\n",
       "Name: user_id, dtype: float64"
      ]
     },
     "execution_count": 367,
     "metadata": {},
     "output_type": "execute_result"
    }
   ],
   "source": [
    "data['user_id'].describe()"
   ]
  },
  {
   "cell_type": "markdown",
   "metadata": {},
   "source": [
    "32 события в среднем на каждого пользователя "
   ]
  },
  {
   "cell_type": "code",
   "execution_count": 368,
   "metadata": {},
   "outputs": [
    {
     "data": {
      "text/plain": [
       "Timestamp('2019-07-25 00:00:00')"
      ]
     },
     "execution_count": 368,
     "metadata": {},
     "output_type": "execute_result"
    }
   ],
   "source": [
    "#найдем минимальную дату событий\n",
    "data['date'].min()"
   ]
  },
  {
   "cell_type": "code",
   "execution_count": 369,
   "metadata": {},
   "outputs": [
    {
     "data": {
      "text/plain": [
       "Timestamp('2019-08-07 00:00:00')"
      ]
     },
     "execution_count": 369,
     "metadata": {},
     "output_type": "execute_result"
    }
   ],
   "source": [
    "#найдем максимальную дату\n",
    "data['date'].max()"
   ]
  },
  {
   "cell_type": "markdown",
   "metadata": {},
   "source": [
    "Данные за временной период: 2019.7.25 - 2019.8.7"
   ]
  },
  {
   "cell_type": "code",
   "execution_count": 370,
   "metadata": {
    "scrolled": false
   },
   "outputs": [
    {
     "data": {
      "image/png": "[encoded data removed]",
      "text/plain": [
       "<Figure size 1000x600 with 1 Axes>"
      ]
     },
     "metadata": {},
     "output_type": "display_data"
    }
   ],
   "source": [
    "#Построим гистограмму по дате и времени\n",
    "plt.figure(figsize=(10,6))\n",
    "plt.xticks(rotation=45)\n",
    "plt.title('Распределение данных по дате и времени')\n",
    "plt.xlabel('Даты в логе')\n",
    "plt.ylabel('События')\n",
    "data['date'].hist(bins=15, alpha=0.5, color='blue')\n",
    "data['event_time'].hist(bins=15, alpha=0.5, color='green');"
   ]
  },
  {
   "cell_type": "markdown",
   "metadata": {},
   "source": [
    "На гистограмме видно, как мало данных до 2019.08.01, они попали в выборку случайно. Данные в полном объеме поступали после этой даты. Будем считать период для анализа с 2019.8.01 по 2019.8.07. "
   ]
  },
  {
   "cell_type": "code",
   "execution_count": 371,
   "metadata": {},
   "outputs": [],
   "source": [
    "#сделаем срез с 2019.08.01\n",
    "df = data.query('event_time >= \"2019-08-01\"').reset_index()"
   ]
  },
  {
   "cell_type": "code",
   "execution_count": 372,
   "metadata": {},
   "outputs": [
    {
     "data": {
      "text/plain": [
       "'1.16%'"
      ]
     },
     "execution_count": 372,
     "metadata": {},
     "output_type": "execute_result"
    }
   ],
   "source": [
    "#Посчитаем сколько событий мы потеряли после среза, в %\n",
    "\"{0:.2%}\".format(1-(df.shape[0]/data.shape[0]))"
   ]
  },
  {
   "cell_type": "code",
   "execution_count": 373,
   "metadata": {},
   "outputs": [
    {
     "data": {
      "text/plain": [
       "'1.16%'"
      ]
     },
     "execution_count": 373,
     "metadata": {},
     "output_type": "execute_result"
    }
   ],
   "source": [
    "#проверим вторым способом\n",
    "\"{0:.2%}\".format(1-len(df)/len(data))"
   ]
  },
  {
   "cell_type": "markdown",
   "metadata": {},
   "source": [
    "1.16% событий, это несущественная потеря"
   ]
  },
  {
   "cell_type": "code",
   "execution_count": 374,
   "metadata": {},
   "outputs": [
    {
     "data": {
      "text/plain": [
       "'0.23%'"
      ]
     },
     "execution_count": 374,
     "metadata": {},
     "output_type": "execute_result"
    }
   ],
   "source": [
    "#Посчитаем сколько пользователей мы потеряли после среза, в %\n",
    "\"{0:.2%}\".format(1-df['user_id'].nunique()/data['user_id'].nunique())"
   ]
  },
  {
   "cell_type": "markdown",
   "metadata": {},
   "source": [
    "Еще меньше потеряли пользователей  0.23%"
   ]
  },
  {
   "cell_type": "code",
   "execution_count": 375,
   "metadata": {},
   "outputs": [
    {
     "data": {
      "text/html": [
       "<div>\n",
       "<style scoped>\n",
       "    .dataframe tbody tr th:only-of-type {\n",
       "        vertical-align: middle;\n",
       "    }\n",
       "\n",
       "    .dataframe tbody tr th {\n",
       "        vertical-align: top;\n",
       "    }\n",
       "\n",
       "    .dataframe thead th {\n",
       "        text-align: right;\n",
       "    }\n",
       "</style>\n",
       "<table border=\"1\" class=\"dataframe\">\n",
       "  <thead>\n",
       "    <tr style=\"text-align: right;\">\n",
       "      <th></th>\n",
       "      <th>group</th>\n",
       "      <th>user_id</th>\n",
       "    </tr>\n",
       "  </thead>\n",
       "  <tbody>\n",
       "    <tr>\n",
       "      <th>0</th>\n",
       "      <td>246</td>\n",
       "      <td>2484</td>\n",
       "    </tr>\n",
       "    <tr>\n",
       "      <th>1</th>\n",
       "      <td>247</td>\n",
       "      <td>2513</td>\n",
       "    </tr>\n",
       "    <tr>\n",
       "      <th>2</th>\n",
       "      <td>248</td>\n",
       "      <td>2537</td>\n",
       "    </tr>\n",
       "  </tbody>\n",
       "</table>\n",
       "</div>"
      ],
      "text/plain": [
       "   group  user_id\n",
       "0    246     2484\n",
       "1    247     2513\n",
       "2    248     2537"
      ]
     },
     "execution_count": 375,
     "metadata": {},
     "output_type": "execute_result"
    }
   ],
   "source": [
    "#Проверим, что у нас есть пользователи из всех трёх экспериментальных групп\n",
    "df.groupby('group').agg({'user_id': 'nunique'}).reset_index()\n"
   ]
  },
  {
   "cell_type": "markdown",
   "metadata": {},
   "source": [
    "Пользователи присутствуют во всех группах"
   ]
  },
  {
   "cell_type": "markdown",
   "metadata": {},
   "source": [
    "## Изучим воронку событий"
   ]
  },
  {
   "cell_type": "code",
   "execution_count": 376,
   "metadata": {},
   "outputs": [
    {
     "data": {
      "text/plain": [
       "MainScreenAppear           117328\n",
       "OffersScreenAppear          46333\n",
       "CartScreenAppear            42303\n",
       "PaymentScreenSuccessful     33918\n",
       "Tutorial                     1005\n",
       "Name: event_name, dtype: int64"
      ]
     },
     "execution_count": 376,
     "metadata": {},
     "output_type": "execute_result"
    }
   ],
   "source": [
    "#Посмотрим, какие события есть в логах, как часто они встречаются. Отсортируем события по частоте\n",
    "df['event_name'].value_counts()"
   ]
  },
  {
   "cell_type": "code",
   "execution_count": 377,
   "metadata": {},
   "outputs": [],
   "source": [
    "# 7419      MainScreenAppear           главный экран\n",
    "# 4593      OffersScreenAppear         каталог\n",
    "# 3734      CartScreenAppear           корзина\n",
    "# 3539      PaymentScreenSuccessful    успешная оплата\n",
    "# 840       Tutorial                   руководство       "
   ]
  },
  {
   "cell_type": "markdown",
   "metadata": {},
   "source": [
    "События выстраиваются в последовательную цепочку: MainScreenAppear - OffersScreenAppear - CartScreenAppear - PaymentScreenSuccessful, кроме одного - Tutorial, на руководство  можно перейти сразу после загрузки приложения или в любой другой момент. Можно исключить это действие, оно исказит общую картину.  \\\n",
    "Нужно отметить, каждое последующее событие меньше предыдущего - форма воронки"
   ]
  },
  {
   "cell_type": "code",
   "execution_count": 378,
   "metadata": {
    "scrolled": false
   },
   "outputs": [
    {
     "data": {
      "text/html": [
       "<div>\n",
       "<style scoped>\n",
       "    .dataframe tbody tr th:only-of-type {\n",
       "        vertical-align: middle;\n",
       "    }\n",
       "\n",
       "    .dataframe tbody tr th {\n",
       "        vertical-align: top;\n",
       "    }\n",
       "\n",
       "    .dataframe thead th {\n",
       "        text-align: right;\n",
       "    }\n",
       "</style>\n",
       "<table border=\"1\" class=\"dataframe\">\n",
       "  <thead>\n",
       "    <tr style=\"text-align: right;\">\n",
       "      <th></th>\n",
       "      <th>event_name</th>\n",
       "      <th>user_id</th>\n",
       "    </tr>\n",
       "  </thead>\n",
       "  <tbody>\n",
       "    <tr>\n",
       "      <th>0</th>\n",
       "      <td>MainScreenAppear</td>\n",
       "      <td>7419</td>\n",
       "    </tr>\n",
       "    <tr>\n",
       "      <th>1</th>\n",
       "      <td>OffersScreenAppear</td>\n",
       "      <td>4593</td>\n",
       "    </tr>\n",
       "    <tr>\n",
       "      <th>2</th>\n",
       "      <td>CartScreenAppear</td>\n",
       "      <td>3734</td>\n",
       "    </tr>\n",
       "    <tr>\n",
       "      <th>3</th>\n",
       "      <td>PaymentScreenSuccessful</td>\n",
       "      <td>3539</td>\n",
       "    </tr>\n",
       "    <tr>\n",
       "      <th>4</th>\n",
       "      <td>Tutorial</td>\n",
       "      <td>840</td>\n",
       "    </tr>\n",
       "  </tbody>\n",
       "</table>\n",
       "</div>"
      ],
      "text/plain": [
       "                event_name  user_id\n",
       "0         MainScreenAppear     7419\n",
       "1       OffersScreenAppear     4593\n",
       "2         CartScreenAppear     3734\n",
       "3  PaymentScreenSuccessful     3539\n",
       "4                 Tutorial      840"
      ]
     },
     "execution_count": 378,
     "metadata": {},
     "output_type": "execute_result"
    }
   ],
   "source": [
    "#создадим воронку событий с помощью функции groupby\n",
    "event_funnel = df.groupby('event_name')\\\n",
    ".agg({'user_id': 'nunique'})\\\n",
    ".sort_values(by='user_id', ascending=False)\\\n",
    ".reset_index()\n",
    "event_funnel "
   ]
  },
  {
   "cell_type": "code",
   "execution_count": 379,
   "metadata": {
    "scrolled": true
   },
   "outputs": [
    {
     "data": {
      "text/html": [
       "<div>\n",
       "<style scoped>\n",
       "    .dataframe tbody tr th:only-of-type {\n",
       "        vertical-align: middle;\n",
       "    }\n",
       "\n",
       "    .dataframe tbody tr th {\n",
       "        vertical-align: top;\n",
       "    }\n",
       "\n",
       "    .dataframe thead th {\n",
       "        text-align: right;\n",
       "    }\n",
       "</style>\n",
       "<table border=\"1\" class=\"dataframe\">\n",
       "  <thead>\n",
       "    <tr style=\"text-align: right;\">\n",
       "      <th></th>\n",
       "      <th>event_name</th>\n",
       "      <th>total</th>\n",
       "      <th>proportion</th>\n",
       "    </tr>\n",
       "  </thead>\n",
       "  <tbody>\n",
       "    <tr>\n",
       "      <th>0</th>\n",
       "      <td>MainScreenAppear</td>\n",
       "      <td>7419</td>\n",
       "      <td>98.5</td>\n",
       "    </tr>\n",
       "    <tr>\n",
       "      <th>1</th>\n",
       "      <td>OffersScreenAppear</td>\n",
       "      <td>4593</td>\n",
       "      <td>61.0</td>\n",
       "    </tr>\n",
       "    <tr>\n",
       "      <th>2</th>\n",
       "      <td>CartScreenAppear</td>\n",
       "      <td>3734</td>\n",
       "      <td>49.6</td>\n",
       "    </tr>\n",
       "    <tr>\n",
       "      <th>3</th>\n",
       "      <td>PaymentScreenSuccessful</td>\n",
       "      <td>3539</td>\n",
       "      <td>47.0</td>\n",
       "    </tr>\n",
       "    <tr>\n",
       "      <th>4</th>\n",
       "      <td>Tutorial</td>\n",
       "      <td>840</td>\n",
       "      <td>11.1</td>\n",
       "    </tr>\n",
       "  </tbody>\n",
       "</table>\n",
       "</div>"
      ],
      "text/plain": [
       "                event_name  total  proportion\n",
       "0         MainScreenAppear   7419        98.5\n",
       "1       OffersScreenAppear   4593        61.0\n",
       "2         CartScreenAppear   3734        49.6\n",
       "3  PaymentScreenSuccessful   3539        47.0\n",
       "4                 Tutorial    840        11.1"
      ]
     },
     "execution_count": 379,
     "metadata": {},
     "output_type": "execute_result"
    }
   ],
   "source": [
    "#Посчитаем, сколько пользователей совершали каждое из этих событий и добавим новый столбец\n",
    "event_funnel['proportion'] = (event_funnel['user_id']/df['user_id'].nunique()*100).round(1)\n",
    "event_funnel = event_funnel.rename(columns={'user_id': 'total'})\n",
    "event_funnel   "
   ]
  },
  {
   "cell_type": "code",
   "execution_count": 380,
   "metadata": {},
   "outputs": [
    {
     "data": {
      "text/plain": [
       "'100%'"
      ]
     },
     "execution_count": 380,
     "metadata": {},
     "output_type": "execute_result"
    }
   ],
   "source": [
    "#Посчитаем долю пользователей, которые хоть раз совершали событие\n",
    "\"{0:.0%}\".format(df.query('event_name >= \"1\"')['user_id'].nunique()/df['user_id'].nunique())"
   ]
  },
  {
   "cell_type": "markdown",
   "metadata": {},
   "source": [
    "Все пользователи совершили хоть одно событие"
   ]
  },
  {
   "cell_type": "code",
   "execution_count": 381,
   "metadata": {},
   "outputs": [],
   "source": [
    "#исключим Tutorial\n",
    "df = df.query('event_name != \"Tutorial\"')\n",
    "event_funnel = event_funnel.query('event_name != \"Tutorial\"')"
   ]
  },
  {
   "cell_type": "code",
   "execution_count": 382,
   "metadata": {},
   "outputs": [
    {
     "data": {
      "text/html": [
       "<div>\n",
       "<style scoped>\n",
       "    .dataframe tbody tr th:only-of-type {\n",
       "        vertical-align: middle;\n",
       "    }\n",
       "\n",
       "    .dataframe tbody tr th {\n",
       "        vertical-align: top;\n",
       "    }\n",
       "\n",
       "    .dataframe thead th {\n",
       "        text-align: right;\n",
       "    }\n",
       "</style>\n",
       "<table border=\"1\" class=\"dataframe\">\n",
       "  <thead>\n",
       "    <tr style=\"text-align: right;\">\n",
       "      <th></th>\n",
       "      <th>event_name</th>\n",
       "      <th>total</th>\n",
       "      <th>proportion</th>\n",
       "      <th>conversion</th>\n",
       "      <th>deprivation</th>\n",
       "    </tr>\n",
       "  </thead>\n",
       "  <tbody>\n",
       "    <tr>\n",
       "      <th>0</th>\n",
       "      <td>MainScreenAppear</td>\n",
       "      <td>7419</td>\n",
       "      <td>98.5</td>\n",
       "      <td>-</td>\n",
       "      <td>-</td>\n",
       "    </tr>\n",
       "    <tr>\n",
       "      <th>1</th>\n",
       "      <td>OffersScreenAppear</td>\n",
       "      <td>4593</td>\n",
       "      <td>61.0</td>\n",
       "      <td>61.9</td>\n",
       "      <td>38.1</td>\n",
       "    </tr>\n",
       "    <tr>\n",
       "      <th>2</th>\n",
       "      <td>CartScreenAppear</td>\n",
       "      <td>3734</td>\n",
       "      <td>49.6</td>\n",
       "      <td>81.3</td>\n",
       "      <td>18.7</td>\n",
       "    </tr>\n",
       "    <tr>\n",
       "      <th>3</th>\n",
       "      <td>PaymentScreenSuccessful</td>\n",
       "      <td>3539</td>\n",
       "      <td>47.0</td>\n",
       "      <td>94.8</td>\n",
       "      <td>5.2</td>\n",
       "    </tr>\n",
       "  </tbody>\n",
       "</table>\n",
       "</div>"
      ],
      "text/plain": [
       "                event_name  total  proportion conversion deprivation\n",
       "0         MainScreenAppear   7419        98.5          -           -\n",
       "1       OffersScreenAppear   4593        61.0       61.9        38.1\n",
       "2         CartScreenAppear   3734        49.6       81.3        18.7\n",
       "3  PaymentScreenSuccessful   3539        47.0       94.8         5.2"
      ]
     },
     "execution_count": 382,
     "metadata": {},
     "output_type": "execute_result"
    }
   ],
   "source": [
    "#посчитаем долю пользователей совершивших следующее событие и потерю на каждом шаге с помощью функции shift()\n",
    "#она сдвинет индекс на следующее событие\n",
    "event_funnel['conversion'] = np.round(event_funnel['total']/event_funnel['total'].shift()*100, 1)\n",
    "event_funnel['deprivation'] = 100 - event_funnel['conversion'] \n",
    "event_funnel.fillna('-')"
   ]
  },
  {
   "cell_type": "markdown",
   "metadata": {},
   "source": [
    "Больше всего пользователей теряется на переходе с главного экрана в каталог. Посчитаем долю пользователей, доходящих от первого события до оплаты."
   ]
  },
  {
   "cell_type": "code",
   "execution_count": 383,
   "metadata": {},
   "outputs": [
    {
     "data": {
      "text/plain": [
       "47.7"
      ]
     },
     "execution_count": 383,
     "metadata": {},
     "output_type": "execute_result"
    }
   ],
   "source": [
    "round(event_funnel['total'][3]*100 / event_funnel['total'][0],1)"
   ]
  },
  {
   "cell_type": "markdown",
   "metadata": {},
   "source": [
    "47.7% пользователей доходят до оплаты"
   ]
  },
  {
   "cell_type": "code",
   "execution_count": 384,
   "metadata": {},
   "outputs": [
    {
     "data": {
      "application/vnd.plotly.v1+json": {
       "config": {
        "plotlyServerURL": "https://plot.ly"
       },
       "data": [
        {
         "name": "Воронка событий",
         "textinfo": "value",
         "type": "funnel",
         "x": [
          98.5,
          61,
          49.6,
          47
         ],
         "y": [
          "MainScreenAppear",
          "OffersScreenAppear",
          "CartScreenAppear",
          "PaymentScreenSuccessfu"
         ]
        }
       ],
       "layout": {
        "template": {
         "data": {
          "bar": [
           {
            "error_x": {
             "color": "#2a3f5f"
            },
            "error_y": {
             "color": "#2a3f5f"
            },
            "marker": {
             "line": {
              "color": "#E5ECF6",
              "width": 0.5
             },
             "pattern": {
              "fillmode": "overlay",
              "size": 10,
              "solidity": 0.2
             }
            },
            "type": "bar"
           }
          ],
          "barpolar": [
           {
            "marker": {
             "line": {
              "color": "#E5ECF6",
              "width": 0.5
             },
             "pattern": {
              "fillmode": "overlay",
              "size": 10,
              "solidity": 0.2
             }
            },
            "type": "barpolar"
           }
          ],
          "carpet": [
           {
            "aaxis": {
             "endlinecolor": "#2a3f5f",
             "gridcolor": "white",
             "linecolor": "white",
             "minorgridcolor": "white",
             "startlinecolor": "#2a3f5f"
            },
            "baxis": {
             "endlinecolor": "#2a3f5f",
             "gridcolor": "white",
             "linecolor": "white",
             "minorgridcolor": "white",
             "startlinecolor": "#2a3f5f"
            },
            "type": "carpet"
           }
          ],
          "choropleth": [
           {
            "colorbar": {
             "outlinewidth": 0,
             "ticks": ""
            },
            "type": "choropleth"
           }
          ],
          "contour": [
           {
            "colorbar": {
             "outlinewidth": 0,
             "ticks": ""
            },
            "colorscale": [
             [
              0,
              "#0d0887"
             ],
             [
              0.1111111111111111,
              "#46039f"
             ],
             [
              0.2222222222222222,
              "#7201a8"
             ],
             [
              0.3333333333333333,
              "#9c179e"
             ],
             [
              0.4444444444444444,
              "#bd3786"
             ],
             [
              0.5555555555555556,
              "#d8576b"
             ],
             [
              0.6666666666666666,
              "#ed7953"
             ],
             [
              0.7777777777777778,
              "#fb9f3a"
             ],
             [
              0.8888888888888888,
              "#fdca26"
             ],
             [
              1,
              "#f0f921"
             ]
            ],
            "type": "contour"
           }
          ],
          "contourcarpet": [
           {
            "colorbar": {
             "outlinewidth": 0,
             "ticks": ""
            },
            "type": "contourcarpet"
           }
          ],
          "heatmap": [
           {
            "colorbar": {
             "outlinewidth": 0,
             "ticks": ""
            },
            "colorscale": [
             [
              0,
              "#0d0887"
             ],
             [
              0.1111111111111111,
              "#46039f"
             ],
             [
              0.2222222222222222,
              "#7201a8"
             ],
             [
              0.3333333333333333,
              "#9c179e"
             ],
             [
              0.4444444444444444,
              "#bd3786"
             ],
             [
              0.5555555555555556,
              "#d8576b"
             ],
             [
              0.6666666666666666,
              "#ed7953"
             ],
             [
              0.7777777777777778,
              "#fb9f3a"
             ],
             [
              0.8888888888888888,
              "#fdca26"
             ],
             [
              1,
              "#f0f921"
             ]
            ],
            "type": "heatmap"
           }
          ],
          "heatmapgl": [
           {
            "colorbar": {
             "outlinewidth": 0,
             "ticks": ""
            },
            "colorscale": [
             [
              0,
              "#0d0887"
             ],
             [
              0.1111111111111111,
              "#46039f"
             ],
             [
              0.2222222222222222,
              "#7201a8"
             ],
             [
              0.3333333333333333,
              "#9c179e"
             ],
             [
              0.4444444444444444,
              "#bd3786"
             ],
             [
              0.5555555555555556,
              "#d8576b"
             ],
             [
              0.6666666666666666,
              "#ed7953"
             ],
             [
              0.7777777777777778,
              "#fb9f3a"
             ],
             [
              0.8888888888888888,
              "#fdca26"
             ],
             [
              1,
              "#f0f921"
             ]
            ],
            "type": "heatmapgl"
           }
          ],
          "histogram": [
           {
            "marker": {
             "pattern": {
              "fillmode": "overlay",
              "size": 10,
              "solidity": 0.2
             }
            },
            "type": "histogram"
           }
          ],
          "histogram2d": [
           {
            "colorbar": {
             "outlinewidth": 0,
             "ticks": ""
            },
            "colorscale": [
             [
              0,
              "#0d0887"
             ],
             [
              0.1111111111111111,
              "#46039f"
             ],
             [
              0.2222222222222222,
              "#7201a8"
             ],
             [
              0.3333333333333333,
              "#9c179e"
             ],
             [
              0.4444444444444444,
              "#bd3786"
             ],
             [
              0.5555555555555556,
              "#d8576b"
             ],
             [
              0.6666666666666666,
              "#ed7953"
             ],
             [
              0.7777777777777778,
              "#fb9f3a"
             ],
             [
              0.8888888888888888,
              "#fdca26"
             ],
             [
              1,
              "#f0f921"
             ]
            ],
            "type": "histogram2d"
           }
          ],
          "histogram2dcontour": [
           {
            "colorbar": {
             "outlinewidth": 0,
             "ticks": ""
            },
            "colorscale": [
             [
              0,
              "#0d0887"
             ],
             [
              0.1111111111111111,
              "#46039f"
             ],
             [
              0.2222222222222222,
              "#7201a8"
             ],
             [
              0.3333333333333333,
              "#9c179e"
             ],
             [
              0.4444444444444444,
              "#bd3786"
             ],
             [
              0.5555555555555556,
              "#d8576b"
             ],
             [
              0.6666666666666666,
              "#ed7953"
             ],
             [
              0.7777777777777778,
              "#fb9f3a"
             ],
             [
              0.8888888888888888,
              "#fdca26"
             ],
             [
              1,
              "#f0f921"
             ]
            ],
            "type": "histogram2dcontour"
           }
          ],
          "mesh3d": [
           {
            "colorbar": {
             "outlinewidth": 0,
             "ticks": ""
            },
            "type": "mesh3d"
           }
          ],
          "parcoords": [
           {
            "line": {
             "colorbar": {
              "outlinewidth": 0,
              "ticks": ""
             }
            },
            "type": "parcoords"
           }
          ],
          "pie": [
           {
            "automargin": true,
            "type": "pie"
           }
          ],
          "scatter": [
           {
            "marker": {
             "colorbar": {
              "outlinewidth": 0,
              "ticks": ""
             }
            },
            "type": "scatter"
           }
          ],
          "scatter3d": [
           {
            "line": {
             "colorbar": {
              "outlinewidth": 0,
              "ticks": ""
             }
            },
            "marker": {
             "colorbar": {
              "outlinewidth": 0,
              "ticks": ""
             }
            },
            "type": "scatter3d"
           }
          ],
          "scattercarpet": [
           {
            "marker": {
             "colorbar": {
              "outlinewidth": 0,
              "ticks": ""
             }
            },
            "type": "scattercarpet"
           }
          ],
          "scattergeo": [
           {
            "marker": {
             "colorbar": {
              "outlinewidth": 0,
              "ticks": ""
             }
            },
            "type": "scattergeo"
           }
          ],
          "scattergl": [
           {
            "marker": {
             "colorbar": {
              "outlinewidth": 0,
              "ticks": ""
             }
            },
            "type": "scattergl"
           }
          ],
          "scattermapbox": [
           {
            "marker": {
             "colorbar": {
              "outlinewidth": 0,
              "ticks": ""
             }
            },
            "type": "scattermapbox"
           }
          ],
          "scatterpolar": [
           {
            "marker": {
             "colorbar": {
              "outlinewidth": 0,
              "ticks": ""
             }
            },
            "type": "scatterpolar"
           }
          ],
          "scatterpolargl": [
           {
            "marker": {
             "colorbar": {
              "outlinewidth": 0,
              "ticks": ""
             }
            },
            "type": "scatterpolargl"
           }
          ],
          "scatterternary": [
           {
            "marker": {
             "colorbar": {
              "outlinewidth": 0,
              "ticks": ""
             }
            },
            "type": "scatterternary"
           }
          ],
          "surface": [
           {
            "colorbar": {
             "outlinewidth": 0,
             "ticks": ""
            },
            "colorscale": [
             [
              0,
              "#0d0887"
             ],
             [
              0.1111111111111111,
              "#46039f"
             ],
             [
              0.2222222222222222,
              "#7201a8"
             ],
             [
              0.3333333333333333,
              "#9c179e"
             ],
             [
              0.4444444444444444,
              "#bd3786"
             ],
             [
              0.5555555555555556,
              "#d8576b"
             ],
             [
              0.6666666666666666,
              "#ed7953"
             ],
             [
              0.7777777777777778,
              "#fb9f3a"
             ],
             [
              0.8888888888888888,
              "#fdca26"
             ],
             [
              1,
              "#f0f921"
             ]
            ],
            "type": "surface"
           }
          ],
          "table": [
           {
            "cells": {
             "fill": {
              "color": "#EBF0F8"
             },
             "line": {
              "color": "white"
             }
            },
            "header": {
             "fill": {
              "color": "#C8D4E3"
             },
             "line": {
              "color": "white"
             }
            },
            "type": "table"
           }
          ]
         },
         "layout": {
          "annotationdefaults": {
           "arrowcolor": "#2a3f5f",
           "arrowhead": 0,
           "arrowwidth": 1
          },
          "autotypenumbers": "strict",
          "coloraxis": {
           "colorbar": {
            "outlinewidth": 0,
            "ticks": ""
           }
          },
          "colorscale": {
           "diverging": [
            [
             0,
             "#8e0152"
            ],
            [
             0.1,
             "#c51b7d"
            ],
            [
             0.2,
             "#de77ae"
            ],
            [
             0.3,
             "#f1b6da"
            ],
            [
             0.4,
             "#fde0ef"
            ],
            [
             0.5,
             "#f7f7f7"
            ],
            [
             0.6,
             "#e6f5d0"
            ],
            [
             0.7,
             "#b8e186"
            ],
            [
             0.8,
             "#7fbc41"
            ],
            [
             0.9,
             "#4d9221"
            ],
            [
             1,
             "#276419"
            ]
           ],
           "sequential": [
            [
             0,
             "#0d0887"
            ],
            [
             0.1111111111111111,
             "#46039f"
            ],
            [
             0.2222222222222222,
             "#7201a8"
            ],
            [
             0.3333333333333333,
             "#9c179e"
            ],
            [
             0.4444444444444444,
             "#bd3786"
            ],
            [
             0.5555555555555556,
             "#d8576b"
            ],
            [
             0.6666666666666666,
             "#ed7953"
            ],
            [
             0.7777777777777778,
             "#fb9f3a"
            ],
            [
             0.8888888888888888,
             "#fdca26"
            ],
            [
             1,
             "#f0f921"
            ]
           ],
           "sequentialminus": [
            [
             0,
             "#0d0887"
            ],
            [
             0.1111111111111111,
             "#46039f"
            ],
            [
             0.2222222222222222,
             "#7201a8"
            ],
            [
             0.3333333333333333,
             "#9c179e"
            ],
            [
             0.4444444444444444,
             "#bd3786"
            ],
            [
             0.5555555555555556,
             "#d8576b"
            ],
            [
             0.6666666666666666,
             "#ed7953"
            ],
            [
             0.7777777777777778,
             "#fb9f3a"
            ],
            [
             0.8888888888888888,
             "#fdca26"
            ],
            [
             1,
             "#f0f921"
            ]
           ]
          },
          "colorway": [
           "#636efa",
           "#EF553B",
           "#00cc96",
           "#ab63fa",
           "#FFA15A",
           "#19d3f3",
           "#FF6692",
           "#B6E880",
           "#FF97FF",
           "#FECB52"
          ],
          "font": {
           "color": "#2a3f5f"
          },
          "geo": {
           "bgcolor": "white",
           "lakecolor": "white",
           "landcolor": "#E5ECF6",
           "showlakes": true,
           "showland": true,
           "subunitcolor": "white"
          },
          "hoverlabel": {
           "align": "left"
          },
          "hovermode": "closest",
          "mapbox": {
           "style": "light"
          },
          "paper_bgcolor": "white",
          "plot_bgcolor": "#E5ECF6",
          "polar": {
           "angularaxis": {
            "gridcolor": "white",
            "linecolor": "white",
            "ticks": ""
           },
           "bgcolor": "#E5ECF6",
           "radialaxis": {
            "gridcolor": "white",
            "linecolor": "white",
            "ticks": ""
           }
          },
          "scene": {
           "xaxis": {
            "backgroundcolor": "#E5ECF6",
            "gridcolor": "white",
            "gridwidth": 2,
            "linecolor": "white",
            "showbackground": true,
            "ticks": "",
            "zerolinecolor": "white"
           },
           "yaxis": {
            "backgroundcolor": "#E5ECF6",
            "gridcolor": "white",
            "gridwidth": 2,
            "linecolor": "white",
            "showbackground": true,
            "ticks": "",
            "zerolinecolor": "white"
           },
           "zaxis": {
            "backgroundcolor": "#E5ECF6",
            "gridcolor": "white",
            "gridwidth": 2,
            "linecolor": "white",
            "showbackground": true,
            "ticks": "",
            "zerolinecolor": "white"
           }
          },
          "shapedefaults": {
           "line": {
            "color": "#2a3f5f"
           }
          },
          "ternary": {
           "aaxis": {
            "gridcolor": "white",
            "linecolor": "white",
            "ticks": ""
           },
           "baxis": {
            "gridcolor": "white",
            "linecolor": "white",
            "ticks": ""
           },
           "bgcolor": "#E5ECF6",
           "caxis": {
            "gridcolor": "white",
            "linecolor": "white",
            "ticks": ""
           }
          },
          "title": {
           "x": 0.05
          },
          "xaxis": {
           "automargin": true,
           "gridcolor": "white",
           "linecolor": "white",
           "ticks": "",
           "title": {
            "standoff": 15
           },
           "zerolinecolor": "white",
           "zerolinewidth": 2
          },
          "yaxis": {
           "automargin": true,
           "gridcolor": "white",
           "linecolor": "white",
           "ticks": "",
           "title": {
            "standoff": 15
           },
           "zerolinecolor": "white",
           "zerolinewidth": 2
          }
         }
        },
        "title": {
         "text": "Воронка событий"
        }
       }
      }
     },
     "metadata": {},
     "output_type": "display_data"
    }
   ],
   "source": [
    "#построим диаграмму воронки доли пользователей совершивших следующее событие с помощью go.funnel библиотеки plotly\n",
    "fig = go.Figure()\n",
    "\n",
    "fig.add_trace(go.Funnel(\n",
    "    name = 'Воронка событий',\n",
    "    y = [\"MainScreenAppear\", \"OffersScreenAppear\", \"CartScreenAppear\", \"PaymentScreenSuccessfu\"],\n",
    "    x = event_funnel['proportion'],\n",
    "    textinfo = \"value\"))\n",
    "fig.update_layout(title_text='Воронка событий')\n",
    "\n",
    "fig.show()"
   ]
  },
  {
   "cell_type": "markdown",
   "metadata": {},
   "source": [
    "61.9% пользователей переходят с главного экрана в каталог\\\n",
    "81.3% пользователей переходят с каталога в корзину\\\n",
    "94.8% пользователей переходят из корзин к оплате\\\n",
    "47.7% пользователей доходит от первого события до оплаты\\\n",
    "На первом шаге, переходе с главного экрана в каталог теряется больше всего пользователей: 38.1%"
   ]
  },
  {
   "cell_type": "markdown",
   "metadata": {},
   "source": [
    "##  Изучим результаты эксперимента"
   ]
  },
  {
   "cell_type": "markdown",
   "metadata": {},
   "source": [
    "###   Количество пользователей в каждой экспериментальной группе"
   ]
  },
  {
   "cell_type": "code",
   "execution_count": 385,
   "metadata": {},
   "outputs": [
    {
     "data": {
      "text/html": [
       "<div>\n",
       "<style scoped>\n",
       "    .dataframe tbody tr th:only-of-type {\n",
       "        vertical-align: middle;\n",
       "    }\n",
       "\n",
       "    .dataframe tbody tr th {\n",
       "        vertical-align: top;\n",
       "    }\n",
       "\n",
       "    .dataframe thead th {\n",
       "        text-align: right;\n",
       "    }\n",
       "</style>\n",
       "<table border=\"1\" class=\"dataframe\">\n",
       "  <thead>\n",
       "    <tr style=\"text-align: right;\">\n",
       "      <th></th>\n",
       "      <th>user_id</th>\n",
       "    </tr>\n",
       "    <tr>\n",
       "      <th>group</th>\n",
       "      <th></th>\n",
       "    </tr>\n",
       "  </thead>\n",
       "  <tbody>\n",
       "    <tr>\n",
       "      <th>246</th>\n",
       "      <td>2483</td>\n",
       "    </tr>\n",
       "    <tr>\n",
       "      <th>247</th>\n",
       "      <td>2512</td>\n",
       "    </tr>\n",
       "    <tr>\n",
       "      <th>248</th>\n",
       "      <td>2535</td>\n",
       "    </tr>\n",
       "  </tbody>\n",
       "</table>\n",
       "</div>"
      ],
      "text/plain": [
       "       user_id\n",
       "group         \n",
       "246       2483\n",
       "247       2512\n",
       "248       2535"
      ]
     },
     "execution_count": 385,
     "metadata": {},
     "output_type": "execute_result"
    }
   ],
   "source": [
    "#всего уникальных пользователей \n",
    "user_exp = df\\\n",
    "    .groupby('group')\\\n",
    "    .agg({'user_id': 'nunique'})\n",
    "\n",
    "user_exp"
   ]
  },
  {
   "cell_type": "markdown",
   "metadata": {},
   "source": [
    "### Разница статитических критериев выборок 246 и 247"
   ]
  },
  {
   "cell_type": "code",
   "execution_count": 386,
   "metadata": {},
   "outputs": [
    {
     "data": {
      "text/plain": [
       "1.15"
      ]
     },
     "execution_count": 386,
     "metadata": {},
     "output_type": "execute_result"
    }
   ],
   "source": [
    "#различия в количестве участников\n",
    "round((1 - user_exp.loc[246,'user_id']/user_exp.loc[247,'user_id'])*100,2)"
   ]
  },
  {
   "cell_type": "markdown",
   "metadata": {},
   "source": [
    "Группы 246 и 247 по количеству участников отличаются на 1.15%"
   ]
  },
  {
   "cell_type": "markdown",
   "metadata": {},
   "source": [
    "Разница в количестве пользователей в группах около 1%. Ранее проверяли пользователей, учавствующих в эксперименте в нескольких группах, их нет.  Статистические критерии различий между контрольными группами будем считать приемлемыми"
   ]
  },
  {
   "cell_type": "markdown",
   "metadata": {},
   "source": [
    "###  Проверим А/А тест"
   ]
  },
  {
   "cell_type": "code",
   "execution_count": 387,
   "metadata": {},
   "outputs": [
    {
     "data": {
      "text/html": [
       "<div>\n",
       "<style scoped>\n",
       "    .dataframe tbody tr th:only-of-type {\n",
       "        vertical-align: middle;\n",
       "    }\n",
       "\n",
       "    .dataframe tbody tr th {\n",
       "        vertical-align: top;\n",
       "    }\n",
       "\n",
       "    .dataframe thead th {\n",
       "        text-align: right;\n",
       "    }\n",
       "</style>\n",
       "<table border=\"1\" class=\"dataframe\">\n",
       "  <thead>\n",
       "    <tr style=\"text-align: right;\">\n",
       "      <th></th>\n",
       "      <th>user_id</th>\n",
       "    </tr>\n",
       "    <tr>\n",
       "      <th>event_name</th>\n",
       "      <th></th>\n",
       "    </tr>\n",
       "  </thead>\n",
       "  <tbody>\n",
       "    <tr>\n",
       "      <th>MainScreenAppear</th>\n",
       "      <td>7419</td>\n",
       "    </tr>\n",
       "    <tr>\n",
       "      <th>OffersScreenAppear</th>\n",
       "      <td>4593</td>\n",
       "    </tr>\n",
       "    <tr>\n",
       "      <th>CartScreenAppear</th>\n",
       "      <td>3734</td>\n",
       "    </tr>\n",
       "    <tr>\n",
       "      <th>PaymentScreenSuccessful</th>\n",
       "      <td>3539</td>\n",
       "    </tr>\n",
       "  </tbody>\n",
       "</table>\n",
       "</div>"
      ],
      "text/plain": [
       "                         user_id\n",
       "event_name                      \n",
       "MainScreenAppear            7419\n",
       "OffersScreenAppear          4593\n",
       "CartScreenAppear            3734\n",
       "PaymentScreenSuccessful     3539"
      ]
     },
     "execution_count": 387,
     "metadata": {},
     "output_type": "execute_result"
    }
   ],
   "source": [
    "#Выберем самое популярное событие\n",
    "df\\\n",
    "    .groupby('event_name')\\\n",
    "    .agg({'user_id': 'nunique'})\\\n",
    "    .sort_values(by='user_id', ascending=False) "
   ]
  },
  {
   "cell_type": "markdown",
   "metadata": {},
   "source": [
    "Самое популярное событие MainScreenAppear, посчитаем сколько пользователей его совершали в кажой группе"
   ]
  },
  {
   "cell_type": "code",
   "execution_count": 388,
   "metadata": {},
   "outputs": [
    {
     "data": {
      "text/html": [
       "<div>\n",
       "<style scoped>\n",
       "    .dataframe tbody tr th:only-of-type {\n",
       "        vertical-align: middle;\n",
       "    }\n",
       "\n",
       "    .dataframe tbody tr th {\n",
       "        vertical-align: top;\n",
       "    }\n",
       "\n",
       "    .dataframe thead th {\n",
       "        text-align: right;\n",
       "    }\n",
       "</style>\n",
       "<table border=\"1\" class=\"dataframe\">\n",
       "  <thead>\n",
       "    <tr style=\"text-align: right;\">\n",
       "      <th>group</th>\n",
       "      <th>246</th>\n",
       "      <th>247</th>\n",
       "      <th>248</th>\n",
       "    </tr>\n",
       "    <tr>\n",
       "      <th>event_name</th>\n",
       "      <th></th>\n",
       "      <th></th>\n",
       "      <th></th>\n",
       "    </tr>\n",
       "  </thead>\n",
       "  <tbody>\n",
       "    <tr>\n",
       "      <th>MainScreenAppear</th>\n",
       "      <td>2450</td>\n",
       "      <td>2476</td>\n",
       "      <td>2493</td>\n",
       "    </tr>\n",
       "    <tr>\n",
       "      <th>OffersScreenAppear</th>\n",
       "      <td>1542</td>\n",
       "      <td>1520</td>\n",
       "      <td>1531</td>\n",
       "    </tr>\n",
       "    <tr>\n",
       "      <th>CartScreenAppear</th>\n",
       "      <td>1266</td>\n",
       "      <td>1238</td>\n",
       "      <td>1230</td>\n",
       "    </tr>\n",
       "    <tr>\n",
       "      <th>PaymentScreenSuccessful</th>\n",
       "      <td>1200</td>\n",
       "      <td>1158</td>\n",
       "      <td>1181</td>\n",
       "    </tr>\n",
       "  </tbody>\n",
       "</table>\n",
       "</div>"
      ],
      "text/plain": [
       "group                     246   247   248\n",
       "event_name                               \n",
       "MainScreenAppear         2450  2476  2493\n",
       "OffersScreenAppear       1542  1520  1531\n",
       "CartScreenAppear         1266  1238  1230\n",
       "PaymentScreenSuccessful  1200  1158  1181"
      ]
     },
     "execution_count": 388,
     "metadata": {},
     "output_type": "execute_result"
    }
   ],
   "source": [
    "event_exp = df\\\n",
    "    .pivot_table(index='event_name', columns='group', values='user_id',aggfunc='nunique')\\\n",
    "    .sort_values(246,ascending=False)\n",
    "\n",
    "event_exp"
   ]
  },
  {
   "cell_type": "markdown",
   "metadata": {},
   "source": [
    "Проверять статистически значимую разницу между группами будем использовать z-критерий (проверка гипотезы о равенстве долей). Проверки будем делаеть с помощью функции."
   ]
  },
  {
   "cell_type": "code",
   "execution_count": 389,
   "metadata": {},
   "outputs": [],
   "source": [
    "#функция z_test ,параметры - номера групп, наименование события, критический уровень статистической значимости\n",
    "def z_test (first_group, last_group, event, alpha):\n",
    "    #срезы событий по группам\n",
    "    exp1_event = event_exp.loc[event, first_group]\n",
    "    exp2_event = event_exp.loc[event, last_group]\n",
    "    #срезы пользователей по группам\n",
    "    exp1_user = user_exp.loc[first_group,'user_id']\n",
    "    exp2_user = user_exp.loc[last_group,'user_id']\n",
    "    #пропорция успехов в первой группе\n",
    "    p1 = exp1_event/exp1_user\n",
    "    #пропорция успехов в первой группе\n",
    "    p2 = exp2_event/exp2_user\n",
    "    # пропорция успехов в комбинированном датасете:\n",
    "    p_combined = (exp1_event + exp2_event) / (exp1_user + exp2_user)\n",
    "    # разница пропорций в датасетах\n",
    "    difference = p1 - p2\n",
    "    # считаем статистику в ст.отклонениях стандартного нормального распределения\n",
    "    z_value = difference / mth.sqrt(p_combined * (1 - p_combined) * (1/exp1_user + 1/exp1_user))\n",
    "    # задаем стандартное нормальное распределение (среднее 0, ст.отклонение 1)\n",
    "    distr = st.norm(0, 1) \n",
    "    p_value = (1 - distr.cdf(abs(z_value))) * 2\n",
    "\n",
    "    print('Группы', first_group, ',', last_group,', ' 'событие -', event,',','p_value=', p_value)\n",
    "\n",
    "    if p_value < alpha:\n",
    "        print('Отвергаем нулевую гипотезу: между долями есть значимая разница')\n",
    "    else:\n",
    "        print('Не получилось отвергнуть нулевую гипотезу, нет оснований считать доли разными')\n",
    "    print(' ')"
   ]
  },
  {
   "cell_type": "markdown",
   "metadata": {},
   "source": [
    "### Проверим, будет ли отличие между группами статистически достоверным."
   ]
  },
  {
   "cell_type": "markdown",
   "metadata": {},
   "source": [
    "Сформулируем гипотезы:\\\n",
    "(Н0) Нулевая гипотеза: между долями нет зачимой разницы\\\n",
    "(Н1) Альтернативная гипотеза: между долями есть значимая разница\\\n",
    "Критический уровень значимости alpha примем за .05"
   ]
  },
  {
   "cell_type": "code",
   "execution_count": 390,
   "metadata": {},
   "outputs": [
    {
     "name": "stdout",
     "output_type": "stream",
     "text": [
      "Группы 246 , 247 , событие - MainScreenAppear , p_value= 0.7533619551679509\n",
      "Не получилось отвергнуть нулевую гипотезу, нет оснований считать доли разными\n",
      " \n",
      "Группы 246 , 247 , событие - OffersScreenAppear , p_value= 0.24923044918800819\n",
      "Не получилось отвергнуть нулевую гипотезу, нет оснований считать доли разными\n",
      " \n",
      "Группы 246 , 247 , событие - CartScreenAppear , p_value= 0.23002440135963154\n",
      "Не получилось отвергнуть нулевую гипотезу, нет оснований считать доли разными\n",
      " \n",
      "Группы 246 , 247 , событие - PaymentScreenSuccessful , p_value= 0.11551742741948012\n",
      "Не получилось отвергнуть нулевую гипотезу, нет оснований считать доли разными\n",
      " \n"
     ]
    }
   ],
   "source": [
    "#Проверим статистическую значимость между группами 246 и 247\n",
    "for event in event_exp.index:\n",
    "    z_test(246, 247, event, .05)\n",
    "display()"
   ]
  },
  {
   "cell_type": "markdown",
   "metadata": {},
   "source": [
    "В A/A тесте статистически значимых различий между группами нет."
   ]
  },
  {
   "cell_type": "markdown",
   "metadata": {},
   "source": [
    "### Проверим А/В тест"
   ]
  },
  {
   "cell_type": "markdown",
   "metadata": {},
   "source": [
    "Сформулируем гипотезы:\\\n",
    "(Н0) Нулевая гипотеза: между долями нет зачимой разницы\\\n",
    "(Н1) Альтернативная гипотеза: между долями есть значимая разница\\\n",
    "Критический уровень значимости alpha примем за .05"
   ]
  },
  {
   "cell_type": "code",
   "execution_count": 391,
   "metadata": {},
   "outputs": [
    {
     "name": "stdout",
     "output_type": "stream",
     "text": [
      "Группы 247 , 248 , событие - MainScreenAppear , p_value= 0.520445297143135\n",
      "Не получилось отвергнуть нулевую гипотезу, нет оснований считать доли разными\n",
      " \n",
      "Группы 247 , 248 , событие - OffersScreenAppear , p_value= 0.9335260729380463\n",
      "Не получилось отвергнуть нулевую гипотезу, нет оснований считать доли разными\n",
      " \n",
      "Группы 247 , 248 , событие - CartScreenAppear , p_value= 0.5886766036226185\n",
      "Не получилось отвергнуть нулевую гипотезу, нет оснований считать доли разными\n",
      " \n",
      "Группы 247 , 248 , событие - PaymentScreenSuccessful , p_value= 0.7281659641961373\n",
      "Не получилось отвергнуть нулевую гипотезу, нет оснований считать доли разными\n",
      " \n"
     ]
    }
   ],
   "source": [
    "#Проверим статистическую значимость между группами 247 и 248\n",
    "for event in event_exp.index:\n",
    "    z_test(247, 248, event, .05)\n",
    "display()"
   ]
  },
  {
   "cell_type": "markdown",
   "metadata": {},
   "source": [
    "Нет различий между группами"
   ]
  },
  {
   "cell_type": "code",
   "execution_count": 392,
   "metadata": {},
   "outputs": [
    {
     "name": "stdout",
     "output_type": "stream",
     "text": [
      "Группы 246 , 248 , событие - MainScreenAppear , p_value= 0.3412006705841657\n",
      "Не получилось отвергнуть нулевую гипотезу, нет оснований считать доли разными\n",
      " \n",
      "Группы 246 , 248 , событие - OffersScreenAppear , p_value= 0.21679066986600404\n",
      "Не получилось отвергнуть нулевую гипотезу, нет оснований считать доли разными\n",
      " \n",
      "Группы 246 , 248 , событие - CartScreenAppear , p_value= 0.08224437479023528\n",
      "Не получилось отвергнуть нулевую гипотезу, нет оснований считать доли разными\n",
      " \n",
      "Группы 246 , 248 , событие - PaymentScreenSuccessful , p_value= 0.219303033573794\n",
      "Не получилось отвергнуть нулевую гипотезу, нет оснований считать доли разными\n",
      " \n"
     ]
    }
   ],
   "source": [
    "#Проверим статистическую значимость между группами 246 и 248\n",
    "for event in event_exp.index:\n",
    "    z_test(246, 248, event, .05)\n",
    "display()"
   ]
  },
  {
   "cell_type": "markdown",
   "metadata": {},
   "source": [
    "Нет различий между группами"
   ]
  },
  {
   "cell_type": "markdown",
   "metadata": {},
   "source": [
    "Проверим статистическую разницу между суммой двух групп 246 + 247 и группой 248"
   ]
  },
  {
   "cell_type": "code",
   "execution_count": 393,
   "metadata": {},
   "outputs": [
    {
     "data": {
      "text/plain": [
       "4995"
      ]
     },
     "execution_count": 393,
     "metadata": {},
     "output_type": "execute_result"
    }
   ],
   "source": [
    "#сумма\n",
    "user_exp = user_exp.reset_index()\n",
    "user_exp['user_id'][0] + user_exp['user_id'][1]"
   ]
  },
  {
   "cell_type": "code",
   "execution_count": 394,
   "metadata": {},
   "outputs": [
    {
     "data": {
      "text/html": [
       "<div>\n",
       "<style scoped>\n",
       "    .dataframe tbody tr th:only-of-type {\n",
       "        vertical-align: middle;\n",
       "    }\n",
       "\n",
       "    .dataframe tbody tr th {\n",
       "        vertical-align: top;\n",
       "    }\n",
       "\n",
       "    .dataframe thead th {\n",
       "        text-align: right;\n",
       "    }\n",
       "</style>\n",
       "<table border=\"1\" class=\"dataframe\">\n",
       "  <thead>\n",
       "    <tr style=\"text-align: right;\">\n",
       "      <th></th>\n",
       "      <th>group</th>\n",
       "      <th>user_id</th>\n",
       "    </tr>\n",
       "  </thead>\n",
       "  <tbody>\n",
       "    <tr>\n",
       "      <th>0</th>\n",
       "      <td>246</td>\n",
       "      <td>2483</td>\n",
       "    </tr>\n",
       "    <tr>\n",
       "      <th>1</th>\n",
       "      <td>247</td>\n",
       "      <td>2512</td>\n",
       "    </tr>\n",
       "    <tr>\n",
       "      <th>2</th>\n",
       "      <td>248</td>\n",
       "      <td>2535</td>\n",
       "    </tr>\n",
       "    <tr>\n",
       "      <th>3</th>\n",
       "      <td>246_247</td>\n",
       "      <td>4995</td>\n",
       "    </tr>\n",
       "  </tbody>\n",
       "</table>\n",
       "</div>"
      ],
      "text/plain": [
       "     group  user_id\n",
       "0      246     2483\n",
       "1      247     2512\n",
       "2      248     2535\n",
       "3  246_247     4995"
      ]
     },
     "execution_count": 394,
     "metadata": {},
     "output_type": "execute_result"
    }
   ],
   "source": [
    "#добавим строку\n",
    "user_exp.loc[len(user_exp.index)] = ['246_247', 4995]\n",
    "\n",
    "user_exp"
   ]
  },
  {
   "cell_type": "code",
   "execution_count": 395,
   "metadata": {},
   "outputs": [
    {
     "data": {
      "text/html": [
       "<div>\n",
       "<style scoped>\n",
       "    .dataframe tbody tr th:only-of-type {\n",
       "        vertical-align: middle;\n",
       "    }\n",
       "\n",
       "    .dataframe tbody tr th {\n",
       "        vertical-align: top;\n",
       "    }\n",
       "\n",
       "    .dataframe thead th {\n",
       "        text-align: right;\n",
       "    }\n",
       "</style>\n",
       "<table border=\"1\" class=\"dataframe\">\n",
       "  <thead>\n",
       "    <tr style=\"text-align: right;\">\n",
       "      <th></th>\n",
       "      <th>user_id</th>\n",
       "    </tr>\n",
       "    <tr>\n",
       "      <th>group</th>\n",
       "      <th></th>\n",
       "    </tr>\n",
       "  </thead>\n",
       "  <tbody>\n",
       "    <tr>\n",
       "      <th>246</th>\n",
       "      <td>2483</td>\n",
       "    </tr>\n",
       "    <tr>\n",
       "      <th>247</th>\n",
       "      <td>2512</td>\n",
       "    </tr>\n",
       "    <tr>\n",
       "      <th>248</th>\n",
       "      <td>2535</td>\n",
       "    </tr>\n",
       "    <tr>\n",
       "      <th>246_247</th>\n",
       "      <td>4995</td>\n",
       "    </tr>\n",
       "  </tbody>\n",
       "</table>\n",
       "</div>"
      ],
      "text/plain": [
       "         user_id\n",
       "group           \n",
       "246         2483\n",
       "247         2512\n",
       "248         2535\n",
       "246_247     4995"
      ]
     },
     "execution_count": 395,
     "metadata": {},
     "output_type": "execute_result"
    }
   ],
   "source": [
    "#возвращаем индексацию, для функции\n",
    "user_exp = user_exp.set_index(user_exp.columns[0])\n",
    "\n",
    "user_exp"
   ]
  },
  {
   "cell_type": "code",
   "execution_count": 396,
   "metadata": {},
   "outputs": [
    {
     "data": {
      "text/html": [
       "<div>\n",
       "<style scoped>\n",
       "    .dataframe tbody tr th:only-of-type {\n",
       "        vertical-align: middle;\n",
       "    }\n",
       "\n",
       "    .dataframe tbody tr th {\n",
       "        vertical-align: top;\n",
       "    }\n",
       "\n",
       "    .dataframe thead th {\n",
       "        text-align: right;\n",
       "    }\n",
       "</style>\n",
       "<table border=\"1\" class=\"dataframe\">\n",
       "  <thead>\n",
       "    <tr style=\"text-align: right;\">\n",
       "      <th>group</th>\n",
       "      <th>246</th>\n",
       "      <th>247</th>\n",
       "      <th>248</th>\n",
       "      <th>246_247</th>\n",
       "    </tr>\n",
       "    <tr>\n",
       "      <th>event_name</th>\n",
       "      <th></th>\n",
       "      <th></th>\n",
       "      <th></th>\n",
       "      <th></th>\n",
       "    </tr>\n",
       "  </thead>\n",
       "  <tbody>\n",
       "    <tr>\n",
       "      <th>MainScreenAppear</th>\n",
       "      <td>2450</td>\n",
       "      <td>2476</td>\n",
       "      <td>2493</td>\n",
       "      <td>4926</td>\n",
       "    </tr>\n",
       "    <tr>\n",
       "      <th>OffersScreenAppear</th>\n",
       "      <td>1542</td>\n",
       "      <td>1520</td>\n",
       "      <td>1531</td>\n",
       "      <td>3062</td>\n",
       "    </tr>\n",
       "    <tr>\n",
       "      <th>CartScreenAppear</th>\n",
       "      <td>1266</td>\n",
       "      <td>1238</td>\n",
       "      <td>1230</td>\n",
       "      <td>2504</td>\n",
       "    </tr>\n",
       "    <tr>\n",
       "      <th>PaymentScreenSuccessful</th>\n",
       "      <td>1200</td>\n",
       "      <td>1158</td>\n",
       "      <td>1181</td>\n",
       "      <td>2358</td>\n",
       "    </tr>\n",
       "  </tbody>\n",
       "</table>\n",
       "</div>"
      ],
      "text/plain": [
       "group                     246   247   248  246_247\n",
       "event_name                                        \n",
       "MainScreenAppear         2450  2476  2493     4926\n",
       "OffersScreenAppear       1542  1520  1531     3062\n",
       "CartScreenAppear         1266  1238  1230     2504\n",
       "PaymentScreenSuccessful  1200  1158  1181     2358"
      ]
     },
     "execution_count": 396,
     "metadata": {},
     "output_type": "execute_result"
    }
   ],
   "source": [
    "#к датафрейму событий добавим столбец\n",
    "event_exp['246_247'] = event_exp[246] + event_exp[247]\n",
    "\n",
    "event_exp"
   ]
  },
  {
   "cell_type": "markdown",
   "metadata": {},
   "source": [
    "Проверим статистческую разницу между тестируемой группой 248 и обьдененной 246_247"
   ]
  },
  {
   "cell_type": "markdown",
   "metadata": {},
   "source": [
    "Сформулируем гипотезы:\\\n",
    "(Н0) Нулевая гипотеза: между долями нет зачимой разницы\\\n",
    "(Н1) Альтернативная гипотеза: между долями есть значимая разница\\\n",
    "Критический уровень значимости alpha примем за .05"
   ]
  },
  {
   "cell_type": "code",
   "execution_count": 397,
   "metadata": {},
   "outputs": [
    {
     "name": "stdout",
     "output_type": "stream",
     "text": [
      "Группы 246_247 , 248 , событие - MainScreenAppear , p_value= 0.25340133083330896\n",
      "Не получилось отвергнуть нулевую гипотезу, нет оснований считать доли разными\n",
      " \n",
      "Группы 246_247 , 248 , событие - OffersScreenAppear , p_value= 0.35282832207227344\n",
      "Не получилось отвергнуть нулевую гипотезу, нет оснований считать доли разными\n",
      " \n",
      "Группы 246_247 , 248 , событие - CartScreenAppear , p_value= 0.10768858681378712\n",
      "Не получилось отвергнуть нулевую гипотезу, нет оснований считать доли разными\n",
      " \n",
      "Группы 246_247 , 248 , событие - PaymentScreenSuccessful , p_value= 0.5350967320793409\n",
      "Не получилось отвергнуть нулевую гипотезу, нет оснований считать доли разными\n",
      " \n",
      "\n"
     ]
    }
   ],
   "source": [
    "#оцениваем различия объединенной контрольной и тестируемой групп\n",
    "for event in event_exp.index:\n",
    "    z_test('246_247', 248, event, .05)\n",
    "print()"
   ]
  },
  {
   "cell_type": "markdown",
   "metadata": {},
   "source": [
    "Вывод: изменение шрифта в приложении на поведение пользователей не повлияло "
   ]
  },
  {
   "cell_type": "markdown",
   "metadata": {},
   "source": [
    "### Уровень значимости при проверке статистических гипотез"
   ]
  },
  {
   "cell_type": "markdown",
   "metadata": {},
   "source": [
    "В эксперименте мы провели 16 проверок гипотез. При проведении множественных эксериментов увеличивается вероятность ошибок первого рода. Применим метод Бонферрони к уровню значимости. Уровни значимости в каждом из m сравнений в m раз меньше, чем уровень значимости, требуемый при единственном сравнении."
   ]
  },
  {
   "cell_type": "markdown",
   "metadata": {},
   "source": [
    "$$A1 = ... =Am =A/m$$"
   ]
  },
  {
   "cell_type": "markdown",
   "metadata": {},
   "source": [
    "Применим поправку Бонферрони: alpha: 0.05/16 = 0.003. Проведем новые проверки."
   ]
  },
  {
   "cell_type": "code",
   "execution_count": 398,
   "metadata": {},
   "outputs": [
    {
     "name": "stdout",
     "output_type": "stream",
     "text": [
      "Группы 246 , 247 , событие - MainScreenAppear , p_value= 0.7533619551679509\n",
      "Не получилось отвергнуть нулевую гипотезу, нет оснований считать доли разными\n",
      " \n",
      "Группы 246 , 247 , событие - OffersScreenAppear , p_value= 0.24923044918800819\n",
      "Не получилось отвергнуть нулевую гипотезу, нет оснований считать доли разными\n",
      " \n",
      "Группы 246 , 247 , событие - CartScreenAppear , p_value= 0.23002440135963154\n",
      "Не получилось отвергнуть нулевую гипотезу, нет оснований считать доли разными\n",
      " \n",
      "Группы 246 , 247 , событие - PaymentScreenSuccessful , p_value= 0.11551742741948012\n",
      "Не получилось отвергнуть нулевую гипотезу, нет оснований считать доли разными\n",
      " \n"
     ]
    }
   ],
   "source": [
    "#Проверим статистическую значимость между группами 246 и 247\n",
    "for event in event_exp.index:\n",
    "   z_test(246, 247, event, .003)\n",
    "display()"
   ]
  },
  {
   "cell_type": "code",
   "execution_count": 399,
   "metadata": {},
   "outputs": [
    {
     "name": "stdout",
     "output_type": "stream",
     "text": [
      "Группы 247 , 248 , событие - MainScreenAppear , p_value= 0.520445297143135\n",
      "Не получилось отвергнуть нулевую гипотезу, нет оснований считать доли разными\n",
      " \n",
      "Группы 247 , 248 , событие - OffersScreenAppear , p_value= 0.9335260729380463\n",
      "Не получилось отвергнуть нулевую гипотезу, нет оснований считать доли разными\n",
      " \n",
      "Группы 247 , 248 , событие - CartScreenAppear , p_value= 0.5886766036226185\n",
      "Не получилось отвергнуть нулевую гипотезу, нет оснований считать доли разными\n",
      " \n",
      "Группы 247 , 248 , событие - PaymentScreenSuccessful , p_value= 0.7281659641961373\n",
      "Не получилось отвергнуть нулевую гипотезу, нет оснований считать доли разными\n",
      " \n"
     ]
    }
   ],
   "source": [
    "#Проверим статистическую значимость между группами 247 и 248\n",
    "for event in event_exp.index:\n",
    "   z_test(247, 248, event, .003)\n",
    "display()"
   ]
  },
  {
   "cell_type": "code",
   "execution_count": 400,
   "metadata": {},
   "outputs": [
    {
     "name": "stdout",
     "output_type": "stream",
     "text": [
      "Группы 246 , 248 , событие - MainScreenAppear , p_value= 0.3412006705841657\n",
      "Не получилось отвергнуть нулевую гипотезу, нет оснований считать доли разными\n",
      " \n",
      "Группы 246 , 248 , событие - OffersScreenAppear , p_value= 0.21679066986600404\n",
      "Не получилось отвергнуть нулевую гипотезу, нет оснований считать доли разными\n",
      " \n",
      "Группы 246 , 248 , событие - CartScreenAppear , p_value= 0.08224437479023528\n",
      "Не получилось отвергнуть нулевую гипотезу, нет оснований считать доли разными\n",
      " \n",
      "Группы 246 , 248 , событие - PaymentScreenSuccessful , p_value= 0.219303033573794\n",
      "Не получилось отвергнуть нулевую гипотезу, нет оснований считать доли разными\n",
      " \n"
     ]
    }
   ],
   "source": [
    "#Проверим статистическую значимость между группами 246 и 248\n",
    "for event in event_exp.index:\n",
    "   z_test(246, 248, event, .003)\n",
    "display()"
   ]
  },
  {
   "cell_type": "code",
   "execution_count": 401,
   "metadata": {},
   "outputs": [
    {
     "name": "stdout",
     "output_type": "stream",
     "text": [
      "Группы 246_247 , 248 , событие - MainScreenAppear , p_value= 0.25340133083330896\n",
      "Не получилось отвергнуть нулевую гипотезу, нет оснований считать доли разными\n",
      " \n",
      "Группы 246_247 , 248 , событие - OffersScreenAppear , p_value= 0.35282832207227344\n",
      "Не получилось отвергнуть нулевую гипотезу, нет оснований считать доли разными\n",
      " \n",
      "Группы 246_247 , 248 , событие - CartScreenAppear , p_value= 0.10768858681378712\n",
      "Не получилось отвергнуть нулевую гипотезу, нет оснований считать доли разными\n",
      " \n",
      "Группы 246_247 , 248 , событие - PaymentScreenSuccessful , p_value= 0.5350967320793409\n",
      "Не получилось отвергнуть нулевую гипотезу, нет оснований считать доли разными\n",
      " \n"
     ]
    }
   ],
   "source": [
    "#оцениваем различия объединенной контрольной и тестируемой групп\n",
    "for event in event_exp.index:\n",
    "   z_test('246_247', 248, event, .003)\n",
    "display()"
   ]
  },
  {
   "cell_type": "markdown",
   "metadata": {},
   "source": [
    "Применив поправку Бонферони тесты не выявили различий. Изменение шрифта не повлияло на события."
   ]
  },
  {
   "cell_type": "markdown",
   "metadata": {},
   "source": [
    "##  Выводы"
   ]
  },
  {
   "cell_type": "markdown",
   "metadata": {},
   "source": [
    "В ходе анализа поведения пользователей приложения, А/А/В-тестирования были получены следующие результаты:\\\n",
    "После первого шага терялось больше всего пользователей - 38%\\\n",
    "Пользователей прошедших до оплаты заказа - 48%\\\n",
    "А/А и А/В-тесты эксперимента показали отсутствие различий в контрольных группах по каждому событию\\\n",
    "Уменьшение уровня значимости методом Бонферони не привело к изменению результатов ни по одному тесту\\\n",
    "Вывод: эксперимент по изменению шрифта в приложении не стал успешным."
   ]
  }
 ],
 "metadata": {
  "ExecuteTimeLog": [
   {
    "duration": 1380,
    "start_time": "2023-01-30T18:15:20.951Z"
   },
   {
    "duration": 4,
    "start_time": "2023-01-30T18:21:20.412Z"
   },
   {
    "duration": 960,
    "start_time": "2023-01-30T18:21:20.418Z"
   },
   {
    "duration": 4,
    "start_time": "2023-01-30T18:27:17.082Z"
   },
   {
    "duration": 340,
    "start_time": "2023-01-30T18:27:17.088Z"
   },
   {
    "duration": 5,
    "start_time": "2023-01-30T18:29:51.326Z"
   },
   {
    "duration": 415,
    "start_time": "2023-01-30T18:29:51.334Z"
   },
   {
    "duration": 1420,
    "start_time": "2023-01-31T06:54:45.673Z"
   },
   {
    "duration": 622,
    "start_time": "2023-01-31T06:54:47.095Z"
   },
   {
    "duration": 12,
    "start_time": "2023-01-31T06:55:09.744Z"
   },
   {
    "duration": 77,
    "start_time": "2023-01-31T06:56:19.352Z"
   },
   {
    "duration": 285,
    "start_time": "2023-01-31T06:56:31.782Z"
   },
   {
    "duration": 8,
    "start_time": "2023-01-31T06:56:32.771Z"
   },
   {
    "duration": 7,
    "start_time": "2023-01-31T06:57:03.119Z"
   },
   {
    "duration": 7,
    "start_time": "2023-01-31T06:57:32.996Z"
   },
   {
    "duration": 75,
    "start_time": "2023-01-31T06:58:56.487Z"
   },
   {
    "duration": 101,
    "start_time": "2023-01-31T06:59:08.797Z"
   },
   {
    "duration": 604,
    "start_time": "2023-01-31T06:59:18.445Z"
   },
   {
    "duration": 5,
    "start_time": "2023-01-31T07:16:35.088Z"
   },
   {
    "duration": 267,
    "start_time": "2023-01-31T07:16:35.095Z"
   },
   {
    "duration": 9,
    "start_time": "2023-01-31T07:16:35.363Z"
   },
   {
    "duration": 263,
    "start_time": "2023-01-31T08:18:43.838Z"
   },
   {
    "duration": 9,
    "start_time": "2023-01-31T08:18:45.317Z"
   },
   {
    "duration": 144,
    "start_time": "2023-01-31T08:19:08.104Z"
   },
   {
    "duration": 145,
    "start_time": "2023-01-31T08:19:11.714Z"
   },
   {
    "duration": 10,
    "start_time": "2023-01-31T08:19:12.617Z"
   },
   {
    "duration": 3,
    "start_time": "2023-01-31T08:24:45.017Z"
   },
   {
    "duration": 10,
    "start_time": "2023-01-31T08:24:59.292Z"
   },
   {
    "duration": 20,
    "start_time": "2023-01-31T08:26:40.749Z"
   },
   {
    "duration": 4,
    "start_time": "2023-01-31T08:26:51.970Z"
   },
   {
    "duration": 149,
    "start_time": "2023-01-31T08:26:51.976Z"
   },
   {
    "duration": 25,
    "start_time": "2023-01-31T08:26:52.127Z"
   },
   {
    "duration": 4,
    "start_time": "2023-01-31T08:26:52.153Z"
   },
   {
    "duration": 11,
    "start_time": "2023-01-31T08:26:52.159Z"
   },
   {
    "duration": 5,
    "start_time": "2023-01-31T08:32:26.559Z"
   },
   {
    "duration": 153,
    "start_time": "2023-01-31T08:32:26.566Z"
   },
   {
    "duration": 18,
    "start_time": "2023-01-31T08:32:26.720Z"
   },
   {
    "duration": 22,
    "start_time": "2023-01-31T08:32:26.740Z"
   },
   {
    "duration": 3,
    "start_time": "2023-01-31T08:32:26.763Z"
   },
   {
    "duration": 11,
    "start_time": "2023-01-31T08:32:26.767Z"
   },
   {
    "duration": 9,
    "start_time": "2023-01-31T08:33:00.769Z"
   },
   {
    "duration": 5,
    "start_time": "2023-01-31T08:33:30.681Z"
   },
   {
    "duration": 221,
    "start_time": "2023-01-31T08:33:30.688Z"
   },
   {
    "duration": 19,
    "start_time": "2023-01-31T08:33:30.910Z"
   },
   {
    "duration": 52,
    "start_time": "2023-01-31T08:33:30.931Z"
   },
   {
    "duration": 52,
    "start_time": "2023-01-31T08:33:30.985Z"
   },
   {
    "duration": 32,
    "start_time": "2023-01-31T08:33:31.039Z"
   },
   {
    "duration": 7,
    "start_time": "2023-01-31T08:45:19.732Z"
   },
   {
    "duration": 9,
    "start_time": "2023-01-31T08:47:40.236Z"
   },
   {
    "duration": 9,
    "start_time": "2023-01-31T08:47:54.167Z"
   },
   {
    "duration": 10,
    "start_time": "2023-01-31T09:02:04.396Z"
   },
   {
    "duration": 9,
    "start_time": "2023-01-31T09:02:05.198Z"
   },
   {
    "duration": 5,
    "start_time": "2023-01-31T09:02:15.773Z"
   },
   {
    "duration": 168,
    "start_time": "2023-01-31T09:02:15.780Z"
   },
   {
    "duration": 18,
    "start_time": "2023-01-31T09:02:15.950Z"
   },
   {
    "duration": 2,
    "start_time": "2023-01-31T09:02:15.970Z"
   },
   {
    "duration": 11,
    "start_time": "2023-01-31T09:02:15.975Z"
   },
   {
    "duration": 8,
    "start_time": "2023-01-31T09:02:15.987Z"
   },
   {
    "duration": 10,
    "start_time": "2023-01-31T09:02:15.997Z"
   },
   {
    "duration": 4,
    "start_time": "2023-01-31T09:06:40.509Z"
   },
   {
    "duration": 146,
    "start_time": "2023-01-31T09:06:41.101Z"
   },
   {
    "duration": 19,
    "start_time": "2023-01-31T09:06:41.800Z"
   },
   {
    "duration": 3,
    "start_time": "2023-01-31T09:08:59.326Z"
   },
   {
    "duration": 15,
    "start_time": "2023-01-31T09:12:06.110Z"
   },
   {
    "duration": 8,
    "start_time": "2023-01-31T09:14:40.701Z"
   },
   {
    "duration": 8,
    "start_time": "2023-01-31T09:14:51.187Z"
   },
   {
    "duration": 83,
    "start_time": "2023-01-31T09:16:01.423Z"
   },
   {
    "duration": 94,
    "start_time": "2023-01-31T09:16:17.974Z"
   },
   {
    "duration": 1305,
    "start_time": "2023-01-31T09:16:42.044Z"
   },
   {
    "duration": 1124,
    "start_time": "2023-01-31T09:17:00.145Z"
   },
   {
    "duration": 12,
    "start_time": "2023-01-31T09:21:12.951Z"
   },
   {
    "duration": 8,
    "start_time": "2023-01-31T09:21:29.618Z"
   },
   {
    "duration": 76,
    "start_time": "2023-01-31T09:28:15.804Z"
   },
   {
    "duration": 19,
    "start_time": "2023-01-31T09:28:22.041Z"
   },
   {
    "duration": 5,
    "start_time": "2023-01-31T09:28:43.598Z"
   },
   {
    "duration": 176,
    "start_time": "2023-01-31T09:28:43.605Z"
   },
   {
    "duration": 31,
    "start_time": "2023-01-31T09:28:43.783Z"
   },
   {
    "duration": 14,
    "start_time": "2023-01-31T09:28:43.817Z"
   },
   {
    "duration": 20,
    "start_time": "2023-01-31T09:28:43.832Z"
   },
   {
    "duration": 21,
    "start_time": "2023-01-31T09:28:43.854Z"
   },
   {
    "duration": 8,
    "start_time": "2023-01-31T09:28:43.877Z"
   },
   {
    "duration": 10,
    "start_time": "2023-01-31T09:28:43.887Z"
   },
   {
    "duration": 14,
    "start_time": "2023-01-31T09:28:43.899Z"
   },
   {
    "duration": 0,
    "start_time": "2023-01-31T09:28:43.915Z"
   },
   {
    "duration": 74,
    "start_time": "2023-01-31T09:41:56.893Z"
   },
   {
    "duration": 11,
    "start_time": "2023-01-31T09:42:04.620Z"
   },
   {
    "duration": 10,
    "start_time": "2023-01-31T09:44:54.661Z"
   },
   {
    "duration": 4,
    "start_time": "2023-01-31T09:45:11.395Z"
   },
   {
    "duration": 8,
    "start_time": "2023-01-31T09:45:13.027Z"
   },
   {
    "duration": 13,
    "start_time": "2023-01-31T09:45:28.195Z"
   },
   {
    "duration": 4,
    "start_time": "2023-01-31T09:49:03.033Z"
   },
   {
    "duration": 14,
    "start_time": "2023-01-31T09:49:04.297Z"
   },
   {
    "duration": 10,
    "start_time": "2023-01-31T09:49:14.298Z"
   },
   {
    "duration": 15,
    "start_time": "2023-01-31T09:49:15.451Z"
   },
   {
    "duration": 83,
    "start_time": "2023-01-31T09:49:38.437Z"
   },
   {
    "duration": 13,
    "start_time": "2023-01-31T09:49:39.444Z"
   },
   {
    "duration": 9,
    "start_time": "2023-01-31T09:51:17.503Z"
   },
   {
    "duration": 22,
    "start_time": "2023-01-31T09:55:11.693Z"
   },
   {
    "duration": 24,
    "start_time": "2023-01-31T09:55:25.732Z"
   },
   {
    "duration": 33,
    "start_time": "2023-01-31T09:56:19.523Z"
   },
   {
    "duration": 27,
    "start_time": "2023-01-31T09:56:41.733Z"
   },
   {
    "duration": 26,
    "start_time": "2023-01-31T09:56:50.884Z"
   },
   {
    "duration": 25,
    "start_time": "2023-01-31T09:57:59.248Z"
   },
   {
    "duration": 39,
    "start_time": "2023-01-31T09:59:07.256Z"
   },
   {
    "duration": 35,
    "start_time": "2023-01-31T09:59:22.585Z"
   },
   {
    "duration": 28,
    "start_time": "2023-01-31T09:59:48.422Z"
   },
   {
    "duration": 3,
    "start_time": "2023-01-31T10:12:11.636Z"
   },
   {
    "duration": 3,
    "start_time": "2023-01-31T10:12:48.096Z"
   },
   {
    "duration": 8,
    "start_time": "2023-01-31T10:27:10.400Z"
   },
   {
    "duration": 4,
    "start_time": "2023-01-31T10:27:21.445Z"
   },
   {
    "duration": 75,
    "start_time": "2023-01-31T10:31:19.060Z"
   },
   {
    "duration": 12,
    "start_time": "2023-01-31T10:36:01.641Z"
   },
   {
    "duration": 83,
    "start_time": "2023-01-31T10:36:22.805Z"
   },
   {
    "duration": 88,
    "start_time": "2023-01-31T10:36:37.571Z"
   },
   {
    "duration": 92,
    "start_time": "2023-01-31T10:36:47.778Z"
   },
   {
    "duration": 113,
    "start_time": "2023-01-31T10:38:20.074Z"
   },
   {
    "duration": 4,
    "start_time": "2023-01-31T10:39:55.574Z"
   },
   {
    "duration": 4,
    "start_time": "2023-01-31T10:40:31.818Z"
   },
   {
    "duration": 80,
    "start_time": "2023-01-31T10:40:34.559Z"
   },
   {
    "duration": 3,
    "start_time": "2023-01-31T10:40:40.136Z"
   },
   {
    "duration": 79,
    "start_time": "2023-01-31T10:40:40.822Z"
   },
   {
    "duration": 3,
    "start_time": "2023-01-31T10:40:41.578Z"
   },
   {
    "duration": 4,
    "start_time": "2023-01-31T10:40:51.211Z"
   },
   {
    "duration": 166,
    "start_time": "2023-01-31T10:40:51.217Z"
   },
   {
    "duration": 28,
    "start_time": "2023-01-31T10:40:51.385Z"
   },
   {
    "duration": 9,
    "start_time": "2023-01-31T10:40:51.415Z"
   },
   {
    "duration": 10,
    "start_time": "2023-01-31T10:40:51.426Z"
   },
   {
    "duration": 28,
    "start_time": "2023-01-31T10:40:51.438Z"
   },
   {
    "duration": 60,
    "start_time": "2023-01-31T10:40:51.468Z"
   },
   {
    "duration": 21,
    "start_time": "2023-01-31T10:40:51.530Z"
   },
   {
    "duration": 59,
    "start_time": "2023-01-31T10:40:51.553Z"
   },
   {
    "duration": 4,
    "start_time": "2023-01-31T10:40:51.613Z"
   },
   {
    "duration": 25,
    "start_time": "2023-01-31T10:40:51.618Z"
   },
   {
    "duration": 12,
    "start_time": "2023-01-31T10:40:51.644Z"
   },
   {
    "duration": 75,
    "start_time": "2023-01-31T10:40:51.657Z"
   },
   {
    "duration": 16,
    "start_time": "2023-01-31T10:40:51.734Z"
   },
   {
    "duration": 10,
    "start_time": "2023-01-31T10:40:51.752Z"
   },
   {
    "duration": 27,
    "start_time": "2023-01-31T10:40:51.763Z"
   },
   {
    "duration": 3,
    "start_time": "2023-01-31T10:40:51.792Z"
   },
   {
    "duration": 15,
    "start_time": "2023-01-31T10:41:19.787Z"
   },
   {
    "duration": 117,
    "start_time": "2023-01-31T10:42:03.129Z"
   },
   {
    "duration": 102,
    "start_time": "2023-01-31T10:42:26.685Z"
   },
   {
    "duration": 4,
    "start_time": "2023-01-31T10:42:36.737Z"
   },
   {
    "duration": 4,
    "start_time": "2023-01-31T10:43:27.820Z"
   },
   {
    "duration": 171,
    "start_time": "2023-01-31T10:43:27.827Z"
   },
   {
    "duration": 19,
    "start_time": "2023-01-31T10:43:28.000Z"
   },
   {
    "duration": 10,
    "start_time": "2023-01-31T10:43:28.021Z"
   },
   {
    "duration": 17,
    "start_time": "2023-01-31T10:43:28.033Z"
   },
   {
    "duration": 20,
    "start_time": "2023-01-31T10:43:28.051Z"
   },
   {
    "duration": 48,
    "start_time": "2023-01-31T10:43:28.073Z"
   },
   {
    "duration": 81,
    "start_time": "2023-01-31T10:43:28.123Z"
   },
   {
    "duration": 7,
    "start_time": "2023-01-31T10:43:28.206Z"
   },
   {
    "duration": 10,
    "start_time": "2023-01-31T10:43:28.215Z"
   },
   {
    "duration": 88,
    "start_time": "2023-01-31T10:43:28.226Z"
   },
   {
    "duration": 9,
    "start_time": "2023-01-31T10:43:28.315Z"
   },
   {
    "duration": 12,
    "start_time": "2023-01-31T10:43:28.325Z"
   },
   {
    "duration": 31,
    "start_time": "2023-01-31T10:43:28.339Z"
   },
   {
    "duration": 2,
    "start_time": "2023-01-31T10:43:28.372Z"
   },
   {
    "duration": 4,
    "start_time": "2023-01-31T10:44:20.508Z"
   },
   {
    "duration": 172,
    "start_time": "2023-01-31T10:44:20.514Z"
   },
   {
    "duration": 19,
    "start_time": "2023-01-31T10:44:20.687Z"
   },
   {
    "duration": 11,
    "start_time": "2023-01-31T10:44:20.707Z"
   },
   {
    "duration": 12,
    "start_time": "2023-01-31T10:44:20.720Z"
   },
   {
    "duration": 37,
    "start_time": "2023-01-31T10:44:20.734Z"
   },
   {
    "duration": 50,
    "start_time": "2023-01-31T10:44:20.772Z"
   },
   {
    "duration": 65,
    "start_time": "2023-01-31T10:44:20.824Z"
   },
   {
    "duration": 6,
    "start_time": "2023-01-31T10:44:20.892Z"
   },
   {
    "duration": 83,
    "start_time": "2023-01-31T10:44:20.900Z"
   },
   {
    "duration": 122,
    "start_time": "2023-01-31T10:44:20.985Z"
   },
   {
    "duration": 8,
    "start_time": "2023-01-31T10:44:21.109Z"
   },
   {
    "duration": 38,
    "start_time": "2023-01-31T10:44:21.118Z"
   },
   {
    "duration": 2,
    "start_time": "2023-01-31T10:44:21.159Z"
   },
   {
    "duration": 5,
    "start_time": "2023-01-31T10:45:24.641Z"
   },
   {
    "duration": 157,
    "start_time": "2023-01-31T10:45:24.648Z"
   },
   {
    "duration": 19,
    "start_time": "2023-01-31T10:45:24.807Z"
   },
   {
    "duration": 14,
    "start_time": "2023-01-31T10:45:24.827Z"
   },
   {
    "duration": 3,
    "start_time": "2023-01-31T10:45:24.848Z"
   },
   {
    "duration": 16,
    "start_time": "2023-01-31T10:45:24.853Z"
   },
   {
    "duration": 51,
    "start_time": "2023-01-31T10:45:24.871Z"
   },
   {
    "duration": 83,
    "start_time": "2023-01-31T10:45:24.924Z"
   },
   {
    "duration": 8,
    "start_time": "2023-01-31T10:45:25.009Z"
   },
   {
    "duration": 89,
    "start_time": "2023-01-31T10:45:25.019Z"
   },
   {
    "duration": 27,
    "start_time": "2023-01-31T10:45:25.110Z"
   },
   {
    "duration": 5,
    "start_time": "2023-01-31T10:45:25.139Z"
   },
   {
    "duration": 32,
    "start_time": "2023-01-31T10:45:25.145Z"
   },
   {
    "duration": 2,
    "start_time": "2023-01-31T10:45:25.180Z"
   },
   {
    "duration": 24,
    "start_time": "2023-01-31T10:45:59.735Z"
   },
   {
    "duration": 2,
    "start_time": "2023-01-31T10:46:01.472Z"
   },
   {
    "duration": 29,
    "start_time": "2023-01-31T10:53:55.221Z"
   },
   {
    "duration": 2,
    "start_time": "2023-01-31T10:53:56.435Z"
   },
   {
    "duration": 50,
    "start_time": "2023-01-31T10:55:45.643Z"
   },
   {
    "duration": 64,
    "start_time": "2023-01-31T10:56:06.887Z"
   },
   {
    "duration": 8,
    "start_time": "2023-01-31T11:12:00.662Z"
   },
   {
    "duration": 5,
    "start_time": "2023-01-31T11:12:13.194Z"
   },
   {
    "duration": 6,
    "start_time": "2023-01-31T11:13:00.355Z"
   },
   {
    "duration": 14,
    "start_time": "2023-01-31T11:21:27.782Z"
   },
   {
    "duration": 17,
    "start_time": "2023-01-31T11:22:25.753Z"
   },
   {
    "duration": 20,
    "start_time": "2023-01-31T11:22:39.008Z"
   },
   {
    "duration": 12,
    "start_time": "2023-01-31T11:23:10.236Z"
   },
   {
    "duration": 12,
    "start_time": "2023-01-31T11:25:19.427Z"
   },
   {
    "duration": 10,
    "start_time": "2023-01-31T11:25:30.052Z"
   },
   {
    "duration": 4,
    "start_time": "2023-01-31T11:25:50.736Z"
   },
   {
    "duration": 162,
    "start_time": "2023-01-31T11:25:50.742Z"
   },
   {
    "duration": 20,
    "start_time": "2023-01-31T11:25:50.905Z"
   },
   {
    "duration": 22,
    "start_time": "2023-01-31T11:25:50.927Z"
   },
   {
    "duration": 8,
    "start_time": "2023-01-31T11:25:50.951Z"
   },
   {
    "duration": 23,
    "start_time": "2023-01-31T11:25:50.961Z"
   },
   {
    "duration": 67,
    "start_time": "2023-01-31T11:25:50.985Z"
   },
   {
    "duration": 61,
    "start_time": "2023-01-31T11:25:51.054Z"
   },
   {
    "duration": 7,
    "start_time": "2023-01-31T11:25:51.116Z"
   },
   {
    "duration": 82,
    "start_time": "2023-01-31T11:25:51.125Z"
   },
   {
    "duration": 8,
    "start_time": "2023-01-31T11:25:51.209Z"
   },
   {
    "duration": 36,
    "start_time": "2023-01-31T11:25:51.219Z"
   },
   {
    "duration": 2,
    "start_time": "2023-01-31T11:25:51.257Z"
   },
   {
    "duration": 53,
    "start_time": "2023-01-31T11:25:51.261Z"
   },
   {
    "duration": 8,
    "start_time": "2023-01-31T11:25:51.316Z"
   },
   {
    "duration": 9,
    "start_time": "2023-01-31T11:27:00.176Z"
   },
   {
    "duration": 9,
    "start_time": "2023-01-31T11:27:10.236Z"
   },
   {
    "duration": 9,
    "start_time": "2023-01-31T11:30:43.438Z"
   },
   {
    "duration": 9,
    "start_time": "2023-01-31T11:30:47.363Z"
   },
   {
    "duration": 4,
    "start_time": "2023-01-31T11:30:52.843Z"
   },
   {
    "duration": 4,
    "start_time": "2023-01-31T11:31:01.223Z"
   },
   {
    "duration": 11,
    "start_time": "2023-01-31T11:31:18.652Z"
   },
   {
    "duration": 8,
    "start_time": "2023-01-31T11:31:54.950Z"
   },
   {
    "duration": 123,
    "start_time": "2023-01-31T11:33:20.284Z"
   },
   {
    "duration": 98,
    "start_time": "2023-01-31T11:33:33.007Z"
   },
   {
    "duration": 3,
    "start_time": "2023-01-31T11:33:38.862Z"
   },
   {
    "duration": 185,
    "start_time": "2023-01-31T11:33:38.867Z"
   },
   {
    "duration": 19,
    "start_time": "2023-01-31T11:33:39.054Z"
   },
   {
    "duration": 9,
    "start_time": "2023-01-31T11:33:39.075Z"
   },
   {
    "duration": 6,
    "start_time": "2023-01-31T11:33:39.085Z"
   },
   {
    "duration": 23,
    "start_time": "2023-01-31T11:33:39.092Z"
   },
   {
    "duration": 70,
    "start_time": "2023-01-31T11:33:39.117Z"
   },
   {
    "duration": 60,
    "start_time": "2023-01-31T11:33:39.188Z"
   },
   {
    "duration": 7,
    "start_time": "2023-01-31T11:33:39.250Z"
   },
   {
    "duration": 92,
    "start_time": "2023-01-31T11:33:39.259Z"
   },
   {
    "duration": 8,
    "start_time": "2023-01-31T11:33:39.353Z"
   },
   {
    "duration": 29,
    "start_time": "2023-01-31T11:33:39.363Z"
   },
   {
    "duration": 2,
    "start_time": "2023-01-31T11:33:39.394Z"
   },
   {
    "duration": 67,
    "start_time": "2023-01-31T11:33:39.398Z"
   },
   {
    "duration": 4,
    "start_time": "2023-01-31T11:33:39.467Z"
   },
   {
    "duration": 21,
    "start_time": "2023-01-31T11:33:39.473Z"
   },
   {
    "duration": 91,
    "start_time": "2023-01-31T11:34:00.055Z"
   },
   {
    "duration": 5,
    "start_time": "2023-01-31T11:37:17.978Z"
   },
   {
    "duration": 6,
    "start_time": "2023-01-31T11:39:19.708Z"
   },
   {
    "duration": 4,
    "start_time": "2023-01-31T11:40:49.120Z"
   },
   {
    "duration": 8,
    "start_time": "2023-01-31T11:41:01.814Z"
   },
   {
    "duration": 7,
    "start_time": "2023-01-31T11:41:22.893Z"
   },
   {
    "duration": 6,
    "start_time": "2023-01-31T11:41:31.940Z"
   },
   {
    "duration": 7,
    "start_time": "2023-01-31T11:41:39.905Z"
   },
   {
    "duration": 18,
    "start_time": "2023-01-31T11:51:40.722Z"
   },
   {
    "duration": 29,
    "start_time": "2023-01-31T11:52:04.361Z"
   },
   {
    "duration": 15,
    "start_time": "2023-01-31T11:52:22.474Z"
   },
   {
    "duration": 22,
    "start_time": "2023-01-31T11:52:23.504Z"
   },
   {
    "duration": 16,
    "start_time": "2023-01-31T11:55:14.809Z"
   },
   {
    "duration": 18,
    "start_time": "2023-01-31T11:55:15.395Z"
   },
   {
    "duration": 547,
    "start_time": "2023-01-31T11:59:04.490Z"
   },
   {
    "duration": 450,
    "start_time": "2023-01-31T11:59:39.649Z"
   },
   {
    "duration": 478,
    "start_time": "2023-01-31T12:01:38.480Z"
   },
   {
    "duration": 474,
    "start_time": "2023-01-31T12:01:53.521Z"
   },
   {
    "duration": 265,
    "start_time": "2023-01-31T12:03:00.671Z"
   },
   {
    "duration": 450,
    "start_time": "2023-01-31T12:03:25.341Z"
   },
   {
    "duration": 489,
    "start_time": "2023-01-31T12:07:58.823Z"
   },
   {
    "duration": 654,
    "start_time": "2023-01-31T12:09:12.752Z"
   },
   {
    "duration": 503,
    "start_time": "2023-01-31T12:10:28.993Z"
   },
   {
    "duration": 506,
    "start_time": "2023-01-31T12:11:24.982Z"
   },
   {
    "duration": 493,
    "start_time": "2023-01-31T12:11:50.877Z"
   },
   {
    "duration": 485,
    "start_time": "2023-01-31T12:12:14.205Z"
   },
   {
    "duration": 486,
    "start_time": "2023-01-31T12:12:32.904Z"
   },
   {
    "duration": 546,
    "start_time": "2023-01-31T12:25:07.333Z"
   },
   {
    "duration": 484,
    "start_time": "2023-01-31T12:25:45.484Z"
   },
   {
    "duration": 4,
    "start_time": "2023-01-31T12:33:47.392Z"
   },
   {
    "duration": 280,
    "start_time": "2023-01-31T12:34:12.291Z"
   },
   {
    "duration": 4,
    "start_time": "2023-01-31T12:34:46.151Z"
   },
   {
    "duration": 46,
    "start_time": "2023-01-31T12:37:16.253Z"
   },
   {
    "duration": 419,
    "start_time": "2023-01-31T12:37:43.685Z"
   },
   {
    "duration": 303,
    "start_time": "2023-01-31T12:38:22.742Z"
   },
   {
    "duration": 17,
    "start_time": "2023-01-31T12:38:36.654Z"
   },
   {
    "duration": 693,
    "start_time": "2023-01-31T12:38:43.025Z"
   },
   {
    "duration": 14,
    "start_time": "2023-01-31T12:40:06.632Z"
   },
   {
    "duration": 333,
    "start_time": "2023-01-31T12:40:22.370Z"
   },
   {
    "duration": 494,
    "start_time": "2023-01-31T12:42:16.924Z"
   },
   {
    "duration": 88,
    "start_time": "2023-01-31T12:44:22.665Z"
   },
   {
    "duration": 70,
    "start_time": "2023-01-31T12:44:27.319Z"
   },
   {
    "duration": 82,
    "start_time": "2023-01-31T12:46:07.929Z"
   },
   {
    "duration": 70,
    "start_time": "2023-01-31T12:46:27.833Z"
   },
   {
    "duration": 95,
    "start_time": "2023-01-31T12:46:52.385Z"
   },
   {
    "duration": 112,
    "start_time": "2023-01-31T12:46:57.987Z"
   },
   {
    "duration": 521,
    "start_time": "2023-01-31T12:50:10.788Z"
   },
   {
    "duration": 5,
    "start_time": "2023-01-31T12:51:27.251Z"
   },
   {
    "duration": 169,
    "start_time": "2023-01-31T12:51:27.259Z"
   },
   {
    "duration": 21,
    "start_time": "2023-01-31T12:51:27.430Z"
   },
   {
    "duration": 10,
    "start_time": "2023-01-31T12:51:27.452Z"
   },
   {
    "duration": 4,
    "start_time": "2023-01-31T12:51:27.465Z"
   },
   {
    "duration": 17,
    "start_time": "2023-01-31T12:51:27.470Z"
   },
   {
    "duration": 65,
    "start_time": "2023-01-31T12:51:27.488Z"
   },
   {
    "duration": 64,
    "start_time": "2023-01-31T12:51:27.555Z"
   },
   {
    "duration": 7,
    "start_time": "2023-01-31T12:51:27.620Z"
   },
   {
    "duration": 83,
    "start_time": "2023-01-31T12:51:27.629Z"
   },
   {
    "duration": 8,
    "start_time": "2023-01-31T12:51:27.714Z"
   },
   {
    "duration": 46,
    "start_time": "2023-01-31T12:51:27.723Z"
   },
   {
    "duration": 7,
    "start_time": "2023-01-31T12:51:27.770Z"
   },
   {
    "duration": 56,
    "start_time": "2023-01-31T12:51:27.779Z"
   },
   {
    "duration": 28,
    "start_time": "2023-01-31T12:51:27.837Z"
   },
   {
    "duration": 16,
    "start_time": "2023-01-31T12:51:27.866Z"
   },
   {
    "duration": 23,
    "start_time": "2023-01-31T12:51:27.884Z"
   },
   {
    "duration": 476,
    "start_time": "2023-01-31T12:51:27.909Z"
   },
   {
    "duration": 550,
    "start_time": "2023-01-31T12:51:28.387Z"
   },
   {
    "duration": 521,
    "start_time": "2023-01-31T12:56:18.013Z"
   },
   {
    "duration": 355,
    "start_time": "2023-01-31T12:56:43.072Z"
   },
   {
    "duration": 447,
    "start_time": "2023-01-31T12:58:02.803Z"
   },
   {
    "duration": 8,
    "start_time": "2023-01-31T13:06:20.454Z"
   },
   {
    "duration": 10,
    "start_time": "2023-01-31T13:06:29.298Z"
   },
   {
    "duration": 8,
    "start_time": "2023-01-31T13:07:05.169Z"
   },
   {
    "duration": 1448,
    "start_time": "2023-01-31T13:07:51.648Z"
   },
   {
    "duration": 316,
    "start_time": "2023-01-31T13:08:03.561Z"
   },
   {
    "duration": 5,
    "start_time": "2023-01-31T13:48:28.648Z"
   },
   {
    "duration": 153,
    "start_time": "2023-01-31T13:48:28.693Z"
   },
   {
    "duration": 19,
    "start_time": "2023-01-31T13:48:28.849Z"
   },
   {
    "duration": 9,
    "start_time": "2023-01-31T13:48:28.870Z"
   },
   {
    "duration": 7,
    "start_time": "2023-01-31T13:48:28.881Z"
   },
   {
    "duration": 21,
    "start_time": "2023-01-31T13:48:28.891Z"
   },
   {
    "duration": 68,
    "start_time": "2023-01-31T13:48:28.913Z"
   },
   {
    "duration": 69,
    "start_time": "2023-01-31T13:48:28.983Z"
   },
   {
    "duration": 7,
    "start_time": "2023-01-31T13:48:29.053Z"
   },
   {
    "duration": 81,
    "start_time": "2023-01-31T13:48:29.061Z"
   },
   {
    "duration": 10,
    "start_time": "2023-01-31T13:48:29.148Z"
   },
   {
    "duration": 46,
    "start_time": "2023-01-31T13:48:29.160Z"
   },
   {
    "duration": 3,
    "start_time": "2023-01-31T13:48:29.207Z"
   },
   {
    "duration": 75,
    "start_time": "2023-01-31T13:48:29.211Z"
   },
   {
    "duration": 6,
    "start_time": "2023-01-31T13:48:29.288Z"
   },
   {
    "duration": 23,
    "start_time": "2023-01-31T13:48:29.296Z"
   },
   {
    "duration": 27,
    "start_time": "2023-01-31T13:48:29.320Z"
   },
   {
    "duration": 523,
    "start_time": "2023-01-31T13:48:29.349Z"
   },
   {
    "duration": 352,
    "start_time": "2023-01-31T13:48:29.874Z"
   },
   {
    "duration": 12,
    "start_time": "2023-01-31T14:00:07.642Z"
   },
   {
    "duration": 336,
    "start_time": "2023-01-31T14:00:26.336Z"
   },
   {
    "duration": 9,
    "start_time": "2023-01-31T14:10:14.860Z"
   },
   {
    "duration": 282,
    "start_time": "2023-01-31T14:10:29.725Z"
   },
   {
    "duration": 298,
    "start_time": "2023-01-31T14:19:54.442Z"
   },
   {
    "duration": 9,
    "start_time": "2023-01-31T14:22:12.735Z"
   },
   {
    "duration": 18,
    "start_time": "2023-01-31T14:31:20.205Z"
   },
   {
    "duration": 280,
    "start_time": "2023-01-31T14:33:08.011Z"
   },
   {
    "duration": 310,
    "start_time": "2023-01-31T14:40:30.704Z"
   },
   {
    "duration": 9,
    "start_time": "2023-01-31T14:44:45.679Z"
   },
   {
    "duration": 424,
    "start_time": "2023-01-31T14:45:05.337Z"
   },
   {
    "duration": 509,
    "start_time": "2023-01-31T14:48:24.356Z"
   },
   {
    "duration": 346,
    "start_time": "2023-01-31T14:50:09.141Z"
   },
   {
    "duration": 313,
    "start_time": "2023-01-31T14:50:25.753Z"
   },
   {
    "duration": 6,
    "start_time": "2023-01-31T14:53:51.341Z"
   },
   {
    "duration": 6,
    "start_time": "2023-01-31T14:55:16.578Z"
   },
   {
    "duration": 70,
    "start_time": "2023-01-31T14:55:17.231Z"
   },
   {
    "duration": 296,
    "start_time": "2023-01-31T14:55:23.209Z"
   },
   {
    "duration": 5,
    "start_time": "2023-01-31T14:57:24.369Z"
   },
   {
    "duration": 12,
    "start_time": "2023-01-31T15:02:14.300Z"
   },
   {
    "duration": 5,
    "start_time": "2023-01-31T15:02:16.106Z"
   },
   {
    "duration": 14,
    "start_time": "2023-01-31T15:02:24.386Z"
   },
   {
    "duration": 26,
    "start_time": "2023-01-31T15:02:31.314Z"
   },
   {
    "duration": 9,
    "start_time": "2023-01-31T15:04:21.844Z"
   },
   {
    "duration": 5,
    "start_time": "2023-01-31T15:04:39.305Z"
   },
   {
    "duration": 4,
    "start_time": "2023-01-31T15:04:55.837Z"
   },
   {
    "duration": 160,
    "start_time": "2023-01-31T15:04:55.843Z"
   },
   {
    "duration": 20,
    "start_time": "2023-01-31T15:04:56.005Z"
   },
   {
    "duration": 10,
    "start_time": "2023-01-31T15:04:56.027Z"
   },
   {
    "duration": 3,
    "start_time": "2023-01-31T15:04:56.049Z"
   },
   {
    "duration": 20,
    "start_time": "2023-01-31T15:04:56.054Z"
   },
   {
    "duration": 55,
    "start_time": "2023-01-31T15:04:56.076Z"
   },
   {
    "duration": 59,
    "start_time": "2023-01-31T15:04:56.148Z"
   },
   {
    "duration": 7,
    "start_time": "2023-01-31T15:04:56.209Z"
   },
   {
    "duration": 7,
    "start_time": "2023-01-31T15:04:56.218Z"
   },
   {
    "duration": 85,
    "start_time": "2023-01-31T15:04:56.226Z"
   },
   {
    "duration": 9,
    "start_time": "2023-01-31T15:04:56.313Z"
   },
   {
    "duration": 41,
    "start_time": "2023-01-31T15:04:56.324Z"
   },
   {
    "duration": 3,
    "start_time": "2023-01-31T15:04:56.368Z"
   },
   {
    "duration": 57,
    "start_time": "2023-01-31T15:04:56.372Z"
   },
   {
    "duration": 21,
    "start_time": "2023-01-31T15:04:56.430Z"
   },
   {
    "duration": 36,
    "start_time": "2023-01-31T15:04:56.453Z"
   },
   {
    "duration": 32,
    "start_time": "2023-01-31T15:04:56.491Z"
   },
   {
    "duration": 580,
    "start_time": "2023-01-31T15:04:56.525Z"
   },
   {
    "duration": 10,
    "start_time": "2023-01-31T15:04:57.107Z"
   },
   {
    "duration": 12,
    "start_time": "2023-01-31T15:04:57.119Z"
   },
   {
    "duration": 22,
    "start_time": "2023-01-31T15:04:57.133Z"
   },
   {
    "duration": 10,
    "start_time": "2023-01-31T15:04:57.156Z"
   },
   {
    "duration": 21,
    "start_time": "2023-01-31T15:04:57.167Z"
   },
   {
    "duration": 6,
    "start_time": "2023-01-31T15:05:39.114Z"
   },
   {
    "duration": 6,
    "start_time": "2023-01-31T15:05:58.372Z"
   },
   {
    "duration": 31,
    "start_time": "2023-01-31T15:06:05.707Z"
   },
   {
    "duration": 5,
    "start_time": "2023-01-31T15:06:06.396Z"
   },
   {
    "duration": 86,
    "start_time": "2023-01-31T15:06:07.793Z"
   },
   {
    "duration": 8,
    "start_time": "2023-01-31T15:06:10.847Z"
   },
   {
    "duration": 7,
    "start_time": "2023-01-31T15:06:16.358Z"
   },
   {
    "duration": 6,
    "start_time": "2023-01-31T15:06:17.275Z"
   },
   {
    "duration": 10,
    "start_time": "2023-01-31T15:07:12.848Z"
   },
   {
    "duration": 6,
    "start_time": "2023-01-31T15:07:15.333Z"
   },
   {
    "duration": 6,
    "start_time": "2023-01-31T15:07:16.699Z"
   },
   {
    "duration": 299,
    "start_time": "2023-01-31T15:07:21.354Z"
   },
   {
    "duration": 10,
    "start_time": "2023-01-31T15:07:26.207Z"
   },
   {
    "duration": 5,
    "start_time": "2023-01-31T15:07:28.603Z"
   },
   {
    "duration": 3,
    "start_time": "2023-01-31T15:07:37.515Z"
   },
   {
    "duration": 7,
    "start_time": "2023-01-31T15:07:38.702Z"
   },
   {
    "duration": 25,
    "start_time": "2023-01-31T15:07:40.645Z"
   },
   {
    "duration": 251,
    "start_time": "2023-01-31T15:11:52.415Z"
   },
   {
    "duration": 4,
    "start_time": "2023-01-31T15:12:35.506Z"
   },
   {
    "duration": 169,
    "start_time": "2023-01-31T15:12:35.513Z"
   },
   {
    "duration": 21,
    "start_time": "2023-01-31T15:12:35.684Z"
   },
   {
    "duration": 35,
    "start_time": "2023-01-31T15:12:35.707Z"
   },
   {
    "duration": 11,
    "start_time": "2023-01-31T15:12:35.746Z"
   },
   {
    "duration": 28,
    "start_time": "2023-01-31T15:12:35.759Z"
   },
   {
    "duration": 55,
    "start_time": "2023-01-31T15:12:35.789Z"
   },
   {
    "duration": 70,
    "start_time": "2023-01-31T15:12:35.846Z"
   },
   {
    "duration": 8,
    "start_time": "2023-01-31T15:12:35.917Z"
   },
   {
    "duration": 23,
    "start_time": "2023-01-31T15:12:35.926Z"
   },
   {
    "duration": 74,
    "start_time": "2023-01-31T15:12:35.951Z"
   },
   {
    "duration": 9,
    "start_time": "2023-01-31T15:12:36.027Z"
   },
   {
    "duration": 7,
    "start_time": "2023-01-31T15:12:36.050Z"
   },
   {
    "duration": 32,
    "start_time": "2023-01-31T15:12:36.058Z"
   },
   {
    "duration": 2,
    "start_time": "2023-01-31T15:12:36.092Z"
   },
   {
    "duration": 71,
    "start_time": "2023-01-31T15:12:36.095Z"
   },
   {
    "duration": 5,
    "start_time": "2023-01-31T15:12:36.168Z"
   },
   {
    "duration": 27,
    "start_time": "2023-01-31T15:12:36.174Z"
   },
   {
    "duration": 22,
    "start_time": "2023-01-31T15:12:36.203Z"
   },
   {
    "duration": 454,
    "start_time": "2023-01-31T15:12:36.226Z"
   },
   {
    "duration": 8,
    "start_time": "2023-01-31T15:12:36.682Z"
   },
   {
    "duration": 17,
    "start_time": "2023-01-31T15:12:36.691Z"
   },
   {
    "duration": 12,
    "start_time": "2023-01-31T15:12:36.710Z"
   },
   {
    "duration": 16,
    "start_time": "2023-01-31T15:12:36.724Z"
   },
   {
    "duration": 359,
    "start_time": "2023-01-31T15:12:36.742Z"
   },
   {
    "duration": 11,
    "start_time": "2023-01-31T15:13:55.642Z"
   },
   {
    "duration": 72,
    "start_time": "2023-01-31T15:13:58.497Z"
   },
   {
    "duration": 9,
    "start_time": "2023-01-31T15:13:59.854Z"
   },
   {
    "duration": 5,
    "start_time": "2023-01-31T15:14:04.188Z"
   },
   {
    "duration": 485,
    "start_time": "2023-01-31T15:20:14.422Z"
   },
   {
    "duration": 596,
    "start_time": "2023-01-31T15:20:31.880Z"
   },
   {
    "duration": 9,
    "start_time": "2023-01-31T15:21:03.631Z"
   },
   {
    "duration": 5,
    "start_time": "2023-01-31T15:21:10.869Z"
   },
   {
    "duration": 27,
    "start_time": "2023-01-31T15:21:57.353Z"
   },
   {
    "duration": 3,
    "start_time": "2023-01-31T15:22:24.751Z"
   },
   {
    "duration": 5,
    "start_time": "2023-01-31T15:22:54.263Z"
   },
   {
    "duration": 4,
    "start_time": "2023-01-31T15:23:36.287Z"
   },
   {
    "duration": 21,
    "start_time": "2023-01-31T15:24:26.327Z"
   },
   {
    "duration": 4,
    "start_time": "2023-01-31T15:24:31.761Z"
   },
   {
    "duration": 4,
    "start_time": "2023-01-31T15:25:54.319Z"
   },
   {
    "duration": 8,
    "start_time": "2023-01-31T15:26:13.786Z"
   },
   {
    "duration": 9,
    "start_time": "2023-01-31T15:27:03.271Z"
   },
   {
    "duration": 71,
    "start_time": "2023-01-31T15:27:35.711Z"
   },
   {
    "duration": 4,
    "start_time": "2023-01-31T15:28:05.589Z"
   },
   {
    "duration": 30,
    "start_time": "2023-01-31T15:29:36.470Z"
   },
   {
    "duration": 4,
    "start_time": "2023-01-31T15:29:37.382Z"
   },
   {
    "duration": 54,
    "start_time": "2023-01-31T15:30:29.411Z"
   },
   {
    "duration": 4,
    "start_time": "2023-01-31T15:30:30.672Z"
   },
   {
    "duration": 28,
    "start_time": "2023-01-31T15:30:42.128Z"
   },
   {
    "duration": 9,
    "start_time": "2023-01-31T15:32:02.683Z"
   },
   {
    "duration": 6,
    "start_time": "2023-01-31T15:32:16.609Z"
   },
   {
    "duration": 9,
    "start_time": "2023-01-31T15:32:32.820Z"
   },
   {
    "duration": 9,
    "start_time": "2023-01-31T15:33:37.385Z"
   },
   {
    "duration": 5,
    "start_time": "2023-01-31T15:34:59.413Z"
   },
   {
    "duration": 3,
    "start_time": "2023-01-31T15:35:11.035Z"
   },
   {
    "duration": 164,
    "start_time": "2023-01-31T15:35:11.040Z"
   },
   {
    "duration": 19,
    "start_time": "2023-01-31T15:35:11.206Z"
   },
   {
    "duration": 10,
    "start_time": "2023-01-31T15:35:11.454Z"
   },
   {
    "duration": 9,
    "start_time": "2023-01-31T15:35:11.466Z"
   },
   {
    "duration": 19,
    "start_time": "2023-01-31T15:35:11.476Z"
   },
   {
    "duration": 58,
    "start_time": "2023-01-31T15:35:11.497Z"
   },
   {
    "duration": 63,
    "start_time": "2023-01-31T15:35:11.557Z"
   },
   {
    "duration": 6,
    "start_time": "2023-01-31T15:35:11.622Z"
   },
   {
    "duration": 64,
    "start_time": "2023-01-31T15:35:12.165Z"
   },
   {
    "duration": 21,
    "start_time": "2023-01-31T15:35:12.231Z"
   },
   {
    "duration": 27,
    "start_time": "2023-01-31T15:35:12.254Z"
   },
   {
    "duration": 2,
    "start_time": "2023-01-31T15:35:12.283Z"
   },
   {
    "duration": 61,
    "start_time": "2023-01-31T15:35:12.288Z"
   },
   {
    "duration": 6,
    "start_time": "2023-01-31T15:35:12.351Z"
   },
   {
    "duration": 45,
    "start_time": "2023-01-31T15:35:12.359Z"
   },
   {
    "duration": 18,
    "start_time": "2023-01-31T15:35:12.510Z"
   },
   {
    "duration": 479,
    "start_time": "2023-01-31T15:35:12.530Z"
   },
   {
    "duration": 9,
    "start_time": "2023-01-31T15:35:13.011Z"
   },
   {
    "duration": 14,
    "start_time": "2023-01-31T15:35:13.022Z"
   },
   {
    "duration": 11,
    "start_time": "2023-01-31T15:35:13.038Z"
   },
   {
    "duration": 30,
    "start_time": "2023-01-31T15:35:13.050Z"
   },
   {
    "duration": 3,
    "start_time": "2023-01-31T15:35:13.082Z"
   },
   {
    "duration": 18,
    "start_time": "2023-01-31T15:36:23.349Z"
   },
   {
    "duration": 3,
    "start_time": "2023-01-31T15:36:29.029Z"
   },
   {
    "duration": 167,
    "start_time": "2023-01-31T15:36:29.035Z"
   },
   {
    "duration": 20,
    "start_time": "2023-01-31T15:36:29.203Z"
   },
   {
    "duration": 23,
    "start_time": "2023-01-31T15:36:29.225Z"
   },
   {
    "duration": 3,
    "start_time": "2023-01-31T15:36:29.251Z"
   },
   {
    "duration": 22,
    "start_time": "2023-01-31T15:36:29.256Z"
   },
   {
    "duration": 55,
    "start_time": "2023-01-31T15:36:29.280Z"
   },
   {
    "duration": 78,
    "start_time": "2023-01-31T15:36:29.337Z"
   },
   {
    "duration": 7,
    "start_time": "2023-01-31T15:36:29.417Z"
   },
   {
    "duration": 96,
    "start_time": "2023-01-31T15:36:29.426Z"
   },
   {
    "duration": 14,
    "start_time": "2023-01-31T15:36:29.525Z"
   },
   {
    "duration": 26,
    "start_time": "2023-01-31T15:36:29.540Z"
   },
   {
    "duration": 2,
    "start_time": "2023-01-31T15:36:29.567Z"
   },
   {
    "duration": 53,
    "start_time": "2023-01-31T15:36:29.572Z"
   },
   {
    "duration": 5,
    "start_time": "2023-01-31T15:36:29.627Z"
   },
   {
    "duration": 29,
    "start_time": "2023-01-31T15:36:29.634Z"
   },
   {
    "duration": 17,
    "start_time": "2023-01-31T15:36:29.665Z"
   },
   {
    "duration": 527,
    "start_time": "2023-01-31T15:36:29.684Z"
   },
   {
    "duration": 9,
    "start_time": "2023-01-31T15:36:30.213Z"
   },
   {
    "duration": 20,
    "start_time": "2023-01-31T15:36:30.224Z"
   },
   {
    "duration": 47,
    "start_time": "2023-01-31T15:36:30.246Z"
   },
   {
    "duration": 55,
    "start_time": "2023-01-31T15:36:30.295Z"
   },
   {
    "duration": 9,
    "start_time": "2023-01-31T15:36:30.352Z"
   },
   {
    "duration": 5,
    "start_time": "2023-01-31T15:48:49.269Z"
   },
   {
    "duration": 4,
    "start_time": "2023-01-31T15:55:00.448Z"
   },
   {
    "duration": 176,
    "start_time": "2023-01-31T15:55:00.455Z"
   },
   {
    "duration": 19,
    "start_time": "2023-01-31T15:55:00.633Z"
   },
   {
    "duration": 48,
    "start_time": "2023-01-31T15:55:00.654Z"
   },
   {
    "duration": 18,
    "start_time": "2023-01-31T15:55:00.704Z"
   },
   {
    "duration": 46,
    "start_time": "2023-01-31T15:55:00.724Z"
   },
   {
    "duration": 81,
    "start_time": "2023-01-31T15:55:00.772Z"
   },
   {
    "duration": 62,
    "start_time": "2023-01-31T15:55:00.855Z"
   },
   {
    "duration": 7,
    "start_time": "2023-01-31T15:55:00.920Z"
   },
   {
    "duration": 98,
    "start_time": "2023-01-31T15:55:00.929Z"
   },
   {
    "duration": 12,
    "start_time": "2023-01-31T15:55:01.029Z"
   },
   {
    "duration": 51,
    "start_time": "2023-01-31T15:55:01.042Z"
   },
   {
    "duration": 12,
    "start_time": "2023-01-31T15:55:01.095Z"
   },
   {
    "duration": 87,
    "start_time": "2023-01-31T15:55:01.110Z"
   },
   {
    "duration": 7,
    "start_time": "2023-01-31T15:55:01.198Z"
   },
   {
    "duration": 35,
    "start_time": "2023-01-31T15:55:01.207Z"
   },
   {
    "duration": 39,
    "start_time": "2023-01-31T15:55:01.243Z"
   },
   {
    "duration": 526,
    "start_time": "2023-01-31T15:55:01.284Z"
   },
   {
    "duration": 4,
    "start_time": "2023-01-31T15:55:01.812Z"
   },
   {
    "duration": 31,
    "start_time": "2023-01-31T15:55:01.818Z"
   },
   {
    "duration": 4,
    "start_time": "2023-01-31T15:55:01.851Z"
   },
   {
    "duration": 72,
    "start_time": "2023-01-31T16:05:19.382Z"
   },
   {
    "duration": 73,
    "start_time": "2023-01-31T16:06:09.184Z"
   },
   {
    "duration": 7,
    "start_time": "2023-01-31T16:09:24.742Z"
   },
   {
    "duration": 7,
    "start_time": "2023-01-31T16:09:59.064Z"
   },
   {
    "duration": 11,
    "start_time": "2023-01-31T16:11:06.913Z"
   },
   {
    "duration": 7,
    "start_time": "2023-01-31T16:14:39.109Z"
   },
   {
    "duration": 18,
    "start_time": "2023-01-31T16:24:25.569Z"
   },
   {
    "duration": 15,
    "start_time": "2023-01-31T16:25:30.737Z"
   },
   {
    "duration": 11,
    "start_time": "2023-01-31T16:25:40.004Z"
   },
   {
    "duration": 4,
    "start_time": "2023-01-31T16:25:48.200Z"
   },
   {
    "duration": 4,
    "start_time": "2023-01-31T16:26:20.541Z"
   },
   {
    "duration": 12,
    "start_time": "2023-01-31T16:26:25.374Z"
   },
   {
    "duration": 31,
    "start_time": "2023-01-31T16:30:04.490Z"
   },
   {
    "duration": 33,
    "start_time": "2023-01-31T16:31:39.327Z"
   },
   {
    "duration": 56,
    "start_time": "2023-01-31T16:39:29.495Z"
   },
   {
    "duration": 42,
    "start_time": "2023-01-31T16:54:25.409Z"
   },
   {
    "duration": 41,
    "start_time": "2023-01-31T16:54:35.639Z"
   },
   {
    "duration": 41,
    "start_time": "2023-01-31T16:55:12.466Z"
   },
   {
    "duration": 44,
    "start_time": "2023-01-31T16:56:34.982Z"
   },
   {
    "duration": 41,
    "start_time": "2023-01-31T16:56:52.623Z"
   },
   {
    "duration": 34,
    "start_time": "2023-01-31T16:57:21.140Z"
   },
   {
    "duration": 33,
    "start_time": "2023-01-31T17:01:54.139Z"
   },
   {
    "duration": 32,
    "start_time": "2023-01-31T17:02:04.311Z"
   },
   {
    "duration": 57,
    "start_time": "2023-01-31T17:03:25.600Z"
   },
   {
    "duration": 63,
    "start_time": "2023-01-31T17:03:46.947Z"
   },
   {
    "duration": 69,
    "start_time": "2023-01-31T17:04:55.161Z"
   },
   {
    "duration": 20,
    "start_time": "2023-01-31T17:05:44.184Z"
   },
   {
    "duration": 10,
    "start_time": "2023-01-31T17:10:30.567Z"
   },
   {
    "duration": 15,
    "start_time": "2023-01-31T17:10:46.567Z"
   },
   {
    "duration": 33,
    "start_time": "2023-01-31T17:11:34.324Z"
   },
   {
    "duration": 28,
    "start_time": "2023-01-31T17:12:44.223Z"
   },
   {
    "duration": 31,
    "start_time": "2023-01-31T17:12:57.347Z"
   },
   {
    "duration": 78,
    "start_time": "2023-01-31T17:15:53.454Z"
   },
   {
    "duration": 68,
    "start_time": "2023-01-31T17:16:25.674Z"
   },
   {
    "duration": 3,
    "start_time": "2023-01-31T17:17:19.636Z"
   },
   {
    "duration": 4,
    "start_time": "2023-01-31T17:17:42.326Z"
   },
   {
    "duration": 1345,
    "start_time": "2023-01-31T17:17:56.192Z"
   },
   {
    "duration": 1306,
    "start_time": "2023-01-31T17:18:44.399Z"
   },
   {
    "duration": 1217,
    "start_time": "2023-01-31T17:21:08.026Z"
   },
   {
    "duration": 1242,
    "start_time": "2023-01-31T17:21:37.220Z"
   },
   {
    "duration": 4,
    "start_time": "2023-01-31T17:22:12.035Z"
   },
   {
    "duration": 156,
    "start_time": "2023-01-31T17:22:12.041Z"
   },
   {
    "duration": 18,
    "start_time": "2023-01-31T17:22:12.198Z"
   },
   {
    "duration": 9,
    "start_time": "2023-01-31T17:22:12.218Z"
   },
   {
    "duration": 5,
    "start_time": "2023-01-31T17:22:12.228Z"
   },
   {
    "duration": 24,
    "start_time": "2023-01-31T17:22:12.234Z"
   },
   {
    "duration": 51,
    "start_time": "2023-01-31T17:22:12.260Z"
   },
   {
    "duration": 71,
    "start_time": "2023-01-31T17:22:12.313Z"
   },
   {
    "duration": 6,
    "start_time": "2023-01-31T17:22:12.386Z"
   },
   {
    "duration": 82,
    "start_time": "2023-01-31T17:22:12.395Z"
   },
   {
    "duration": 9,
    "start_time": "2023-01-31T17:22:12.478Z"
   },
   {
    "duration": 29,
    "start_time": "2023-01-31T17:22:12.489Z"
   },
   {
    "duration": 3,
    "start_time": "2023-01-31T17:22:12.520Z"
   },
   {
    "duration": 64,
    "start_time": "2023-01-31T17:22:12.524Z"
   },
   {
    "duration": 8,
    "start_time": "2023-01-31T17:22:12.590Z"
   },
   {
    "duration": 19,
    "start_time": "2023-01-31T17:22:12.600Z"
   },
   {
    "duration": 34,
    "start_time": "2023-01-31T17:22:12.621Z"
   },
   {
    "duration": 493,
    "start_time": "2023-01-31T17:22:12.657Z"
   },
   {
    "duration": 5,
    "start_time": "2023-01-31T17:22:13.152Z"
   },
   {
    "duration": 21,
    "start_time": "2023-01-31T17:22:13.159Z"
   },
   {
    "duration": 4,
    "start_time": "2023-01-31T17:22:13.182Z"
   },
   {
    "duration": 16,
    "start_time": "2023-01-31T17:22:13.188Z"
   },
   {
    "duration": 57,
    "start_time": "2023-01-31T17:22:13.206Z"
   },
   {
    "duration": 1363,
    "start_time": "2023-01-31T17:22:13.264Z"
   },
   {
    "duration": 0,
    "start_time": "2023-01-31T17:22:14.629Z"
   },
   {
    "duration": 0,
    "start_time": "2023-01-31T17:22:14.631Z"
   },
   {
    "duration": 0,
    "start_time": "2023-01-31T17:22:14.632Z"
   },
   {
    "duration": 1279,
    "start_time": "2023-01-31T17:22:44.384Z"
   },
   {
    "duration": 1258,
    "start_time": "2023-01-31T17:23:30.007Z"
   },
   {
    "duration": 2,
    "start_time": "2023-01-31T17:23:56.123Z"
   },
   {
    "duration": 8,
    "start_time": "2023-01-31T17:25:27.099Z"
   },
   {
    "duration": 9,
    "start_time": "2023-01-31T17:25:35.389Z"
   },
   {
    "duration": 6,
    "start_time": "2023-01-31T17:25:42.742Z"
   },
   {
    "duration": 1123,
    "start_time": "2023-01-31T17:26:12.371Z"
   },
   {
    "duration": 1247,
    "start_time": "2023-01-31T17:26:21.013Z"
   },
   {
    "duration": 6,
    "start_time": "2023-01-31T17:26:27.736Z"
   },
   {
    "duration": 1112,
    "start_time": "2023-01-31T17:27:26.915Z"
   },
   {
    "duration": 1225,
    "start_time": "2023-01-31T17:27:34.483Z"
   },
   {
    "duration": 6,
    "start_time": "2023-01-31T17:27:40.888Z"
   },
   {
    "duration": 9,
    "start_time": "2023-01-31T17:28:28.455Z"
   },
   {
    "duration": 11,
    "start_time": "2023-01-31T17:37:00.898Z"
   },
   {
    "duration": 5,
    "start_time": "2023-01-31T17:37:45.421Z"
   },
   {
    "duration": 4,
    "start_time": "2023-01-31T17:37:57.705Z"
   },
   {
    "duration": 5,
    "start_time": "2023-01-31T17:38:31.891Z"
   },
   {
    "duration": 4,
    "start_time": "2023-01-31T17:38:59.451Z"
   },
   {
    "duration": 5,
    "start_time": "2023-01-31T17:39:49.367Z"
   },
   {
    "duration": 4,
    "start_time": "2023-01-31T17:40:02.265Z"
   },
   {
    "duration": 4,
    "start_time": "2023-01-31T17:48:45.753Z"
   },
   {
    "duration": 5,
    "start_time": "2023-01-31T17:52:16.329Z"
   },
   {
    "duration": 5,
    "start_time": "2023-01-31T17:53:26.218Z"
   },
   {
    "duration": 5,
    "start_time": "2023-01-31T17:53:44.565Z"
   },
   {
    "duration": 4,
    "start_time": "2023-01-31T17:57:15.025Z"
   },
   {
    "duration": 55,
    "start_time": "2023-01-31T18:07:03.997Z"
   },
   {
    "duration": 4,
    "start_time": "2023-01-31T18:07:12.384Z"
   },
   {
    "duration": 168,
    "start_time": "2023-01-31T18:07:12.389Z"
   },
   {
    "duration": 19,
    "start_time": "2023-01-31T18:07:12.558Z"
   },
   {
    "duration": 9,
    "start_time": "2023-01-31T18:07:12.579Z"
   },
   {
    "duration": 4,
    "start_time": "2023-01-31T18:07:12.590Z"
   },
   {
    "duration": 19,
    "start_time": "2023-01-31T18:07:12.596Z"
   },
   {
    "duration": 70,
    "start_time": "2023-01-31T18:07:12.616Z"
   },
   {
    "duration": 66,
    "start_time": "2023-01-31T18:07:12.688Z"
   },
   {
    "duration": 6,
    "start_time": "2023-01-31T18:07:12.756Z"
   },
   {
    "duration": 66,
    "start_time": "2023-01-31T18:07:12.765Z"
   },
   {
    "duration": 23,
    "start_time": "2023-01-31T18:07:12.832Z"
   },
   {
    "duration": 25,
    "start_time": "2023-01-31T18:07:12.856Z"
   },
   {
    "duration": 2,
    "start_time": "2023-01-31T18:07:12.882Z"
   },
   {
    "duration": 68,
    "start_time": "2023-01-31T18:07:12.885Z"
   },
   {
    "duration": 5,
    "start_time": "2023-01-31T18:07:12.955Z"
   },
   {
    "duration": 28,
    "start_time": "2023-01-31T18:07:12.962Z"
   },
   {
    "duration": 17,
    "start_time": "2023-01-31T18:07:12.991Z"
   },
   {
    "duration": 492,
    "start_time": "2023-01-31T18:07:13.010Z"
   },
   {
    "duration": 5,
    "start_time": "2023-01-31T18:07:13.504Z"
   },
   {
    "duration": 25,
    "start_time": "2023-01-31T18:07:13.511Z"
   },
   {
    "duration": 14,
    "start_time": "2023-01-31T18:07:13.538Z"
   },
   {
    "duration": 61,
    "start_time": "2023-01-31T18:07:13.554Z"
   },
   {
    "duration": 12,
    "start_time": "2023-01-31T18:07:13.617Z"
   },
   {
    "duration": 37,
    "start_time": "2023-01-31T18:07:13.649Z"
   },
   {
    "duration": 5,
    "start_time": "2023-01-31T18:07:13.687Z"
   },
   {
    "duration": 8,
    "start_time": "2023-01-31T18:07:13.694Z"
   },
   {
    "duration": 11,
    "start_time": "2023-01-31T18:07:13.704Z"
   },
   {
    "duration": 72,
    "start_time": "2023-01-31T18:07:13.718Z"
   },
   {
    "duration": 57,
    "start_time": "2023-01-31T18:07:13.792Z"
   },
   {
    "duration": 2,
    "start_time": "2023-01-31T18:07:30.016Z"
   },
   {
    "duration": 29,
    "start_time": "2023-01-31T18:09:48.481Z"
   },
   {
    "duration": 8,
    "start_time": "2023-01-31T18:10:28.550Z"
   },
   {
    "duration": 4,
    "start_time": "2023-01-31T18:13:48.749Z"
   },
   {
    "duration": 6,
    "start_time": "2023-01-31T18:14:33.726Z"
   },
   {
    "duration": 9,
    "start_time": "2023-01-31T18:15:05.002Z"
   },
   {
    "duration": 6,
    "start_time": "2023-01-31T18:20:16.864Z"
   },
   {
    "duration": 14,
    "start_time": "2023-01-31T18:20:18.466Z"
   },
   {
    "duration": 5,
    "start_time": "2023-01-31T18:20:19.294Z"
   },
   {
    "duration": 61,
    "start_time": "2023-01-31T18:20:20.415Z"
   },
   {
    "duration": 6,
    "start_time": "2023-01-31T18:22:33.019Z"
   },
   {
    "duration": 5,
    "start_time": "2023-01-31T18:24:55.331Z"
   },
   {
    "duration": 4,
    "start_time": "2023-01-31T18:25:39.049Z"
   },
   {
    "duration": 4,
    "start_time": "2023-01-31T18:26:15.391Z"
   },
   {
    "duration": 11,
    "start_time": "2023-01-31T18:28:12.495Z"
   },
   {
    "duration": 10,
    "start_time": "2023-01-31T18:28:43.090Z"
   },
   {
    "duration": 4,
    "start_time": "2023-01-31T18:29:28.736Z"
   },
   {
    "duration": 167,
    "start_time": "2023-01-31T18:29:28.742Z"
   },
   {
    "duration": 19,
    "start_time": "2023-01-31T18:29:28.911Z"
   },
   {
    "duration": 29,
    "start_time": "2023-01-31T18:29:28.932Z"
   },
   {
    "duration": 24,
    "start_time": "2023-01-31T18:29:28.962Z"
   },
   {
    "duration": 22,
    "start_time": "2023-01-31T18:29:28.987Z"
   },
   {
    "duration": 55,
    "start_time": "2023-01-31T18:29:29.011Z"
   },
   {
    "duration": 61,
    "start_time": "2023-01-31T18:29:29.068Z"
   },
   {
    "duration": 29,
    "start_time": "2023-01-31T18:29:29.131Z"
   },
   {
    "duration": 69,
    "start_time": "2023-01-31T18:29:29.162Z"
   },
   {
    "duration": 11,
    "start_time": "2023-01-31T18:29:29.232Z"
   },
   {
    "duration": 51,
    "start_time": "2023-01-31T18:29:29.244Z"
   },
   {
    "duration": 2,
    "start_time": "2023-01-31T18:29:29.297Z"
   },
   {
    "duration": 63,
    "start_time": "2023-01-31T18:29:29.300Z"
   },
   {
    "duration": 8,
    "start_time": "2023-01-31T18:29:29.365Z"
   },
   {
    "duration": 16,
    "start_time": "2023-01-31T18:29:29.374Z"
   },
   {
    "duration": 21,
    "start_time": "2023-01-31T18:29:29.392Z"
   },
   {
    "duration": 558,
    "start_time": "2023-01-31T18:29:29.415Z"
   },
   {
    "duration": 6,
    "start_time": "2023-01-31T18:29:29.975Z"
   },
   {
    "duration": 27,
    "start_time": "2023-01-31T18:29:29.982Z"
   },
   {
    "duration": 3,
    "start_time": "2023-01-31T18:29:30.011Z"
   },
   {
    "duration": 21,
    "start_time": "2023-01-31T18:29:30.016Z"
   },
   {
    "duration": 23,
    "start_time": "2023-01-31T18:29:30.039Z"
   },
   {
    "duration": 44,
    "start_time": "2023-01-31T18:29:30.063Z"
   },
   {
    "duration": 5,
    "start_time": "2023-01-31T18:29:30.108Z"
   },
   {
    "duration": 29,
    "start_time": "2023-01-31T18:29:30.114Z"
   },
   {
    "duration": 31,
    "start_time": "2023-01-31T18:29:30.145Z"
   },
   {
    "duration": 58,
    "start_time": "2023-01-31T18:29:30.179Z"
   },
   {
    "duration": 2,
    "start_time": "2023-01-31T18:29:30.238Z"
   },
   {
    "duration": 5,
    "start_time": "2023-01-31T18:33:03.646Z"
   },
   {
    "duration": 5,
    "start_time": "2023-01-31T18:33:30.371Z"
   },
   {
    "duration": 5,
    "start_time": "2023-01-31T18:33:31.572Z"
   },
   {
    "duration": 5,
    "start_time": "2023-01-31T18:33:32.367Z"
   },
   {
    "duration": 11,
    "start_time": "2023-01-31T18:39:56.837Z"
   },
   {
    "duration": 8,
    "start_time": "2023-01-31T18:41:13.161Z"
   },
   {
    "duration": 5,
    "start_time": "2023-01-31T18:41:24.063Z"
   },
   {
    "duration": 162,
    "start_time": "2023-01-31T18:41:24.070Z"
   },
   {
    "duration": 19,
    "start_time": "2023-01-31T18:41:24.234Z"
   },
   {
    "duration": 10,
    "start_time": "2023-01-31T18:41:24.254Z"
   },
   {
    "duration": 4,
    "start_time": "2023-01-31T18:41:24.266Z"
   },
   {
    "duration": 16,
    "start_time": "2023-01-31T18:41:24.272Z"
   },
   {
    "duration": 68,
    "start_time": "2023-01-31T18:41:24.289Z"
   },
   {
    "duration": 58,
    "start_time": "2023-01-31T18:41:24.359Z"
   },
   {
    "duration": 7,
    "start_time": "2023-01-31T18:41:24.418Z"
   },
   {
    "duration": 80,
    "start_time": "2023-01-31T18:41:24.426Z"
   },
   {
    "duration": 9,
    "start_time": "2023-01-31T18:41:24.508Z"
   },
   {
    "duration": 39,
    "start_time": "2023-01-31T18:41:24.518Z"
   },
   {
    "duration": 2,
    "start_time": "2023-01-31T18:41:24.559Z"
   },
   {
    "duration": 56,
    "start_time": "2023-01-31T18:41:24.565Z"
   },
   {
    "duration": 6,
    "start_time": "2023-01-31T18:41:24.622Z"
   },
   {
    "duration": 21,
    "start_time": "2023-01-31T18:41:24.630Z"
   },
   {
    "duration": 16,
    "start_time": "2023-01-31T18:41:24.652Z"
   },
   {
    "duration": 19,
    "start_time": "2023-01-31T18:41:24.670Z"
   },
   {
    "duration": 497,
    "start_time": "2023-01-31T18:41:24.691Z"
   },
   {
    "duration": 4,
    "start_time": "2023-01-31T18:41:25.190Z"
   },
   {
    "duration": 22,
    "start_time": "2023-01-31T18:41:25.196Z"
   },
   {
    "duration": 4,
    "start_time": "2023-01-31T18:41:25.220Z"
   },
   {
    "duration": 8,
    "start_time": "2023-01-31T18:41:25.226Z"
   },
   {
    "duration": 11,
    "start_time": "2023-01-31T18:41:25.248Z"
   },
   {
    "duration": 32,
    "start_time": "2023-01-31T18:41:25.260Z"
   },
   {
    "duration": 4,
    "start_time": "2023-01-31T18:41:25.294Z"
   },
   {
    "duration": 37,
    "start_time": "2023-01-31T18:41:25.299Z"
   },
   {
    "duration": 7,
    "start_time": "2023-01-31T18:41:25.337Z"
   },
   {
    "duration": 55,
    "start_time": "2023-01-31T18:41:25.345Z"
   },
   {
    "duration": 2,
    "start_time": "2023-01-31T18:41:25.402Z"
   },
   {
    "duration": 4,
    "start_time": "2023-01-31T18:42:16.857Z"
   },
   {
    "duration": 5,
    "start_time": "2023-01-31T18:43:17.731Z"
   },
   {
    "duration": 9,
    "start_time": "2023-01-31T18:43:56.242Z"
   },
   {
    "duration": 5,
    "start_time": "2023-01-31T18:44:09.278Z"
   },
   {
    "duration": 5,
    "start_time": "2023-01-31T18:45:42.471Z"
   },
   {
    "duration": 4,
    "start_time": "2023-01-31T18:46:36.146Z"
   },
   {
    "duration": 8,
    "start_time": "2023-01-31T18:47:20.417Z"
   },
   {
    "duration": 8,
    "start_time": "2023-01-31T18:48:32.550Z"
   },
   {
    "duration": 8,
    "start_time": "2023-01-31T18:49:02.331Z"
   },
   {
    "duration": 8,
    "start_time": "2023-01-31T18:49:42.109Z"
   },
   {
    "duration": 7,
    "start_time": "2023-01-31T18:49:53.644Z"
   },
   {
    "duration": 4,
    "start_time": "2023-01-31T18:52:27.330Z"
   },
   {
    "duration": 151,
    "start_time": "2023-01-31T18:52:27.336Z"
   },
   {
    "duration": 19,
    "start_time": "2023-01-31T18:52:27.489Z"
   },
   {
    "duration": 10,
    "start_time": "2023-01-31T18:52:27.509Z"
   },
   {
    "duration": 5,
    "start_time": "2023-01-31T18:52:27.521Z"
   },
   {
    "duration": 29,
    "start_time": "2023-01-31T18:52:27.528Z"
   },
   {
    "duration": 51,
    "start_time": "2023-01-31T18:52:27.559Z"
   },
   {
    "duration": 84,
    "start_time": "2023-01-31T18:52:27.613Z"
   },
   {
    "duration": 6,
    "start_time": "2023-01-31T18:52:27.699Z"
   },
   {
    "duration": 79,
    "start_time": "2023-01-31T18:52:27.706Z"
   },
   {
    "duration": 9,
    "start_time": "2023-01-31T18:52:27.789Z"
   },
   {
    "duration": 26,
    "start_time": "2023-01-31T18:52:27.800Z"
   },
   {
    "duration": 21,
    "start_time": "2023-01-31T18:52:27.828Z"
   },
   {
    "duration": 7,
    "start_time": "2023-01-31T18:52:27.851Z"
   },
   {
    "duration": 66,
    "start_time": "2023-01-31T18:52:27.860Z"
   },
   {
    "duration": 8,
    "start_time": "2023-01-31T18:52:27.928Z"
   },
   {
    "duration": 21,
    "start_time": "2023-01-31T18:52:27.937Z"
   },
   {
    "duration": 16,
    "start_time": "2023-01-31T18:52:27.960Z"
   },
   {
    "duration": 506,
    "start_time": "2023-01-31T18:52:27.977Z"
   },
   {
    "duration": 5,
    "start_time": "2023-01-31T18:52:28.484Z"
   },
   {
    "duration": 23,
    "start_time": "2023-01-31T18:52:28.491Z"
   },
   {
    "duration": 4,
    "start_time": "2023-01-31T18:52:28.515Z"
   },
   {
    "duration": 7,
    "start_time": "2023-01-31T18:52:28.520Z"
   },
   {
    "duration": 25,
    "start_time": "2023-01-31T18:52:28.529Z"
   },
   {
    "duration": 30,
    "start_time": "2023-01-31T18:52:28.556Z"
   },
   {
    "duration": 4,
    "start_time": "2023-01-31T18:52:28.588Z"
   },
   {
    "duration": 6,
    "start_time": "2023-01-31T18:52:28.593Z"
   },
   {
    "duration": 6,
    "start_time": "2023-01-31T18:52:28.600Z"
   },
   {
    "duration": 79,
    "start_time": "2023-01-31T18:52:28.608Z"
   },
   {
    "duration": 3,
    "start_time": "2023-01-31T18:52:28.689Z"
   },
   {
    "duration": 16,
    "start_time": "2023-01-31T18:57:28.471Z"
   },
   {
    "duration": 8,
    "start_time": "2023-01-31T18:57:29.185Z"
   },
   {
    "duration": 8,
    "start_time": "2023-01-31T18:57:34.878Z"
   },
   {
    "duration": 15,
    "start_time": "2023-01-31T18:58:11.646Z"
   },
   {
    "duration": 9,
    "start_time": "2023-01-31T18:58:12.750Z"
   },
   {
    "duration": 14,
    "start_time": "2023-01-31T18:58:33.779Z"
   },
   {
    "duration": 4,
    "start_time": "2023-01-31T18:58:34.521Z"
   },
   {
    "duration": 4,
    "start_time": "2023-01-31T18:58:35.684Z"
   },
   {
    "duration": 74,
    "start_time": "2023-01-31T19:01:25.508Z"
   },
   {
    "duration": 81,
    "start_time": "2023-01-31T19:01:56.826Z"
   },
   {
    "duration": 104,
    "start_time": "2023-01-31T19:02:01.666Z"
   },
   {
    "duration": 72,
    "start_time": "2023-01-31T19:02:04.044Z"
   },
   {
    "duration": 3,
    "start_time": "2023-01-31T19:02:32.600Z"
   },
   {
    "duration": 154,
    "start_time": "2023-01-31T19:02:32.605Z"
   },
   {
    "duration": 18,
    "start_time": "2023-01-31T19:02:32.760Z"
   },
   {
    "duration": 10,
    "start_time": "2023-01-31T19:02:32.780Z"
   },
   {
    "duration": 3,
    "start_time": "2023-01-31T19:02:32.792Z"
   },
   {
    "duration": 23,
    "start_time": "2023-01-31T19:02:32.797Z"
   },
   {
    "duration": 66,
    "start_time": "2023-01-31T19:02:32.821Z"
   },
   {
    "duration": 71,
    "start_time": "2023-01-31T19:02:32.889Z"
   },
   {
    "duration": 6,
    "start_time": "2023-01-31T19:02:32.962Z"
   },
   {
    "duration": 64,
    "start_time": "2023-01-31T19:02:32.971Z"
   },
   {
    "duration": 18,
    "start_time": "2023-01-31T19:02:33.037Z"
   },
   {
    "duration": 26,
    "start_time": "2023-01-31T19:02:33.057Z"
   },
   {
    "duration": 2,
    "start_time": "2023-01-31T19:02:33.084Z"
   },
   {
    "duration": 8,
    "start_time": "2023-01-31T19:02:33.087Z"
   },
   {
    "duration": 73,
    "start_time": "2023-01-31T19:02:33.096Z"
   },
   {
    "duration": 7,
    "start_time": "2023-01-31T19:02:33.171Z"
   },
   {
    "duration": 18,
    "start_time": "2023-01-31T19:02:33.179Z"
   },
   {
    "duration": 20,
    "start_time": "2023-01-31T19:02:33.198Z"
   },
   {
    "duration": 520,
    "start_time": "2023-01-31T19:02:33.220Z"
   },
   {
    "duration": 10,
    "start_time": "2023-01-31T19:02:33.743Z"
   },
   {
    "duration": 26,
    "start_time": "2023-01-31T19:02:33.755Z"
   },
   {
    "duration": 4,
    "start_time": "2023-01-31T19:02:33.783Z"
   },
   {
    "duration": 12,
    "start_time": "2023-01-31T19:02:33.788Z"
   },
   {
    "duration": 13,
    "start_time": "2023-01-31T19:02:33.801Z"
   },
   {
    "duration": 46,
    "start_time": "2023-01-31T19:02:33.816Z"
   },
   {
    "duration": 4,
    "start_time": "2023-01-31T19:02:33.864Z"
   },
   {
    "duration": 7,
    "start_time": "2023-01-31T19:02:33.869Z"
   },
   {
    "duration": 10,
    "start_time": "2023-01-31T19:02:33.878Z"
   },
   {
    "duration": 70,
    "start_time": "2023-01-31T19:02:33.890Z"
   },
   {
    "duration": 3,
    "start_time": "2023-01-31T19:02:33.962Z"
   },
   {
    "duration": 13,
    "start_time": "2023-01-31T19:04:59.065Z"
   },
   {
    "duration": 26,
    "start_time": "2023-01-31T19:06:15.127Z"
   },
   {
    "duration": 53,
    "start_time": "2023-01-31T19:08:01.552Z"
   },
   {
    "duration": 4,
    "start_time": "2023-01-31T19:09:36.236Z"
   },
   {
    "duration": 63,
    "start_time": "2023-01-31T19:09:43.789Z"
   },
   {
    "duration": 7,
    "start_time": "2023-01-31T19:10:10.780Z"
   },
   {
    "duration": 15,
    "start_time": "2023-01-31T19:12:53.556Z"
   },
   {
    "duration": 8,
    "start_time": "2023-01-31T19:12:54.437Z"
   },
   {
    "duration": 13,
    "start_time": "2023-01-31T19:13:20.195Z"
   },
   {
    "duration": 4,
    "start_time": "2023-01-31T19:13:20.755Z"
   },
   {
    "duration": 5,
    "start_time": "2023-01-31T19:13:21.596Z"
   },
   {
    "duration": 1300,
    "start_time": "2023-02-01T07:32:56.167Z"
   },
   {
    "duration": 546,
    "start_time": "2023-02-01T07:32:57.469Z"
   },
   {
    "duration": 22,
    "start_time": "2023-02-01T07:32:58.017Z"
   },
   {
    "duration": 13,
    "start_time": "2023-02-01T07:32:58.041Z"
   },
   {
    "duration": 21,
    "start_time": "2023-02-01T07:32:58.057Z"
   },
   {
    "duration": 23,
    "start_time": "2023-02-01T07:32:58.080Z"
   },
   {
    "duration": 74,
    "start_time": "2023-02-01T07:32:58.106Z"
   },
   {
    "duration": 72,
    "start_time": "2023-02-01T07:32:58.182Z"
   },
   {
    "duration": 9,
    "start_time": "2023-02-01T07:32:58.256Z"
   },
   {
    "duration": 79,
    "start_time": "2023-02-01T07:32:58.266Z"
   },
   {
    "duration": 10,
    "start_time": "2023-02-01T07:32:58.347Z"
   },
   {
    "duration": 30,
    "start_time": "2023-02-01T07:32:58.359Z"
   },
   {
    "duration": 3,
    "start_time": "2023-02-01T07:32:58.390Z"
   },
   {
    "duration": 6,
    "start_time": "2023-02-01T07:32:58.395Z"
   },
   {
    "duration": 21,
    "start_time": "2023-02-01T07:32:58.403Z"
   },
   {
    "duration": 67,
    "start_time": "2023-02-01T07:32:58.425Z"
   },
   {
    "duration": 6,
    "start_time": "2023-02-01T07:32:58.494Z"
   },
   {
    "duration": 21,
    "start_time": "2023-02-01T07:32:58.502Z"
   },
   {
    "duration": 33,
    "start_time": "2023-02-01T07:32:58.524Z"
   },
   {
    "duration": 567,
    "start_time": "2023-02-01T07:32:58.559Z"
   },
   {
    "duration": 5,
    "start_time": "2023-02-01T07:32:59.127Z"
   },
   {
    "duration": 19,
    "start_time": "2023-02-01T07:32:59.144Z"
   },
   {
    "duration": 4,
    "start_time": "2023-02-01T07:32:59.165Z"
   },
   {
    "duration": 12,
    "start_time": "2023-02-01T07:32:59.170Z"
   },
   {
    "duration": 19,
    "start_time": "2023-02-01T07:32:59.183Z"
   },
   {
    "duration": 44,
    "start_time": "2023-02-01T07:32:59.203Z"
   },
   {
    "duration": 4,
    "start_time": "2023-02-01T07:32:59.248Z"
   },
   {
    "duration": 6,
    "start_time": "2023-02-01T07:32:59.254Z"
   },
   {
    "duration": 10,
    "start_time": "2023-02-01T07:32:59.262Z"
   },
   {
    "duration": 51,
    "start_time": "2023-02-01T07:32:59.273Z"
   },
   {
    "duration": 46,
    "start_time": "2023-02-01T10:20:17.131Z"
   },
   {
    "duration": 45,
    "start_time": "2023-02-01T10:20:35.077Z"
   },
   {
    "duration": 44,
    "start_time": "2023-02-01T10:20:42.579Z"
   },
   {
    "duration": 4,
    "start_time": "2023-02-01T10:21:01.141Z"
   },
   {
    "duration": 185,
    "start_time": "2023-02-01T10:21:01.147Z"
   },
   {
    "duration": 22,
    "start_time": "2023-02-01T10:21:01.334Z"
   },
   {
    "duration": 36,
    "start_time": "2023-02-01T10:21:01.358Z"
   },
   {
    "duration": 50,
    "start_time": "2023-02-01T10:21:01.396Z"
   },
   {
    "duration": 32,
    "start_time": "2023-02-01T10:21:01.448Z"
   },
   {
    "duration": 57,
    "start_time": "2023-02-01T10:21:01.481Z"
   },
   {
    "duration": 58,
    "start_time": "2023-02-01T10:21:01.539Z"
   },
   {
    "duration": 7,
    "start_time": "2023-02-01T10:21:01.599Z"
   },
   {
    "duration": 116,
    "start_time": "2023-02-01T10:21:01.608Z"
   },
   {
    "duration": 9,
    "start_time": "2023-02-01T10:21:01.728Z"
   },
   {
    "duration": 52,
    "start_time": "2023-02-01T10:21:01.739Z"
   },
   {
    "duration": 3,
    "start_time": "2023-02-01T10:21:01.793Z"
   },
   {
    "duration": 22,
    "start_time": "2023-02-01T10:21:01.798Z"
   },
   {
    "duration": 29,
    "start_time": "2023-02-01T10:21:01.821Z"
   },
   {
    "duration": 66,
    "start_time": "2023-02-01T10:21:01.851Z"
   },
   {
    "duration": 8,
    "start_time": "2023-02-01T10:21:01.919Z"
   },
   {
    "duration": 17,
    "start_time": "2023-02-01T10:21:01.928Z"
   },
   {
    "duration": 43,
    "start_time": "2023-02-01T10:21:01.947Z"
   },
   {
    "duration": 500,
    "start_time": "2023-02-01T10:21:01.991Z"
   },
   {
    "duration": 6,
    "start_time": "2023-02-01T10:21:02.493Z"
   },
   {
    "duration": 22,
    "start_time": "2023-02-01T10:21:02.500Z"
   },
   {
    "duration": 21,
    "start_time": "2023-02-01T10:21:02.523Z"
   },
   {
    "duration": 4,
    "start_time": "2023-02-01T10:21:02.545Z"
   },
   {
    "duration": 12,
    "start_time": "2023-02-01T10:21:02.550Z"
   },
   {
    "duration": 34,
    "start_time": "2023-02-01T10:21:02.563Z"
   },
   {
    "duration": 9,
    "start_time": "2023-02-01T10:21:02.598Z"
   },
   {
    "duration": 33,
    "start_time": "2023-02-01T10:21:02.609Z"
   },
   {
    "duration": 13,
    "start_time": "2023-02-01T10:21:02.644Z"
   },
   {
    "duration": 76,
    "start_time": "2023-02-01T10:21:02.659Z"
   },
   {
    "duration": 2,
    "start_time": "2023-02-01T10:21:02.737Z"
   },
   {
    "duration": 60,
    "start_time": "2023-02-01T10:21:34.838Z"
   },
   {
    "duration": 47,
    "start_time": "2023-02-01T10:21:52.779Z"
   },
   {
    "duration": 5,
    "start_time": "2023-02-01T10:21:58.792Z"
   },
   {
    "duration": 61,
    "start_time": "2023-02-01T10:22:01.145Z"
   },
   {
    "duration": 48,
    "start_time": "2023-02-01T10:22:26.557Z"
   },
   {
    "duration": 80,
    "start_time": "2023-02-01T10:22:54.591Z"
   },
   {
    "duration": 96,
    "start_time": "2023-02-01T10:36:27.736Z"
   },
   {
    "duration": 330,
    "start_time": "2023-02-01T10:36:47.409Z"
   },
   {
    "duration": 12,
    "start_time": "2023-02-01T10:37:14.498Z"
   },
   {
    "duration": 12,
    "start_time": "2023-02-01T10:38:09.962Z"
   },
   {
    "duration": 52,
    "start_time": "2023-02-01T10:38:28.765Z"
   },
   {
    "duration": 11,
    "start_time": "2023-02-01T10:38:31.899Z"
   },
   {
    "duration": 79,
    "start_time": "2023-02-01T10:40:28.125Z"
   },
   {
    "duration": 11,
    "start_time": "2023-02-01T10:40:35.460Z"
   },
   {
    "duration": 12,
    "start_time": "2023-02-01T10:40:55.399Z"
   },
   {
    "duration": 13,
    "start_time": "2023-02-01T10:41:13.400Z"
   },
   {
    "duration": 12,
    "start_time": "2023-02-01T10:41:34.094Z"
   },
   {
    "duration": 302,
    "start_time": "2023-02-01T10:42:03.515Z"
   },
   {
    "duration": 13,
    "start_time": "2023-02-01T10:44:26.911Z"
   },
   {
    "duration": 1194,
    "start_time": "2023-02-01T10:48:14.091Z"
   },
   {
    "duration": 1139,
    "start_time": "2023-02-01T10:48:23.026Z"
   },
   {
    "duration": 1175,
    "start_time": "2023-02-01T10:49:16.753Z"
   },
   {
    "duration": 4,
    "start_time": "2023-02-01T10:49:26.651Z"
   },
   {
    "duration": 163,
    "start_time": "2023-02-01T10:49:26.657Z"
   },
   {
    "duration": 24,
    "start_time": "2023-02-01T10:49:26.822Z"
   },
   {
    "duration": 10,
    "start_time": "2023-02-01T10:49:26.848Z"
   },
   {
    "duration": 12,
    "start_time": "2023-02-01T10:49:26.859Z"
   },
   {
    "duration": 26,
    "start_time": "2023-02-01T10:49:26.872Z"
   },
   {
    "duration": 72,
    "start_time": "2023-02-01T10:49:26.900Z"
   },
   {
    "duration": 49,
    "start_time": "2023-02-01T10:49:26.974Z"
   },
   {
    "duration": 19,
    "start_time": "2023-02-01T10:49:27.025Z"
   },
   {
    "duration": 68,
    "start_time": "2023-02-01T10:49:27.047Z"
   },
   {
    "duration": 10,
    "start_time": "2023-02-01T10:49:27.117Z"
   },
   {
    "duration": 45,
    "start_time": "2023-02-01T10:49:27.128Z"
   },
   {
    "duration": 3,
    "start_time": "2023-02-01T10:49:27.174Z"
   },
   {
    "duration": 12,
    "start_time": "2023-02-01T10:49:27.178Z"
   },
   {
    "duration": 9,
    "start_time": "2023-02-01T10:49:27.192Z"
   },
   {
    "duration": 81,
    "start_time": "2023-02-01T10:49:27.202Z"
   },
   {
    "duration": 12,
    "start_time": "2023-02-01T10:49:27.285Z"
   },
   {
    "duration": 27,
    "start_time": "2023-02-01T10:49:27.299Z"
   },
   {
    "duration": 37,
    "start_time": "2023-02-01T10:49:27.343Z"
   },
   {
    "duration": 520,
    "start_time": "2023-02-01T10:49:27.382Z"
   },
   {
    "duration": 5,
    "start_time": "2023-02-01T10:49:27.904Z"
   },
   {
    "duration": 44,
    "start_time": "2023-02-01T10:49:27.911Z"
   },
   {
    "duration": 5,
    "start_time": "2023-02-01T10:49:27.957Z"
   },
   {
    "duration": 9,
    "start_time": "2023-02-01T10:49:27.964Z"
   },
   {
    "duration": 23,
    "start_time": "2023-02-01T10:49:27.975Z"
   },
   {
    "duration": 31,
    "start_time": "2023-02-01T10:49:28.000Z"
   },
   {
    "duration": 12,
    "start_time": "2023-02-01T10:49:28.033Z"
   },
   {
    "duration": 9,
    "start_time": "2023-02-01T10:49:28.049Z"
   },
   {
    "duration": 7,
    "start_time": "2023-02-01T10:49:28.059Z"
   },
   {
    "duration": 55,
    "start_time": "2023-02-01T10:49:28.067Z"
   },
   {
    "duration": 27,
    "start_time": "2023-02-01T10:49:28.123Z"
   },
   {
    "duration": 314,
    "start_time": "2023-02-01T10:58:39.651Z"
   },
   {
    "duration": 1203,
    "start_time": "2023-02-01T10:59:12.117Z"
   },
   {
    "duration": 24,
    "start_time": "2023-02-01T10:59:33.886Z"
   },
   {
    "duration": 24,
    "start_time": "2023-02-01T10:59:48.733Z"
   },
   {
    "duration": 26,
    "start_time": "2023-02-01T11:02:42.176Z"
   },
   {
    "duration": 11,
    "start_time": "2023-02-01T11:08:01.822Z"
   },
   {
    "duration": 11,
    "start_time": "2023-02-01T11:08:24.484Z"
   },
   {
    "duration": 26,
    "start_time": "2023-02-01T11:08:55.409Z"
   },
   {
    "duration": 283,
    "start_time": "2023-02-01T11:09:57.200Z"
   },
   {
    "duration": 31,
    "start_time": "2023-02-01T11:10:05.325Z"
   },
   {
    "duration": 29,
    "start_time": "2023-02-01T11:10:46.096Z"
   },
   {
    "duration": 29,
    "start_time": "2023-02-01T11:11:30.387Z"
   },
   {
    "duration": 4,
    "start_time": "2023-02-01T11:11:42.760Z"
   },
   {
    "duration": 151,
    "start_time": "2023-02-01T11:11:42.766Z"
   },
   {
    "duration": 32,
    "start_time": "2023-02-01T11:11:42.919Z"
   },
   {
    "duration": 10,
    "start_time": "2023-02-01T11:11:42.953Z"
   },
   {
    "duration": 6,
    "start_time": "2023-02-01T11:11:42.965Z"
   },
   {
    "duration": 23,
    "start_time": "2023-02-01T11:11:42.973Z"
   },
   {
    "duration": 66,
    "start_time": "2023-02-01T11:11:42.998Z"
   },
   {
    "duration": 62,
    "start_time": "2023-02-01T11:11:43.065Z"
   },
   {
    "duration": 20,
    "start_time": "2023-02-01T11:11:43.129Z"
   },
   {
    "duration": 84,
    "start_time": "2023-02-01T11:11:43.151Z"
   },
   {
    "duration": 9,
    "start_time": "2023-02-01T11:11:43.245Z"
   },
   {
    "duration": 40,
    "start_time": "2023-02-01T11:11:43.256Z"
   },
   {
    "duration": 3,
    "start_time": "2023-02-01T11:11:43.297Z"
   },
   {
    "duration": 6,
    "start_time": "2023-02-01T11:11:43.303Z"
   },
   {
    "duration": 34,
    "start_time": "2023-02-01T11:11:43.311Z"
   },
   {
    "duration": 63,
    "start_time": "2023-02-01T11:11:43.346Z"
   },
   {
    "duration": 7,
    "start_time": "2023-02-01T11:11:43.411Z"
   },
   {
    "duration": 34,
    "start_time": "2023-02-01T11:11:43.419Z"
   },
   {
    "duration": 30,
    "start_time": "2023-02-01T11:11:43.455Z"
   },
   {
    "duration": 559,
    "start_time": "2023-02-01T11:11:43.487Z"
   },
   {
    "duration": 5,
    "start_time": "2023-02-01T11:11:44.048Z"
   },
   {
    "duration": 30,
    "start_time": "2023-02-01T11:11:44.054Z"
   },
   {
    "duration": 5,
    "start_time": "2023-02-01T11:11:44.086Z"
   },
   {
    "duration": 7,
    "start_time": "2023-02-01T11:11:44.093Z"
   },
   {
    "duration": 21,
    "start_time": "2023-02-01T11:11:44.102Z"
   },
   {
    "duration": 43,
    "start_time": "2023-02-01T11:11:44.143Z"
   },
   {
    "duration": 5,
    "start_time": "2023-02-01T11:11:44.187Z"
   },
   {
    "duration": 11,
    "start_time": "2023-02-01T11:11:44.194Z"
   },
   {
    "duration": 11,
    "start_time": "2023-02-01T11:11:44.207Z"
   },
   {
    "duration": 72,
    "start_time": "2023-02-01T11:11:44.220Z"
   },
   {
    "duration": 13,
    "start_time": "2023-02-01T11:11:44.293Z"
   },
   {
    "duration": 47,
    "start_time": "2023-02-01T11:11:44.307Z"
   },
   {
    "duration": 10,
    "start_time": "2023-02-01T11:12:36.644Z"
   },
   {
    "duration": 28,
    "start_time": "2023-02-01T11:12:49.491Z"
   },
   {
    "duration": 29,
    "start_time": "2023-02-01T11:13:05.540Z"
   },
   {
    "duration": 85,
    "start_time": "2023-02-01T12:07:07.113Z"
   },
   {
    "duration": 3,
    "start_time": "2023-02-01T12:10:52.897Z"
   },
   {
    "duration": 3,
    "start_time": "2023-02-01T12:11:25.739Z"
   },
   {
    "duration": 1337,
    "start_time": "2023-02-01T12:36:53.033Z"
   },
   {
    "duration": 1520,
    "start_time": "2023-02-01T12:37:18.666Z"
   },
   {
    "duration": 1674,
    "start_time": "2023-02-01T12:37:36.129Z"
   },
   {
    "duration": 62,
    "start_time": "2023-02-01T12:38:15.569Z"
   },
   {
    "duration": 12,
    "start_time": "2023-02-01T12:38:17.597Z"
   },
   {
    "duration": 7,
    "start_time": "2023-02-01T12:39:10.870Z"
   },
   {
    "duration": 5,
    "start_time": "2023-02-01T12:48:36.133Z"
   },
   {
    "duration": 5,
    "start_time": "2023-02-01T12:48:46.870Z"
   },
   {
    "duration": 4,
    "start_time": "2023-02-01T12:49:04.114Z"
   },
   {
    "duration": 5,
    "start_time": "2023-02-01T12:49:19.769Z"
   },
   {
    "duration": 6,
    "start_time": "2023-02-01T12:49:39.924Z"
   },
   {
    "duration": 10,
    "start_time": "2023-02-01T12:51:41.670Z"
   },
   {
    "duration": 5,
    "start_time": "2023-02-01T12:55:27.309Z"
   },
   {
    "duration": 6,
    "start_time": "2023-02-01T12:56:20.310Z"
   },
   {
    "duration": 4,
    "start_time": "2023-02-01T12:59:30.001Z"
   },
   {
    "duration": 189,
    "start_time": "2023-02-01T12:59:30.007Z"
   },
   {
    "duration": 18,
    "start_time": "2023-02-01T12:59:30.198Z"
   },
   {
    "duration": 41,
    "start_time": "2023-02-01T12:59:30.217Z"
   },
   {
    "duration": 22,
    "start_time": "2023-02-01T12:59:30.260Z"
   },
   {
    "duration": 44,
    "start_time": "2023-02-01T12:59:30.284Z"
   },
   {
    "duration": 94,
    "start_time": "2023-02-01T12:59:30.330Z"
   },
   {
    "duration": 68,
    "start_time": "2023-02-01T12:59:30.426Z"
   },
   {
    "duration": 8,
    "start_time": "2023-02-01T12:59:30.496Z"
   },
   {
    "duration": 130,
    "start_time": "2023-02-01T12:59:30.505Z"
   },
   {
    "duration": 10,
    "start_time": "2023-02-01T12:59:30.637Z"
   },
   {
    "duration": 75,
    "start_time": "2023-02-01T12:59:30.652Z"
   },
   {
    "duration": 13,
    "start_time": "2023-02-01T12:59:30.729Z"
   },
   {
    "duration": 57,
    "start_time": "2023-02-01T12:59:30.746Z"
   },
   {
    "duration": 41,
    "start_time": "2023-02-01T12:59:30.804Z"
   },
   {
    "duration": 106,
    "start_time": "2023-02-01T12:59:30.846Z"
   },
   {
    "duration": 10,
    "start_time": "2023-02-01T12:59:30.954Z"
   },
   {
    "duration": 44,
    "start_time": "2023-02-01T12:59:30.965Z"
   },
   {
    "duration": 57,
    "start_time": "2023-02-01T12:59:31.011Z"
   },
   {
    "duration": 557,
    "start_time": "2023-02-01T12:59:31.069Z"
   },
   {
    "duration": 5,
    "start_time": "2023-02-01T12:59:31.628Z"
   },
   {
    "duration": 32,
    "start_time": "2023-02-01T12:59:31.634Z"
   },
   {
    "duration": 30,
    "start_time": "2023-02-01T12:59:31.668Z"
   },
   {
    "duration": 17,
    "start_time": "2023-02-01T12:59:31.700Z"
   },
   {
    "duration": 19,
    "start_time": "2023-02-01T12:59:31.718Z"
   },
   {
    "duration": 50,
    "start_time": "2023-02-01T12:59:31.739Z"
   },
   {
    "duration": 4,
    "start_time": "2023-02-01T12:59:31.791Z"
   },
   {
    "duration": 6,
    "start_time": "2023-02-01T12:59:31.796Z"
   },
   {
    "duration": 19,
    "start_time": "2023-02-01T12:59:31.803Z"
   },
   {
    "duration": 60,
    "start_time": "2023-02-01T12:59:31.823Z"
   },
   {
    "duration": 11,
    "start_time": "2023-02-01T12:59:31.885Z"
   },
   {
    "duration": 58,
    "start_time": "2023-02-01T12:59:31.898Z"
   },
   {
    "duration": 2,
    "start_time": "2023-02-01T12:59:31.959Z"
   },
   {
    "duration": 48,
    "start_time": "2023-02-01T12:59:31.962Z"
   },
   {
    "duration": 17,
    "start_time": "2023-02-01T12:59:32.011Z"
   },
   {
    "duration": 6,
    "start_time": "2023-02-01T12:59:32.030Z"
   },
   {
    "duration": 38,
    "start_time": "2023-02-01T12:59:32.037Z"
   },
   {
    "duration": 4,
    "start_time": "2023-02-01T13:00:57.898Z"
   },
   {
    "duration": 176,
    "start_time": "2023-02-01T13:00:57.904Z"
   },
   {
    "duration": 18,
    "start_time": "2023-02-01T13:00:58.082Z"
   },
   {
    "duration": 19,
    "start_time": "2023-02-01T13:00:58.102Z"
   },
   {
    "duration": 8,
    "start_time": "2023-02-01T13:00:58.123Z"
   },
   {
    "duration": 30,
    "start_time": "2023-02-01T13:00:58.132Z"
   },
   {
    "duration": 61,
    "start_time": "2023-02-01T13:00:58.164Z"
   },
   {
    "duration": 63,
    "start_time": "2023-02-01T13:00:58.226Z"
   },
   {
    "duration": 7,
    "start_time": "2023-02-01T13:00:58.290Z"
   },
   {
    "duration": 93,
    "start_time": "2023-02-01T13:00:58.299Z"
   },
   {
    "duration": 13,
    "start_time": "2023-02-01T13:00:58.394Z"
   },
   {
    "duration": 53,
    "start_time": "2023-02-01T13:00:58.409Z"
   },
   {
    "duration": 3,
    "start_time": "2023-02-01T13:00:58.464Z"
   },
   {
    "duration": 17,
    "start_time": "2023-02-01T13:00:58.470Z"
   },
   {
    "duration": 10,
    "start_time": "2023-02-01T13:00:58.491Z"
   },
   {
    "duration": 87,
    "start_time": "2023-02-01T13:00:58.503Z"
   },
   {
    "duration": 8,
    "start_time": "2023-02-01T13:00:58.592Z"
   },
   {
    "duration": 16,
    "start_time": "2023-02-01T13:00:58.602Z"
   },
   {
    "duration": 47,
    "start_time": "2023-02-01T13:00:58.619Z"
   },
   {
    "duration": 531,
    "start_time": "2023-02-01T13:00:58.668Z"
   },
   {
    "duration": 6,
    "start_time": "2023-02-01T13:00:59.200Z"
   },
   {
    "duration": 39,
    "start_time": "2023-02-01T13:00:59.208Z"
   },
   {
    "duration": 13,
    "start_time": "2023-02-01T13:00:59.248Z"
   },
   {
    "duration": 11,
    "start_time": "2023-02-01T13:00:59.265Z"
   },
   {
    "duration": 28,
    "start_time": "2023-02-01T13:00:59.277Z"
   },
   {
    "duration": 47,
    "start_time": "2023-02-01T13:00:59.306Z"
   },
   {
    "duration": 6,
    "start_time": "2023-02-01T13:00:59.355Z"
   },
   {
    "duration": 23,
    "start_time": "2023-02-01T13:00:59.363Z"
   },
   {
    "duration": 21,
    "start_time": "2023-02-01T13:00:59.388Z"
   },
   {
    "duration": 63,
    "start_time": "2023-02-01T13:00:59.411Z"
   },
   {
    "duration": 11,
    "start_time": "2023-02-01T13:00:59.476Z"
   },
   {
    "duration": 28,
    "start_time": "2023-02-01T13:00:59.489Z"
   },
   {
    "duration": 3,
    "start_time": "2023-02-01T13:00:59.519Z"
   },
   {
    "duration": 27,
    "start_time": "2023-02-01T13:00:59.544Z"
   },
   {
    "duration": 33,
    "start_time": "2023-02-01T13:00:59.573Z"
   },
   {
    "duration": 32,
    "start_time": "2023-02-01T13:00:59.608Z"
   },
   {
    "duration": 10,
    "start_time": "2023-02-01T13:00:59.641Z"
   },
   {
    "duration": 1462,
    "start_time": "2023-02-01T14:16:59.466Z"
   },
   {
    "duration": 1081,
    "start_time": "2023-02-01T14:17:00.930Z"
   },
   {
    "duration": 24,
    "start_time": "2023-02-01T14:17:02.013Z"
   },
   {
    "duration": 45,
    "start_time": "2023-02-01T14:17:02.039Z"
   },
   {
    "duration": 64,
    "start_time": "2023-02-01T14:17:02.087Z"
   },
   {
    "duration": 50,
    "start_time": "2023-02-01T14:17:02.153Z"
   },
   {
    "duration": 95,
    "start_time": "2023-02-01T14:17:02.205Z"
   },
   {
    "duration": 84,
    "start_time": "2023-02-01T14:17:02.301Z"
   },
   {
    "duration": 11,
    "start_time": "2023-02-01T14:17:02.387Z"
   },
   {
    "duration": 99,
    "start_time": "2023-02-01T14:17:02.400Z"
   },
   {
    "duration": 10,
    "start_time": "2023-02-01T14:17:02.501Z"
   },
   {
    "duration": 52,
    "start_time": "2023-02-01T14:17:02.513Z"
   },
   {
    "duration": 22,
    "start_time": "2023-02-01T14:17:02.568Z"
   },
   {
    "duration": 33,
    "start_time": "2023-02-01T14:17:02.594Z"
   },
   {
    "duration": 54,
    "start_time": "2023-02-01T14:17:02.630Z"
   },
   {
    "duration": 89,
    "start_time": "2023-02-01T14:17:02.686Z"
   },
   {
    "duration": 9,
    "start_time": "2023-02-01T14:17:02.777Z"
   },
   {
    "duration": 59,
    "start_time": "2023-02-01T14:17:02.788Z"
   },
   {
    "duration": 44,
    "start_time": "2023-02-01T14:17:02.848Z"
   },
   {
    "duration": 695,
    "start_time": "2023-02-01T14:17:02.894Z"
   },
   {
    "duration": 5,
    "start_time": "2023-02-01T14:17:03.591Z"
   },
   {
    "duration": 66,
    "start_time": "2023-02-01T14:17:03.598Z"
   },
   {
    "duration": 12,
    "start_time": "2023-02-01T14:17:03.666Z"
   },
   {
    "duration": 30,
    "start_time": "2023-02-01T14:17:03.679Z"
   },
   {
    "duration": 53,
    "start_time": "2023-02-01T14:17:03.711Z"
   },
   {
    "duration": 69,
    "start_time": "2023-02-01T14:17:03.766Z"
   },
   {
    "duration": 17,
    "start_time": "2023-02-01T14:17:03.837Z"
   },
   {
    "duration": 22,
    "start_time": "2023-02-01T14:17:03.856Z"
   },
   {
    "duration": 41,
    "start_time": "2023-02-01T14:17:03.880Z"
   },
   {
    "duration": 86,
    "start_time": "2023-02-01T14:17:03.923Z"
   },
   {
    "duration": 14,
    "start_time": "2023-02-01T14:17:04.011Z"
   },
   {
    "duration": 96,
    "start_time": "2023-02-01T14:17:04.027Z"
   },
   {
    "duration": 3,
    "start_time": "2023-02-01T14:17:04.124Z"
   },
   {
    "duration": 72,
    "start_time": "2023-02-01T14:17:04.129Z"
   },
   {
    "duration": 43,
    "start_time": "2023-02-01T14:17:04.203Z"
   },
   {
    "duration": 43,
    "start_time": "2023-02-01T14:17:04.248Z"
   },
   {
    "duration": 50,
    "start_time": "2023-02-01T14:17:04.293Z"
   },
   {
    "duration": 5,
    "start_time": "2023-02-01T14:17:47.731Z"
   },
   {
    "duration": 5,
    "start_time": "2023-02-01T14:20:37.566Z"
   },
   {
    "duration": 5,
    "start_time": "2023-02-01T14:20:50.923Z"
   },
   {
    "duration": 5,
    "start_time": "2023-02-01T14:20:52.259Z"
   },
   {
    "duration": 5,
    "start_time": "2023-02-01T14:20:53.383Z"
   },
   {
    "duration": 5,
    "start_time": "2023-02-01T14:21:41.872Z"
   },
   {
    "duration": 31,
    "start_time": "2023-02-01T14:30:41.813Z"
   },
   {
    "duration": 4,
    "start_time": "2023-02-01T14:30:42.549Z"
   },
   {
    "duration": 5,
    "start_time": "2023-02-01T14:30:43.398Z"
   },
   {
    "duration": 6,
    "start_time": "2023-02-01T14:30:49.067Z"
   },
   {
    "duration": 215,
    "start_time": "2023-02-01T14:30:49.075Z"
   },
   {
    "duration": 20,
    "start_time": "2023-02-01T14:30:49.293Z"
   },
   {
    "duration": 26,
    "start_time": "2023-02-01T14:30:49.314Z"
   },
   {
    "duration": 3,
    "start_time": "2023-02-01T14:30:49.343Z"
   },
   {
    "duration": 31,
    "start_time": "2023-02-01T14:30:49.348Z"
   },
   {
    "duration": 86,
    "start_time": "2023-02-01T14:30:49.382Z"
   },
   {
    "duration": 57,
    "start_time": "2023-02-01T14:30:49.470Z"
   },
   {
    "duration": 16,
    "start_time": "2023-02-01T14:30:49.529Z"
   },
   {
    "duration": 104,
    "start_time": "2023-02-01T14:30:49.547Z"
   },
   {
    "duration": 10,
    "start_time": "2023-02-01T14:30:49.652Z"
   },
   {
    "duration": 36,
    "start_time": "2023-02-01T14:30:49.664Z"
   },
   {
    "duration": 3,
    "start_time": "2023-02-01T14:30:49.702Z"
   },
   {
    "duration": 12,
    "start_time": "2023-02-01T14:30:49.708Z"
   },
   {
    "duration": 24,
    "start_time": "2023-02-01T14:30:49.722Z"
   },
   {
    "duration": 70,
    "start_time": "2023-02-01T14:30:49.748Z"
   },
   {
    "duration": 9,
    "start_time": "2023-02-01T14:30:49.820Z"
   },
   {
    "duration": 28,
    "start_time": "2023-02-01T14:30:49.840Z"
   },
   {
    "duration": 30,
    "start_time": "2023-02-01T14:30:49.871Z"
   },
   {
    "duration": 604,
    "start_time": "2023-02-01T14:30:49.903Z"
   },
   {
    "duration": 6,
    "start_time": "2023-02-01T14:30:50.508Z"
   },
   {
    "duration": 66,
    "start_time": "2023-02-01T14:30:50.516Z"
   },
   {
    "duration": 4,
    "start_time": "2023-02-01T14:30:50.584Z"
   },
   {
    "duration": 41,
    "start_time": "2023-02-01T14:30:50.590Z"
   },
   {
    "duration": 40,
    "start_time": "2023-02-01T14:30:50.633Z"
   },
   {
    "duration": 51,
    "start_time": "2023-02-01T14:30:50.675Z"
   },
   {
    "duration": 4,
    "start_time": "2023-02-01T14:30:50.728Z"
   },
   {
    "duration": 11,
    "start_time": "2023-02-01T14:30:50.734Z"
   },
   {
    "duration": 11,
    "start_time": "2023-02-01T14:30:50.747Z"
   },
   {
    "duration": 61,
    "start_time": "2023-02-01T14:30:50.760Z"
   },
   {
    "duration": 18,
    "start_time": "2023-02-01T14:30:50.823Z"
   },
   {
    "duration": 38,
    "start_time": "2023-02-01T14:30:50.843Z"
   },
   {
    "duration": 3,
    "start_time": "2023-02-01T14:30:50.882Z"
   },
   {
    "duration": 36,
    "start_time": "2023-02-01T14:30:50.886Z"
   },
   {
    "duration": 45,
    "start_time": "2023-02-01T14:30:50.924Z"
   },
   {
    "duration": 30,
    "start_time": "2023-02-01T14:30:50.971Z"
   },
   {
    "duration": 22,
    "start_time": "2023-02-01T14:30:51.002Z"
   },
   {
    "duration": 74,
    "start_time": "2023-02-01T14:30:51.026Z"
   },
   {
    "duration": 47,
    "start_time": "2023-02-01T14:30:51.102Z"
   },
   {
    "duration": 38,
    "start_time": "2023-02-01T14:33:27.925Z"
   },
   {
    "duration": 7,
    "start_time": "2023-02-01T14:33:32.052Z"
   },
   {
    "duration": 174,
    "start_time": "2023-02-01T14:33:32.061Z"
   },
   {
    "duration": 26,
    "start_time": "2023-02-01T14:33:32.240Z"
   },
   {
    "duration": 16,
    "start_time": "2023-02-01T14:33:32.268Z"
   },
   {
    "duration": 10,
    "start_time": "2023-02-01T14:33:32.285Z"
   },
   {
    "duration": 35,
    "start_time": "2023-02-01T14:33:32.297Z"
   },
   {
    "duration": 59,
    "start_time": "2023-02-01T14:33:32.333Z"
   },
   {
    "duration": 62,
    "start_time": "2023-02-01T14:33:32.394Z"
   },
   {
    "duration": 9,
    "start_time": "2023-02-01T14:33:32.458Z"
   },
   {
    "duration": 80,
    "start_time": "2023-02-01T14:33:32.468Z"
   },
   {
    "duration": 10,
    "start_time": "2023-02-01T14:33:32.549Z"
   },
   {
    "duration": 37,
    "start_time": "2023-02-01T14:33:32.561Z"
   },
   {
    "duration": 3,
    "start_time": "2023-02-01T14:33:32.599Z"
   },
   {
    "duration": 21,
    "start_time": "2023-02-01T14:33:32.603Z"
   },
   {
    "duration": 16,
    "start_time": "2023-02-01T14:33:32.625Z"
   },
   {
    "duration": 60,
    "start_time": "2023-02-01T14:33:32.642Z"
   },
   {
    "duration": 8,
    "start_time": "2023-02-01T14:33:32.704Z"
   },
   {
    "duration": 36,
    "start_time": "2023-02-01T14:33:32.714Z"
   },
   {
    "duration": 25,
    "start_time": "2023-02-01T14:33:32.751Z"
   },
   {
    "duration": 524,
    "start_time": "2023-02-01T14:33:32.777Z"
   },
   {
    "duration": 5,
    "start_time": "2023-02-01T14:33:33.303Z"
   },
   {
    "duration": 56,
    "start_time": "2023-02-01T14:33:33.310Z"
   },
   {
    "duration": 3,
    "start_time": "2023-02-01T14:33:33.368Z"
   },
   {
    "duration": 56,
    "start_time": "2023-02-01T14:33:33.374Z"
   },
   {
    "duration": 37,
    "start_time": "2023-02-01T14:33:33.432Z"
   },
   {
    "duration": 68,
    "start_time": "2023-02-01T14:33:33.471Z"
   },
   {
    "duration": 6,
    "start_time": "2023-02-01T14:33:33.542Z"
   },
   {
    "duration": 38,
    "start_time": "2023-02-01T14:33:33.550Z"
   },
   {
    "duration": 41,
    "start_time": "2023-02-01T14:33:33.590Z"
   },
   {
    "duration": 66,
    "start_time": "2023-02-01T14:33:33.633Z"
   },
   {
    "duration": 14,
    "start_time": "2023-02-01T14:33:33.701Z"
   },
   {
    "duration": 52,
    "start_time": "2023-02-01T14:33:33.716Z"
   },
   {
    "duration": 2,
    "start_time": "2023-02-01T14:33:33.770Z"
   },
   {
    "duration": 21,
    "start_time": "2023-02-01T14:33:33.774Z"
   },
   {
    "duration": 17,
    "start_time": "2023-02-01T14:33:33.797Z"
   },
   {
    "duration": 31,
    "start_time": "2023-02-01T14:33:33.815Z"
   },
   {
    "duration": 26,
    "start_time": "2023-02-01T14:33:33.848Z"
   },
   {
    "duration": 44,
    "start_time": "2023-02-01T14:33:33.876Z"
   },
   {
    "duration": 16,
    "start_time": "2023-02-01T14:33:33.923Z"
   },
   {
    "duration": 33,
    "start_time": "2023-02-01T14:35:36.166Z"
   },
   {
    "duration": 32,
    "start_time": "2023-02-01T14:35:42.571Z"
   },
   {
    "duration": 33,
    "start_time": "2023-02-01T14:35:48.544Z"
   },
   {
    "duration": 8,
    "start_time": "2023-02-01T14:36:58.025Z"
   },
   {
    "duration": 5,
    "start_time": "2023-02-01T14:37:09.388Z"
   },
   {
    "duration": 5,
    "start_time": "2023-02-01T14:37:11.013Z"
   },
   {
    "duration": 6,
    "start_time": "2023-02-01T14:37:12.607Z"
   },
   {
    "duration": 6,
    "start_time": "2023-02-01T14:37:14.480Z"
   },
   {
    "duration": 5,
    "start_time": "2023-02-01T14:37:23.780Z"
   },
   {
    "duration": 69,
    "start_time": "2023-02-01T16:34:35.403Z"
   },
   {
    "duration": 1463,
    "start_time": "2023-02-01T16:34:39.935Z"
   },
   {
    "duration": 646,
    "start_time": "2023-02-01T16:34:41.401Z"
   },
   {
    "duration": 21,
    "start_time": "2023-02-01T16:34:42.049Z"
   },
   {
    "duration": 12,
    "start_time": "2023-02-01T16:34:42.072Z"
   },
   {
    "duration": 15,
    "start_time": "2023-02-01T16:34:42.086Z"
   },
   {
    "duration": 43,
    "start_time": "2023-02-01T16:34:42.103Z"
   },
   {
    "duration": 72,
    "start_time": "2023-02-01T16:34:42.148Z"
   },
   {
    "duration": 88,
    "start_time": "2023-02-01T16:34:42.222Z"
   },
   {
    "duration": 17,
    "start_time": "2023-02-01T16:34:42.312Z"
   },
   {
    "duration": 81,
    "start_time": "2023-02-01T16:34:42.332Z"
   },
   {
    "duration": 25,
    "start_time": "2023-02-01T16:34:42.415Z"
   },
   {
    "duration": 31,
    "start_time": "2023-02-01T16:34:42.442Z"
   },
   {
    "duration": 2,
    "start_time": "2023-02-01T16:34:42.476Z"
   },
   {
    "duration": 18,
    "start_time": "2023-02-01T16:34:42.480Z"
   },
   {
    "duration": 38,
    "start_time": "2023-02-01T16:34:42.512Z"
   },
   {
    "duration": 84,
    "start_time": "2023-02-01T16:34:42.552Z"
   },
   {
    "duration": 7,
    "start_time": "2023-02-01T16:34:42.637Z"
   },
   {
    "duration": 24,
    "start_time": "2023-02-01T16:34:42.646Z"
   },
   {
    "duration": 26,
    "start_time": "2023-02-01T16:34:42.672Z"
   },
   {
    "duration": 687,
    "start_time": "2023-02-01T16:34:42.700Z"
   },
   {
    "duration": 10,
    "start_time": "2023-02-01T16:34:43.390Z"
   },
   {
    "duration": 60,
    "start_time": "2023-02-01T16:34:43.402Z"
   },
   {
    "duration": 4,
    "start_time": "2023-02-01T16:34:43.464Z"
   },
   {
    "duration": 13,
    "start_time": "2023-02-01T16:34:43.470Z"
   },
   {
    "duration": 39,
    "start_time": "2023-02-01T16:34:43.485Z"
   },
   {
    "duration": 46,
    "start_time": "2023-02-01T16:34:43.526Z"
   },
   {
    "duration": 4,
    "start_time": "2023-02-01T16:34:43.574Z"
   },
   {
    "duration": 62,
    "start_time": "2023-02-01T16:34:43.582Z"
   },
   {
    "duration": 14,
    "start_time": "2023-02-01T16:34:43.646Z"
   },
   {
    "duration": 69,
    "start_time": "2023-02-01T16:34:43.661Z"
   },
   {
    "duration": 13,
    "start_time": "2023-02-01T16:34:43.732Z"
   },
   {
    "duration": 56,
    "start_time": "2023-02-01T16:34:43.746Z"
   },
   {
    "duration": 8,
    "start_time": "2023-02-01T16:34:43.803Z"
   },
   {
    "duration": 24,
    "start_time": "2023-02-01T16:34:43.813Z"
   },
   {
    "duration": 9,
    "start_time": "2023-02-01T16:34:43.838Z"
   },
   {
    "duration": 10,
    "start_time": "2023-02-01T16:34:43.849Z"
   },
   {
    "duration": 6,
    "start_time": "2023-02-01T16:34:43.861Z"
   },
   {
    "duration": 6,
    "start_time": "2023-02-01T16:34:43.868Z"
   },
   {
    "duration": 5,
    "start_time": "2023-02-01T16:34:43.876Z"
   },
   {
    "duration": 39,
    "start_time": "2023-02-01T16:34:43.883Z"
   },
   {
    "duration": 4,
    "start_time": "2023-02-01T16:40:27.644Z"
   },
   {
    "duration": 8,
    "start_time": "2023-02-01T16:40:44.393Z"
   },
   {
    "duration": 6,
    "start_time": "2023-02-01T16:44:36.611Z"
   },
   {
    "duration": 9,
    "start_time": "2023-02-01T16:46:40.189Z"
   },
   {
    "duration": 3,
    "start_time": "2023-02-01T16:55:40.613Z"
   },
   {
    "duration": 7,
    "start_time": "2023-02-01T16:56:31.293Z"
   },
   {
    "duration": 4,
    "start_time": "2023-02-01T16:57:07.037Z"
   },
   {
    "duration": 9,
    "start_time": "2023-02-01T17:01:32.090Z"
   },
   {
    "duration": 1224,
    "start_time": "2023-02-02T04:59:20.444Z"
   },
   {
    "duration": 1001,
    "start_time": "2023-02-02T04:59:21.670Z"
   },
   {
    "duration": 17,
    "start_time": "2023-02-02T04:59:22.673Z"
   },
   {
    "duration": 11,
    "start_time": "2023-02-02T04:59:22.692Z"
   },
   {
    "duration": 4,
    "start_time": "2023-02-02T04:59:22.705Z"
   },
   {
    "duration": 13,
    "start_time": "2023-02-02T04:59:22.711Z"
   },
   {
    "duration": 61,
    "start_time": "2023-02-02T04:59:22.726Z"
   },
   {
    "duration": 72,
    "start_time": "2023-02-02T04:59:22.789Z"
   },
   {
    "duration": 8,
    "start_time": "2023-02-02T04:59:22.862Z"
   },
   {
    "duration": 70,
    "start_time": "2023-02-02T04:59:22.872Z"
   },
   {
    "duration": 8,
    "start_time": "2023-02-02T04:59:22.943Z"
   },
   {
    "duration": 26,
    "start_time": "2023-02-02T04:59:22.953Z"
   },
   {
    "duration": 3,
    "start_time": "2023-02-02T04:59:22.980Z"
   },
   {
    "duration": 5,
    "start_time": "2023-02-02T04:59:22.986Z"
   },
   {
    "duration": 8,
    "start_time": "2023-02-02T04:59:22.992Z"
   },
   {
    "duration": 80,
    "start_time": "2023-02-02T04:59:23.002Z"
   },
   {
    "duration": 8,
    "start_time": "2023-02-02T04:59:23.083Z"
   },
   {
    "duration": 14,
    "start_time": "2023-02-02T04:59:23.092Z"
   },
   {
    "duration": 36,
    "start_time": "2023-02-02T04:59:23.108Z"
   },
   {
    "duration": 567,
    "start_time": "2023-02-02T04:59:23.146Z"
   },
   {
    "duration": 4,
    "start_time": "2023-02-02T04:59:23.715Z"
   },
   {
    "duration": 42,
    "start_time": "2023-02-02T04:59:23.721Z"
   },
   {
    "duration": 4,
    "start_time": "2023-02-02T04:59:23.764Z"
   },
   {
    "duration": 7,
    "start_time": "2023-02-02T04:59:23.769Z"
   },
   {
    "duration": 15,
    "start_time": "2023-02-02T04:59:23.777Z"
   },
   {
    "duration": 60,
    "start_time": "2023-02-02T04:59:23.793Z"
   },
   {
    "duration": 4,
    "start_time": "2023-02-02T04:59:23.854Z"
   },
   {
    "duration": 7,
    "start_time": "2023-02-02T04:59:23.859Z"
   },
   {
    "duration": 5,
    "start_time": "2023-02-02T04:59:23.868Z"
   },
   {
    "duration": 72,
    "start_time": "2023-02-02T04:59:23.875Z"
   },
   {
    "duration": 12,
    "start_time": "2023-02-02T04:59:23.948Z"
   },
   {
    "duration": 31,
    "start_time": "2023-02-02T04:59:23.962Z"
   },
   {
    "duration": 2,
    "start_time": "2023-02-02T04:59:23.995Z"
   },
   {
    "duration": 11,
    "start_time": "2023-02-02T04:59:23.999Z"
   },
   {
    "duration": 5,
    "start_time": "2023-02-02T04:59:24.037Z"
   },
   {
    "duration": 6,
    "start_time": "2023-02-02T04:59:24.043Z"
   },
   {
    "duration": 10,
    "start_time": "2023-02-02T04:59:24.051Z"
   },
   {
    "duration": 7,
    "start_time": "2023-02-02T04:59:24.062Z"
   },
   {
    "duration": 6,
    "start_time": "2023-02-02T04:59:24.070Z"
   },
   {
    "duration": 7,
    "start_time": "2023-02-02T04:59:24.078Z"
   },
   {
    "duration": 6,
    "start_time": "2023-02-02T04:59:24.088Z"
   },
   {
    "duration": 6,
    "start_time": "2023-02-02T04:59:24.096Z"
   },
   {
    "duration": 7,
    "start_time": "2023-02-02T04:59:24.103Z"
   },
   {
    "duration": 8,
    "start_time": "2023-02-02T05:41:30.085Z"
   },
   {
    "duration": 13,
    "start_time": "2023-02-02T05:47:59.028Z"
   },
   {
    "duration": 100,
    "start_time": "2023-02-02T05:48:13.062Z"
   },
   {
    "duration": 11,
    "start_time": "2023-02-02T05:48:25.052Z"
   },
   {
    "duration": 49,
    "start_time": "2023-02-02T11:30:37.315Z"
   },
   {
    "duration": 1218,
    "start_time": "2023-02-02T11:30:43.362Z"
   },
   {
    "duration": 687,
    "start_time": "2023-02-02T11:30:44.582Z"
   },
   {
    "duration": 22,
    "start_time": "2023-02-02T11:30:45.270Z"
   },
   {
    "duration": 26,
    "start_time": "2023-02-02T11:30:45.294Z"
   },
   {
    "duration": 12,
    "start_time": "2023-02-02T11:30:45.321Z"
   },
   {
    "duration": 37,
    "start_time": "2023-02-02T11:30:45.334Z"
   },
   {
    "duration": 74,
    "start_time": "2023-02-02T11:30:45.373Z"
   },
   {
    "duration": 67,
    "start_time": "2023-02-02T11:30:45.448Z"
   },
   {
    "duration": 8,
    "start_time": "2023-02-02T11:30:45.516Z"
   },
   {
    "duration": 71,
    "start_time": "2023-02-02T11:30:45.526Z"
   },
   {
    "duration": 20,
    "start_time": "2023-02-02T11:30:45.598Z"
   },
   {
    "duration": 45,
    "start_time": "2023-02-02T11:30:45.619Z"
   },
   {
    "duration": 9,
    "start_time": "2023-02-02T11:30:45.666Z"
   },
   {
    "duration": 19,
    "start_time": "2023-02-02T11:30:45.677Z"
   },
   {
    "duration": 21,
    "start_time": "2023-02-02T11:30:45.697Z"
   },
   {
    "duration": 71,
    "start_time": "2023-02-02T11:30:45.720Z"
   },
   {
    "duration": 7,
    "start_time": "2023-02-02T11:30:45.793Z"
   },
   {
    "duration": 37,
    "start_time": "2023-02-02T11:30:45.802Z"
   },
   {
    "duration": 31,
    "start_time": "2023-02-02T11:30:45.840Z"
   },
   {
    "duration": 579,
    "start_time": "2023-02-02T11:30:45.873Z"
   },
   {
    "duration": 5,
    "start_time": "2023-02-02T11:30:46.453Z"
   },
   {
    "duration": 57,
    "start_time": "2023-02-02T11:30:46.459Z"
   },
   {
    "duration": 4,
    "start_time": "2023-02-02T11:30:46.518Z"
   },
   {
    "duration": 16,
    "start_time": "2023-02-02T11:30:46.523Z"
   },
   {
    "duration": 40,
    "start_time": "2023-02-02T11:30:46.541Z"
   },
   {
    "duration": 35,
    "start_time": "2023-02-02T11:30:46.582Z"
   },
   {
    "duration": 5,
    "start_time": "2023-02-02T11:30:46.619Z"
   },
   {
    "duration": 51,
    "start_time": "2023-02-02T11:30:46.627Z"
   },
   {
    "duration": 32,
    "start_time": "2023-02-02T11:30:46.680Z"
   },
   {
    "duration": 110,
    "start_time": "2023-02-02T11:30:46.715Z"
   },
   {
    "duration": 16,
    "start_time": "2023-02-02T11:30:46.827Z"
   },
   {
    "duration": 45,
    "start_time": "2023-02-02T11:30:46.846Z"
   },
   {
    "duration": 19,
    "start_time": "2023-02-02T11:30:46.892Z"
   },
   {
    "duration": 74,
    "start_time": "2023-02-02T11:30:46.913Z"
   },
   {
    "duration": 47,
    "start_time": "2023-02-02T11:30:46.989Z"
   },
   {
    "duration": 31,
    "start_time": "2023-02-02T11:30:47.038Z"
   },
   {
    "duration": 61,
    "start_time": "2023-02-02T11:30:47.070Z"
   },
   {
    "duration": 39,
    "start_time": "2023-02-02T11:30:47.132Z"
   },
   {
    "duration": 46,
    "start_time": "2023-02-02T11:30:47.172Z"
   },
   {
    "duration": 41,
    "start_time": "2023-02-02T11:30:47.219Z"
   },
   {
    "duration": 17,
    "start_time": "2023-02-02T11:30:47.262Z"
   },
   {
    "duration": 45,
    "start_time": "2023-02-02T11:30:47.280Z"
   },
   {
    "duration": 36,
    "start_time": "2023-02-02T11:30:47.327Z"
   },
   {
    "duration": 41,
    "start_time": "2023-02-02T11:30:47.365Z"
   },
   {
    "duration": 98,
    "start_time": "2023-02-02T11:30:47.408Z"
   },
   {
    "duration": 9,
    "start_time": "2023-02-02T11:33:35.668Z"
   },
   {
    "duration": 8,
    "start_time": "2023-02-02T11:33:59.692Z"
   },
   {
    "duration": 9,
    "start_time": "2023-02-02T11:34:42.631Z"
   },
   {
    "duration": 8,
    "start_time": "2023-02-02T11:39:00.339Z"
   },
   {
    "duration": 38,
    "start_time": "2023-02-02T11:39:17.479Z"
   },
   {
    "duration": 48,
    "start_time": "2023-02-02T11:42:55.675Z"
   },
   {
    "duration": 28,
    "start_time": "2023-02-02T11:43:01.469Z"
   },
   {
    "duration": 38,
    "start_time": "2023-02-02T11:43:20.356Z"
   },
   {
    "duration": 12,
    "start_time": "2023-02-02T11:44:22.869Z"
   },
   {
    "duration": 25,
    "start_time": "2023-02-02T11:44:50.824Z"
   },
   {
    "duration": 21,
    "start_time": "2023-02-02T11:45:16.485Z"
   },
   {
    "duration": 23,
    "start_time": "2023-02-02T11:46:48.764Z"
   },
   {
    "duration": 1402,
    "start_time": "2023-02-05T09:00:36.391Z"
   },
   {
    "duration": 1141,
    "start_time": "2023-02-05T09:00:37.795Z"
   },
   {
    "duration": 21,
    "start_time": "2023-02-05T09:00:38.938Z"
   },
   {
    "duration": 12,
    "start_time": "2023-02-05T09:00:38.961Z"
   },
   {
    "duration": 5,
    "start_time": "2023-02-05T09:00:38.975Z"
   },
   {
    "duration": 21,
    "start_time": "2023-02-05T09:00:38.982Z"
   },
   {
    "duration": 74,
    "start_time": "2023-02-05T09:00:39.005Z"
   },
   {
    "duration": 76,
    "start_time": "2023-02-05T09:00:39.081Z"
   },
   {
    "duration": 9,
    "start_time": "2023-02-05T09:00:39.159Z"
   },
   {
    "duration": 90,
    "start_time": "2023-02-05T09:00:39.171Z"
   },
   {
    "duration": 17,
    "start_time": "2023-02-05T09:00:39.263Z"
   },
   {
    "duration": 59,
    "start_time": "2023-02-05T09:00:39.282Z"
   },
   {
    "duration": 7,
    "start_time": "2023-02-05T09:00:39.343Z"
   },
   {
    "duration": 5,
    "start_time": "2023-02-05T09:00:39.352Z"
   },
   {
    "duration": 14,
    "start_time": "2023-02-05T09:00:39.359Z"
   },
   {
    "duration": 73,
    "start_time": "2023-02-05T09:00:39.376Z"
   },
   {
    "duration": 7,
    "start_time": "2023-02-05T09:00:39.450Z"
   },
   {
    "duration": 16,
    "start_time": "2023-02-05T09:00:39.458Z"
   },
   {
    "duration": 51,
    "start_time": "2023-02-05T09:00:39.476Z"
   },
   {
    "duration": 614,
    "start_time": "2023-02-05T09:00:39.529Z"
   },
   {
    "duration": 7,
    "start_time": "2023-02-05T09:00:40.145Z"
   },
   {
    "duration": 62,
    "start_time": "2023-02-05T09:00:40.154Z"
   },
   {
    "duration": 9,
    "start_time": "2023-02-05T09:00:40.218Z"
   },
   {
    "duration": 16,
    "start_time": "2023-02-05T09:00:40.229Z"
   },
   {
    "duration": 24,
    "start_time": "2023-02-05T09:00:40.247Z"
   },
   {
    "duration": 36,
    "start_time": "2023-02-05T09:00:40.272Z"
   },
   {
    "duration": 20,
    "start_time": "2023-02-05T09:00:40.309Z"
   },
   {
    "duration": 11,
    "start_time": "2023-02-05T09:00:40.334Z"
   },
   {
    "duration": 6,
    "start_time": "2023-02-05T09:00:40.346Z"
   },
   {
    "duration": 77,
    "start_time": "2023-02-05T09:00:40.354Z"
   },
   {
    "duration": 14,
    "start_time": "2023-02-05T09:00:40.433Z"
   },
   {
    "duration": 33,
    "start_time": "2023-02-05T09:00:40.448Z"
   },
   {
    "duration": 3,
    "start_time": "2023-02-05T09:00:40.482Z"
   },
   {
    "duration": 39,
    "start_time": "2023-02-05T09:00:40.486Z"
   },
   {
    "duration": 15,
    "start_time": "2023-02-05T09:00:40.527Z"
   },
   {
    "duration": 6,
    "start_time": "2023-02-05T09:00:40.543Z"
   },
   {
    "duration": 8,
    "start_time": "2023-02-05T09:00:40.551Z"
   },
   {
    "duration": 6,
    "start_time": "2023-02-05T09:00:40.561Z"
   },
   {
    "duration": 10,
    "start_time": "2023-02-05T09:00:40.568Z"
   },
   {
    "duration": 12,
    "start_time": "2023-02-05T09:00:40.579Z"
   },
   {
    "duration": 11,
    "start_time": "2023-02-05T09:00:40.592Z"
   },
   {
    "duration": 25,
    "start_time": "2023-02-05T09:00:40.605Z"
   },
   {
    "duration": 9,
    "start_time": "2023-02-05T09:00:40.632Z"
   },
   {
    "duration": 9,
    "start_time": "2023-02-05T09:00:40.643Z"
   },
   {
    "duration": 41,
    "start_time": "2023-02-05T09:00:40.654Z"
   },
   {
    "duration": 47,
    "start_time": "2023-02-05T09:00:40.697Z"
   },
   {
    "duration": 31,
    "start_time": "2023-02-05T09:00:40.745Z"
   },
   {
    "duration": 22,
    "start_time": "2023-02-05T09:00:40.777Z"
   },
   {
    "duration": 29,
    "start_time": "2023-02-05T09:00:40.801Z"
   },
   {
    "duration": 114,
    "start_time": "2023-02-05T09:23:36.446Z"
   },
   {
    "duration": 3,
    "start_time": "2023-02-05T09:24:12.627Z"
   },
   {
    "duration": 166,
    "start_time": "2023-02-05T09:24:12.632Z"
   },
   {
    "duration": 24,
    "start_time": "2023-02-05T09:24:12.800Z"
   },
   {
    "duration": 22,
    "start_time": "2023-02-05T09:24:12.826Z"
   },
   {
    "duration": 26,
    "start_time": "2023-02-05T09:24:12.850Z"
   },
   {
    "duration": 23,
    "start_time": "2023-02-05T09:24:12.877Z"
   },
   {
    "duration": 64,
    "start_time": "2023-02-05T09:24:12.901Z"
   },
   {
    "duration": 60,
    "start_time": "2023-02-05T09:24:12.967Z"
   },
   {
    "duration": 8,
    "start_time": "2023-02-05T09:24:13.029Z"
   },
   {
    "duration": 90,
    "start_time": "2023-02-05T09:24:13.040Z"
   },
   {
    "duration": 14,
    "start_time": "2023-02-05T09:24:13.132Z"
   },
   {
    "duration": 45,
    "start_time": "2023-02-05T09:24:13.147Z"
   },
   {
    "duration": 3,
    "start_time": "2023-02-05T09:24:13.194Z"
   },
   {
    "duration": 29,
    "start_time": "2023-02-05T09:24:13.199Z"
   },
   {
    "duration": 8,
    "start_time": "2023-02-05T09:24:13.229Z"
   },
   {
    "duration": 54,
    "start_time": "2023-02-05T09:24:13.239Z"
   },
   {
    "duration": 7,
    "start_time": "2023-02-05T09:24:13.294Z"
   },
   {
    "duration": 40,
    "start_time": "2023-02-05T09:24:13.302Z"
   },
   {
    "duration": 18,
    "start_time": "2023-02-05T09:24:13.344Z"
   },
   {
    "duration": 581,
    "start_time": "2023-02-05T09:24:13.364Z"
   },
   {
    "duration": 5,
    "start_time": "2023-02-05T09:24:13.948Z"
   },
   {
    "duration": 34,
    "start_time": "2023-02-05T09:24:13.954Z"
   },
   {
    "duration": 3,
    "start_time": "2023-02-05T09:24:13.990Z"
   },
   {
    "duration": 30,
    "start_time": "2023-02-05T09:24:13.995Z"
   },
   {
    "duration": 13,
    "start_time": "2023-02-05T09:24:14.027Z"
   },
   {
    "duration": 33,
    "start_time": "2023-02-05T09:24:14.041Z"
   },
   {
    "duration": 6,
    "start_time": "2023-02-05T09:24:14.076Z"
   },
   {
    "duration": 6,
    "start_time": "2023-02-05T09:24:14.087Z"
   },
   {
    "duration": 10,
    "start_time": "2023-02-05T09:24:14.115Z"
   },
   {
    "duration": 59,
    "start_time": "2023-02-05T09:24:14.127Z"
   },
   {
    "duration": 23,
    "start_time": "2023-02-05T09:24:14.188Z"
   },
   {
    "duration": 69,
    "start_time": "2023-02-05T09:24:14.216Z"
   },
   {
    "duration": 2,
    "start_time": "2023-02-05T09:24:14.287Z"
   },
   {
    "duration": 7,
    "start_time": "2023-02-05T09:24:14.291Z"
   },
   {
    "duration": 6,
    "start_time": "2023-02-05T09:24:14.299Z"
   },
   {
    "duration": 23,
    "start_time": "2023-02-05T09:24:14.306Z"
   },
   {
    "duration": 6,
    "start_time": "2023-02-05T09:24:14.331Z"
   },
   {
    "duration": 20,
    "start_time": "2023-02-05T09:24:14.338Z"
   },
   {
    "duration": 5,
    "start_time": "2023-02-05T09:24:14.360Z"
   },
   {
    "duration": 8,
    "start_time": "2023-02-05T09:24:14.367Z"
   },
   {
    "duration": 5,
    "start_time": "2023-02-05T09:24:14.377Z"
   },
   {
    "duration": 12,
    "start_time": "2023-02-05T09:24:14.383Z"
   },
   {
    "duration": 9,
    "start_time": "2023-02-05T09:24:14.396Z"
   },
   {
    "duration": 27,
    "start_time": "2023-02-05T09:24:14.407Z"
   },
   {
    "duration": 0,
    "start_time": "2023-02-05T09:24:14.435Z"
   },
   {
    "duration": 0,
    "start_time": "2023-02-05T09:24:14.437Z"
   },
   {
    "duration": 0,
    "start_time": "2023-02-05T09:24:14.439Z"
   },
   {
    "duration": 0,
    "start_time": "2023-02-05T09:24:14.440Z"
   },
   {
    "duration": 0,
    "start_time": "2023-02-05T09:24:14.441Z"
   },
   {
    "duration": 0,
    "start_time": "2023-02-05T09:24:14.444Z"
   },
   {
    "duration": 5,
    "start_time": "2023-02-05T09:24:26.967Z"
   },
   {
    "duration": 11,
    "start_time": "2023-02-05T09:24:47.310Z"
   },
   {
    "duration": 12,
    "start_time": "2023-02-05T09:30:20.728Z"
   },
   {
    "duration": 13,
    "start_time": "2023-02-05T09:33:12.624Z"
   },
   {
    "duration": 5,
    "start_time": "2023-02-05T09:33:45.270Z"
   },
   {
    "duration": 171,
    "start_time": "2023-02-05T09:33:45.277Z"
   },
   {
    "duration": 20,
    "start_time": "2023-02-05T09:33:45.449Z"
   },
   {
    "duration": 10,
    "start_time": "2023-02-05T09:33:45.470Z"
   },
   {
    "duration": 5,
    "start_time": "2023-02-05T09:33:45.482Z"
   },
   {
    "duration": 64,
    "start_time": "2023-02-05T09:33:45.489Z"
   },
   {
    "duration": 76,
    "start_time": "2023-02-05T09:33:45.555Z"
   },
   {
    "duration": 65,
    "start_time": "2023-02-05T09:33:45.638Z"
   },
   {
    "duration": 10,
    "start_time": "2023-02-05T09:33:45.705Z"
   },
   {
    "duration": 89,
    "start_time": "2023-02-05T09:33:45.716Z"
   },
   {
    "duration": 34,
    "start_time": "2023-02-05T09:33:45.807Z"
   },
   {
    "duration": 27,
    "start_time": "2023-02-05T09:33:45.843Z"
   },
   {
    "duration": 3,
    "start_time": "2023-02-05T09:33:45.871Z"
   },
   {
    "duration": 6,
    "start_time": "2023-02-05T09:33:45.878Z"
   },
   {
    "duration": 16,
    "start_time": "2023-02-05T09:33:45.886Z"
   },
   {
    "duration": 80,
    "start_time": "2023-02-05T09:33:45.911Z"
   },
   {
    "duration": 9,
    "start_time": "2023-02-05T09:33:45.993Z"
   },
   {
    "duration": 35,
    "start_time": "2023-02-05T09:33:46.004Z"
   },
   {
    "duration": 36,
    "start_time": "2023-02-05T09:33:46.041Z"
   },
   {
    "duration": 595,
    "start_time": "2023-02-05T09:33:46.079Z"
   },
   {
    "duration": 6,
    "start_time": "2023-02-05T09:33:46.676Z"
   },
   {
    "duration": 48,
    "start_time": "2023-02-05T09:33:46.684Z"
   },
   {
    "duration": 6,
    "start_time": "2023-02-05T09:33:46.734Z"
   },
   {
    "duration": 8,
    "start_time": "2023-02-05T09:33:46.742Z"
   },
   {
    "duration": 29,
    "start_time": "2023-02-05T09:33:46.752Z"
   },
   {
    "duration": 53,
    "start_time": "2023-02-05T09:33:46.783Z"
   },
   {
    "duration": 4,
    "start_time": "2023-02-05T09:33:46.839Z"
   },
   {
    "duration": 21,
    "start_time": "2023-02-05T09:33:46.845Z"
   },
   {
    "duration": 32,
    "start_time": "2023-02-05T09:33:46.867Z"
   },
   {
    "duration": 84,
    "start_time": "2023-02-05T09:33:46.901Z"
   },
   {
    "duration": 17,
    "start_time": "2023-02-05T09:33:46.988Z"
   },
   {
    "duration": 53,
    "start_time": "2023-02-05T09:33:47.007Z"
   },
   {
    "duration": 3,
    "start_time": "2023-02-05T09:33:47.062Z"
   },
   {
    "duration": 18,
    "start_time": "2023-02-05T09:33:47.066Z"
   },
   {
    "duration": 7,
    "start_time": "2023-02-05T09:33:47.085Z"
   },
   {
    "duration": 5,
    "start_time": "2023-02-05T09:33:47.094Z"
   },
   {
    "duration": 27,
    "start_time": "2023-02-05T09:33:47.101Z"
   },
   {
    "duration": 12,
    "start_time": "2023-02-05T09:33:47.131Z"
   },
   {
    "duration": 9,
    "start_time": "2023-02-05T09:33:47.144Z"
   },
   {
    "duration": 11,
    "start_time": "2023-02-05T09:33:47.155Z"
   },
   {
    "duration": 4,
    "start_time": "2023-02-05T09:33:47.170Z"
   },
   {
    "duration": 5,
    "start_time": "2023-02-05T09:33:47.176Z"
   },
   {
    "duration": 13,
    "start_time": "2023-02-05T09:33:47.183Z"
   },
   {
    "duration": 26,
    "start_time": "2023-02-05T09:33:47.198Z"
   },
   {
    "duration": 18,
    "start_time": "2023-02-05T09:33:47.225Z"
   },
   {
    "duration": 41,
    "start_time": "2023-02-05T09:33:47.244Z"
   },
   {
    "duration": 37,
    "start_time": "2023-02-05T09:33:47.287Z"
   },
   {
    "duration": 37,
    "start_time": "2023-02-05T09:33:47.326Z"
   },
   {
    "duration": 31,
    "start_time": "2023-02-05T09:33:47.365Z"
   },
   {
    "duration": 36,
    "start_time": "2023-02-05T09:33:47.399Z"
   },
   {
    "duration": 12,
    "start_time": "2023-02-05T09:47:41.661Z"
   },
   {
    "duration": 11,
    "start_time": "2023-02-05T10:17:54.660Z"
   },
   {
    "duration": 11,
    "start_time": "2023-02-05T10:18:28.672Z"
   },
   {
    "duration": 13,
    "start_time": "2023-02-05T10:19:18.056Z"
   },
   {
    "duration": 11,
    "start_time": "2023-02-05T10:19:53.666Z"
   },
   {
    "duration": 57,
    "start_time": "2023-02-05T10:20:19.573Z"
   },
   {
    "duration": 15,
    "start_time": "2023-02-05T10:20:26.689Z"
   },
   {
    "duration": 11,
    "start_time": "2023-02-05T10:20:41.232Z"
   },
   {
    "duration": 12,
    "start_time": "2023-02-05T10:47:23.545Z"
   },
   {
    "duration": 4,
    "start_time": "2023-02-05T10:47:36.354Z"
   },
   {
    "duration": 144,
    "start_time": "2023-02-05T10:47:36.361Z"
   },
   {
    "duration": 18,
    "start_time": "2023-02-05T10:47:36.507Z"
   },
   {
    "duration": 10,
    "start_time": "2023-02-05T10:47:36.526Z"
   },
   {
    "duration": 4,
    "start_time": "2023-02-05T10:47:36.538Z"
   },
   {
    "duration": 17,
    "start_time": "2023-02-05T10:47:36.543Z"
   },
   {
    "duration": 75,
    "start_time": "2023-02-05T10:47:36.561Z"
   },
   {
    "duration": 53,
    "start_time": "2023-02-05T10:47:36.638Z"
   },
   {
    "duration": 18,
    "start_time": "2023-02-05T10:47:36.692Z"
   },
   {
    "duration": 103,
    "start_time": "2023-02-05T10:47:36.712Z"
   },
   {
    "duration": 8,
    "start_time": "2023-02-05T10:47:36.817Z"
   },
   {
    "duration": 33,
    "start_time": "2023-02-05T10:47:36.827Z"
   },
   {
    "duration": 3,
    "start_time": "2023-02-05T10:47:36.862Z"
   },
   {
    "duration": 9,
    "start_time": "2023-02-05T10:47:36.868Z"
   },
   {
    "duration": 9,
    "start_time": "2023-02-05T10:47:36.879Z"
   },
   {
    "duration": 73,
    "start_time": "2023-02-05T10:47:36.910Z"
   },
   {
    "duration": 11,
    "start_time": "2023-02-05T10:47:36.985Z"
   },
   {
    "duration": 38,
    "start_time": "2023-02-05T10:47:37.011Z"
   },
   {
    "duration": 33,
    "start_time": "2023-02-05T10:47:37.051Z"
   },
   {
    "duration": 582,
    "start_time": "2023-02-05T10:47:37.086Z"
   },
   {
    "duration": 5,
    "start_time": "2023-02-05T10:47:37.670Z"
   },
   {
    "duration": 48,
    "start_time": "2023-02-05T10:47:37.677Z"
   },
   {
    "duration": 5,
    "start_time": "2023-02-05T10:47:37.727Z"
   },
   {
    "duration": 8,
    "start_time": "2023-02-05T10:47:37.734Z"
   },
   {
    "duration": 18,
    "start_time": "2023-02-05T10:47:37.743Z"
   },
   {
    "duration": 39,
    "start_time": "2023-02-05T10:47:37.763Z"
   },
   {
    "duration": 5,
    "start_time": "2023-02-05T10:47:37.810Z"
   },
   {
    "duration": 10,
    "start_time": "2023-02-05T10:47:37.816Z"
   },
   {
    "duration": 5,
    "start_time": "2023-02-05T10:47:37.828Z"
   },
   {
    "duration": 77,
    "start_time": "2023-02-05T10:47:37.834Z"
   },
   {
    "duration": 13,
    "start_time": "2023-02-05T10:47:37.912Z"
   },
   {
    "duration": 43,
    "start_time": "2023-02-05T10:47:37.927Z"
   },
   {
    "duration": 3,
    "start_time": "2023-02-05T10:47:37.971Z"
   },
   {
    "duration": 8,
    "start_time": "2023-02-05T10:47:37.975Z"
   },
   {
    "duration": 26,
    "start_time": "2023-02-05T10:47:37.985Z"
   },
   {
    "duration": 5,
    "start_time": "2023-02-05T10:47:38.013Z"
   },
   {
    "duration": 13,
    "start_time": "2023-02-05T10:47:38.019Z"
   },
   {
    "duration": 7,
    "start_time": "2023-02-05T10:47:38.034Z"
   },
   {
    "duration": 7,
    "start_time": "2023-02-05T10:47:38.043Z"
   },
   {
    "duration": 10,
    "start_time": "2023-02-05T10:47:38.051Z"
   },
   {
    "duration": 4,
    "start_time": "2023-02-05T10:47:38.064Z"
   },
   {
    "duration": 8,
    "start_time": "2023-02-05T10:47:38.069Z"
   },
   {
    "duration": 38,
    "start_time": "2023-02-05T10:47:38.078Z"
   },
   {
    "duration": 0,
    "start_time": "2023-02-05T10:47:38.118Z"
   },
   {
    "duration": 0,
    "start_time": "2023-02-05T10:47:38.119Z"
   },
   {
    "duration": 0,
    "start_time": "2023-02-05T10:47:38.120Z"
   },
   {
    "duration": 0,
    "start_time": "2023-02-05T10:47:38.121Z"
   },
   {
    "duration": 0,
    "start_time": "2023-02-05T10:47:38.122Z"
   },
   {
    "duration": 0,
    "start_time": "2023-02-05T10:47:38.123Z"
   },
   {
    "duration": 0,
    "start_time": "2023-02-05T10:47:38.124Z"
   },
   {
    "duration": 0,
    "start_time": "2023-02-05T10:47:38.126Z"
   },
   {
    "duration": 4,
    "start_time": "2023-02-05T10:48:36.948Z"
   },
   {
    "duration": 138,
    "start_time": "2023-02-05T10:48:36.954Z"
   },
   {
    "duration": 24,
    "start_time": "2023-02-05T10:48:37.094Z"
   },
   {
    "duration": 10,
    "start_time": "2023-02-05T10:48:37.119Z"
   },
   {
    "duration": 7,
    "start_time": "2023-02-05T10:48:37.131Z"
   },
   {
    "duration": 20,
    "start_time": "2023-02-05T10:48:37.140Z"
   },
   {
    "duration": 75,
    "start_time": "2023-02-05T10:48:37.162Z"
   },
   {
    "duration": 73,
    "start_time": "2023-02-05T10:48:37.239Z"
   },
   {
    "duration": 6,
    "start_time": "2023-02-05T10:48:37.314Z"
   },
   {
    "duration": 66,
    "start_time": "2023-02-05T10:48:37.322Z"
   },
   {
    "duration": 8,
    "start_time": "2023-02-05T10:48:37.390Z"
   },
   {
    "duration": 36,
    "start_time": "2023-02-05T10:48:37.399Z"
   },
   {
    "duration": 2,
    "start_time": "2023-02-05T10:48:37.437Z"
   },
   {
    "duration": 6,
    "start_time": "2023-02-05T10:48:37.442Z"
   },
   {
    "duration": 8,
    "start_time": "2023-02-05T10:48:37.450Z"
   },
   {
    "duration": 87,
    "start_time": "2023-02-05T10:48:37.460Z"
   },
   {
    "duration": 8,
    "start_time": "2023-02-05T10:48:37.549Z"
   },
   {
    "duration": 22,
    "start_time": "2023-02-05T10:48:37.559Z"
   },
   {
    "duration": 28,
    "start_time": "2023-02-05T10:48:37.583Z"
   },
   {
    "duration": 510,
    "start_time": "2023-02-05T10:48:37.613Z"
   },
   {
    "duration": 5,
    "start_time": "2023-02-05T10:48:38.125Z"
   },
   {
    "duration": 34,
    "start_time": "2023-02-05T10:48:38.132Z"
   },
   {
    "duration": 5,
    "start_time": "2023-02-05T10:48:38.168Z"
   },
   {
    "duration": 10,
    "start_time": "2023-02-05T10:48:38.175Z"
   },
   {
    "duration": 28,
    "start_time": "2023-02-05T10:48:38.187Z"
   },
   {
    "duration": 32,
    "start_time": "2023-02-05T10:48:38.216Z"
   },
   {
    "duration": 5,
    "start_time": "2023-02-05T10:48:38.250Z"
   },
   {
    "duration": 5,
    "start_time": "2023-02-05T10:48:38.256Z"
   },
   {
    "duration": 6,
    "start_time": "2023-02-05T10:48:38.263Z"
   },
   {
    "duration": 87,
    "start_time": "2023-02-05T10:48:38.270Z"
   },
   {
    "duration": 12,
    "start_time": "2023-02-05T10:48:38.359Z"
   },
   {
    "duration": 50,
    "start_time": "2023-02-05T10:48:38.373Z"
   },
   {
    "duration": 4,
    "start_time": "2023-02-05T10:48:38.426Z"
   },
   {
    "duration": 5,
    "start_time": "2023-02-05T10:48:38.431Z"
   },
   {
    "duration": 6,
    "start_time": "2023-02-05T10:48:38.437Z"
   },
   {
    "duration": 7,
    "start_time": "2023-02-05T10:48:38.445Z"
   },
   {
    "duration": 8,
    "start_time": "2023-02-05T10:48:38.454Z"
   },
   {
    "duration": 6,
    "start_time": "2023-02-05T10:48:38.464Z"
   },
   {
    "duration": 9,
    "start_time": "2023-02-05T10:48:38.471Z"
   },
   {
    "duration": 29,
    "start_time": "2023-02-05T10:48:38.482Z"
   },
   {
    "duration": 5,
    "start_time": "2023-02-05T10:48:38.516Z"
   },
   {
    "duration": 6,
    "start_time": "2023-02-05T10:48:38.522Z"
   },
   {
    "duration": 12,
    "start_time": "2023-02-05T10:48:38.529Z"
   },
   {
    "duration": 8,
    "start_time": "2023-02-05T10:48:38.543Z"
   },
   {
    "duration": 14,
    "start_time": "2023-02-05T10:48:38.553Z"
   },
   {
    "duration": 44,
    "start_time": "2023-02-05T10:48:38.569Z"
   },
   {
    "duration": 42,
    "start_time": "2023-02-05T10:48:38.614Z"
   },
   {
    "duration": 26,
    "start_time": "2023-02-05T10:48:38.658Z"
   },
   {
    "duration": 46,
    "start_time": "2023-02-05T10:48:38.685Z"
   },
   {
    "duration": 23,
    "start_time": "2023-02-05T10:48:38.733Z"
   },
   {
    "duration": 12,
    "start_time": "2023-02-05T10:48:38.758Z"
   },
   {
    "duration": 8,
    "start_time": "2023-02-05T10:49:24.980Z"
   },
   {
    "duration": 8,
    "start_time": "2023-02-05T10:49:42.453Z"
   },
   {
    "duration": 6,
    "start_time": "2023-02-05T10:51:42.618Z"
   },
   {
    "duration": 8,
    "start_time": "2023-02-05T10:51:47.119Z"
   },
   {
    "duration": 10,
    "start_time": "2023-02-05T10:57:11.752Z"
   },
   {
    "duration": 11,
    "start_time": "2023-02-05T10:57:27.070Z"
   },
   {
    "duration": 50,
    "start_time": "2023-02-05T11:12:40.689Z"
   },
   {
    "duration": 9,
    "start_time": "2023-02-05T11:15:11.577Z"
   },
   {
    "duration": 2,
    "start_time": "2023-02-05T11:15:35.168Z"
   },
   {
    "duration": 9,
    "start_time": "2023-02-05T11:15:38.142Z"
   },
   {
    "duration": 4,
    "start_time": "2023-02-05T11:23:51.236Z"
   },
   {
    "duration": 149,
    "start_time": "2023-02-05T11:23:51.242Z"
   },
   {
    "duration": 17,
    "start_time": "2023-02-05T11:23:51.393Z"
   },
   {
    "duration": 24,
    "start_time": "2023-02-05T11:23:51.411Z"
   },
   {
    "duration": 3,
    "start_time": "2023-02-05T11:23:51.437Z"
   },
   {
    "duration": 19,
    "start_time": "2023-02-05T11:23:51.441Z"
   },
   {
    "duration": 59,
    "start_time": "2023-02-05T11:23:51.462Z"
   },
   {
    "duration": 50,
    "start_time": "2023-02-05T11:23:51.522Z"
   },
   {
    "duration": 7,
    "start_time": "2023-02-05T11:23:51.574Z"
   },
   {
    "duration": 77,
    "start_time": "2023-02-05T11:23:51.583Z"
   },
   {
    "duration": 13,
    "start_time": "2023-02-05T11:23:51.662Z"
   },
   {
    "duration": 49,
    "start_time": "2023-02-05T11:23:51.676Z"
   },
   {
    "duration": 3,
    "start_time": "2023-02-05T11:23:51.726Z"
   },
   {
    "duration": 6,
    "start_time": "2023-02-05T11:23:51.732Z"
   },
   {
    "duration": 10,
    "start_time": "2023-02-05T11:23:51.742Z"
   },
   {
    "duration": 91,
    "start_time": "2023-02-05T11:23:51.754Z"
   },
   {
    "duration": 9,
    "start_time": "2023-02-05T11:23:51.847Z"
   },
   {
    "duration": 20,
    "start_time": "2023-02-05T11:23:51.857Z"
   },
   {
    "duration": 44,
    "start_time": "2023-02-05T11:23:51.879Z"
   },
   {
    "duration": 550,
    "start_time": "2023-02-05T11:23:51.924Z"
   },
   {
    "duration": 5,
    "start_time": "2023-02-05T11:23:52.476Z"
   },
   {
    "duration": 71,
    "start_time": "2023-02-05T11:23:52.482Z"
   },
   {
    "duration": 4,
    "start_time": "2023-02-05T11:23:52.554Z"
   },
   {
    "duration": 8,
    "start_time": "2023-02-05T11:23:52.560Z"
   },
   {
    "duration": 11,
    "start_time": "2023-02-05T11:23:52.570Z"
   },
   {
    "duration": 56,
    "start_time": "2023-02-05T11:23:52.583Z"
   },
   {
    "duration": 4,
    "start_time": "2023-02-05T11:23:52.640Z"
   },
   {
    "duration": 6,
    "start_time": "2023-02-05T11:23:52.646Z"
   },
   {
    "duration": 9,
    "start_time": "2023-02-05T11:23:52.653Z"
   },
   {
    "duration": 72,
    "start_time": "2023-02-05T11:23:52.663Z"
   },
   {
    "duration": 11,
    "start_time": "2023-02-05T11:23:52.737Z"
   },
   {
    "duration": 33,
    "start_time": "2023-02-05T11:23:52.750Z"
   },
   {
    "duration": 2,
    "start_time": "2023-02-05T11:23:52.785Z"
   },
   {
    "duration": 32,
    "start_time": "2023-02-05T11:23:52.789Z"
   },
   {
    "duration": 15,
    "start_time": "2023-02-05T11:23:52.825Z"
   },
   {
    "duration": 11,
    "start_time": "2023-02-05T11:23:52.841Z"
   },
   {
    "duration": 6,
    "start_time": "2023-02-05T11:23:52.853Z"
   },
   {
    "duration": 6,
    "start_time": "2023-02-05T11:23:52.861Z"
   },
   {
    "duration": 11,
    "start_time": "2023-02-05T11:23:52.868Z"
   },
   {
    "duration": 87,
    "start_time": "2023-02-05T11:23:52.881Z"
   },
   {
    "duration": 7,
    "start_time": "2023-02-05T11:23:52.973Z"
   },
   {
    "duration": 9,
    "start_time": "2023-02-05T11:23:52.982Z"
   },
   {
    "duration": 7,
    "start_time": "2023-02-05T11:23:52.992Z"
   },
   {
    "duration": 15,
    "start_time": "2023-02-05T11:23:53.000Z"
   },
   {
    "duration": 9,
    "start_time": "2023-02-05T11:23:53.016Z"
   },
   {
    "duration": 29,
    "start_time": "2023-02-05T11:23:53.026Z"
   },
   {
    "duration": 23,
    "start_time": "2023-02-05T11:23:53.057Z"
   },
   {
    "duration": 45,
    "start_time": "2023-02-05T11:23:53.082Z"
   },
   {
    "duration": 26,
    "start_time": "2023-02-05T11:23:53.129Z"
   },
   {
    "duration": 30,
    "start_time": "2023-02-05T11:23:53.157Z"
   },
   {
    "duration": 47,
    "start_time": "2023-02-05T11:23:53.189Z"
   },
   {
    "duration": 13,
    "start_time": "2023-02-05T11:23:53.237Z"
   },
   {
    "duration": 3,
    "start_time": "2023-02-05T11:25:27.769Z"
   },
   {
    "duration": 10,
    "start_time": "2023-02-05T11:25:29.029Z"
   },
   {
    "duration": 18,
    "start_time": "2023-02-05T11:26:57.863Z"
   },
   {
    "duration": 38,
    "start_time": "2023-02-05T12:21:41.547Z"
   },
   {
    "duration": 37,
    "start_time": "2023-02-05T12:22:38.522Z"
   },
   {
    "duration": 39,
    "start_time": "2023-02-05T12:24:57.785Z"
   },
   {
    "duration": 38,
    "start_time": "2023-02-05T12:25:06.539Z"
   },
   {
    "duration": 8,
    "start_time": "2023-02-05T14:45:00.009Z"
   },
   {
    "duration": 4,
    "start_time": "2023-02-05T14:56:12.984Z"
   },
   {
    "duration": 164,
    "start_time": "2023-02-05T14:56:12.990Z"
   },
   {
    "duration": 17,
    "start_time": "2023-02-05T14:56:13.155Z"
   },
   {
    "duration": 9,
    "start_time": "2023-02-05T14:56:13.174Z"
   },
   {
    "duration": 6,
    "start_time": "2023-02-05T14:56:13.185Z"
   },
   {
    "duration": 30,
    "start_time": "2023-02-05T14:56:13.192Z"
   },
   {
    "duration": 56,
    "start_time": "2023-02-05T14:56:13.224Z"
   },
   {
    "duration": 86,
    "start_time": "2023-02-05T14:56:13.281Z"
   },
   {
    "duration": 51,
    "start_time": "2023-02-05T14:56:13.368Z"
   },
   {
    "duration": 6,
    "start_time": "2023-02-05T14:56:13.420Z"
   },
   {
    "duration": 65,
    "start_time": "2023-02-05T14:56:13.428Z"
   },
   {
    "duration": 21,
    "start_time": "2023-02-05T14:56:13.495Z"
   },
   {
    "duration": 32,
    "start_time": "2023-02-05T14:56:13.517Z"
   },
   {
    "duration": 2,
    "start_time": "2023-02-05T14:56:13.552Z"
   },
   {
    "duration": 6,
    "start_time": "2023-02-05T14:56:13.556Z"
   },
   {
    "duration": 27,
    "start_time": "2023-02-05T14:56:13.564Z"
   },
   {
    "duration": 69,
    "start_time": "2023-02-05T14:56:13.592Z"
   },
   {
    "duration": 7,
    "start_time": "2023-02-05T14:56:13.663Z"
   },
   {
    "duration": 17,
    "start_time": "2023-02-05T14:56:13.672Z"
   },
   {
    "duration": 39,
    "start_time": "2023-02-05T14:56:13.690Z"
   },
   {
    "duration": 530,
    "start_time": "2023-02-05T14:56:13.731Z"
   },
   {
    "duration": 5,
    "start_time": "2023-02-05T14:56:14.263Z"
   },
   {
    "duration": 41,
    "start_time": "2023-02-05T14:56:14.269Z"
   },
   {
    "duration": 4,
    "start_time": "2023-02-05T14:56:14.311Z"
   },
   {
    "duration": 5,
    "start_time": "2023-02-05T14:56:14.316Z"
   },
   {
    "duration": 14,
    "start_time": "2023-02-05T14:56:14.323Z"
   },
   {
    "duration": 39,
    "start_time": "2023-02-05T14:56:14.339Z"
   },
   {
    "duration": 5,
    "start_time": "2023-02-05T14:56:14.380Z"
   },
   {
    "duration": 29,
    "start_time": "2023-02-05T14:56:14.386Z"
   },
   {
    "duration": 4,
    "start_time": "2023-02-05T14:56:14.417Z"
   },
   {
    "duration": 53,
    "start_time": "2023-02-05T14:56:14.423Z"
   },
   {
    "duration": 33,
    "start_time": "2023-02-05T14:56:14.478Z"
   },
   {
    "duration": 33,
    "start_time": "2023-02-05T14:56:14.512Z"
   },
   {
    "duration": 2,
    "start_time": "2023-02-05T14:56:14.547Z"
   },
   {
    "duration": 8,
    "start_time": "2023-02-05T14:56:14.551Z"
   },
   {
    "duration": 6,
    "start_time": "2023-02-05T14:56:14.561Z"
   },
   {
    "duration": 5,
    "start_time": "2023-02-05T14:56:14.568Z"
   },
   {
    "duration": 6,
    "start_time": "2023-02-05T14:56:14.575Z"
   },
   {
    "duration": 5,
    "start_time": "2023-02-05T14:56:14.610Z"
   },
   {
    "duration": 18,
    "start_time": "2023-02-05T14:56:14.616Z"
   },
   {
    "duration": 4,
    "start_time": "2023-02-05T14:56:14.639Z"
   },
   {
    "duration": 11,
    "start_time": "2023-02-05T14:56:14.645Z"
   },
   {
    "duration": 4,
    "start_time": "2023-02-05T14:56:14.657Z"
   },
   {
    "duration": 7,
    "start_time": "2023-02-05T14:56:14.662Z"
   },
   {
    "duration": 8,
    "start_time": "2023-02-05T14:56:14.670Z"
   },
   {
    "duration": 36,
    "start_time": "2023-02-05T14:56:14.680Z"
   },
   {
    "duration": 9,
    "start_time": "2023-02-05T14:56:14.717Z"
   },
   {
    "duration": 37,
    "start_time": "2023-02-05T14:56:14.727Z"
   },
   {
    "duration": 45,
    "start_time": "2023-02-05T14:56:14.766Z"
   },
   {
    "duration": 23,
    "start_time": "2023-02-05T14:56:14.812Z"
   },
   {
    "duration": 22,
    "start_time": "2023-02-05T14:56:14.837Z"
   },
   {
    "duration": 15,
    "start_time": "2023-02-05T14:56:14.861Z"
   },
   {
    "duration": 42,
    "start_time": "2023-02-05T14:58:34.526Z"
   },
   {
    "duration": 15,
    "start_time": "2023-02-05T14:58:39.560Z"
   },
   {
    "duration": 5,
    "start_time": "2023-02-05T14:58:43.122Z"
   },
   {
    "duration": 160,
    "start_time": "2023-02-05T14:58:43.129Z"
   },
   {
    "duration": 26,
    "start_time": "2023-02-05T14:58:43.290Z"
   },
   {
    "duration": 11,
    "start_time": "2023-02-05T14:58:43.318Z"
   },
   {
    "duration": 7,
    "start_time": "2023-02-05T14:58:43.331Z"
   },
   {
    "duration": 15,
    "start_time": "2023-02-05T14:58:43.340Z"
   },
   {
    "duration": 76,
    "start_time": "2023-02-05T14:58:43.356Z"
   },
   {
    "duration": 57,
    "start_time": "2023-02-05T14:58:43.433Z"
   },
   {
    "duration": 51,
    "start_time": "2023-02-05T14:58:43.492Z"
   },
   {
    "duration": 7,
    "start_time": "2023-02-05T14:58:43.545Z"
   },
   {
    "duration": 75,
    "start_time": "2023-02-05T14:58:43.554Z"
   },
   {
    "duration": 9,
    "start_time": "2023-02-05T14:58:43.632Z"
   },
   {
    "duration": 38,
    "start_time": "2023-02-05T14:58:43.642Z"
   },
   {
    "duration": 2,
    "start_time": "2023-02-05T14:58:43.682Z"
   },
   {
    "duration": 5,
    "start_time": "2023-02-05T14:58:43.686Z"
   },
   {
    "duration": 22,
    "start_time": "2023-02-05T14:58:43.693Z"
   },
   {
    "duration": 53,
    "start_time": "2023-02-05T14:58:43.716Z"
   },
   {
    "duration": 8,
    "start_time": "2023-02-05T14:58:43.770Z"
   },
   {
    "duration": 32,
    "start_time": "2023-02-05T14:58:43.779Z"
   },
   {
    "duration": 15,
    "start_time": "2023-02-05T14:58:43.812Z"
   },
   {
    "duration": 510,
    "start_time": "2023-02-05T14:58:43.828Z"
   },
   {
    "duration": 4,
    "start_time": "2023-02-05T14:58:44.340Z"
   },
   {
    "duration": 30,
    "start_time": "2023-02-05T14:58:44.346Z"
   },
   {
    "duration": 3,
    "start_time": "2023-02-05T14:58:44.378Z"
   },
   {
    "duration": 5,
    "start_time": "2023-02-05T14:58:44.383Z"
   },
   {
    "duration": 25,
    "start_time": "2023-02-05T14:58:44.389Z"
   },
   {
    "duration": 31,
    "start_time": "2023-02-05T14:58:44.415Z"
   },
   {
    "duration": 4,
    "start_time": "2023-02-05T14:58:44.449Z"
   },
   {
    "duration": 8,
    "start_time": "2023-02-05T14:58:44.454Z"
   },
   {
    "duration": 6,
    "start_time": "2023-02-05T14:58:44.463Z"
   },
   {
    "duration": 76,
    "start_time": "2023-02-05T14:58:44.470Z"
   },
   {
    "duration": 11,
    "start_time": "2023-02-05T14:58:44.548Z"
   },
   {
    "duration": 30,
    "start_time": "2023-02-05T14:58:44.561Z"
   },
   {
    "duration": 19,
    "start_time": "2023-02-05T14:58:44.592Z"
   },
   {
    "duration": 19,
    "start_time": "2023-02-05T14:58:44.612Z"
   },
   {
    "duration": 4,
    "start_time": "2023-02-05T14:58:44.633Z"
   },
   {
    "duration": 6,
    "start_time": "2023-02-05T14:58:44.638Z"
   },
   {
    "duration": 6,
    "start_time": "2023-02-05T14:58:44.646Z"
   },
   {
    "duration": 5,
    "start_time": "2023-02-05T14:58:44.654Z"
   },
   {
    "duration": 7,
    "start_time": "2023-02-05T14:58:44.661Z"
   },
   {
    "duration": 7,
    "start_time": "2023-02-05T14:58:44.669Z"
   },
   {
    "duration": 6,
    "start_time": "2023-02-05T14:58:44.709Z"
   },
   {
    "duration": 5,
    "start_time": "2023-02-05T14:58:44.716Z"
   },
   {
    "duration": 7,
    "start_time": "2023-02-05T14:58:44.722Z"
   },
   {
    "duration": 7,
    "start_time": "2023-02-05T14:58:44.731Z"
   },
   {
    "duration": 13,
    "start_time": "2023-02-05T14:58:44.740Z"
   },
   {
    "duration": 9,
    "start_time": "2023-02-05T14:58:44.754Z"
   },
   {
    "duration": 62,
    "start_time": "2023-02-05T14:58:44.765Z"
   },
   {
    "duration": 25,
    "start_time": "2023-02-05T14:58:44.828Z"
   },
   {
    "duration": 22,
    "start_time": "2023-02-05T14:58:44.855Z"
   },
   {
    "duration": 45,
    "start_time": "2023-02-05T14:58:44.878Z"
   },
   {
    "duration": 11,
    "start_time": "2023-02-05T14:58:44.924Z"
   },
   {
    "duration": 6,
    "start_time": "2023-02-05T15:17:48.935Z"
   },
   {
    "duration": 138,
    "start_time": "2023-02-05T15:17:48.943Z"
   },
   {
    "duration": 17,
    "start_time": "2023-02-05T15:17:49.082Z"
   },
   {
    "duration": 17,
    "start_time": "2023-02-05T15:17:49.100Z"
   },
   {
    "duration": 3,
    "start_time": "2023-02-05T15:17:49.118Z"
   },
   {
    "duration": 14,
    "start_time": "2023-02-05T15:17:49.123Z"
   },
   {
    "duration": 72,
    "start_time": "2023-02-05T15:17:49.138Z"
   },
   {
    "duration": 58,
    "start_time": "2023-02-05T15:17:49.211Z"
   },
   {
    "duration": 61,
    "start_time": "2023-02-05T15:17:49.270Z"
   },
   {
    "duration": 7,
    "start_time": "2023-02-05T15:17:49.333Z"
   },
   {
    "duration": 75,
    "start_time": "2023-02-05T15:17:49.342Z"
   },
   {
    "duration": 8,
    "start_time": "2023-02-05T15:17:49.418Z"
   },
   {
    "duration": 27,
    "start_time": "2023-02-05T15:17:49.428Z"
   },
   {
    "duration": 2,
    "start_time": "2023-02-05T15:17:49.457Z"
   },
   {
    "duration": 6,
    "start_time": "2023-02-05T15:17:49.460Z"
   },
   {
    "duration": 7,
    "start_time": "2023-02-05T15:17:49.467Z"
   },
   {
    "duration": 82,
    "start_time": "2023-02-05T15:17:49.476Z"
   },
   {
    "duration": 9,
    "start_time": "2023-02-05T15:17:49.560Z"
   },
   {
    "duration": 20,
    "start_time": "2023-02-05T15:17:49.570Z"
   },
   {
    "duration": 33,
    "start_time": "2023-02-05T15:17:49.591Z"
   },
   {
    "duration": 526,
    "start_time": "2023-02-05T15:17:49.625Z"
   },
   {
    "duration": 6,
    "start_time": "2023-02-05T15:17:50.153Z"
   },
   {
    "duration": 33,
    "start_time": "2023-02-05T15:17:50.160Z"
   },
   {
    "duration": 16,
    "start_time": "2023-02-05T15:17:50.195Z"
   },
   {
    "duration": 3,
    "start_time": "2023-02-05T15:17:50.213Z"
   },
   {
    "duration": 20,
    "start_time": "2023-02-05T15:17:50.218Z"
   },
   {
    "duration": 46,
    "start_time": "2023-02-05T15:17:50.240Z"
   },
   {
    "duration": 6,
    "start_time": "2023-02-05T15:17:50.310Z"
   },
   {
    "duration": 6,
    "start_time": "2023-02-05T15:17:50.317Z"
   },
   {
    "duration": 7,
    "start_time": "2023-02-05T15:17:50.324Z"
   },
   {
    "duration": 58,
    "start_time": "2023-02-05T15:17:50.332Z"
   },
   {
    "duration": 14,
    "start_time": "2023-02-05T15:17:50.410Z"
   },
   {
    "duration": 36,
    "start_time": "2023-02-05T15:17:50.426Z"
   },
   {
    "duration": 2,
    "start_time": "2023-02-05T15:17:50.464Z"
   },
   {
    "duration": 45,
    "start_time": "2023-02-05T15:17:50.468Z"
   },
   {
    "duration": 14,
    "start_time": "2023-02-05T15:17:50.514Z"
   },
   {
    "duration": 224,
    "start_time": "2023-02-05T15:17:50.530Z"
   },
   {
    "duration": 4,
    "start_time": "2023-02-05T15:17:50.756Z"
   },
   {
    "duration": 12,
    "start_time": "2023-02-05T15:17:50.761Z"
   },
   {
    "duration": 8,
    "start_time": "2023-02-05T15:17:50.775Z"
   },
   {
    "duration": 12,
    "start_time": "2023-02-05T15:17:50.784Z"
   },
   {
    "duration": 24,
    "start_time": "2023-02-05T15:17:50.797Z"
   },
   {
    "duration": 10,
    "start_time": "2023-02-05T15:17:50.823Z"
   },
   {
    "duration": 82,
    "start_time": "2023-02-05T15:17:50.834Z"
   },
   {
    "duration": 25,
    "start_time": "2023-02-05T15:17:50.917Z"
   },
   {
    "duration": 22,
    "start_time": "2023-02-05T15:17:50.944Z"
   },
   {
    "duration": 42,
    "start_time": "2023-02-05T15:17:50.968Z"
   },
   {
    "duration": 12,
    "start_time": "2023-02-05T15:17:51.011Z"
   },
   {
    "duration": 21,
    "start_time": "2023-02-05T15:24:14.752Z"
   },
   {
    "duration": 12,
    "start_time": "2023-02-05T15:26:00.328Z"
   },
   {
    "duration": 11,
    "start_time": "2023-02-05T15:26:19.624Z"
   },
   {
    "duration": 10,
    "start_time": "2023-02-05T15:32:08.478Z"
   },
   {
    "duration": 528,
    "start_time": "2023-02-05T15:38:09.281Z"
   },
   {
    "duration": 8,
    "start_time": "2023-02-05T15:38:23.992Z"
   },
   {
    "duration": 494,
    "start_time": "2023-02-05T15:38:25.789Z"
   },
   {
    "duration": 4,
    "start_time": "2023-02-05T15:38:52.432Z"
   },
   {
    "duration": 55,
    "start_time": "2023-02-05T16:16:45.618Z"
   },
   {
    "duration": 10,
    "start_time": "2023-02-05T16:17:36.077Z"
   },
   {
    "duration": 4,
    "start_time": "2023-02-05T16:17:54.684Z"
   },
   {
    "duration": 145,
    "start_time": "2023-02-05T16:17:54.690Z"
   },
   {
    "duration": 17,
    "start_time": "2023-02-05T16:17:54.837Z"
   },
   {
    "duration": 14,
    "start_time": "2023-02-05T16:17:54.856Z"
   },
   {
    "duration": 6,
    "start_time": "2023-02-05T16:17:54.872Z"
   },
   {
    "duration": 18,
    "start_time": "2023-02-05T16:17:54.879Z"
   },
   {
    "duration": 69,
    "start_time": "2023-02-05T16:17:54.898Z"
   },
   {
    "duration": 76,
    "start_time": "2023-02-05T16:17:54.968Z"
   },
   {
    "duration": 44,
    "start_time": "2023-02-05T16:17:55.046Z"
   },
   {
    "duration": 18,
    "start_time": "2023-02-05T16:17:55.092Z"
   },
   {
    "duration": 59,
    "start_time": "2023-02-05T16:17:55.113Z"
   },
   {
    "duration": 11,
    "start_time": "2023-02-05T16:17:55.174Z"
   },
   {
    "duration": 39,
    "start_time": "2023-02-05T16:17:55.187Z"
   },
   {
    "duration": 3,
    "start_time": "2023-02-05T16:17:55.227Z"
   },
   {
    "duration": 7,
    "start_time": "2023-02-05T16:17:55.232Z"
   },
   {
    "duration": 8,
    "start_time": "2023-02-05T16:17:55.241Z"
   },
   {
    "duration": 77,
    "start_time": "2023-02-05T16:17:55.251Z"
   },
   {
    "duration": 8,
    "start_time": "2023-02-05T16:17:55.329Z"
   },
   {
    "duration": 15,
    "start_time": "2023-02-05T16:17:55.338Z"
   },
   {
    "duration": 16,
    "start_time": "2023-02-05T16:17:55.355Z"
   },
   {
    "duration": 578,
    "start_time": "2023-02-05T16:17:55.373Z"
   },
   {
    "duration": 6,
    "start_time": "2023-02-05T16:17:55.952Z"
   },
   {
    "duration": 31,
    "start_time": "2023-02-05T16:17:55.959Z"
   },
   {
    "duration": 4,
    "start_time": "2023-02-05T16:17:55.991Z"
   },
   {
    "duration": 4,
    "start_time": "2023-02-05T16:17:56.010Z"
   },
   {
    "duration": 13,
    "start_time": "2023-02-05T16:17:56.016Z"
   },
   {
    "duration": 34,
    "start_time": "2023-02-05T16:17:56.031Z"
   },
   {
    "duration": 4,
    "start_time": "2023-02-05T16:17:56.067Z"
   },
   {
    "duration": 36,
    "start_time": "2023-02-05T16:17:56.074Z"
   },
   {
    "duration": 4,
    "start_time": "2023-02-05T16:17:56.112Z"
   },
   {
    "duration": 60,
    "start_time": "2023-02-05T16:17:56.118Z"
   },
   {
    "duration": 12,
    "start_time": "2023-02-05T16:17:56.180Z"
   },
   {
    "duration": 33,
    "start_time": "2023-02-05T16:17:56.210Z"
   },
   {
    "duration": 2,
    "start_time": "2023-02-05T16:17:56.245Z"
   },
   {
    "duration": 19,
    "start_time": "2023-02-05T16:17:56.248Z"
   },
   {
    "duration": 13,
    "start_time": "2023-02-05T16:17:56.268Z"
   },
   {
    "duration": 32,
    "start_time": "2023-02-05T16:17:56.282Z"
   },
   {
    "duration": 6,
    "start_time": "2023-02-05T16:17:56.315Z"
   },
   {
    "duration": 9,
    "start_time": "2023-02-05T16:17:56.322Z"
   },
   {
    "duration": 15,
    "start_time": "2023-02-05T16:17:56.333Z"
   },
   {
    "duration": 6,
    "start_time": "2023-02-05T16:17:56.350Z"
   },
   {
    "duration": 10,
    "start_time": "2023-02-05T16:17:56.358Z"
   },
   {
    "duration": 0,
    "start_time": "2023-02-05T16:17:56.370Z"
   },
   {
    "duration": 0,
    "start_time": "2023-02-05T16:17:56.372Z"
   },
   {
    "duration": 0,
    "start_time": "2023-02-05T16:17:56.373Z"
   },
   {
    "duration": 0,
    "start_time": "2023-02-05T16:17:56.375Z"
   },
   {
    "duration": 0,
    "start_time": "2023-02-05T16:17:56.376Z"
   },
   {
    "duration": 0,
    "start_time": "2023-02-05T16:17:56.378Z"
   },
   {
    "duration": 0,
    "start_time": "2023-02-05T16:17:56.379Z"
   },
   {
    "duration": 16,
    "start_time": "2023-02-05T16:18:13.245Z"
   },
   {
    "duration": 26,
    "start_time": "2023-02-05T16:21:04.631Z"
   },
   {
    "duration": 46,
    "start_time": "2023-02-05T16:27:59.182Z"
   },
   {
    "duration": 46,
    "start_time": "2023-02-05T16:28:13.468Z"
   },
   {
    "duration": 45,
    "start_time": "2023-02-05T16:28:55.885Z"
   },
   {
    "duration": 44,
    "start_time": "2023-02-05T16:30:34.278Z"
   },
   {
    "duration": 4,
    "start_time": "2023-02-05T16:36:27.358Z"
   },
   {
    "duration": 4,
    "start_time": "2023-02-05T16:36:30.679Z"
   },
   {
    "duration": 9,
    "start_time": "2023-02-05T16:36:42.995Z"
   },
   {
    "duration": 9,
    "start_time": "2023-02-05T16:37:27.854Z"
   },
   {
    "duration": 46,
    "start_time": "2023-02-05T16:37:40.341Z"
   },
   {
    "duration": 7,
    "start_time": "2023-02-05T16:37:54.247Z"
   },
   {
    "duration": 8,
    "start_time": "2023-02-05T16:38:37.102Z"
   },
   {
    "duration": 8,
    "start_time": "2023-02-05T16:38:45.291Z"
   },
   {
    "duration": 12,
    "start_time": "2023-02-05T16:43:13.372Z"
   },
   {
    "duration": 5,
    "start_time": "2023-02-05T16:43:20.767Z"
   },
   {
    "duration": 157,
    "start_time": "2023-02-05T16:43:20.774Z"
   },
   {
    "duration": 19,
    "start_time": "2023-02-05T16:43:20.933Z"
   },
   {
    "duration": 13,
    "start_time": "2023-02-05T16:43:20.954Z"
   },
   {
    "duration": 11,
    "start_time": "2023-02-05T16:43:20.969Z"
   },
   {
    "duration": 49,
    "start_time": "2023-02-05T16:43:20.982Z"
   },
   {
    "duration": 106,
    "start_time": "2023-02-05T16:43:21.033Z"
   },
   {
    "duration": 77,
    "start_time": "2023-02-05T16:43:21.141Z"
   },
   {
    "duration": 40,
    "start_time": "2023-02-05T16:43:21.219Z"
   },
   {
    "duration": 6,
    "start_time": "2023-02-05T16:43:21.261Z"
   },
   {
    "duration": 89,
    "start_time": "2023-02-05T16:43:21.269Z"
   },
   {
    "duration": 10,
    "start_time": "2023-02-05T16:43:21.360Z"
   },
   {
    "duration": 40,
    "start_time": "2023-02-05T16:43:21.373Z"
   },
   {
    "duration": 2,
    "start_time": "2023-02-05T16:43:21.414Z"
   },
   {
    "duration": 11,
    "start_time": "2023-02-05T16:43:21.418Z"
   },
   {
    "duration": 10,
    "start_time": "2023-02-05T16:43:21.431Z"
   },
   {
    "duration": 88,
    "start_time": "2023-02-05T16:43:21.443Z"
   },
   {
    "duration": 8,
    "start_time": "2023-02-05T16:43:21.533Z"
   },
   {
    "duration": 27,
    "start_time": "2023-02-05T16:43:21.543Z"
   },
   {
    "duration": 27,
    "start_time": "2023-02-05T16:43:21.572Z"
   },
   {
    "duration": 561,
    "start_time": "2023-02-05T16:43:21.610Z"
   },
   {
    "duration": 5,
    "start_time": "2023-02-05T16:43:22.172Z"
   },
   {
    "duration": 48,
    "start_time": "2023-02-05T16:43:22.179Z"
   },
   {
    "duration": 4,
    "start_time": "2023-02-05T16:43:22.228Z"
   },
   {
    "duration": 5,
    "start_time": "2023-02-05T16:43:22.233Z"
   },
   {
    "duration": 14,
    "start_time": "2023-02-05T16:43:22.239Z"
   },
   {
    "duration": 62,
    "start_time": "2023-02-05T16:43:22.255Z"
   },
   {
    "duration": 6,
    "start_time": "2023-02-05T16:43:22.319Z"
   },
   {
    "duration": 6,
    "start_time": "2023-02-05T16:43:22.334Z"
   },
   {
    "duration": 20,
    "start_time": "2023-02-05T16:43:22.342Z"
   },
   {
    "duration": 100,
    "start_time": "2023-02-05T16:43:22.364Z"
   },
   {
    "duration": 21,
    "start_time": "2023-02-05T16:43:22.466Z"
   },
   {
    "duration": 50,
    "start_time": "2023-02-05T16:43:22.489Z"
   },
   {
    "duration": 2,
    "start_time": "2023-02-05T16:43:22.542Z"
   },
   {
    "duration": 27,
    "start_time": "2023-02-05T16:43:22.546Z"
   },
   {
    "duration": 14,
    "start_time": "2023-02-05T16:43:22.575Z"
   },
   {
    "duration": 31,
    "start_time": "2023-02-05T16:43:22.592Z"
   },
   {
    "duration": 6,
    "start_time": "2023-02-05T16:43:22.625Z"
   },
   {
    "duration": 7,
    "start_time": "2023-02-05T16:43:22.633Z"
   },
   {
    "duration": 4,
    "start_time": "2023-02-05T16:43:22.641Z"
   },
   {
    "duration": 5,
    "start_time": "2023-02-05T16:43:22.647Z"
   },
   {
    "duration": 23,
    "start_time": "2023-02-05T16:43:22.654Z"
   },
   {
    "duration": 28,
    "start_time": "2023-02-05T16:43:22.709Z"
   },
   {
    "duration": 47,
    "start_time": "2023-02-05T16:43:22.739Z"
   },
   {
    "duration": 31,
    "start_time": "2023-02-05T16:43:22.788Z"
   },
   {
    "duration": 56,
    "start_time": "2023-02-05T16:43:22.822Z"
   },
   {
    "duration": 59,
    "start_time": "2023-02-05T16:43:22.880Z"
   },
   {
    "duration": 28,
    "start_time": "2023-02-05T16:43:22.940Z"
   },
   {
    "duration": 42,
    "start_time": "2023-02-05T16:43:22.970Z"
   },
   {
    "duration": 36,
    "start_time": "2023-02-05T16:45:18.384Z"
   },
   {
    "duration": 45,
    "start_time": "2023-02-05T16:45:33.050Z"
   },
   {
    "duration": 45,
    "start_time": "2023-02-05T16:57:18.111Z"
   },
   {
    "duration": 550,
    "start_time": "2023-02-05T17:01:48.728Z"
   },
   {
    "duration": 40,
    "start_time": "2023-02-05T17:02:10.398Z"
   },
   {
    "duration": 496,
    "start_time": "2023-02-05T17:02:12.914Z"
   },
   {
    "duration": 564,
    "start_time": "2023-02-05T17:02:24.895Z"
   },
   {
    "duration": 4,
    "start_time": "2023-02-05T17:04:09.135Z"
   },
   {
    "duration": 140,
    "start_time": "2023-02-05T17:04:09.141Z"
   },
   {
    "duration": 17,
    "start_time": "2023-02-05T17:04:09.283Z"
   },
   {
    "duration": 10,
    "start_time": "2023-02-05T17:04:09.309Z"
   },
   {
    "duration": 10,
    "start_time": "2023-02-05T17:04:09.321Z"
   },
   {
    "duration": 23,
    "start_time": "2023-02-05T17:04:09.332Z"
   },
   {
    "duration": 63,
    "start_time": "2023-02-05T17:04:09.356Z"
   },
   {
    "duration": 59,
    "start_time": "2023-02-05T17:04:09.421Z"
   },
   {
    "duration": 47,
    "start_time": "2023-02-05T17:04:09.481Z"
   },
   {
    "duration": 6,
    "start_time": "2023-02-05T17:04:09.530Z"
   },
   {
    "duration": 56,
    "start_time": "2023-02-05T17:04:09.537Z"
   },
   {
    "duration": 21,
    "start_time": "2023-02-05T17:04:09.594Z"
   },
   {
    "duration": 27,
    "start_time": "2023-02-05T17:04:09.616Z"
   },
   {
    "duration": 2,
    "start_time": "2023-02-05T17:04:09.645Z"
   },
   {
    "duration": 6,
    "start_time": "2023-02-05T17:04:09.649Z"
   },
   {
    "duration": 6,
    "start_time": "2023-02-05T17:04:09.656Z"
   },
   {
    "duration": 78,
    "start_time": "2023-02-05T17:04:09.663Z"
   },
   {
    "duration": 7,
    "start_time": "2023-02-05T17:04:09.742Z"
   },
   {
    "duration": 14,
    "start_time": "2023-02-05T17:04:09.750Z"
   },
   {
    "duration": 17,
    "start_time": "2023-02-05T17:04:09.765Z"
   },
   {
    "duration": 583,
    "start_time": "2023-02-05T17:04:09.783Z"
   },
   {
    "duration": 4,
    "start_time": "2023-02-05T17:04:10.368Z"
   },
   {
    "duration": 39,
    "start_time": "2023-02-05T17:04:10.374Z"
   },
   {
    "duration": 4,
    "start_time": "2023-02-05T17:04:10.414Z"
   },
   {
    "duration": 6,
    "start_time": "2023-02-05T17:04:10.419Z"
   },
   {
    "duration": 12,
    "start_time": "2023-02-05T17:04:10.426Z"
   },
   {
    "duration": 32,
    "start_time": "2023-02-05T17:04:10.439Z"
   },
   {
    "duration": 4,
    "start_time": "2023-02-05T17:04:10.474Z"
   },
   {
    "duration": 33,
    "start_time": "2023-02-05T17:04:10.479Z"
   },
   {
    "duration": 7,
    "start_time": "2023-02-05T17:04:10.513Z"
   },
   {
    "duration": 57,
    "start_time": "2023-02-05T17:04:10.521Z"
   },
   {
    "duration": 11,
    "start_time": "2023-02-05T17:04:10.579Z"
   },
   {
    "duration": 48,
    "start_time": "2023-02-05T17:04:10.592Z"
   },
   {
    "duration": 2,
    "start_time": "2023-02-05T17:04:10.641Z"
   },
   {
    "duration": 20,
    "start_time": "2023-02-05T17:04:10.644Z"
   },
   {
    "duration": 13,
    "start_time": "2023-02-05T17:04:10.665Z"
   },
   {
    "duration": 37,
    "start_time": "2023-02-05T17:04:10.679Z"
   },
   {
    "duration": 5,
    "start_time": "2023-02-05T17:04:10.720Z"
   },
   {
    "duration": 7,
    "start_time": "2023-02-05T17:04:10.726Z"
   },
   {
    "duration": 5,
    "start_time": "2023-02-05T17:04:10.734Z"
   },
   {
    "duration": 13,
    "start_time": "2023-02-05T17:04:10.741Z"
   },
   {
    "duration": 15,
    "start_time": "2023-02-05T17:04:10.755Z"
   },
   {
    "duration": 37,
    "start_time": "2023-02-05T17:04:10.772Z"
   },
   {
    "duration": 44,
    "start_time": "2023-02-05T17:04:10.811Z"
   },
   {
    "duration": 7,
    "start_time": "2023-02-05T17:04:10.857Z"
   },
   {
    "duration": 53,
    "start_time": "2023-02-05T17:04:10.865Z"
   },
   {
    "duration": 490,
    "start_time": "2023-02-05T17:04:10.919Z"
   },
   {
    "duration": 0,
    "start_time": "2023-02-05T17:04:11.411Z"
   },
   {
    "duration": 0,
    "start_time": "2023-02-05T17:04:11.412Z"
   },
   {
    "duration": 0,
    "start_time": "2023-02-05T17:04:11.413Z"
   },
   {
    "duration": 0,
    "start_time": "2023-02-05T17:04:11.414Z"
   },
   {
    "duration": 39,
    "start_time": "2023-02-05T17:05:12.123Z"
   },
   {
    "duration": 40,
    "start_time": "2023-02-05T17:06:38.054Z"
   },
   {
    "duration": 699,
    "start_time": "2023-02-05T17:06:46.060Z"
   },
   {
    "duration": 175,
    "start_time": "2023-02-05T17:13:46.195Z"
   },
   {
    "duration": 3,
    "start_time": "2023-02-05T17:14:11.085Z"
   },
   {
    "duration": 7,
    "start_time": "2023-02-05T17:14:20.155Z"
   },
   {
    "duration": 39,
    "start_time": "2023-02-05T17:14:44.927Z"
   },
   {
    "duration": 8,
    "start_time": "2023-02-05T17:15:01.187Z"
   },
   {
    "duration": 63,
    "start_time": "2023-02-05T17:37:37.573Z"
   },
   {
    "duration": 12,
    "start_time": "2023-02-05T17:37:59.178Z"
   },
   {
    "duration": 55,
    "start_time": "2023-02-05T17:40:07.835Z"
   },
   {
    "duration": 4,
    "start_time": "2023-02-05T17:41:03.138Z"
   },
   {
    "duration": 186,
    "start_time": "2023-02-05T17:45:30.342Z"
   },
   {
    "duration": 10,
    "start_time": "2023-02-05T17:45:39.714Z"
   },
   {
    "duration": 8,
    "start_time": "2023-02-05T17:46:15.964Z"
   },
   {
    "duration": 9,
    "start_time": "2023-02-05T17:47:22.915Z"
   },
   {
    "duration": 195,
    "start_time": "2023-02-05T17:47:36.697Z"
   },
   {
    "duration": 5,
    "start_time": "2023-02-05T17:47:52.961Z"
   },
   {
    "duration": 675,
    "start_time": "2023-02-05T17:48:17.205Z"
   },
   {
    "duration": 682,
    "start_time": "2023-02-05T17:48:49.569Z"
   },
   {
    "duration": 61,
    "start_time": "2023-02-05T17:48:59.981Z"
   },
   {
    "duration": 4,
    "start_time": "2023-02-05T17:49:01.736Z"
   },
   {
    "duration": 4,
    "start_time": "2023-02-05T17:49:37.367Z"
   },
   {
    "duration": 148,
    "start_time": "2023-02-05T17:49:37.373Z"
   },
   {
    "duration": 19,
    "start_time": "2023-02-05T17:49:37.522Z"
   },
   {
    "duration": 9,
    "start_time": "2023-02-05T17:49:37.543Z"
   },
   {
    "duration": 3,
    "start_time": "2023-02-05T17:49:37.554Z"
   },
   {
    "duration": 15,
    "start_time": "2023-02-05T17:49:37.559Z"
   },
   {
    "duration": 86,
    "start_time": "2023-02-05T17:49:37.576Z"
   },
   {
    "duration": 80,
    "start_time": "2023-02-05T17:49:37.664Z"
   },
   {
    "duration": 37,
    "start_time": "2023-02-05T17:49:37.746Z"
   },
   {
    "duration": 5,
    "start_time": "2023-02-05T17:49:37.785Z"
   },
   {
    "duration": 73,
    "start_time": "2023-02-05T17:49:37.792Z"
   },
   {
    "duration": 9,
    "start_time": "2023-02-05T17:49:37.866Z"
   },
   {
    "duration": 47,
    "start_time": "2023-02-05T17:49:37.876Z"
   },
   {
    "duration": 3,
    "start_time": "2023-02-05T17:49:37.925Z"
   },
   {
    "duration": 15,
    "start_time": "2023-02-05T17:49:37.929Z"
   },
   {
    "duration": 7,
    "start_time": "2023-02-05T17:49:37.946Z"
   },
   {
    "duration": 74,
    "start_time": "2023-02-05T17:49:37.954Z"
   },
   {
    "duration": 8,
    "start_time": "2023-02-05T17:49:38.030Z"
   },
   {
    "duration": 15,
    "start_time": "2023-02-05T17:49:38.040Z"
   },
   {
    "duration": 16,
    "start_time": "2023-02-05T17:49:38.056Z"
   },
   {
    "duration": 539,
    "start_time": "2023-02-05T17:49:38.073Z"
   },
   {
    "duration": 6,
    "start_time": "2023-02-05T17:49:38.613Z"
   },
   {
    "duration": 35,
    "start_time": "2023-02-05T17:49:38.620Z"
   },
   {
    "duration": 4,
    "start_time": "2023-02-05T17:49:38.657Z"
   },
   {
    "duration": 8,
    "start_time": "2023-02-05T17:49:38.662Z"
   },
   {
    "duration": 17,
    "start_time": "2023-02-05T17:49:38.672Z"
   },
   {
    "duration": 53,
    "start_time": "2023-02-05T17:49:38.690Z"
   },
   {
    "duration": 5,
    "start_time": "2023-02-05T17:49:38.744Z"
   },
   {
    "duration": 8,
    "start_time": "2023-02-05T17:49:38.751Z"
   },
   {
    "duration": 9,
    "start_time": "2023-02-05T17:49:38.761Z"
   },
   {
    "duration": 86,
    "start_time": "2023-02-05T17:49:38.771Z"
   },
   {
    "duration": 15,
    "start_time": "2023-02-05T17:49:38.858Z"
   },
   {
    "duration": 58,
    "start_time": "2023-02-05T17:49:38.875Z"
   },
   {
    "duration": 3,
    "start_time": "2023-02-05T17:49:38.934Z"
   },
   {
    "duration": 26,
    "start_time": "2023-02-05T17:49:38.938Z"
   },
   {
    "duration": 14,
    "start_time": "2023-02-05T17:49:38.967Z"
   },
   {
    "duration": 30,
    "start_time": "2023-02-05T17:49:38.983Z"
   },
   {
    "duration": 5,
    "start_time": "2023-02-05T17:49:39.015Z"
   },
   {
    "duration": 10,
    "start_time": "2023-02-05T17:49:39.022Z"
   },
   {
    "duration": 8,
    "start_time": "2023-02-05T17:49:39.033Z"
   },
   {
    "duration": 16,
    "start_time": "2023-02-05T17:49:39.045Z"
   },
   {
    "duration": 71,
    "start_time": "2023-02-05T17:49:39.063Z"
   },
   {
    "duration": 57,
    "start_time": "2023-02-05T17:49:39.136Z"
   },
   {
    "duration": 17,
    "start_time": "2023-02-05T17:49:39.194Z"
   },
   {
    "duration": 9,
    "start_time": "2023-02-05T17:49:39.212Z"
   },
   {
    "duration": 48,
    "start_time": "2023-02-05T17:49:39.222Z"
   },
   {
    "duration": 9,
    "start_time": "2023-02-05T17:49:39.272Z"
   },
   {
    "duration": 68,
    "start_time": "2023-02-05T17:49:39.283Z"
   },
   {
    "duration": 24,
    "start_time": "2023-02-05T17:49:39.352Z"
   },
   {
    "duration": 42,
    "start_time": "2023-02-05T17:49:39.378Z"
   },
   {
    "duration": 23,
    "start_time": "2023-02-05T17:49:39.422Z"
   },
   {
    "duration": 180,
    "start_time": "2023-02-05T17:50:25.396Z"
   },
   {
    "duration": 3,
    "start_time": "2023-02-05T17:50:33.478Z"
   },
   {
    "duration": 7,
    "start_time": "2023-02-05T17:50:44.990Z"
   },
   {
    "duration": 7,
    "start_time": "2023-02-05T17:51:19.156Z"
   },
   {
    "duration": 5,
    "start_time": "2023-02-05T17:52:49.354Z"
   },
   {
    "duration": 5,
    "start_time": "2023-02-05T17:53:09.294Z"
   },
   {
    "duration": 59,
    "start_time": "2023-02-05T17:54:29.040Z"
   },
   {
    "duration": 4,
    "start_time": "2023-02-05T17:54:30.403Z"
   },
   {
    "duration": 20,
    "start_time": "2023-02-05T17:54:31.237Z"
   },
   {
    "duration": 4,
    "start_time": "2023-02-05T17:54:53.690Z"
   },
   {
    "duration": 170,
    "start_time": "2023-02-05T17:54:53.696Z"
   },
   {
    "duration": 18,
    "start_time": "2023-02-05T17:54:53.867Z"
   },
   {
    "duration": 27,
    "start_time": "2023-02-05T17:54:53.887Z"
   },
   {
    "duration": 3,
    "start_time": "2023-02-05T17:54:53.916Z"
   },
   {
    "duration": 19,
    "start_time": "2023-02-05T17:54:53.920Z"
   },
   {
    "duration": 78,
    "start_time": "2023-02-05T17:54:53.941Z"
   },
   {
    "duration": 60,
    "start_time": "2023-02-05T17:54:54.020Z"
   },
   {
    "duration": 54,
    "start_time": "2023-02-05T17:54:54.082Z"
   },
   {
    "duration": 7,
    "start_time": "2023-02-05T17:54:54.138Z"
   },
   {
    "duration": 71,
    "start_time": "2023-02-05T17:54:54.146Z"
   },
   {
    "duration": 13,
    "start_time": "2023-02-05T17:54:54.219Z"
   },
   {
    "duration": 30,
    "start_time": "2023-02-05T17:54:54.233Z"
   },
   {
    "duration": 3,
    "start_time": "2023-02-05T17:54:54.264Z"
   },
   {
    "duration": 15,
    "start_time": "2023-02-05T17:54:54.268Z"
   },
   {
    "duration": 26,
    "start_time": "2023-02-05T17:54:54.285Z"
   },
   {
    "duration": 56,
    "start_time": "2023-02-05T17:54:54.313Z"
   },
   {
    "duration": 7,
    "start_time": "2023-02-05T17:54:54.371Z"
   },
   {
    "duration": 31,
    "start_time": "2023-02-05T17:54:54.380Z"
   },
   {
    "duration": 15,
    "start_time": "2023-02-05T17:54:54.413Z"
   },
   {
    "duration": 549,
    "start_time": "2023-02-05T17:54:54.430Z"
   },
   {
    "duration": 5,
    "start_time": "2023-02-05T17:54:54.981Z"
   },
   {
    "duration": 49,
    "start_time": "2023-02-05T17:54:54.988Z"
   },
   {
    "duration": 6,
    "start_time": "2023-02-05T17:54:55.039Z"
   },
   {
    "duration": 14,
    "start_time": "2023-02-05T17:54:55.047Z"
   },
   {
    "duration": 27,
    "start_time": "2023-02-05T17:54:55.063Z"
   },
   {
    "duration": 36,
    "start_time": "2023-02-05T17:54:55.092Z"
   },
   {
    "duration": 4,
    "start_time": "2023-02-05T17:54:55.132Z"
   },
   {
    "duration": 13,
    "start_time": "2023-02-05T17:54:55.138Z"
   },
   {
    "duration": 14,
    "start_time": "2023-02-05T17:54:55.153Z"
   },
   {
    "duration": 65,
    "start_time": "2023-02-05T17:54:55.169Z"
   },
   {
    "duration": 14,
    "start_time": "2023-02-05T17:54:55.235Z"
   },
   {
    "duration": 35,
    "start_time": "2023-02-05T17:54:55.251Z"
   },
   {
    "duration": 21,
    "start_time": "2023-02-05T17:54:55.289Z"
   },
   {
    "duration": 32,
    "start_time": "2023-02-05T17:54:55.312Z"
   },
   {
    "duration": 16,
    "start_time": "2023-02-05T17:54:55.346Z"
   },
   {
    "duration": 24,
    "start_time": "2023-02-05T17:54:55.363Z"
   },
   {
    "duration": 22,
    "start_time": "2023-02-05T17:54:55.388Z"
   },
   {
    "duration": 10,
    "start_time": "2023-02-05T17:54:55.412Z"
   },
   {
    "duration": 10,
    "start_time": "2023-02-05T17:54:55.424Z"
   },
   {
    "duration": 6,
    "start_time": "2023-02-05T17:54:55.435Z"
   },
   {
    "duration": 68,
    "start_time": "2023-02-05T17:54:55.443Z"
   },
   {
    "duration": 72,
    "start_time": "2023-02-05T17:54:55.513Z"
   },
   {
    "duration": 4,
    "start_time": "2023-02-05T17:54:55.587Z"
   },
   {
    "duration": 13,
    "start_time": "2023-02-05T17:54:55.612Z"
   },
   {
    "duration": 15,
    "start_time": "2023-02-05T17:54:55.627Z"
   },
   {
    "duration": 5,
    "start_time": "2023-02-05T17:54:55.644Z"
   },
   {
    "duration": 74,
    "start_time": "2023-02-05T17:54:55.652Z"
   },
   {
    "duration": 9,
    "start_time": "2023-02-05T17:54:55.728Z"
   },
   {
    "duration": 39,
    "start_time": "2023-02-05T17:54:55.739Z"
   },
   {
    "duration": 47,
    "start_time": "2023-02-05T17:54:55.780Z"
   },
   {
    "duration": 26,
    "start_time": "2023-02-05T17:54:55.828Z"
   },
   {
    "duration": 22,
    "start_time": "2023-02-05T17:54:55.856Z"
   },
   {
    "duration": 12,
    "start_time": "2023-02-05T18:05:37.807Z"
   },
   {
    "duration": 10,
    "start_time": "2023-02-05T18:16:00.383Z"
   },
   {
    "duration": 13,
    "start_time": "2023-02-05T18:16:26.704Z"
   },
   {
    "duration": 10,
    "start_time": "2023-02-05T18:18:02.170Z"
   },
   {
    "duration": 9,
    "start_time": "2023-02-05T18:21:40.893Z"
   },
   {
    "duration": 3,
    "start_time": "2023-02-05T18:32:41.409Z"
   },
   {
    "duration": 13,
    "start_time": "2023-02-05T18:35:22.194Z"
   },
   {
    "duration": 18,
    "start_time": "2023-02-05T18:42:08.063Z"
   },
   {
    "duration": 75,
    "start_time": "2023-02-05T18:42:22.221Z"
   },
   {
    "duration": 13,
    "start_time": "2023-02-05T18:49:45.304Z"
   },
   {
    "duration": 12,
    "start_time": "2023-02-05T18:50:12.363Z"
   },
   {
    "duration": 6,
    "start_time": "2023-02-05T18:51:31.842Z"
   },
   {
    "duration": 11,
    "start_time": "2023-02-05T18:51:44.790Z"
   },
   {
    "duration": 10,
    "start_time": "2023-02-05T18:52:53.719Z"
   },
   {
    "duration": 8,
    "start_time": "2023-02-05T20:17:54.543Z"
   },
   {
    "duration": 5,
    "start_time": "2023-02-05T20:36:49.187Z"
   },
   {
    "duration": 11,
    "start_time": "2023-02-05T20:37:02.938Z"
   },
   {
    "duration": 6,
    "start_time": "2023-02-05T20:37:03.674Z"
   },
   {
    "duration": 4,
    "start_time": "2023-02-05T20:37:04.443Z"
   },
   {
    "duration": 10,
    "start_time": "2023-02-05T20:38:17.479Z"
   },
   {
    "duration": 6,
    "start_time": "2023-02-05T20:38:38.072Z"
   },
   {
    "duration": 9,
    "start_time": "2023-02-05T20:38:51.183Z"
   },
   {
    "duration": 4,
    "start_time": "2023-02-05T20:39:36.973Z"
   },
   {
    "duration": 4,
    "start_time": "2023-02-05T20:39:40.476Z"
   },
   {
    "duration": 9,
    "start_time": "2023-02-05T20:39:43.972Z"
   },
   {
    "duration": 5,
    "start_time": "2023-02-05T20:39:55.196Z"
   },
   {
    "duration": 166,
    "start_time": "2023-02-05T20:39:55.203Z"
   },
   {
    "duration": 19,
    "start_time": "2023-02-05T20:39:55.370Z"
   },
   {
    "duration": 22,
    "start_time": "2023-02-05T20:39:55.391Z"
   },
   {
    "duration": 9,
    "start_time": "2023-02-05T20:39:55.415Z"
   },
   {
    "duration": 16,
    "start_time": "2023-02-05T20:39:55.425Z"
   },
   {
    "duration": 67,
    "start_time": "2023-02-05T20:39:55.442Z"
   },
   {
    "duration": 58,
    "start_time": "2023-02-05T20:39:55.510Z"
   },
   {
    "duration": 49,
    "start_time": "2023-02-05T20:39:55.570Z"
   },
   {
    "duration": 6,
    "start_time": "2023-02-05T20:39:55.622Z"
   },
   {
    "duration": 64,
    "start_time": "2023-02-05T20:39:55.629Z"
   },
   {
    "duration": 19,
    "start_time": "2023-02-05T20:39:55.695Z"
   },
   {
    "duration": 32,
    "start_time": "2023-02-05T20:39:55.716Z"
   },
   {
    "duration": 10,
    "start_time": "2023-02-05T20:39:55.750Z"
   },
   {
    "duration": 12,
    "start_time": "2023-02-05T20:39:55.762Z"
   },
   {
    "duration": 9,
    "start_time": "2023-02-05T20:39:55.776Z"
   },
   {
    "duration": 57,
    "start_time": "2023-02-05T20:39:55.786Z"
   },
   {
    "duration": 7,
    "start_time": "2023-02-05T20:39:55.845Z"
   },
   {
    "duration": 15,
    "start_time": "2023-02-05T20:39:55.853Z"
   },
   {
    "duration": 17,
    "start_time": "2023-02-05T20:39:55.870Z"
   },
   {
    "duration": 554,
    "start_time": "2023-02-05T20:39:55.889Z"
   },
   {
    "duration": 5,
    "start_time": "2023-02-05T20:39:56.444Z"
   },
   {
    "duration": 32,
    "start_time": "2023-02-05T20:39:56.451Z"
   },
   {
    "duration": 4,
    "start_time": "2023-02-05T20:39:56.485Z"
   },
   {
    "duration": 21,
    "start_time": "2023-02-05T20:39:56.490Z"
   },
   {
    "duration": 11,
    "start_time": "2023-02-05T20:39:56.512Z"
   },
   {
    "duration": 33,
    "start_time": "2023-02-05T20:39:56.525Z"
   },
   {
    "duration": 4,
    "start_time": "2023-02-05T20:39:56.562Z"
   },
   {
    "duration": 14,
    "start_time": "2023-02-05T20:39:56.568Z"
   },
   {
    "duration": 28,
    "start_time": "2023-02-05T20:39:56.583Z"
   },
   {
    "duration": 57,
    "start_time": "2023-02-05T20:39:56.613Z"
   },
   {
    "duration": 13,
    "start_time": "2023-02-05T20:39:56.672Z"
   },
   {
    "duration": 54,
    "start_time": "2023-02-05T20:39:56.687Z"
   },
   {
    "duration": 2,
    "start_time": "2023-02-05T20:39:56.743Z"
   },
   {
    "duration": 20,
    "start_time": "2023-02-05T20:39:56.747Z"
   },
   {
    "duration": 13,
    "start_time": "2023-02-05T20:39:56.769Z"
   },
   {
    "duration": 35,
    "start_time": "2023-02-05T20:39:56.783Z"
   },
   {
    "duration": 9,
    "start_time": "2023-02-05T20:39:56.820Z"
   },
   {
    "duration": 13,
    "start_time": "2023-02-05T20:39:56.831Z"
   },
   {
    "duration": 16,
    "start_time": "2023-02-05T20:39:56.846Z"
   },
   {
    "duration": 23,
    "start_time": "2023-02-05T20:39:56.864Z"
   },
   {
    "duration": 71,
    "start_time": "2023-02-05T20:39:56.890Z"
   },
   {
    "duration": 78,
    "start_time": "2023-02-05T20:39:56.962Z"
   },
   {
    "duration": 10,
    "start_time": "2023-02-05T20:39:57.042Z"
   },
   {
    "duration": 13,
    "start_time": "2023-02-05T20:39:57.054Z"
   },
   {
    "duration": 11,
    "start_time": "2023-02-05T20:39:57.069Z"
   },
   {
    "duration": 11,
    "start_time": "2023-02-05T20:39:57.110Z"
   },
   {
    "duration": 10,
    "start_time": "2023-02-05T20:39:57.123Z"
   },
   {
    "duration": 11,
    "start_time": "2023-02-05T20:39:57.134Z"
   },
   {
    "duration": 96,
    "start_time": "2023-02-05T20:39:57.146Z"
   },
   {
    "duration": 10,
    "start_time": "2023-02-05T20:39:57.244Z"
   },
   {
    "duration": 7,
    "start_time": "2023-02-05T20:39:57.256Z"
   },
   {
    "duration": 6,
    "start_time": "2023-02-05T20:39:57.264Z"
   },
   {
    "duration": 5,
    "start_time": "2023-02-05T20:39:57.271Z"
   },
   {
    "duration": 34,
    "start_time": "2023-02-05T20:39:57.277Z"
   },
   {
    "duration": 42,
    "start_time": "2023-02-05T20:39:57.313Z"
   },
   {
    "duration": 0,
    "start_time": "2023-02-05T20:39:57.356Z"
   },
   {
    "duration": 0,
    "start_time": "2023-02-05T20:39:57.358Z"
   },
   {
    "duration": 0,
    "start_time": "2023-02-05T20:39:57.359Z"
   },
   {
    "duration": 0,
    "start_time": "2023-02-05T20:39:57.361Z"
   },
   {
    "duration": 4,
    "start_time": "2023-02-05T20:40:44.596Z"
   },
   {
    "duration": 9,
    "start_time": "2023-02-05T20:40:49.284Z"
   },
   {
    "duration": 3,
    "start_time": "2023-02-05T20:40:53.989Z"
   },
   {
    "duration": 144,
    "start_time": "2023-02-05T20:40:53.994Z"
   },
   {
    "duration": 17,
    "start_time": "2023-02-05T20:40:54.140Z"
   },
   {
    "duration": 9,
    "start_time": "2023-02-05T20:40:54.159Z"
   },
   {
    "duration": 3,
    "start_time": "2023-02-05T20:40:54.170Z"
   },
   {
    "duration": 36,
    "start_time": "2023-02-05T20:40:54.174Z"
   },
   {
    "duration": 52,
    "start_time": "2023-02-05T20:40:54.212Z"
   },
   {
    "duration": 72,
    "start_time": "2023-02-05T20:40:54.266Z"
   },
   {
    "duration": 37,
    "start_time": "2023-02-05T20:40:54.340Z"
   },
   {
    "duration": 6,
    "start_time": "2023-02-05T20:40:54.378Z"
   },
   {
    "duration": 70,
    "start_time": "2023-02-05T20:40:54.386Z"
   },
   {
    "duration": 8,
    "start_time": "2023-02-05T20:40:54.457Z"
   },
   {
    "duration": 27,
    "start_time": "2023-02-05T20:40:54.467Z"
   },
   {
    "duration": 2,
    "start_time": "2023-02-05T20:40:54.509Z"
   },
   {
    "duration": 5,
    "start_time": "2023-02-05T20:40:54.513Z"
   },
   {
    "duration": 7,
    "start_time": "2023-02-05T20:40:54.520Z"
   },
   {
    "duration": 55,
    "start_time": "2023-02-05T20:40:54.528Z"
   },
   {
    "duration": 30,
    "start_time": "2023-02-05T20:40:54.584Z"
   },
   {
    "duration": 23,
    "start_time": "2023-02-05T20:40:54.615Z"
   },
   {
    "duration": 16,
    "start_time": "2023-02-05T20:40:54.640Z"
   },
   {
    "duration": 520,
    "start_time": "2023-02-05T20:40:54.657Z"
   },
   {
    "duration": 4,
    "start_time": "2023-02-05T20:40:55.179Z"
   },
   {
    "duration": 43,
    "start_time": "2023-02-05T20:40:55.185Z"
   },
   {
    "duration": 3,
    "start_time": "2023-02-05T20:40:55.230Z"
   },
   {
    "duration": 5,
    "start_time": "2023-02-05T20:40:55.235Z"
   },
   {
    "duration": 11,
    "start_time": "2023-02-05T20:40:55.241Z"
   },
   {
    "duration": 58,
    "start_time": "2023-02-05T20:40:55.253Z"
   },
   {
    "duration": 11,
    "start_time": "2023-02-05T20:40:55.313Z"
   },
   {
    "duration": 8,
    "start_time": "2023-02-05T20:40:55.326Z"
   },
   {
    "duration": 6,
    "start_time": "2023-02-05T20:40:55.336Z"
   },
   {
    "duration": 71,
    "start_time": "2023-02-05T20:40:55.343Z"
   },
   {
    "duration": 11,
    "start_time": "2023-02-05T20:40:55.416Z"
   },
   {
    "duration": 30,
    "start_time": "2023-02-05T20:40:55.428Z"
   },
   {
    "duration": 2,
    "start_time": "2023-02-05T20:40:55.460Z"
   },
   {
    "duration": 27,
    "start_time": "2023-02-05T20:40:55.463Z"
   },
   {
    "duration": 28,
    "start_time": "2023-02-05T20:40:55.491Z"
   },
   {
    "duration": 10,
    "start_time": "2023-02-05T20:40:55.520Z"
   },
   {
    "duration": 17,
    "start_time": "2023-02-05T20:40:55.532Z"
   },
   {
    "duration": 10,
    "start_time": "2023-02-05T20:40:55.551Z"
   },
   {
    "duration": 14,
    "start_time": "2023-02-05T20:40:55.563Z"
   },
   {
    "duration": 8,
    "start_time": "2023-02-05T20:40:55.581Z"
   },
   {
    "duration": 56,
    "start_time": "2023-02-05T20:40:55.591Z"
   },
   {
    "duration": 62,
    "start_time": "2023-02-05T20:40:55.649Z"
   },
   {
    "duration": 8,
    "start_time": "2023-02-05T20:40:55.712Z"
   },
   {
    "duration": 10,
    "start_time": "2023-02-05T20:40:55.721Z"
   },
   {
    "duration": 9,
    "start_time": "2023-02-05T20:40:55.732Z"
   },
   {
    "duration": 8,
    "start_time": "2023-02-05T20:40:55.743Z"
   },
   {
    "duration": 15,
    "start_time": "2023-02-05T20:40:55.753Z"
   },
   {
    "duration": 12,
    "start_time": "2023-02-05T20:40:55.770Z"
   },
   {
    "duration": 71,
    "start_time": "2023-02-05T20:40:55.809Z"
   },
   {
    "duration": 11,
    "start_time": "2023-02-05T20:40:55.881Z"
   },
   {
    "duration": 18,
    "start_time": "2023-02-05T20:40:55.893Z"
   },
   {
    "duration": 4,
    "start_time": "2023-02-05T20:40:55.912Z"
   },
   {
    "duration": 4,
    "start_time": "2023-02-05T20:40:55.918Z"
   },
   {
    "duration": 8,
    "start_time": "2023-02-05T20:40:55.924Z"
   },
   {
    "duration": 46,
    "start_time": "2023-02-05T20:40:55.934Z"
   },
   {
    "duration": 0,
    "start_time": "2023-02-05T20:40:55.981Z"
   },
   {
    "duration": 0,
    "start_time": "2023-02-05T20:40:55.982Z"
   },
   {
    "duration": 0,
    "start_time": "2023-02-05T20:40:55.983Z"
   },
   {
    "duration": 0,
    "start_time": "2023-02-05T20:40:55.984Z"
   },
   {
    "duration": 12,
    "start_time": "2023-02-05T20:42:17.410Z"
   },
   {
    "duration": 6,
    "start_time": "2023-02-05T20:42:18.265Z"
   },
   {
    "duration": 4,
    "start_time": "2023-02-05T20:42:34.602Z"
   },
   {
    "duration": 141,
    "start_time": "2023-02-05T20:42:34.608Z"
   },
   {
    "duration": 18,
    "start_time": "2023-02-05T20:42:34.750Z"
   },
   {
    "duration": 9,
    "start_time": "2023-02-05T20:42:34.770Z"
   },
   {
    "duration": 10,
    "start_time": "2023-02-05T20:42:34.780Z"
   },
   {
    "duration": 30,
    "start_time": "2023-02-05T20:42:34.791Z"
   },
   {
    "duration": 63,
    "start_time": "2023-02-05T20:42:34.823Z"
   },
   {
    "duration": 56,
    "start_time": "2023-02-05T20:42:34.887Z"
   },
   {
    "duration": 39,
    "start_time": "2023-02-05T20:42:34.945Z"
   },
   {
    "duration": 23,
    "start_time": "2023-02-05T20:42:34.987Z"
   },
   {
    "duration": 59,
    "start_time": "2023-02-05T20:42:35.011Z"
   },
   {
    "duration": 16,
    "start_time": "2023-02-05T20:42:35.072Z"
   },
   {
    "duration": 43,
    "start_time": "2023-02-05T20:42:35.090Z"
   },
   {
    "duration": 2,
    "start_time": "2023-02-05T20:42:35.134Z"
   },
   {
    "duration": 6,
    "start_time": "2023-02-05T20:42:35.138Z"
   },
   {
    "duration": 7,
    "start_time": "2023-02-05T20:42:35.146Z"
   },
   {
    "duration": 73,
    "start_time": "2023-02-05T20:42:35.155Z"
   },
   {
    "duration": 6,
    "start_time": "2023-02-05T20:42:35.230Z"
   },
   {
    "duration": 23,
    "start_time": "2023-02-05T20:42:35.238Z"
   },
   {
    "duration": 27,
    "start_time": "2023-02-05T20:42:35.262Z"
   },
   {
    "duration": 521,
    "start_time": "2023-02-05T20:42:35.290Z"
   },
   {
    "duration": 4,
    "start_time": "2023-02-05T20:42:35.813Z"
   },
   {
    "duration": 33,
    "start_time": "2023-02-05T20:42:35.819Z"
   },
   {
    "duration": 3,
    "start_time": "2023-02-05T20:42:35.854Z"
   },
   {
    "duration": 8,
    "start_time": "2023-02-05T20:42:35.858Z"
   },
   {
    "duration": 13,
    "start_time": "2023-02-05T20:42:35.867Z"
   },
   {
    "duration": 52,
    "start_time": "2023-02-05T20:42:35.881Z"
   },
   {
    "duration": 5,
    "start_time": "2023-02-05T20:42:35.936Z"
   },
   {
    "duration": 6,
    "start_time": "2023-02-05T20:42:35.942Z"
   },
   {
    "duration": 7,
    "start_time": "2023-02-05T20:42:35.950Z"
   },
   {
    "duration": 71,
    "start_time": "2023-02-05T20:42:35.958Z"
   },
   {
    "duration": 11,
    "start_time": "2023-02-05T20:42:36.030Z"
   },
   {
    "duration": 30,
    "start_time": "2023-02-05T20:42:36.043Z"
   },
   {
    "duration": 2,
    "start_time": "2023-02-05T20:42:36.075Z"
   },
   {
    "duration": 39,
    "start_time": "2023-02-05T20:42:36.079Z"
   },
   {
    "duration": 78,
    "start_time": "2023-02-05T20:42:36.120Z"
   },
   {
    "duration": 17,
    "start_time": "2023-02-05T20:42:36.199Z"
   },
   {
    "duration": 3,
    "start_time": "2023-02-05T20:42:36.218Z"
   },
   {
    "duration": 6,
    "start_time": "2023-02-05T20:42:36.223Z"
   },
   {
    "duration": 7,
    "start_time": "2023-02-05T20:42:36.230Z"
   },
   {
    "duration": 5,
    "start_time": "2023-02-05T20:42:36.238Z"
   },
   {
    "duration": 73,
    "start_time": "2023-02-05T20:42:36.244Z"
   },
   {
    "duration": 54,
    "start_time": "2023-02-05T20:42:36.318Z"
   },
   {
    "duration": 8,
    "start_time": "2023-02-05T20:42:36.373Z"
   },
   {
    "duration": 29,
    "start_time": "2023-02-05T20:42:36.383Z"
   },
   {
    "duration": 9,
    "start_time": "2023-02-05T20:42:36.413Z"
   },
   {
    "duration": 10,
    "start_time": "2023-02-05T20:42:36.423Z"
   },
   {
    "duration": 6,
    "start_time": "2023-02-05T20:42:36.434Z"
   },
   {
    "duration": 9,
    "start_time": "2023-02-05T20:42:36.442Z"
   },
   {
    "duration": 99,
    "start_time": "2023-02-05T20:42:36.452Z"
   },
   {
    "duration": 10,
    "start_time": "2023-02-05T20:42:36.552Z"
   },
   {
    "duration": 10,
    "start_time": "2023-02-05T20:42:36.564Z"
   },
   {
    "duration": 4,
    "start_time": "2023-02-05T20:42:36.575Z"
   },
   {
    "duration": 10,
    "start_time": "2023-02-05T20:42:36.580Z"
   },
   {
    "duration": 3,
    "start_time": "2023-02-05T20:42:36.592Z"
   },
   {
    "duration": 42,
    "start_time": "2023-02-05T20:42:36.596Z"
   },
   {
    "duration": 0,
    "start_time": "2023-02-05T20:42:36.640Z"
   },
   {
    "duration": 0,
    "start_time": "2023-02-05T20:42:36.641Z"
   },
   {
    "duration": 0,
    "start_time": "2023-02-05T20:42:36.642Z"
   },
   {
    "duration": 0,
    "start_time": "2023-02-05T20:42:36.643Z"
   },
   {
    "duration": 65,
    "start_time": "2023-02-05T21:06:06.500Z"
   },
   {
    "duration": 53,
    "start_time": "2023-02-05T21:07:47.936Z"
   },
   {
    "duration": 4,
    "start_time": "2023-02-05T21:08:21.173Z"
   },
   {
    "duration": 152,
    "start_time": "2023-02-05T21:08:21.178Z"
   },
   {
    "duration": 18,
    "start_time": "2023-02-05T21:08:21.331Z"
   },
   {
    "duration": 9,
    "start_time": "2023-02-05T21:08:21.351Z"
   },
   {
    "duration": 4,
    "start_time": "2023-02-05T21:08:21.361Z"
   },
   {
    "duration": 16,
    "start_time": "2023-02-05T21:08:21.367Z"
   },
   {
    "duration": 75,
    "start_time": "2023-02-05T21:08:21.385Z"
   },
   {
    "duration": 70,
    "start_time": "2023-02-05T21:08:21.462Z"
   },
   {
    "duration": 39,
    "start_time": "2023-02-05T21:08:21.535Z"
   },
   {
    "duration": 6,
    "start_time": "2023-02-05T21:08:21.577Z"
   },
   {
    "duration": 77,
    "start_time": "2023-02-05T21:08:21.584Z"
   },
   {
    "duration": 8,
    "start_time": "2023-02-05T21:08:21.662Z"
   },
   {
    "duration": 27,
    "start_time": "2023-02-05T21:08:21.671Z"
   },
   {
    "duration": 2,
    "start_time": "2023-02-05T21:08:21.710Z"
   },
   {
    "duration": 7,
    "start_time": "2023-02-05T21:08:21.713Z"
   },
   {
    "duration": 7,
    "start_time": "2023-02-05T21:08:21.721Z"
   },
   {
    "duration": 55,
    "start_time": "2023-02-05T21:08:21.729Z"
   },
   {
    "duration": 26,
    "start_time": "2023-02-05T21:08:21.785Z"
   },
   {
    "duration": 18,
    "start_time": "2023-02-05T21:08:21.813Z"
   },
   {
    "duration": 20,
    "start_time": "2023-02-05T21:08:21.832Z"
   },
   {
    "duration": 515,
    "start_time": "2023-02-05T21:08:21.854Z"
   },
   {
    "duration": 4,
    "start_time": "2023-02-05T21:08:22.371Z"
   },
   {
    "duration": 41,
    "start_time": "2023-02-05T21:08:22.377Z"
   },
   {
    "duration": 4,
    "start_time": "2023-02-05T21:08:22.419Z"
   },
   {
    "duration": 7,
    "start_time": "2023-02-05T21:08:22.424Z"
   },
   {
    "duration": 11,
    "start_time": "2023-02-05T21:08:22.433Z"
   },
   {
    "duration": 31,
    "start_time": "2023-02-05T21:08:22.445Z"
   },
   {
    "duration": 4,
    "start_time": "2023-02-05T21:08:22.480Z"
   },
   {
    "duration": 4,
    "start_time": "2023-02-05T21:08:22.509Z"
   },
   {
    "duration": 6,
    "start_time": "2023-02-05T21:08:22.515Z"
   },
   {
    "duration": 55,
    "start_time": "2023-02-05T21:08:22.522Z"
   },
   {
    "duration": 31,
    "start_time": "2023-02-05T21:08:22.579Z"
   },
   {
    "duration": 33,
    "start_time": "2023-02-05T21:08:22.611Z"
   },
   {
    "duration": 2,
    "start_time": "2023-02-05T21:08:22.646Z"
   },
   {
    "duration": 28,
    "start_time": "2023-02-05T21:08:22.649Z"
   },
   {
    "duration": 12,
    "start_time": "2023-02-05T21:08:22.679Z"
   },
   {
    "duration": 25,
    "start_time": "2023-02-05T21:08:22.693Z"
   },
   {
    "duration": 6,
    "start_time": "2023-02-05T21:08:22.719Z"
   },
   {
    "duration": 7,
    "start_time": "2023-02-05T21:08:22.726Z"
   },
   {
    "duration": 6,
    "start_time": "2023-02-05T21:08:22.734Z"
   },
   {
    "duration": 4,
    "start_time": "2023-02-05T21:08:22.742Z"
   },
   {
    "duration": 73,
    "start_time": "2023-02-05T21:08:22.748Z"
   },
   {
    "duration": 58,
    "start_time": "2023-02-05T21:08:22.822Z"
   },
   {
    "duration": 8,
    "start_time": "2023-02-05T21:08:22.881Z"
   },
   {
    "duration": 10,
    "start_time": "2023-02-05T21:08:22.909Z"
   },
   {
    "duration": 10,
    "start_time": "2023-02-05T21:08:22.920Z"
   },
   {
    "duration": 9,
    "start_time": "2023-02-05T21:08:22.932Z"
   },
   {
    "duration": 3,
    "start_time": "2023-02-05T21:08:22.942Z"
   },
   {
    "duration": 11,
    "start_time": "2023-02-05T21:08:22.947Z"
   },
   {
    "duration": 125,
    "start_time": "2023-02-05T21:08:22.960Z"
   },
   {
    "duration": 11,
    "start_time": "2023-02-05T21:08:23.086Z"
   },
   {
    "duration": 32,
    "start_time": "2023-02-05T21:08:23.099Z"
   },
   {
    "duration": 21,
    "start_time": "2023-02-05T21:08:23.133Z"
   },
   {
    "duration": 52,
    "start_time": "2023-02-05T21:08:23.156Z"
   },
   {
    "duration": 0,
    "start_time": "2023-02-05T21:08:23.209Z"
   },
   {
    "duration": 0,
    "start_time": "2023-02-05T21:08:23.210Z"
   },
   {
    "duration": 0,
    "start_time": "2023-02-05T21:08:23.211Z"
   },
   {
    "duration": 0,
    "start_time": "2023-02-05T21:08:23.212Z"
   },
   {
    "duration": 1276,
    "start_time": "2023-02-06T04:27:57.626Z"
   },
   {
    "duration": 702,
    "start_time": "2023-02-06T04:27:58.904Z"
   },
   {
    "duration": 19,
    "start_time": "2023-02-06T04:27:59.608Z"
   },
   {
    "duration": 13,
    "start_time": "2023-02-06T04:27:59.629Z"
   },
   {
    "duration": 3,
    "start_time": "2023-02-06T04:27:59.644Z"
   },
   {
    "duration": 17,
    "start_time": "2023-02-06T04:27:59.648Z"
   },
   {
    "duration": 72,
    "start_time": "2023-02-06T04:27:59.666Z"
   },
   {
    "duration": 69,
    "start_time": "2023-02-06T04:27:59.739Z"
   },
   {
    "duration": 51,
    "start_time": "2023-02-06T04:27:59.810Z"
   },
   {
    "duration": 7,
    "start_time": "2023-02-06T04:27:59.862Z"
   },
   {
    "duration": 73,
    "start_time": "2023-02-06T04:27:59.870Z"
   },
   {
    "duration": 8,
    "start_time": "2023-02-06T04:27:59.945Z"
   },
   {
    "duration": 27,
    "start_time": "2023-02-06T04:27:59.954Z"
   },
   {
    "duration": 2,
    "start_time": "2023-02-06T04:27:59.984Z"
   },
   {
    "duration": 6,
    "start_time": "2023-02-06T04:27:59.987Z"
   },
   {
    "duration": 8,
    "start_time": "2023-02-06T04:27:59.994Z"
   },
   {
    "duration": 74,
    "start_time": "2023-02-06T04:28:00.003Z"
   },
   {
    "duration": 7,
    "start_time": "2023-02-06T04:28:00.079Z"
   },
   {
    "duration": 17,
    "start_time": "2023-02-06T04:28:00.088Z"
   },
   {
    "duration": 30,
    "start_time": "2023-02-06T04:28:00.107Z"
   },
   {
    "duration": 566,
    "start_time": "2023-02-06T04:28:00.139Z"
   },
   {
    "duration": 4,
    "start_time": "2023-02-06T04:28:00.707Z"
   },
   {
    "duration": 46,
    "start_time": "2023-02-06T04:28:00.713Z"
   },
   {
    "duration": 4,
    "start_time": "2023-02-06T04:28:00.760Z"
   },
   {
    "duration": 10,
    "start_time": "2023-02-06T04:28:00.766Z"
   },
   {
    "duration": 13,
    "start_time": "2023-02-06T04:28:00.778Z"
   },
   {
    "duration": 45,
    "start_time": "2023-02-06T04:28:00.793Z"
   },
   {
    "duration": 4,
    "start_time": "2023-02-06T04:28:00.840Z"
   },
   {
    "duration": 12,
    "start_time": "2023-02-06T04:28:00.846Z"
   },
   {
    "duration": 13,
    "start_time": "2023-02-06T04:28:00.860Z"
   },
   {
    "duration": 57,
    "start_time": "2023-02-06T04:28:00.875Z"
   },
   {
    "duration": 12,
    "start_time": "2023-02-06T04:28:00.934Z"
   },
   {
    "duration": 43,
    "start_time": "2023-02-06T04:28:00.947Z"
   },
   {
    "duration": 2,
    "start_time": "2023-02-06T04:28:00.991Z"
   },
   {
    "duration": 36,
    "start_time": "2023-02-06T04:28:00.994Z"
   },
   {
    "duration": 14,
    "start_time": "2023-02-06T04:28:01.032Z"
   },
   {
    "duration": 137,
    "start_time": "2023-02-06T04:28:01.047Z"
   },
   {
    "duration": 4,
    "start_time": "2023-02-06T04:28:01.186Z"
   },
   {
    "duration": 32,
    "start_time": "2023-02-06T04:28:01.191Z"
   },
   {
    "duration": 32,
    "start_time": "2023-02-06T04:28:01.225Z"
   },
   {
    "duration": 22,
    "start_time": "2023-02-06T04:28:01.261Z"
   },
   {
    "duration": 64,
    "start_time": "2023-02-06T04:28:01.285Z"
   },
   {
    "duration": 53,
    "start_time": "2023-02-06T04:28:01.350Z"
   },
   {
    "duration": 8,
    "start_time": "2023-02-06T04:28:01.404Z"
   },
   {
    "duration": 28,
    "start_time": "2023-02-06T04:28:01.413Z"
   },
   {
    "duration": 32,
    "start_time": "2023-02-06T04:28:01.442Z"
   },
   {
    "duration": 37,
    "start_time": "2023-02-06T04:28:01.475Z"
   },
   {
    "duration": 19,
    "start_time": "2023-02-06T04:28:01.514Z"
   },
   {
    "duration": 25,
    "start_time": "2023-02-06T04:28:01.534Z"
   },
   {
    "duration": 88,
    "start_time": "2023-02-06T04:28:01.560Z"
   },
   {
    "duration": 9,
    "start_time": "2023-02-06T04:28:01.649Z"
   },
   {
    "duration": 33,
    "start_time": "2023-02-06T04:28:01.660Z"
   },
   {
    "duration": 30,
    "start_time": "2023-02-06T04:28:01.695Z"
   },
   {
    "duration": 44,
    "start_time": "2023-02-06T04:28:01.727Z"
   },
   {
    "duration": 0,
    "start_time": "2023-02-06T04:28:01.772Z"
   },
   {
    "duration": 0,
    "start_time": "2023-02-06T04:28:01.774Z"
   },
   {
    "duration": 0,
    "start_time": "2023-02-06T04:28:01.774Z"
   },
   {
    "duration": 0,
    "start_time": "2023-02-06T04:28:01.775Z"
   },
   {
    "duration": 5,
    "start_time": "2023-02-06T04:32:26.622Z"
   },
   {
    "duration": 5,
    "start_time": "2023-02-06T04:33:29.756Z"
   },
   {
    "duration": 4,
    "start_time": "2023-02-06T04:36:47.244Z"
   },
   {
    "duration": 146,
    "start_time": "2023-02-06T04:36:47.250Z"
   },
   {
    "duration": 16,
    "start_time": "2023-02-06T04:36:47.398Z"
   },
   {
    "duration": 9,
    "start_time": "2023-02-06T04:36:47.415Z"
   },
   {
    "duration": 3,
    "start_time": "2023-02-06T04:36:47.437Z"
   },
   {
    "duration": 19,
    "start_time": "2023-02-06T04:36:47.441Z"
   },
   {
    "duration": 51,
    "start_time": "2023-02-06T04:36:47.461Z"
   },
   {
    "duration": 61,
    "start_time": "2023-02-06T04:36:47.514Z"
   },
   {
    "duration": 35,
    "start_time": "2023-02-06T04:36:47.576Z"
   },
   {
    "duration": 25,
    "start_time": "2023-02-06T04:36:47.612Z"
   },
   {
    "duration": 63,
    "start_time": "2023-02-06T04:36:47.639Z"
   },
   {
    "duration": 11,
    "start_time": "2023-02-06T04:36:47.703Z"
   },
   {
    "duration": 35,
    "start_time": "2023-02-06T04:36:47.718Z"
   },
   {
    "duration": 3,
    "start_time": "2023-02-06T04:36:47.755Z"
   },
   {
    "duration": 6,
    "start_time": "2023-02-06T04:36:47.759Z"
   },
   {
    "duration": 7,
    "start_time": "2023-02-06T04:36:47.767Z"
   },
   {
    "duration": 75,
    "start_time": "2023-02-06T04:36:47.776Z"
   },
   {
    "duration": 8,
    "start_time": "2023-02-06T04:36:47.853Z"
   },
   {
    "duration": 13,
    "start_time": "2023-02-06T04:36:47.862Z"
   },
   {
    "duration": 15,
    "start_time": "2023-02-06T04:36:47.876Z"
   },
   {
    "duration": 484,
    "start_time": "2023-02-06T04:36:47.893Z"
   },
   {
    "duration": 4,
    "start_time": "2023-02-06T04:36:48.378Z"
   },
   {
    "duration": 48,
    "start_time": "2023-02-06T04:36:48.384Z"
   },
   {
    "duration": 4,
    "start_time": "2023-02-06T04:36:48.433Z"
   },
   {
    "duration": 7,
    "start_time": "2023-02-06T04:36:48.438Z"
   },
   {
    "duration": 13,
    "start_time": "2023-02-06T04:36:48.446Z"
   },
   {
    "duration": 32,
    "start_time": "2023-02-06T04:36:48.461Z"
   },
   {
    "duration": 4,
    "start_time": "2023-02-06T04:36:48.495Z"
   },
   {
    "duration": 7,
    "start_time": "2023-02-06T04:36:48.501Z"
   },
   {
    "duration": 31,
    "start_time": "2023-02-06T04:36:48.509Z"
   },
   {
    "duration": 50,
    "start_time": "2023-02-06T04:36:48.542Z"
   },
   {
    "duration": 14,
    "start_time": "2023-02-06T04:36:48.594Z"
   },
   {
    "duration": 58,
    "start_time": "2023-02-06T04:36:48.610Z"
   },
   {
    "duration": 3,
    "start_time": "2023-02-06T04:36:48.669Z"
   },
   {
    "duration": 25,
    "start_time": "2023-02-06T04:36:48.674Z"
   },
   {
    "duration": 13,
    "start_time": "2023-02-06T04:36:48.701Z"
   },
   {
    "duration": 23,
    "start_time": "2023-02-06T04:36:48.717Z"
   },
   {
    "duration": 6,
    "start_time": "2023-02-06T04:36:48.742Z"
   },
   {
    "duration": 8,
    "start_time": "2023-02-06T04:36:48.750Z"
   },
   {
    "duration": 5,
    "start_time": "2023-02-06T04:36:48.759Z"
   },
   {
    "duration": 6,
    "start_time": "2023-02-06T04:36:48.766Z"
   },
   {
    "duration": 67,
    "start_time": "2023-02-06T04:36:48.773Z"
   },
   {
    "duration": 52,
    "start_time": "2023-02-06T04:36:48.841Z"
   },
   {
    "duration": 8,
    "start_time": "2023-02-06T04:36:48.894Z"
   },
   {
    "duration": 10,
    "start_time": "2023-02-06T04:36:48.903Z"
   },
   {
    "duration": 10,
    "start_time": "2023-02-06T04:36:48.937Z"
   },
   {
    "duration": 10,
    "start_time": "2023-02-06T04:36:48.948Z"
   },
   {
    "duration": 4,
    "start_time": "2023-02-06T04:36:48.960Z"
   },
   {
    "duration": 10,
    "start_time": "2023-02-06T04:36:48.966Z"
   },
   {
    "duration": 96,
    "start_time": "2023-02-06T04:36:48.977Z"
   },
   {
    "duration": 11,
    "start_time": "2023-02-06T04:36:49.075Z"
   },
   {
    "duration": 10,
    "start_time": "2023-02-06T04:36:49.088Z"
   },
   {
    "duration": 13,
    "start_time": "2023-02-06T04:36:49.100Z"
   },
   {
    "duration": 22,
    "start_time": "2023-02-06T04:36:49.115Z"
   },
   {
    "duration": 46,
    "start_time": "2023-02-06T04:36:49.139Z"
   },
   {
    "duration": 23,
    "start_time": "2023-02-06T04:36:49.187Z"
   },
   {
    "duration": 44,
    "start_time": "2023-02-06T04:36:49.212Z"
   },
   {
    "duration": 20,
    "start_time": "2023-02-06T04:36:49.258Z"
   },
   {
    "duration": 4,
    "start_time": "2023-02-06T04:39:14.916Z"
   },
   {
    "duration": 4,
    "start_time": "2023-02-06T04:39:18.754Z"
   },
   {
    "duration": 135,
    "start_time": "2023-02-06T04:39:18.760Z"
   },
   {
    "duration": 16,
    "start_time": "2023-02-06T04:39:18.897Z"
   },
   {
    "duration": 9,
    "start_time": "2023-02-06T04:39:18.914Z"
   },
   {
    "duration": 13,
    "start_time": "2023-02-06T04:39:18.925Z"
   },
   {
    "duration": 16,
    "start_time": "2023-02-06T04:39:18.939Z"
   },
   {
    "duration": 50,
    "start_time": "2023-02-06T04:39:18.956Z"
   },
   {
    "duration": 70,
    "start_time": "2023-02-06T04:39:19.007Z"
   },
   {
    "duration": 35,
    "start_time": "2023-02-06T04:39:19.078Z"
   },
   {
    "duration": 7,
    "start_time": "2023-02-06T04:39:19.115Z"
   },
   {
    "duration": 62,
    "start_time": "2023-02-06T04:39:19.136Z"
   },
   {
    "duration": 23,
    "start_time": "2023-02-06T04:39:19.199Z"
   },
   {
    "duration": 30,
    "start_time": "2023-02-06T04:39:19.224Z"
   },
   {
    "duration": 3,
    "start_time": "2023-02-06T04:39:19.256Z"
   },
   {
    "duration": 6,
    "start_time": "2023-02-06T04:39:19.260Z"
   },
   {
    "duration": 9,
    "start_time": "2023-02-06T04:39:19.267Z"
   },
   {
    "duration": 60,
    "start_time": "2023-02-06T04:39:19.277Z"
   },
   {
    "duration": 6,
    "start_time": "2023-02-06T04:39:19.338Z"
   },
   {
    "duration": 17,
    "start_time": "2023-02-06T04:39:19.346Z"
   },
   {
    "duration": 27,
    "start_time": "2023-02-06T04:39:19.364Z"
   },
   {
    "duration": 478,
    "start_time": "2023-02-06T04:39:19.393Z"
   },
   {
    "duration": 4,
    "start_time": "2023-02-06T04:39:19.873Z"
   },
   {
    "duration": 35,
    "start_time": "2023-02-06T04:39:19.879Z"
   },
   {
    "duration": 4,
    "start_time": "2023-02-06T04:39:19.916Z"
   },
   {
    "duration": 17,
    "start_time": "2023-02-06T04:39:19.921Z"
   },
   {
    "duration": 11,
    "start_time": "2023-02-06T04:39:19.939Z"
   },
   {
    "duration": 33,
    "start_time": "2023-02-06T04:39:19.952Z"
   },
   {
    "duration": 4,
    "start_time": "2023-02-06T04:39:19.986Z"
   },
   {
    "duration": 6,
    "start_time": "2023-02-06T04:39:19.992Z"
   },
   {
    "duration": 6,
    "start_time": "2023-02-06T04:39:19.999Z"
   },
   {
    "duration": 50,
    "start_time": "2023-02-06T04:39:20.037Z"
   },
   {
    "duration": 11,
    "start_time": "2023-02-06T04:39:20.089Z"
   },
   {
    "duration": 48,
    "start_time": "2023-02-06T04:39:20.102Z"
   },
   {
    "duration": 2,
    "start_time": "2023-02-06T04:39:20.151Z"
   },
   {
    "duration": 22,
    "start_time": "2023-02-06T04:39:20.155Z"
   },
   {
    "duration": 13,
    "start_time": "2023-02-06T04:39:20.179Z"
   },
   {
    "duration": 9,
    "start_time": "2023-02-06T04:39:20.193Z"
   },
   {
    "duration": 8,
    "start_time": "2023-02-06T04:39:20.203Z"
   },
   {
    "duration": 27,
    "start_time": "2023-02-06T04:39:20.212Z"
   },
   {
    "duration": 4,
    "start_time": "2023-02-06T04:39:20.241Z"
   },
   {
    "duration": 3,
    "start_time": "2023-02-06T04:39:20.249Z"
   },
   {
    "duration": 48,
    "start_time": "2023-02-06T04:39:20.253Z"
   },
   {
    "duration": 69,
    "start_time": "2023-02-06T04:39:20.303Z"
   },
   {
    "duration": 8,
    "start_time": "2023-02-06T04:39:20.373Z"
   },
   {
    "duration": 15,
    "start_time": "2023-02-06T04:39:20.382Z"
   },
   {
    "duration": 13,
    "start_time": "2023-02-06T04:39:20.398Z"
   },
   {
    "duration": 32,
    "start_time": "2023-02-06T04:39:20.413Z"
   },
   {
    "duration": 5,
    "start_time": "2023-02-06T04:39:20.446Z"
   },
   {
    "duration": 9,
    "start_time": "2023-02-06T04:39:20.452Z"
   },
   {
    "duration": 85,
    "start_time": "2023-02-06T04:39:20.462Z"
   },
   {
    "duration": 10,
    "start_time": "2023-02-06T04:39:20.548Z"
   },
   {
    "duration": 11,
    "start_time": "2023-02-06T04:39:20.559Z"
   },
   {
    "duration": 11,
    "start_time": "2023-02-06T04:39:20.571Z"
   },
   {
    "duration": 5,
    "start_time": "2023-02-06T04:39:20.583Z"
   },
   {
    "duration": 53,
    "start_time": "2023-02-06T04:39:20.589Z"
   },
   {
    "duration": 23,
    "start_time": "2023-02-06T04:39:20.643Z"
   },
   {
    "duration": 21,
    "start_time": "2023-02-06T04:39:20.667Z"
   },
   {
    "duration": 20,
    "start_time": "2023-02-06T04:39:20.690Z"
   },
   {
    "duration": 12,
    "start_time": "2023-02-06T04:40:32.209Z"
   },
   {
    "duration": 4,
    "start_time": "2023-02-06T04:41:23.884Z"
   },
   {
    "duration": 132,
    "start_time": "2023-02-06T04:41:23.890Z"
   },
   {
    "duration": 22,
    "start_time": "2023-02-06T04:41:24.023Z"
   },
   {
    "duration": 9,
    "start_time": "2023-02-06T04:41:24.047Z"
   },
   {
    "duration": 2,
    "start_time": "2023-02-06T04:41:24.058Z"
   },
   {
    "duration": 14,
    "start_time": "2023-02-06T04:41:24.062Z"
   },
   {
    "duration": 68,
    "start_time": "2023-02-06T04:41:24.077Z"
   },
   {
    "duration": 57,
    "start_time": "2023-02-06T04:41:24.147Z"
   },
   {
    "duration": 49,
    "start_time": "2023-02-06T04:41:24.206Z"
   },
   {
    "duration": 6,
    "start_time": "2023-02-06T04:41:24.257Z"
   },
   {
    "duration": 72,
    "start_time": "2023-02-06T04:41:24.265Z"
   },
   {
    "duration": 8,
    "start_time": "2023-02-06T04:41:24.339Z"
   },
   {
    "duration": 25,
    "start_time": "2023-02-06T04:41:24.348Z"
   },
   {
    "duration": 2,
    "start_time": "2023-02-06T04:41:24.376Z"
   },
   {
    "duration": 6,
    "start_time": "2023-02-06T04:41:24.379Z"
   },
   {
    "duration": 7,
    "start_time": "2023-02-06T04:41:24.387Z"
   },
   {
    "duration": 70,
    "start_time": "2023-02-06T04:41:24.396Z"
   },
   {
    "duration": 8,
    "start_time": "2023-02-06T04:41:24.468Z"
   },
   {
    "duration": 12,
    "start_time": "2023-02-06T04:41:24.478Z"
   },
   {
    "duration": 15,
    "start_time": "2023-02-06T04:41:24.491Z"
   },
   {
    "duration": 559,
    "start_time": "2023-02-06T04:41:24.508Z"
   },
   {
    "duration": 5,
    "start_time": "2023-02-06T04:41:25.069Z"
   },
   {
    "duration": 32,
    "start_time": "2023-02-06T04:41:25.075Z"
   },
   {
    "duration": 3,
    "start_time": "2023-02-06T04:41:25.109Z"
   },
   {
    "duration": 7,
    "start_time": "2023-02-06T04:41:25.114Z"
   },
   {
    "duration": 11,
    "start_time": "2023-02-06T04:41:25.136Z"
   },
   {
    "duration": 30,
    "start_time": "2023-02-06T04:41:25.148Z"
   },
   {
    "duration": 4,
    "start_time": "2023-02-06T04:41:25.179Z"
   },
   {
    "duration": 7,
    "start_time": "2023-02-06T04:41:25.184Z"
   },
   {
    "duration": 7,
    "start_time": "2023-02-06T04:41:25.192Z"
   },
   {
    "duration": 81,
    "start_time": "2023-02-06T04:41:25.201Z"
   },
   {
    "duration": 13,
    "start_time": "2023-02-06T04:41:25.284Z"
   },
   {
    "duration": 50,
    "start_time": "2023-02-06T04:41:25.299Z"
   },
   {
    "duration": 2,
    "start_time": "2023-02-06T04:41:25.351Z"
   },
   {
    "duration": 26,
    "start_time": "2023-02-06T04:41:25.354Z"
   },
   {
    "duration": 13,
    "start_time": "2023-02-06T04:41:25.382Z"
   },
   {
    "duration": 24,
    "start_time": "2023-02-06T04:41:25.396Z"
   },
   {
    "duration": 16,
    "start_time": "2023-02-06T04:41:25.422Z"
   },
   {
    "duration": 8,
    "start_time": "2023-02-06T04:41:25.439Z"
   },
   {
    "duration": 6,
    "start_time": "2023-02-06T04:41:25.448Z"
   },
   {
    "duration": 4,
    "start_time": "2023-02-06T04:41:25.457Z"
   },
   {
    "duration": 52,
    "start_time": "2023-02-06T04:41:25.462Z"
   },
   {
    "duration": 68,
    "start_time": "2023-02-06T04:41:25.516Z"
   },
   {
    "duration": 8,
    "start_time": "2023-02-06T04:41:25.586Z"
   },
   {
    "duration": 12,
    "start_time": "2023-02-06T04:41:25.595Z"
   },
   {
    "duration": 36,
    "start_time": "2023-02-06T04:41:25.609Z"
   },
   {
    "duration": 27,
    "start_time": "2023-02-06T04:41:25.646Z"
   },
   {
    "duration": 9,
    "start_time": "2023-02-06T04:41:25.675Z"
   },
   {
    "duration": 12,
    "start_time": "2023-02-06T04:41:25.686Z"
   },
   {
    "duration": 77,
    "start_time": "2023-02-06T04:41:25.699Z"
   },
   {
    "duration": 11,
    "start_time": "2023-02-06T04:41:25.777Z"
   },
   {
    "duration": 10,
    "start_time": "2023-02-06T04:41:25.789Z"
   },
   {
    "duration": 9,
    "start_time": "2023-02-06T04:41:25.801Z"
   },
   {
    "duration": 5,
    "start_time": "2023-02-06T04:41:25.812Z"
   },
   {
    "duration": 34,
    "start_time": "2023-02-06T04:41:25.837Z"
   },
   {
    "duration": 22,
    "start_time": "2023-02-06T04:41:25.873Z"
   },
   {
    "duration": 21,
    "start_time": "2023-02-06T04:41:25.896Z"
   },
   {
    "duration": 23,
    "start_time": "2023-02-06T04:41:25.938Z"
   },
   {
    "duration": 4,
    "start_time": "2023-02-06T04:42:22.091Z"
   },
   {
    "duration": 147,
    "start_time": "2023-02-06T04:42:22.097Z"
   },
   {
    "duration": 16,
    "start_time": "2023-02-06T04:42:22.246Z"
   },
   {
    "duration": 9,
    "start_time": "2023-02-06T04:42:22.264Z"
   },
   {
    "duration": 4,
    "start_time": "2023-02-06T04:42:22.275Z"
   },
   {
    "duration": 15,
    "start_time": "2023-02-06T04:42:22.280Z"
   },
   {
    "duration": 79,
    "start_time": "2023-02-06T04:42:22.297Z"
   },
   {
    "duration": 79,
    "start_time": "2023-02-06T04:42:22.377Z"
   },
   {
    "duration": 41,
    "start_time": "2023-02-06T04:42:22.458Z"
   },
   {
    "duration": 7,
    "start_time": "2023-02-06T04:42:22.501Z"
   },
   {
    "duration": 106,
    "start_time": "2023-02-06T04:42:22.510Z"
   },
   {
    "duration": 14,
    "start_time": "2023-02-06T04:42:22.620Z"
   },
   {
    "duration": 26,
    "start_time": "2023-02-06T04:42:22.636Z"
   },
   {
    "duration": 2,
    "start_time": "2023-02-06T04:42:22.665Z"
   },
   {
    "duration": 9,
    "start_time": "2023-02-06T04:42:22.668Z"
   },
   {
    "duration": 10,
    "start_time": "2023-02-06T04:42:22.679Z"
   },
   {
    "duration": 72,
    "start_time": "2023-02-06T04:42:22.691Z"
   },
   {
    "duration": 7,
    "start_time": "2023-02-06T04:42:22.765Z"
   },
   {
    "duration": 13,
    "start_time": "2023-02-06T04:42:22.773Z"
   },
   {
    "duration": 24,
    "start_time": "2023-02-06T04:42:22.788Z"
   },
   {
    "duration": 503,
    "start_time": "2023-02-06T04:42:22.813Z"
   },
   {
    "duration": 4,
    "start_time": "2023-02-06T04:42:23.318Z"
   },
   {
    "duration": 44,
    "start_time": "2023-02-06T04:42:23.323Z"
   },
   {
    "duration": 4,
    "start_time": "2023-02-06T04:42:23.368Z"
   },
   {
    "duration": 7,
    "start_time": "2023-02-06T04:42:23.373Z"
   },
   {
    "duration": 13,
    "start_time": "2023-02-06T04:42:23.381Z"
   },
   {
    "duration": 58,
    "start_time": "2023-02-06T04:42:23.396Z"
   },
   {
    "duration": 4,
    "start_time": "2023-02-06T04:42:23.455Z"
   },
   {
    "duration": 15,
    "start_time": "2023-02-06T04:42:23.460Z"
   },
   {
    "duration": 8,
    "start_time": "2023-02-06T04:42:23.477Z"
   },
   {
    "duration": 63,
    "start_time": "2023-02-06T04:42:23.487Z"
   },
   {
    "duration": 13,
    "start_time": "2023-02-06T04:42:23.551Z"
   },
   {
    "duration": 36,
    "start_time": "2023-02-06T04:42:23.566Z"
   },
   {
    "duration": 2,
    "start_time": "2023-02-06T04:42:23.604Z"
   },
   {
    "duration": 53,
    "start_time": "2023-02-06T04:42:23.607Z"
   },
   {
    "duration": 12,
    "start_time": "2023-02-06T04:42:23.662Z"
   },
   {
    "duration": 13,
    "start_time": "2023-02-06T04:42:23.676Z"
   },
   {
    "duration": 5,
    "start_time": "2023-02-06T04:42:23.691Z"
   },
   {
    "duration": 9,
    "start_time": "2023-02-06T04:42:23.697Z"
   },
   {
    "duration": 29,
    "start_time": "2023-02-06T04:42:23.708Z"
   },
   {
    "duration": 4,
    "start_time": "2023-02-06T04:42:23.741Z"
   },
   {
    "duration": 50,
    "start_time": "2023-02-06T04:42:23.747Z"
   },
   {
    "duration": 69,
    "start_time": "2023-02-06T04:42:23.798Z"
   },
   {
    "duration": 8,
    "start_time": "2023-02-06T04:42:23.868Z"
   },
   {
    "duration": 12,
    "start_time": "2023-02-06T04:42:23.877Z"
   },
   {
    "duration": 12,
    "start_time": "2023-02-06T04:42:23.891Z"
   },
   {
    "duration": 34,
    "start_time": "2023-02-06T04:42:23.904Z"
   },
   {
    "duration": 2,
    "start_time": "2023-02-06T04:42:23.940Z"
   },
   {
    "duration": 13,
    "start_time": "2023-02-06T04:42:23.943Z"
   },
   {
    "duration": 84,
    "start_time": "2023-02-06T04:42:23.958Z"
   },
   {
    "duration": 10,
    "start_time": "2023-02-06T04:42:24.043Z"
   },
   {
    "duration": 31,
    "start_time": "2023-02-06T04:42:24.055Z"
   },
   {
    "duration": 17,
    "start_time": "2023-02-06T04:42:24.088Z"
   },
   {
    "duration": 4,
    "start_time": "2023-02-06T04:42:24.107Z"
   },
   {
    "duration": 45,
    "start_time": "2023-02-06T04:42:24.112Z"
   },
   {
    "duration": 22,
    "start_time": "2023-02-06T04:42:24.159Z"
   },
   {
    "duration": 20,
    "start_time": "2023-02-06T04:42:24.182Z"
   },
   {
    "duration": 37,
    "start_time": "2023-02-06T04:42:24.204Z"
   },
   {
    "duration": 4,
    "start_time": "2023-02-06T04:44:02.770Z"
   },
   {
    "duration": 155,
    "start_time": "2023-02-06T04:44:02.776Z"
   },
   {
    "duration": 29,
    "start_time": "2023-02-06T04:44:02.933Z"
   },
   {
    "duration": 9,
    "start_time": "2023-02-06T04:44:02.964Z"
   },
   {
    "duration": 6,
    "start_time": "2023-02-06T04:44:02.974Z"
   },
   {
    "duration": 16,
    "start_time": "2023-02-06T04:44:02.981Z"
   },
   {
    "duration": 83,
    "start_time": "2023-02-06T04:44:02.999Z"
   },
   {
    "duration": 62,
    "start_time": "2023-02-06T04:44:03.084Z"
   },
   {
    "duration": 34,
    "start_time": "2023-02-06T04:44:03.149Z"
   },
   {
    "duration": 7,
    "start_time": "2023-02-06T04:44:03.184Z"
   },
   {
    "duration": 96,
    "start_time": "2023-02-06T04:44:03.193Z"
   },
   {
    "duration": 13,
    "start_time": "2023-02-06T04:44:03.291Z"
   },
   {
    "duration": 38,
    "start_time": "2023-02-06T04:44:03.306Z"
   },
   {
    "duration": 3,
    "start_time": "2023-02-06T04:44:03.346Z"
   },
   {
    "duration": 11,
    "start_time": "2023-02-06T04:44:03.351Z"
   },
   {
    "duration": 11,
    "start_time": "2023-02-06T04:44:03.364Z"
   },
   {
    "duration": 76,
    "start_time": "2023-02-06T04:44:03.377Z"
   },
   {
    "duration": 9,
    "start_time": "2023-02-06T04:44:03.456Z"
   },
   {
    "duration": 13,
    "start_time": "2023-02-06T04:44:03.467Z"
   },
   {
    "duration": 14,
    "start_time": "2023-02-06T04:44:03.482Z"
   },
   {
    "duration": 580,
    "start_time": "2023-02-06T04:44:03.498Z"
   },
   {
    "duration": 4,
    "start_time": "2023-02-06T04:44:04.080Z"
   },
   {
    "duration": 33,
    "start_time": "2023-02-06T04:44:04.086Z"
   },
   {
    "duration": 16,
    "start_time": "2023-02-06T04:44:04.123Z"
   },
   {
    "duration": 5,
    "start_time": "2023-02-06T04:44:04.141Z"
   },
   {
    "duration": 19,
    "start_time": "2023-02-06T04:44:04.148Z"
   },
   {
    "duration": 31,
    "start_time": "2023-02-06T04:44:04.169Z"
   },
   {
    "duration": 4,
    "start_time": "2023-02-06T04:44:04.202Z"
   },
   {
    "duration": 7,
    "start_time": "2023-02-06T04:44:04.245Z"
   },
   {
    "duration": 8,
    "start_time": "2023-02-06T04:44:04.254Z"
   },
   {
    "duration": 51,
    "start_time": "2023-02-06T04:44:04.264Z"
   },
   {
    "duration": 29,
    "start_time": "2023-02-06T04:44:04.317Z"
   },
   {
    "duration": 37,
    "start_time": "2023-02-06T04:44:04.348Z"
   },
   {
    "duration": 2,
    "start_time": "2023-02-06T04:44:04.387Z"
   },
   {
    "duration": 23,
    "start_time": "2023-02-06T04:44:04.390Z"
   },
   {
    "duration": 29,
    "start_time": "2023-02-06T04:44:04.415Z"
   },
   {
    "duration": 10,
    "start_time": "2023-02-06T04:44:04.446Z"
   },
   {
    "duration": 8,
    "start_time": "2023-02-06T04:44:04.458Z"
   },
   {
    "duration": 9,
    "start_time": "2023-02-06T04:44:04.467Z"
   },
   {
    "duration": 6,
    "start_time": "2023-02-06T04:44:04.477Z"
   },
   {
    "duration": 5,
    "start_time": "2023-02-06T04:44:04.485Z"
   },
   {
    "duration": 75,
    "start_time": "2023-02-06T04:44:04.492Z"
   },
   {
    "duration": 51,
    "start_time": "2023-02-06T04:44:04.569Z"
   },
   {
    "duration": 26,
    "start_time": "2023-02-06T04:44:04.621Z"
   },
   {
    "duration": 19,
    "start_time": "2023-02-06T04:44:04.649Z"
   },
   {
    "duration": 10,
    "start_time": "2023-02-06T04:44:04.669Z"
   },
   {
    "duration": 12,
    "start_time": "2023-02-06T04:44:04.680Z"
   },
   {
    "duration": 5,
    "start_time": "2023-02-06T04:44:04.694Z"
   },
   {
    "duration": 9,
    "start_time": "2023-02-06T04:44:04.700Z"
   },
   {
    "duration": 66,
    "start_time": "2023-02-06T04:44:04.736Z"
   },
   {
    "duration": 10,
    "start_time": "2023-02-06T04:44:04.803Z"
   },
   {
    "duration": 26,
    "start_time": "2023-02-06T04:44:04.815Z"
   },
   {
    "duration": 12,
    "start_time": "2023-02-06T04:44:04.843Z"
   },
   {
    "duration": 12,
    "start_time": "2023-02-06T04:44:04.857Z"
   },
   {
    "duration": 38,
    "start_time": "2023-02-06T04:44:04.871Z"
   },
   {
    "duration": 39,
    "start_time": "2023-02-06T04:44:04.910Z"
   },
   {
    "duration": 22,
    "start_time": "2023-02-06T04:44:04.951Z"
   },
   {
    "duration": 22,
    "start_time": "2023-02-06T04:44:04.975Z"
   },
   {
    "duration": 5,
    "start_time": "2023-02-06T04:58:15.409Z"
   },
   {
    "duration": 5,
    "start_time": "2023-02-06T04:58:58.927Z"
   },
   {
    "duration": 118,
    "start_time": "2023-02-06T05:06:56.520Z"
   },
   {
    "duration": 16,
    "start_time": "2023-02-06T05:09:56.828Z"
   },
   {
    "duration": 184,
    "start_time": "2023-02-06T05:10:29.639Z"
   },
   {
    "duration": 182,
    "start_time": "2023-02-06T05:13:32.392Z"
   },
   {
    "duration": 209,
    "start_time": "2023-02-06T05:13:47.991Z"
   },
   {
    "duration": 28,
    "start_time": "2023-02-06T05:31:46.543Z"
   },
   {
    "duration": 4,
    "start_time": "2023-02-06T05:33:48.081Z"
   },
   {
    "duration": 133,
    "start_time": "2023-02-06T05:33:48.087Z"
   },
   {
    "duration": 21,
    "start_time": "2023-02-06T05:33:48.222Z"
   },
   {
    "duration": 23,
    "start_time": "2023-02-06T05:33:48.244Z"
   },
   {
    "duration": 4,
    "start_time": "2023-02-06T05:33:48.269Z"
   },
   {
    "duration": 17,
    "start_time": "2023-02-06T05:33:48.275Z"
   },
   {
    "duration": 65,
    "start_time": "2023-02-06T05:33:48.293Z"
   },
   {
    "duration": 60,
    "start_time": "2023-02-06T05:33:48.359Z"
   },
   {
    "duration": 58,
    "start_time": "2023-02-06T05:33:48.421Z"
   },
   {
    "duration": 6,
    "start_time": "2023-02-06T05:33:48.481Z"
   },
   {
    "duration": 85,
    "start_time": "2023-02-06T05:33:48.489Z"
   },
   {
    "duration": 9,
    "start_time": "2023-02-06T05:33:48.576Z"
   },
   {
    "duration": 59,
    "start_time": "2023-02-06T05:33:48.586Z"
   },
   {
    "duration": 4,
    "start_time": "2023-02-06T05:33:48.651Z"
   },
   {
    "duration": 17,
    "start_time": "2023-02-06T05:33:48.658Z"
   },
   {
    "duration": 9,
    "start_time": "2023-02-06T05:33:48.676Z"
   },
   {
    "duration": 91,
    "start_time": "2023-02-06T05:33:48.686Z"
   },
   {
    "duration": 7,
    "start_time": "2023-02-06T05:33:48.779Z"
   },
   {
    "duration": 28,
    "start_time": "2023-02-06T05:33:48.787Z"
   },
   {
    "duration": 21,
    "start_time": "2023-02-06T05:33:48.817Z"
   },
   {
    "duration": 584,
    "start_time": "2023-02-06T05:33:48.841Z"
   },
   {
    "duration": 11,
    "start_time": "2023-02-06T05:33:49.426Z"
   },
   {
    "duration": 33,
    "start_time": "2023-02-06T05:33:49.439Z"
   },
   {
    "duration": 3,
    "start_time": "2023-02-06T05:33:49.474Z"
   },
   {
    "duration": 7,
    "start_time": "2023-02-06T05:33:49.478Z"
   },
   {
    "duration": 13,
    "start_time": "2023-02-06T05:33:49.486Z"
   },
   {
    "duration": 69,
    "start_time": "2023-02-06T05:33:49.500Z"
   },
   {
    "duration": 4,
    "start_time": "2023-02-06T05:33:49.570Z"
   },
   {
    "duration": 8,
    "start_time": "2023-02-06T05:33:49.576Z"
   },
   {
    "duration": 16,
    "start_time": "2023-02-06T05:33:49.585Z"
   },
   {
    "duration": 68,
    "start_time": "2023-02-06T05:33:49.602Z"
   },
   {
    "duration": 12,
    "start_time": "2023-02-06T05:33:49.672Z"
   },
   {
    "duration": 33,
    "start_time": "2023-02-06T05:33:49.685Z"
   },
   {
    "duration": 18,
    "start_time": "2023-02-06T05:33:49.720Z"
   },
   {
    "duration": 29,
    "start_time": "2023-02-06T05:33:49.741Z"
   },
   {
    "duration": 11,
    "start_time": "2023-02-06T05:33:49.772Z"
   },
   {
    "duration": 13,
    "start_time": "2023-02-06T05:33:49.784Z"
   },
   {
    "duration": 4,
    "start_time": "2023-02-06T05:33:49.798Z"
   },
   {
    "duration": 35,
    "start_time": "2023-02-06T05:33:49.804Z"
   },
   {
    "duration": 14,
    "start_time": "2023-02-06T05:33:49.841Z"
   },
   {
    "duration": 4,
    "start_time": "2023-02-06T05:33:49.859Z"
   },
   {
    "duration": 51,
    "start_time": "2023-02-06T05:33:49.864Z"
   },
   {
    "duration": 73,
    "start_time": "2023-02-06T05:33:49.916Z"
   },
   {
    "duration": 9,
    "start_time": "2023-02-06T05:33:49.990Z"
   },
   {
    "duration": 21,
    "start_time": "2023-02-06T05:33:50.000Z"
   },
   {
    "duration": 24,
    "start_time": "2023-02-06T05:33:50.022Z"
   },
   {
    "duration": 29,
    "start_time": "2023-02-06T05:33:50.048Z"
   },
   {
    "duration": 12,
    "start_time": "2023-02-06T05:33:50.078Z"
   },
   {
    "duration": 12,
    "start_time": "2023-02-06T05:33:50.092Z"
   },
   {
    "duration": 90,
    "start_time": "2023-02-06T05:33:50.106Z"
   },
   {
    "duration": 10,
    "start_time": "2023-02-06T05:33:50.198Z"
   },
   {
    "duration": 8,
    "start_time": "2023-02-06T05:33:50.209Z"
   },
   {
    "duration": 20,
    "start_time": "2023-02-06T05:33:50.219Z"
   },
   {
    "duration": 27,
    "start_time": "2023-02-06T05:33:50.241Z"
   },
   {
    "duration": 5,
    "start_time": "2023-02-06T05:33:50.270Z"
   },
   {
    "duration": 39,
    "start_time": "2023-02-06T05:33:50.276Z"
   },
   {
    "duration": 0,
    "start_time": "2023-02-06T05:33:50.317Z"
   },
   {
    "duration": 0,
    "start_time": "2023-02-06T05:33:50.318Z"
   },
   {
    "duration": 0,
    "start_time": "2023-02-06T05:33:50.319Z"
   },
   {
    "duration": 0,
    "start_time": "2023-02-06T05:33:50.321Z"
   },
   {
    "duration": 5,
    "start_time": "2023-02-06T05:39:09.650Z"
   },
   {
    "duration": 742,
    "start_time": "2023-02-06T05:39:21.556Z"
   },
   {
    "duration": 767,
    "start_time": "2023-02-06T05:40:51.007Z"
   },
   {
    "duration": 49,
    "start_time": "2023-02-06T05:48:05.245Z"
   },
   {
    "duration": 6,
    "start_time": "2023-02-06T05:48:42.592Z"
   },
   {
    "duration": 771,
    "start_time": "2023-02-06T05:48:45.683Z"
   },
   {
    "duration": 696,
    "start_time": "2023-02-06T05:51:53.500Z"
   },
   {
    "duration": 6,
    "start_time": "2023-02-06T05:55:19.130Z"
   },
   {
    "duration": 772,
    "start_time": "2023-02-06T05:55:22.047Z"
   },
   {
    "duration": 3,
    "start_time": "2023-02-06T05:56:54.453Z"
   },
   {
    "duration": 4,
    "start_time": "2023-02-06T05:57:14.032Z"
   },
   {
    "duration": 168,
    "start_time": "2023-02-06T05:57:14.039Z"
   },
   {
    "duration": 17,
    "start_time": "2023-02-06T05:57:14.209Z"
   },
   {
    "duration": 18,
    "start_time": "2023-02-06T05:57:14.227Z"
   },
   {
    "duration": 5,
    "start_time": "2023-02-06T05:57:14.250Z"
   },
   {
    "duration": 36,
    "start_time": "2023-02-06T05:57:14.258Z"
   },
   {
    "duration": 68,
    "start_time": "2023-02-06T05:57:14.295Z"
   },
   {
    "duration": 56,
    "start_time": "2023-02-06T05:57:14.365Z"
   },
   {
    "duration": 40,
    "start_time": "2023-02-06T05:57:14.423Z"
   },
   {
    "duration": 8,
    "start_time": "2023-02-06T05:57:14.465Z"
   },
   {
    "duration": 74,
    "start_time": "2023-02-06T05:57:14.474Z"
   },
   {
    "duration": 20,
    "start_time": "2023-02-06T05:57:14.550Z"
   },
   {
    "duration": 33,
    "start_time": "2023-02-06T05:57:14.572Z"
   },
   {
    "duration": 2,
    "start_time": "2023-02-06T05:57:14.608Z"
   },
   {
    "duration": 10,
    "start_time": "2023-02-06T05:57:14.611Z"
   },
   {
    "duration": 16,
    "start_time": "2023-02-06T05:57:14.622Z"
   },
   {
    "duration": 64,
    "start_time": "2023-02-06T05:57:14.641Z"
   },
   {
    "duration": 7,
    "start_time": "2023-02-06T05:57:14.707Z"
   },
   {
    "duration": 31,
    "start_time": "2023-02-06T05:57:14.715Z"
   },
   {
    "duration": 17,
    "start_time": "2023-02-06T05:57:14.749Z"
   },
   {
    "duration": 589,
    "start_time": "2023-02-06T05:57:14.767Z"
   },
   {
    "duration": 8,
    "start_time": "2023-02-06T05:57:15.359Z"
   },
   {
    "duration": 38,
    "start_time": "2023-02-06T05:57:15.369Z"
   },
   {
    "duration": 4,
    "start_time": "2023-02-06T05:57:15.409Z"
   },
   {
    "duration": 7,
    "start_time": "2023-02-06T05:57:15.414Z"
   },
   {
    "duration": 37,
    "start_time": "2023-02-06T05:57:15.422Z"
   },
   {
    "duration": 32,
    "start_time": "2023-02-06T05:57:15.461Z"
   },
   {
    "duration": 4,
    "start_time": "2023-02-06T05:57:15.494Z"
   },
   {
    "duration": 6,
    "start_time": "2023-02-06T05:57:15.500Z"
   },
   {
    "duration": 6,
    "start_time": "2023-02-06T05:57:15.508Z"
   },
   {
    "duration": 88,
    "start_time": "2023-02-06T05:57:15.515Z"
   },
   {
    "duration": 14,
    "start_time": "2023-02-06T05:57:15.605Z"
   },
   {
    "duration": 68,
    "start_time": "2023-02-06T05:57:15.620Z"
   },
   {
    "duration": 3,
    "start_time": "2023-02-06T05:57:15.689Z"
   },
   {
    "duration": 24,
    "start_time": "2023-02-06T05:57:15.693Z"
   },
   {
    "duration": 30,
    "start_time": "2023-02-06T05:57:15.719Z"
   },
   {
    "duration": 14,
    "start_time": "2023-02-06T05:57:15.752Z"
   },
   {
    "duration": 14,
    "start_time": "2023-02-06T05:57:15.767Z"
   },
   {
    "duration": 7,
    "start_time": "2023-02-06T05:57:15.783Z"
   },
   {
    "duration": 5,
    "start_time": "2023-02-06T05:57:15.792Z"
   },
   {
    "duration": 4,
    "start_time": "2023-02-06T05:57:15.800Z"
   },
   {
    "duration": 85,
    "start_time": "2023-02-06T05:57:15.806Z"
   },
   {
    "duration": 70,
    "start_time": "2023-02-06T05:57:15.893Z"
   },
   {
    "duration": 11,
    "start_time": "2023-02-06T05:57:15.965Z"
   },
   {
    "duration": 11,
    "start_time": "2023-02-06T05:57:15.978Z"
   },
   {
    "duration": 10,
    "start_time": "2023-02-06T05:57:15.991Z"
   },
   {
    "duration": 46,
    "start_time": "2023-02-06T05:57:16.003Z"
   },
   {
    "duration": 14,
    "start_time": "2023-02-06T05:57:16.052Z"
   },
   {
    "duration": 23,
    "start_time": "2023-02-06T05:57:16.067Z"
   },
   {
    "duration": 84,
    "start_time": "2023-02-06T05:57:16.091Z"
   },
   {
    "duration": 10,
    "start_time": "2023-02-06T05:57:16.176Z"
   },
   {
    "duration": 10,
    "start_time": "2023-02-06T05:57:16.187Z"
   },
   {
    "duration": 17,
    "start_time": "2023-02-06T05:57:16.198Z"
   },
   {
    "duration": 35,
    "start_time": "2023-02-06T05:57:16.217Z"
   },
   {
    "duration": 5,
    "start_time": "2023-02-06T05:57:16.253Z"
   },
   {
    "duration": 745,
    "start_time": "2023-02-06T05:57:16.260Z"
   },
   {
    "duration": 0,
    "start_time": "2023-02-06T05:57:17.006Z"
   },
   {
    "duration": 0,
    "start_time": "2023-02-06T05:57:17.008Z"
   },
   {
    "duration": 0,
    "start_time": "2023-02-06T05:57:17.009Z"
   },
   {
    "duration": 0,
    "start_time": "2023-02-06T05:57:17.009Z"
   },
   {
    "duration": 7,
    "start_time": "2023-02-06T05:59:27.074Z"
   },
   {
    "duration": 6,
    "start_time": "2023-02-06T05:59:29.402Z"
   },
   {
    "duration": 8,
    "start_time": "2023-02-06T06:17:08.401Z"
   },
   {
    "duration": 5,
    "start_time": "2023-02-06T06:17:11.660Z"
   },
   {
    "duration": 137,
    "start_time": "2023-02-06T06:17:11.667Z"
   },
   {
    "duration": 17,
    "start_time": "2023-02-06T06:17:11.806Z"
   },
   {
    "duration": 19,
    "start_time": "2023-02-06T06:17:11.825Z"
   },
   {
    "duration": 6,
    "start_time": "2023-02-06T06:17:11.846Z"
   },
   {
    "duration": 16,
    "start_time": "2023-02-06T06:17:11.853Z"
   },
   {
    "duration": 72,
    "start_time": "2023-02-06T06:17:11.871Z"
   },
   {
    "duration": 58,
    "start_time": "2023-02-06T06:17:11.944Z"
   },
   {
    "duration": 50,
    "start_time": "2023-02-06T06:17:12.004Z"
   },
   {
    "duration": 7,
    "start_time": "2023-02-06T06:17:12.056Z"
   },
   {
    "duration": 79,
    "start_time": "2023-02-06T06:17:12.065Z"
   },
   {
    "duration": 9,
    "start_time": "2023-02-06T06:17:12.145Z"
   },
   {
    "duration": 26,
    "start_time": "2023-02-06T06:17:12.156Z"
   },
   {
    "duration": 3,
    "start_time": "2023-02-06T06:17:12.185Z"
   },
   {
    "duration": 8,
    "start_time": "2023-02-06T06:17:12.189Z"
   },
   {
    "duration": 9,
    "start_time": "2023-02-06T06:17:12.198Z"
   },
   {
    "duration": 71,
    "start_time": "2023-02-06T06:17:12.209Z"
   },
   {
    "duration": 9,
    "start_time": "2023-02-06T06:17:12.281Z"
   },
   {
    "duration": 15,
    "start_time": "2023-02-06T06:17:12.292Z"
   },
   {
    "duration": 38,
    "start_time": "2023-02-06T06:17:12.309Z"
   },
   {
    "duration": 557,
    "start_time": "2023-02-06T06:17:12.349Z"
   },
   {
    "duration": 5,
    "start_time": "2023-02-06T06:17:12.907Z"
   },
   {
    "duration": 39,
    "start_time": "2023-02-06T06:17:12.913Z"
   },
   {
    "duration": 3,
    "start_time": "2023-02-06T06:17:12.954Z"
   },
   {
    "duration": 10,
    "start_time": "2023-02-06T06:17:12.959Z"
   },
   {
    "duration": 13,
    "start_time": "2023-02-06T06:17:12.971Z"
   },
   {
    "duration": 30,
    "start_time": "2023-02-06T06:17:12.986Z"
   },
   {
    "duration": 5,
    "start_time": "2023-02-06T06:17:13.017Z"
   },
   {
    "duration": 5,
    "start_time": "2023-02-06T06:17:13.037Z"
   },
   {
    "duration": 6,
    "start_time": "2023-02-06T06:17:13.043Z"
   },
   {
    "duration": 53,
    "start_time": "2023-02-06T06:17:13.050Z"
   },
   {
    "duration": 32,
    "start_time": "2023-02-06T06:17:13.105Z"
   },
   {
    "duration": 29,
    "start_time": "2023-02-06T06:17:13.139Z"
   },
   {
    "duration": 2,
    "start_time": "2023-02-06T06:17:13.169Z"
   },
   {
    "duration": 25,
    "start_time": "2023-02-06T06:17:13.172Z"
   },
   {
    "duration": 117,
    "start_time": "2023-02-06T06:17:13.199Z"
   },
   {
    "duration": 19,
    "start_time": "2023-02-06T06:17:13.318Z"
   },
   {
    "duration": 4,
    "start_time": "2023-02-06T06:17:13.338Z"
   },
   {
    "duration": 9,
    "start_time": "2023-02-06T06:17:13.343Z"
   },
   {
    "duration": 7,
    "start_time": "2023-02-06T06:17:13.353Z"
   },
   {
    "duration": 8,
    "start_time": "2023-02-06T06:17:13.363Z"
   },
   {
    "duration": 70,
    "start_time": "2023-02-06T06:17:13.373Z"
   },
   {
    "duration": 54,
    "start_time": "2023-02-06T06:17:13.444Z"
   },
   {
    "duration": 9,
    "start_time": "2023-02-06T06:17:13.499Z"
   },
   {
    "duration": 30,
    "start_time": "2023-02-06T06:17:13.510Z"
   },
   {
    "duration": 12,
    "start_time": "2023-02-06T06:17:13.542Z"
   },
   {
    "duration": 19,
    "start_time": "2023-02-06T06:17:13.556Z"
   },
   {
    "duration": 10,
    "start_time": "2023-02-06T06:17:13.577Z"
   },
   {
    "duration": 10,
    "start_time": "2023-02-06T06:17:13.589Z"
   },
   {
    "duration": 93,
    "start_time": "2023-02-06T06:17:13.601Z"
   },
   {
    "duration": 8,
    "start_time": "2023-02-06T06:17:13.695Z"
   },
   {
    "duration": 11,
    "start_time": "2023-02-06T06:17:13.704Z"
   },
   {
    "duration": 20,
    "start_time": "2023-02-06T06:17:13.717Z"
   },
   {
    "duration": 7,
    "start_time": "2023-02-06T06:17:13.738Z"
   },
   {
    "duration": 9,
    "start_time": "2023-02-06T06:17:13.746Z"
   },
   {
    "duration": 5,
    "start_time": "2023-02-06T06:17:13.757Z"
   },
   {
    "duration": 666,
    "start_time": "2023-02-06T06:17:13.763Z"
   },
   {
    "duration": 0,
    "start_time": "2023-02-06T06:17:14.430Z"
   },
   {
    "duration": 0,
    "start_time": "2023-02-06T06:17:14.432Z"
   },
   {
    "duration": 0,
    "start_time": "2023-02-06T06:17:14.433Z"
   },
   {
    "duration": 0,
    "start_time": "2023-02-06T06:17:14.434Z"
   },
   {
    "duration": 0,
    "start_time": "2023-02-06T06:17:14.435Z"
   },
   {
    "duration": 4,
    "start_time": "2023-02-06T06:17:38.501Z"
   },
   {
    "duration": 148,
    "start_time": "2023-02-06T06:17:38.507Z"
   },
   {
    "duration": 18,
    "start_time": "2023-02-06T06:17:38.656Z"
   },
   {
    "duration": 10,
    "start_time": "2023-02-06T06:17:38.676Z"
   },
   {
    "duration": 7,
    "start_time": "2023-02-06T06:17:38.688Z"
   },
   {
    "duration": 16,
    "start_time": "2023-02-06T06:17:38.697Z"
   },
   {
    "duration": 66,
    "start_time": "2023-02-06T06:17:38.715Z"
   },
   {
    "duration": 84,
    "start_time": "2023-02-06T06:17:38.783Z"
   },
   {
    "duration": 42,
    "start_time": "2023-02-06T06:17:38.869Z"
   },
   {
    "duration": 24,
    "start_time": "2023-02-06T06:17:38.913Z"
   },
   {
    "duration": 62,
    "start_time": "2023-02-06T06:17:38.939Z"
   },
   {
    "duration": 20,
    "start_time": "2023-02-06T06:17:39.003Z"
   },
   {
    "duration": 26,
    "start_time": "2023-02-06T06:17:39.025Z"
   },
   {
    "duration": 3,
    "start_time": "2023-02-06T06:17:39.054Z"
   },
   {
    "duration": 9,
    "start_time": "2023-02-06T06:17:39.058Z"
   },
   {
    "duration": 12,
    "start_time": "2023-02-06T06:17:39.069Z"
   },
   {
    "duration": 65,
    "start_time": "2023-02-06T06:17:39.083Z"
   },
   {
    "duration": 8,
    "start_time": "2023-02-06T06:17:39.149Z"
   },
   {
    "duration": 16,
    "start_time": "2023-02-06T06:17:39.158Z"
   },
   {
    "duration": 18,
    "start_time": "2023-02-06T06:17:39.176Z"
   },
   {
    "duration": 512,
    "start_time": "2023-02-06T06:17:39.196Z"
   },
   {
    "duration": 6,
    "start_time": "2023-02-06T06:17:39.710Z"
   },
   {
    "duration": 43,
    "start_time": "2023-02-06T06:17:39.717Z"
   },
   {
    "duration": 5,
    "start_time": "2023-02-06T06:17:39.762Z"
   },
   {
    "duration": 8,
    "start_time": "2023-02-06T06:17:39.769Z"
   },
   {
    "duration": 15,
    "start_time": "2023-02-06T06:17:39.779Z"
   },
   {
    "duration": 66,
    "start_time": "2023-02-06T06:17:39.795Z"
   },
   {
    "duration": 6,
    "start_time": "2023-02-06T06:17:39.863Z"
   },
   {
    "duration": 10,
    "start_time": "2023-02-06T06:17:39.871Z"
   },
   {
    "duration": 13,
    "start_time": "2023-02-06T06:17:39.882Z"
   },
   {
    "duration": 68,
    "start_time": "2023-02-06T06:17:39.897Z"
   },
   {
    "duration": 13,
    "start_time": "2023-02-06T06:17:39.967Z"
   },
   {
    "duration": 56,
    "start_time": "2023-02-06T06:17:39.982Z"
   },
   {
    "duration": 3,
    "start_time": "2023-02-06T06:17:40.039Z"
   },
   {
    "duration": 23,
    "start_time": "2023-02-06T06:17:40.043Z"
   },
   {
    "duration": 12,
    "start_time": "2023-02-06T06:17:40.068Z"
   },
   {
    "duration": 18,
    "start_time": "2023-02-06T06:17:40.082Z"
   },
   {
    "duration": 13,
    "start_time": "2023-02-06T06:17:40.102Z"
   },
   {
    "duration": 10,
    "start_time": "2023-02-06T06:17:40.116Z"
   },
   {
    "duration": 8,
    "start_time": "2023-02-06T06:17:40.136Z"
   },
   {
    "duration": 15,
    "start_time": "2023-02-06T06:17:40.149Z"
   },
   {
    "duration": 57,
    "start_time": "2023-02-06T06:17:40.166Z"
   },
   {
    "duration": 54,
    "start_time": "2023-02-06T06:17:40.225Z"
   },
   {
    "duration": 9,
    "start_time": "2023-02-06T06:17:40.280Z"
   },
   {
    "duration": 12,
    "start_time": "2023-02-06T06:17:40.290Z"
   },
   {
    "duration": 36,
    "start_time": "2023-02-06T06:17:40.304Z"
   },
   {
    "duration": 11,
    "start_time": "2023-02-06T06:17:40.342Z"
   },
   {
    "duration": 11,
    "start_time": "2023-02-06T06:17:40.354Z"
   },
   {
    "duration": 10,
    "start_time": "2023-02-06T06:17:40.367Z"
   },
   {
    "duration": 86,
    "start_time": "2023-02-06T06:17:40.379Z"
   },
   {
    "duration": 7,
    "start_time": "2023-02-06T06:17:40.467Z"
   },
   {
    "duration": 13,
    "start_time": "2023-02-06T06:17:40.476Z"
   },
   {
    "duration": 7,
    "start_time": "2023-02-06T06:17:40.491Z"
   },
   {
    "duration": 11,
    "start_time": "2023-02-06T06:17:40.500Z"
   },
   {
    "duration": 11,
    "start_time": "2023-02-06T06:17:40.513Z"
   },
   {
    "duration": 29,
    "start_time": "2023-02-06T06:17:40.525Z"
   },
   {
    "duration": 786,
    "start_time": "2023-02-06T06:17:40.556Z"
   },
   {
    "duration": 0,
    "start_time": "2023-02-06T06:17:41.343Z"
   },
   {
    "duration": 0,
    "start_time": "2023-02-06T06:17:41.344Z"
   },
   {
    "duration": 0,
    "start_time": "2023-02-06T06:17:41.345Z"
   },
   {
    "duration": 0,
    "start_time": "2023-02-06T06:17:41.346Z"
   },
   {
    "duration": 0,
    "start_time": "2023-02-06T06:17:41.347Z"
   },
   {
    "duration": 4,
    "start_time": "2023-02-06T06:20:10.938Z"
   },
   {
    "duration": 173,
    "start_time": "2023-02-06T06:20:10.945Z"
   },
   {
    "duration": 19,
    "start_time": "2023-02-06T06:20:11.120Z"
   },
   {
    "duration": 9,
    "start_time": "2023-02-06T06:20:11.141Z"
   },
   {
    "duration": 8,
    "start_time": "2023-02-06T06:20:11.151Z"
   },
   {
    "duration": 17,
    "start_time": "2023-02-06T06:20:11.160Z"
   },
   {
    "duration": 69,
    "start_time": "2023-02-06T06:20:11.179Z"
   },
   {
    "duration": 59,
    "start_time": "2023-02-06T06:20:11.249Z"
   },
   {
    "duration": 54,
    "start_time": "2023-02-06T06:20:11.310Z"
   },
   {
    "duration": 7,
    "start_time": "2023-02-06T06:20:11.366Z"
   },
   {
    "duration": 78,
    "start_time": "2023-02-06T06:20:11.375Z"
   },
   {
    "duration": 10,
    "start_time": "2023-02-06T06:20:11.455Z"
   },
   {
    "duration": 27,
    "start_time": "2023-02-06T06:20:11.467Z"
   },
   {
    "duration": 2,
    "start_time": "2023-02-06T06:20:11.495Z"
   },
   {
    "duration": 7,
    "start_time": "2023-02-06T06:20:11.499Z"
   },
   {
    "duration": 33,
    "start_time": "2023-02-06T06:20:11.508Z"
   },
   {
    "duration": 71,
    "start_time": "2023-02-06T06:20:11.543Z"
   },
   {
    "duration": 24,
    "start_time": "2023-02-06T06:20:11.616Z"
   },
   {
    "duration": 24,
    "start_time": "2023-02-06T06:20:11.641Z"
   },
   {
    "duration": 16,
    "start_time": "2023-02-06T06:20:11.667Z"
   },
   {
    "duration": 533,
    "start_time": "2023-02-06T06:20:11.684Z"
   },
   {
    "duration": 5,
    "start_time": "2023-02-06T06:20:12.219Z"
   },
   {
    "duration": 40,
    "start_time": "2023-02-06T06:20:12.225Z"
   },
   {
    "duration": 5,
    "start_time": "2023-02-06T06:20:12.268Z"
   },
   {
    "duration": 10,
    "start_time": "2023-02-06T06:20:12.275Z"
   },
   {
    "duration": 14,
    "start_time": "2023-02-06T06:20:12.287Z"
   },
   {
    "duration": 58,
    "start_time": "2023-02-06T06:20:12.303Z"
   },
   {
    "duration": 7,
    "start_time": "2023-02-06T06:20:12.367Z"
   },
   {
    "duration": 11,
    "start_time": "2023-02-06T06:20:12.375Z"
   },
   {
    "duration": 14,
    "start_time": "2023-02-06T06:20:12.387Z"
   },
   {
    "duration": 78,
    "start_time": "2023-02-06T06:20:12.405Z"
   },
   {
    "duration": 16,
    "start_time": "2023-02-06T06:20:12.485Z"
   },
   {
    "duration": 58,
    "start_time": "2023-02-06T06:20:12.505Z"
   },
   {
    "duration": 3,
    "start_time": "2023-02-06T06:20:12.565Z"
   },
   {
    "duration": 34,
    "start_time": "2023-02-06T06:20:12.570Z"
   },
   {
    "duration": 17,
    "start_time": "2023-02-06T06:20:12.606Z"
   },
   {
    "duration": 12,
    "start_time": "2023-02-06T06:20:12.636Z"
   },
   {
    "duration": 24,
    "start_time": "2023-02-06T06:20:12.649Z"
   },
   {
    "duration": 15,
    "start_time": "2023-02-06T06:20:12.675Z"
   },
   {
    "duration": 16,
    "start_time": "2023-02-06T06:20:12.691Z"
   },
   {
    "duration": 8,
    "start_time": "2023-02-06T06:20:12.709Z"
   },
   {
    "duration": 72,
    "start_time": "2023-02-06T06:20:12.719Z"
   },
   {
    "duration": 55,
    "start_time": "2023-02-06T06:20:12.792Z"
   },
   {
    "duration": 10,
    "start_time": "2023-02-06T06:20:12.849Z"
   },
   {
    "duration": 16,
    "start_time": "2023-02-06T06:20:12.861Z"
   },
   {
    "duration": 9,
    "start_time": "2023-02-06T06:20:12.878Z"
   },
   {
    "duration": 11,
    "start_time": "2023-02-06T06:20:12.888Z"
   },
   {
    "duration": 5,
    "start_time": "2023-02-06T06:20:12.900Z"
   },
   {
    "duration": 11,
    "start_time": "2023-02-06T06:20:12.937Z"
   },
   {
    "duration": 89,
    "start_time": "2023-02-06T06:20:12.950Z"
   },
   {
    "duration": 12,
    "start_time": "2023-02-06T06:20:13.041Z"
   },
   {
    "duration": 13,
    "start_time": "2023-02-06T06:20:13.055Z"
   },
   {
    "duration": 14,
    "start_time": "2023-02-06T06:20:13.070Z"
   },
   {
    "duration": 9,
    "start_time": "2023-02-06T06:20:13.086Z"
   },
   {
    "duration": 7,
    "start_time": "2023-02-06T06:20:13.097Z"
   },
   {
    "duration": 7,
    "start_time": "2023-02-06T06:20:13.106Z"
   },
   {
    "duration": 710,
    "start_time": "2023-02-06T06:20:13.115Z"
   },
   {
    "duration": 0,
    "start_time": "2023-02-06T06:20:13.826Z"
   },
   {
    "duration": 0,
    "start_time": "2023-02-06T06:20:13.828Z"
   },
   {
    "duration": 0,
    "start_time": "2023-02-06T06:20:13.829Z"
   },
   {
    "duration": 0,
    "start_time": "2023-02-06T06:20:13.830Z"
   },
   {
    "duration": 0,
    "start_time": "2023-02-06T06:20:13.831Z"
   },
   {
    "duration": 11,
    "start_time": "2023-02-06T06:24:13.775Z"
   },
   {
    "duration": 7,
    "start_time": "2023-02-06T06:24:36.125Z"
   },
   {
    "duration": 7,
    "start_time": "2023-02-06T06:25:22.237Z"
   },
   {
    "duration": 5,
    "start_time": "2023-02-06T06:25:27.817Z"
   },
   {
    "duration": 680,
    "start_time": "2023-02-06T06:25:31.012Z"
   },
   {
    "duration": 4,
    "start_time": "2023-02-06T06:26:04.941Z"
   },
   {
    "duration": 149,
    "start_time": "2023-02-06T06:26:04.948Z"
   },
   {
    "duration": 16,
    "start_time": "2023-02-06T06:26:05.099Z"
   },
   {
    "duration": 21,
    "start_time": "2023-02-06T06:26:05.117Z"
   },
   {
    "duration": 8,
    "start_time": "2023-02-06T06:26:05.140Z"
   },
   {
    "duration": 17,
    "start_time": "2023-02-06T06:26:05.150Z"
   },
   {
    "duration": 58,
    "start_time": "2023-02-06T06:26:05.168Z"
   },
   {
    "duration": 58,
    "start_time": "2023-02-06T06:26:05.238Z"
   },
   {
    "duration": 50,
    "start_time": "2023-02-06T06:26:05.297Z"
   },
   {
    "duration": 7,
    "start_time": "2023-02-06T06:26:05.349Z"
   },
   {
    "duration": 64,
    "start_time": "2023-02-06T06:26:05.357Z"
   },
   {
    "duration": 21,
    "start_time": "2023-02-06T06:26:05.422Z"
   },
   {
    "duration": 25,
    "start_time": "2023-02-06T06:26:05.445Z"
   },
   {
    "duration": 2,
    "start_time": "2023-02-06T06:26:05.473Z"
   },
   {
    "duration": 7,
    "start_time": "2023-02-06T06:26:05.476Z"
   },
   {
    "duration": 9,
    "start_time": "2023-02-06T06:26:05.485Z"
   },
   {
    "duration": 72,
    "start_time": "2023-02-06T06:26:05.496Z"
   },
   {
    "duration": 7,
    "start_time": "2023-02-06T06:26:05.570Z"
   },
   {
    "duration": 19,
    "start_time": "2023-02-06T06:26:05.579Z"
   },
   {
    "duration": 26,
    "start_time": "2023-02-06T06:26:05.600Z"
   },
   {
    "duration": 558,
    "start_time": "2023-02-06T06:26:05.628Z"
   },
   {
    "duration": 5,
    "start_time": "2023-02-06T06:26:06.188Z"
   },
   {
    "duration": 42,
    "start_time": "2023-02-06T06:26:06.195Z"
   },
   {
    "duration": 4,
    "start_time": "2023-02-06T06:26:06.239Z"
   },
   {
    "duration": 9,
    "start_time": "2023-02-06T06:26:06.245Z"
   },
   {
    "duration": 18,
    "start_time": "2023-02-06T06:26:06.255Z"
   },
   {
    "duration": 44,
    "start_time": "2023-02-06T06:26:06.275Z"
   },
   {
    "duration": 5,
    "start_time": "2023-02-06T06:26:06.337Z"
   },
   {
    "duration": 9,
    "start_time": "2023-02-06T06:26:06.344Z"
   },
   {
    "duration": 13,
    "start_time": "2023-02-06T06:26:06.355Z"
   },
   {
    "duration": 55,
    "start_time": "2023-02-06T06:26:06.369Z"
   },
   {
    "duration": 18,
    "start_time": "2023-02-06T06:26:06.425Z"
   },
   {
    "duration": 33,
    "start_time": "2023-02-06T06:26:06.445Z"
   },
   {
    "duration": 3,
    "start_time": "2023-02-06T06:26:06.479Z"
   },
   {
    "duration": 23,
    "start_time": "2023-02-06T06:26:06.483Z"
   },
   {
    "duration": 40,
    "start_time": "2023-02-06T06:26:06.508Z"
   },
   {
    "duration": 12,
    "start_time": "2023-02-06T06:26:06.549Z"
   },
   {
    "duration": 8,
    "start_time": "2023-02-06T06:26:06.562Z"
   },
   {
    "duration": 9,
    "start_time": "2023-02-06T06:26:06.572Z"
   },
   {
    "duration": 12,
    "start_time": "2023-02-06T06:26:06.583Z"
   },
   {
    "duration": 5,
    "start_time": "2023-02-06T06:26:06.602Z"
   },
   {
    "duration": 75,
    "start_time": "2023-02-06T06:26:06.608Z"
   },
   {
    "duration": 72,
    "start_time": "2023-02-06T06:26:06.685Z"
   },
   {
    "duration": 8,
    "start_time": "2023-02-06T06:26:06.759Z"
   },
   {
    "duration": 11,
    "start_time": "2023-02-06T06:26:06.769Z"
   },
   {
    "duration": 13,
    "start_time": "2023-02-06T06:26:06.781Z"
   },
   {
    "duration": 9,
    "start_time": "2023-02-06T06:26:06.796Z"
   },
   {
    "duration": 3,
    "start_time": "2023-02-06T06:26:06.837Z"
   },
   {
    "duration": 13,
    "start_time": "2023-02-06T06:26:06.842Z"
   },
   {
    "duration": 82,
    "start_time": "2023-02-06T06:26:06.856Z"
   },
   {
    "duration": 7,
    "start_time": "2023-02-06T06:26:06.940Z"
   },
   {
    "duration": 12,
    "start_time": "2023-02-06T06:26:06.949Z"
   },
   {
    "duration": 16,
    "start_time": "2023-02-06T06:26:06.962Z"
   },
   {
    "duration": 12,
    "start_time": "2023-02-06T06:26:06.980Z"
   },
   {
    "duration": 9,
    "start_time": "2023-02-06T06:26:06.994Z"
   },
   {
    "duration": 8,
    "start_time": "2023-02-06T06:26:07.005Z"
   },
   {
    "duration": 811,
    "start_time": "2023-02-06T06:26:07.015Z"
   },
   {
    "duration": 0,
    "start_time": "2023-02-06T06:26:07.828Z"
   },
   {
    "duration": 0,
    "start_time": "2023-02-06T06:26:07.829Z"
   },
   {
    "duration": 0,
    "start_time": "2023-02-06T06:26:07.830Z"
   },
   {
    "duration": 0,
    "start_time": "2023-02-06T06:26:07.831Z"
   },
   {
    "duration": 0,
    "start_time": "2023-02-06T06:26:07.832Z"
   },
   {
    "duration": 8,
    "start_time": "2023-02-06T06:26:43.129Z"
   },
   {
    "duration": 8,
    "start_time": "2023-02-06T06:26:45.352Z"
   },
   {
    "duration": 5,
    "start_time": "2023-02-06T06:26:47.603Z"
   },
   {
    "duration": 724,
    "start_time": "2023-02-06T06:26:49.652Z"
   },
   {
    "duration": 4,
    "start_time": "2023-02-06T06:27:14.572Z"
   },
   {
    "duration": 171,
    "start_time": "2023-02-06T06:27:14.578Z"
   },
   {
    "duration": 17,
    "start_time": "2023-02-06T06:27:14.751Z"
   },
   {
    "duration": 10,
    "start_time": "2023-02-06T06:27:14.770Z"
   },
   {
    "duration": 5,
    "start_time": "2023-02-06T06:27:14.782Z"
   },
   {
    "duration": 16,
    "start_time": "2023-02-06T06:27:14.788Z"
   },
   {
    "duration": 75,
    "start_time": "2023-02-06T06:27:14.805Z"
   },
   {
    "duration": 72,
    "start_time": "2023-02-06T06:27:14.881Z"
   },
   {
    "duration": 40,
    "start_time": "2023-02-06T06:27:14.955Z"
   },
   {
    "duration": 10,
    "start_time": "2023-02-06T06:27:15.012Z"
   },
   {
    "duration": 94,
    "start_time": "2023-02-06T06:27:15.024Z"
   },
   {
    "duration": 8,
    "start_time": "2023-02-06T06:27:15.120Z"
   },
   {
    "duration": 28,
    "start_time": "2023-02-06T06:27:15.129Z"
   },
   {
    "duration": 2,
    "start_time": "2023-02-06T06:27:15.160Z"
   },
   {
    "duration": 6,
    "start_time": "2023-02-06T06:27:15.163Z"
   },
   {
    "duration": 8,
    "start_time": "2023-02-06T06:27:15.171Z"
   },
   {
    "duration": 84,
    "start_time": "2023-02-06T06:27:15.181Z"
   },
   {
    "duration": 6,
    "start_time": "2023-02-06T06:27:15.267Z"
   },
   {
    "duration": 16,
    "start_time": "2023-02-06T06:27:15.275Z"
   },
   {
    "duration": 24,
    "start_time": "2023-02-06T06:27:15.292Z"
   },
   {
    "duration": 521,
    "start_time": "2023-02-06T06:27:15.336Z"
   },
   {
    "duration": 5,
    "start_time": "2023-02-06T06:27:15.859Z"
   },
   {
    "duration": 32,
    "start_time": "2023-02-06T06:27:15.865Z"
   },
   {
    "duration": 4,
    "start_time": "2023-02-06T06:27:15.899Z"
   },
   {
    "duration": 8,
    "start_time": "2023-02-06T06:27:15.904Z"
   },
   {
    "duration": 29,
    "start_time": "2023-02-06T06:27:15.913Z"
   },
   {
    "duration": 46,
    "start_time": "2023-02-06T06:27:15.944Z"
   },
   {
    "duration": 9,
    "start_time": "2023-02-06T06:27:15.992Z"
   },
   {
    "duration": 17,
    "start_time": "2023-02-06T06:27:16.002Z"
   },
   {
    "duration": 27,
    "start_time": "2023-02-06T06:27:16.020Z"
   },
   {
    "duration": 89,
    "start_time": "2023-02-06T06:27:16.048Z"
   },
   {
    "duration": 15,
    "start_time": "2023-02-06T06:27:16.139Z"
   },
   {
    "duration": 33,
    "start_time": "2023-02-06T06:27:16.155Z"
   },
   {
    "duration": 3,
    "start_time": "2023-02-06T06:27:16.190Z"
   },
   {
    "duration": 51,
    "start_time": "2023-02-06T06:27:16.195Z"
   },
   {
    "duration": 16,
    "start_time": "2023-02-06T06:27:16.248Z"
   },
   {
    "duration": 13,
    "start_time": "2023-02-06T06:27:16.266Z"
   },
   {
    "duration": 6,
    "start_time": "2023-02-06T06:27:16.281Z"
   },
   {
    "duration": 9,
    "start_time": "2023-02-06T06:27:16.288Z"
   },
   {
    "duration": 7,
    "start_time": "2023-02-06T06:27:16.299Z"
   },
   {
    "duration": 4,
    "start_time": "2023-02-06T06:27:16.337Z"
   },
   {
    "duration": 78,
    "start_time": "2023-02-06T06:27:16.344Z"
   },
   {
    "duration": 63,
    "start_time": "2023-02-06T06:27:16.424Z"
   },
   {
    "duration": 7,
    "start_time": "2023-02-06T06:27:16.489Z"
   },
   {
    "duration": 14,
    "start_time": "2023-02-06T06:27:16.498Z"
   },
   {
    "duration": 28,
    "start_time": "2023-02-06T06:27:16.513Z"
   },
   {
    "duration": 10,
    "start_time": "2023-02-06T06:27:16.543Z"
   },
   {
    "duration": 5,
    "start_time": "2023-02-06T06:27:16.555Z"
   },
   {
    "duration": 10,
    "start_time": "2023-02-06T06:27:16.562Z"
   },
   {
    "duration": 127,
    "start_time": "2023-02-06T06:27:16.573Z"
   },
   {
    "duration": 8,
    "start_time": "2023-02-06T06:27:16.702Z"
   },
   {
    "duration": 13,
    "start_time": "2023-02-06T06:27:16.711Z"
   },
   {
    "duration": 14,
    "start_time": "2023-02-06T06:27:16.725Z"
   },
   {
    "duration": 10,
    "start_time": "2023-02-06T06:27:16.741Z"
   },
   {
    "duration": 10,
    "start_time": "2023-02-06T06:27:16.752Z"
   },
   {
    "duration": 5,
    "start_time": "2023-02-06T06:27:16.763Z"
   },
   {
    "duration": 736,
    "start_time": "2023-02-06T06:27:16.770Z"
   },
   {
    "duration": 0,
    "start_time": "2023-02-06T06:27:17.507Z"
   },
   {
    "duration": 0,
    "start_time": "2023-02-06T06:27:17.508Z"
   },
   {
    "duration": 0,
    "start_time": "2023-02-06T06:27:17.509Z"
   },
   {
    "duration": 0,
    "start_time": "2023-02-06T06:27:17.510Z"
   },
   {
    "duration": 0,
    "start_time": "2023-02-06T06:27:17.511Z"
   },
   {
    "duration": 9,
    "start_time": "2023-02-06T06:29:58.550Z"
   },
   {
    "duration": 6,
    "start_time": "2023-02-06T06:30:25.708Z"
   },
   {
    "duration": 5,
    "start_time": "2023-02-06T06:31:58.532Z"
   },
   {
    "duration": 152,
    "start_time": "2023-02-06T06:31:58.539Z"
   },
   {
    "duration": 18,
    "start_time": "2023-02-06T06:31:58.693Z"
   },
   {
    "duration": 9,
    "start_time": "2023-02-06T06:31:58.713Z"
   },
   {
    "duration": 3,
    "start_time": "2023-02-06T06:31:58.738Z"
   },
   {
    "duration": 20,
    "start_time": "2023-02-06T06:31:58.742Z"
   },
   {
    "duration": 51,
    "start_time": "2023-02-06T06:31:58.764Z"
   },
   {
    "duration": 64,
    "start_time": "2023-02-06T06:31:58.816Z"
   },
   {
    "duration": 34,
    "start_time": "2023-02-06T06:31:58.882Z"
   },
   {
    "duration": 20,
    "start_time": "2023-02-06T06:31:58.918Z"
   },
   {
    "duration": 62,
    "start_time": "2023-02-06T06:31:58.940Z"
   },
   {
    "duration": 8,
    "start_time": "2023-02-06T06:31:59.004Z"
   },
   {
    "duration": 46,
    "start_time": "2023-02-06T06:31:59.014Z"
   },
   {
    "duration": 2,
    "start_time": "2023-02-06T06:31:59.063Z"
   },
   {
    "duration": 7,
    "start_time": "2023-02-06T06:31:59.066Z"
   },
   {
    "duration": 8,
    "start_time": "2023-02-06T06:31:59.074Z"
   },
   {
    "duration": 68,
    "start_time": "2023-02-06T06:31:59.084Z"
   },
   {
    "duration": 7,
    "start_time": "2023-02-06T06:31:59.154Z"
   },
   {
    "duration": 13,
    "start_time": "2023-02-06T06:31:59.162Z"
   },
   {
    "duration": 15,
    "start_time": "2023-02-06T06:31:59.177Z"
   },
   {
    "duration": 512,
    "start_time": "2023-02-06T06:31:59.193Z"
   },
   {
    "duration": 5,
    "start_time": "2023-02-06T06:31:59.706Z"
   },
   {
    "duration": 39,
    "start_time": "2023-02-06T06:31:59.713Z"
   },
   {
    "duration": 3,
    "start_time": "2023-02-06T06:31:59.754Z"
   },
   {
    "duration": 5,
    "start_time": "2023-02-06T06:31:59.759Z"
   },
   {
    "duration": 12,
    "start_time": "2023-02-06T06:31:59.765Z"
   },
   {
    "duration": 32,
    "start_time": "2023-02-06T06:31:59.779Z"
   },
   {
    "duration": 27,
    "start_time": "2023-02-06T06:31:59.813Z"
   },
   {
    "duration": 9,
    "start_time": "2023-02-06T06:31:59.841Z"
   },
   {
    "duration": 10,
    "start_time": "2023-02-06T06:31:59.851Z"
   },
   {
    "duration": 74,
    "start_time": "2023-02-06T06:31:59.863Z"
   },
   {
    "duration": 12,
    "start_time": "2023-02-06T06:31:59.938Z"
   },
   {
    "duration": 34,
    "start_time": "2023-02-06T06:31:59.951Z"
   },
   {
    "duration": 2,
    "start_time": "2023-02-06T06:31:59.987Z"
   },
   {
    "duration": 24,
    "start_time": "2023-02-06T06:31:59.990Z"
   },
   {
    "duration": 31,
    "start_time": "2023-02-06T06:32:00.016Z"
   },
   {
    "duration": 23,
    "start_time": "2023-02-06T06:32:00.049Z"
   },
   {
    "duration": 9,
    "start_time": "2023-02-06T06:32:00.073Z"
   },
   {
    "duration": 18,
    "start_time": "2023-02-06T06:32:00.083Z"
   },
   {
    "duration": 19,
    "start_time": "2023-02-06T06:32:00.102Z"
   },
   {
    "duration": 10,
    "start_time": "2023-02-06T06:32:00.126Z"
   },
   {
    "duration": 75,
    "start_time": "2023-02-06T06:32:00.138Z"
   },
   {
    "duration": 53,
    "start_time": "2023-02-06T06:32:00.215Z"
   },
   {
    "duration": 9,
    "start_time": "2023-02-06T06:32:00.269Z"
   },
   {
    "duration": 34,
    "start_time": "2023-02-06T06:32:00.279Z"
   },
   {
    "duration": 48,
    "start_time": "2023-02-06T06:32:00.314Z"
   },
   {
    "duration": 51,
    "start_time": "2023-02-06T06:32:00.364Z"
   },
   {
    "duration": 34,
    "start_time": "2023-02-06T06:32:00.417Z"
   },
   {
    "duration": 29,
    "start_time": "2023-02-06T06:32:00.453Z"
   },
   {
    "duration": 101,
    "start_time": "2023-02-06T06:32:00.483Z"
   },
   {
    "duration": 9,
    "start_time": "2023-02-06T06:32:00.585Z"
   },
   {
    "duration": 42,
    "start_time": "2023-02-06T06:32:00.596Z"
   },
   {
    "duration": 27,
    "start_time": "2023-02-06T06:32:00.639Z"
   },
   {
    "duration": 32,
    "start_time": "2023-02-06T06:32:00.668Z"
   },
   {
    "duration": 10,
    "start_time": "2023-02-06T06:32:00.707Z"
   },
   {
    "duration": 11,
    "start_time": "2023-02-06T06:32:00.720Z"
   },
   {
    "duration": 716,
    "start_time": "2023-02-06T06:32:00.732Z"
   },
   {
    "duration": 0,
    "start_time": "2023-02-06T06:32:01.449Z"
   },
   {
    "duration": 0,
    "start_time": "2023-02-06T06:32:01.450Z"
   },
   {
    "duration": 0,
    "start_time": "2023-02-06T06:32:01.451Z"
   },
   {
    "duration": 0,
    "start_time": "2023-02-06T06:32:01.452Z"
   },
   {
    "duration": 0,
    "start_time": "2023-02-06T06:32:01.453Z"
   },
   {
    "duration": 5,
    "start_time": "2023-02-06T06:32:43.746Z"
   },
   {
    "duration": 4,
    "start_time": "2023-02-06T06:33:10.150Z"
   },
   {
    "duration": 7,
    "start_time": "2023-02-06T06:33:10.950Z"
   },
   {
    "duration": 6,
    "start_time": "2023-02-06T06:33:11.861Z"
   },
   {
    "duration": 7,
    "start_time": "2023-02-06T06:33:12.990Z"
   },
   {
    "duration": 6,
    "start_time": "2023-02-06T06:33:36.557Z"
   },
   {
    "duration": 7,
    "start_time": "2023-02-06T06:33:37.705Z"
   },
   {
    "duration": 7,
    "start_time": "2023-02-06T06:33:38.653Z"
   },
   {
    "duration": 5,
    "start_time": "2023-02-06T06:33:44.633Z"
   },
   {
    "duration": 168,
    "start_time": "2023-02-06T06:33:44.640Z"
   },
   {
    "duration": 27,
    "start_time": "2023-02-06T06:33:44.810Z"
   },
   {
    "duration": 11,
    "start_time": "2023-02-06T06:33:44.839Z"
   },
   {
    "duration": 5,
    "start_time": "2023-02-06T06:33:44.852Z"
   },
   {
    "duration": 17,
    "start_time": "2023-02-06T06:33:44.859Z"
   },
   {
    "duration": 83,
    "start_time": "2023-02-06T06:33:44.878Z"
   },
   {
    "duration": 62,
    "start_time": "2023-02-06T06:33:44.963Z"
   },
   {
    "duration": 40,
    "start_time": "2023-02-06T06:33:45.038Z"
   },
   {
    "duration": 7,
    "start_time": "2023-02-06T06:33:45.081Z"
   },
   {
    "duration": 78,
    "start_time": "2023-02-06T06:33:45.089Z"
   },
   {
    "duration": 8,
    "start_time": "2023-02-06T06:33:45.169Z"
   },
   {
    "duration": 46,
    "start_time": "2023-02-06T06:33:45.178Z"
   },
   {
    "duration": 2,
    "start_time": "2023-02-06T06:33:45.226Z"
   },
   {
    "duration": 10,
    "start_time": "2023-02-06T06:33:45.230Z"
   },
   {
    "duration": 9,
    "start_time": "2023-02-06T06:33:45.241Z"
   },
   {
    "duration": 50,
    "start_time": "2023-02-06T06:33:45.252Z"
   },
   {
    "duration": 8,
    "start_time": "2023-02-06T06:33:45.304Z"
   },
   {
    "duration": 15,
    "start_time": "2023-02-06T06:33:45.337Z"
   },
   {
    "duration": 14,
    "start_time": "2023-02-06T06:33:45.354Z"
   },
   {
    "duration": 606,
    "start_time": "2023-02-06T06:33:45.370Z"
   },
   {
    "duration": 6,
    "start_time": "2023-02-06T06:33:45.978Z"
   },
   {
    "duration": 35,
    "start_time": "2023-02-06T06:33:45.987Z"
   },
   {
    "duration": 14,
    "start_time": "2023-02-06T06:33:46.024Z"
   },
   {
    "duration": 5,
    "start_time": "2023-02-06T06:33:46.040Z"
   },
   {
    "duration": 13,
    "start_time": "2023-02-06T06:33:46.047Z"
   },
   {
    "duration": 33,
    "start_time": "2023-02-06T06:33:46.062Z"
   },
   {
    "duration": 5,
    "start_time": "2023-02-06T06:33:46.099Z"
   },
   {
    "duration": 36,
    "start_time": "2023-02-06T06:33:46.105Z"
   },
   {
    "duration": 7,
    "start_time": "2023-02-06T06:33:46.143Z"
   },
   {
    "duration": 54,
    "start_time": "2023-02-06T06:33:46.151Z"
   },
   {
    "duration": 12,
    "start_time": "2023-02-06T06:33:46.207Z"
   },
   {
    "duration": 35,
    "start_time": "2023-02-06T06:33:46.238Z"
   },
   {
    "duration": 2,
    "start_time": "2023-02-06T06:33:46.275Z"
   },
   {
    "duration": 22,
    "start_time": "2023-02-06T06:33:46.279Z"
   },
   {
    "duration": 35,
    "start_time": "2023-02-06T06:33:46.303Z"
   },
   {
    "duration": 11,
    "start_time": "2023-02-06T06:33:46.340Z"
   },
   {
    "duration": 4,
    "start_time": "2023-02-06T06:33:46.353Z"
   },
   {
    "duration": 12,
    "start_time": "2023-02-06T06:33:46.359Z"
   },
   {
    "duration": 6,
    "start_time": "2023-02-06T06:33:46.372Z"
   },
   {
    "duration": 5,
    "start_time": "2023-02-06T06:33:46.380Z"
   },
   {
    "duration": 71,
    "start_time": "2023-02-06T06:33:46.386Z"
   },
   {
    "duration": 52,
    "start_time": "2023-02-06T06:33:46.459Z"
   },
   {
    "duration": 7,
    "start_time": "2023-02-06T06:33:46.513Z"
   },
   {
    "duration": 21,
    "start_time": "2023-02-06T06:33:46.522Z"
   },
   {
    "duration": 9,
    "start_time": "2023-02-06T06:33:46.544Z"
   },
   {
    "duration": 9,
    "start_time": "2023-02-06T06:33:46.555Z"
   },
   {
    "duration": 5,
    "start_time": "2023-02-06T06:33:46.566Z"
   },
   {
    "duration": 11,
    "start_time": "2023-02-06T06:33:46.572Z"
   },
   {
    "duration": 107,
    "start_time": "2023-02-06T06:33:46.585Z"
   },
   {
    "duration": 4,
    "start_time": "2023-02-06T06:33:46.694Z"
   },
   {
    "duration": 13,
    "start_time": "2023-02-06T06:33:46.699Z"
   },
   {
    "duration": 13,
    "start_time": "2023-02-06T06:33:46.713Z"
   },
   {
    "duration": 20,
    "start_time": "2023-02-06T06:33:46.727Z"
   },
   {
    "duration": 8,
    "start_time": "2023-02-06T06:33:46.749Z"
   },
   {
    "duration": 5,
    "start_time": "2023-02-06T06:33:46.759Z"
   },
   {
    "duration": 771,
    "start_time": "2023-02-06T06:33:46.765Z"
   },
   {
    "duration": 0,
    "start_time": "2023-02-06T06:33:47.537Z"
   },
   {
    "duration": 0,
    "start_time": "2023-02-06T06:33:47.538Z"
   },
   {
    "duration": 0,
    "start_time": "2023-02-06T06:33:47.539Z"
   },
   {
    "duration": 0,
    "start_time": "2023-02-06T06:33:47.540Z"
   },
   {
    "duration": 0,
    "start_time": "2023-02-06T06:33:47.541Z"
   },
   {
    "duration": 6,
    "start_time": "2023-02-06T06:34:53.464Z"
   },
   {
    "duration": 70,
    "start_time": "2023-02-06T06:34:59.084Z"
   },
   {
    "duration": 4,
    "start_time": "2023-02-06T06:35:00.340Z"
   },
   {
    "duration": 6,
    "start_time": "2023-02-06T06:35:05.452Z"
   },
   {
    "duration": 6,
    "start_time": "2023-02-06T06:35:10.221Z"
   },
   {
    "duration": 7,
    "start_time": "2023-02-06T06:35:15.117Z"
   },
   {
    "duration": 6,
    "start_time": "2023-02-06T06:35:18.016Z"
   },
   {
    "duration": 5,
    "start_time": "2023-02-06T06:35:25.092Z"
   },
   {
    "duration": 730,
    "start_time": "2023-02-06T06:35:27.572Z"
   },
   {
    "duration": 4,
    "start_time": "2023-02-06T06:35:38.443Z"
   },
   {
    "duration": 150,
    "start_time": "2023-02-06T06:35:38.449Z"
   },
   {
    "duration": 19,
    "start_time": "2023-02-06T06:35:38.602Z"
   },
   {
    "duration": 20,
    "start_time": "2023-02-06T06:35:38.622Z"
   },
   {
    "duration": 6,
    "start_time": "2023-02-06T06:35:38.644Z"
   },
   {
    "duration": 23,
    "start_time": "2023-02-06T06:35:38.651Z"
   },
   {
    "duration": 65,
    "start_time": "2023-02-06T06:35:38.675Z"
   },
   {
    "duration": 56,
    "start_time": "2023-02-06T06:35:38.742Z"
   },
   {
    "duration": 54,
    "start_time": "2023-02-06T06:35:38.799Z"
   },
   {
    "duration": 6,
    "start_time": "2023-02-06T06:35:38.856Z"
   },
   {
    "duration": 79,
    "start_time": "2023-02-06T06:35:38.864Z"
   },
   {
    "duration": 10,
    "start_time": "2023-02-06T06:35:38.944Z"
   },
   {
    "duration": 27,
    "start_time": "2023-02-06T06:35:38.956Z"
   },
   {
    "duration": 2,
    "start_time": "2023-02-06T06:35:38.985Z"
   },
   {
    "duration": 8,
    "start_time": "2023-02-06T06:35:38.988Z"
   },
   {
    "duration": 21,
    "start_time": "2023-02-06T06:35:38.997Z"
   },
   {
    "duration": 63,
    "start_time": "2023-02-06T06:35:39.020Z"
   },
   {
    "duration": 8,
    "start_time": "2023-02-06T06:35:39.084Z"
   },
   {
    "duration": 14,
    "start_time": "2023-02-06T06:35:39.094Z"
   },
   {
    "duration": 34,
    "start_time": "2023-02-06T06:35:39.109Z"
   },
   {
    "duration": 514,
    "start_time": "2023-02-06T06:35:39.144Z"
   },
   {
    "duration": 5,
    "start_time": "2023-02-06T06:35:39.660Z"
   },
   {
    "duration": 34,
    "start_time": "2023-02-06T06:35:39.667Z"
   },
   {
    "duration": 5,
    "start_time": "2023-02-06T06:35:39.703Z"
   },
   {
    "duration": 8,
    "start_time": "2023-02-06T06:35:39.709Z"
   },
   {
    "duration": 21,
    "start_time": "2023-02-06T06:35:39.736Z"
   },
   {
    "duration": 41,
    "start_time": "2023-02-06T06:35:39.759Z"
   },
   {
    "duration": 4,
    "start_time": "2023-02-06T06:35:39.803Z"
   },
   {
    "duration": 6,
    "start_time": "2023-02-06T06:35:39.809Z"
   },
   {
    "duration": 22,
    "start_time": "2023-02-06T06:35:39.816Z"
   },
   {
    "duration": 55,
    "start_time": "2023-02-06T06:35:39.840Z"
   },
   {
    "duration": 12,
    "start_time": "2023-02-06T06:35:39.896Z"
   },
   {
    "duration": 60,
    "start_time": "2023-02-06T06:35:39.910Z"
   },
   {
    "duration": 3,
    "start_time": "2023-02-06T06:35:39.971Z"
   },
   {
    "duration": 28,
    "start_time": "2023-02-06T06:35:39.975Z"
   },
   {
    "duration": 14,
    "start_time": "2023-02-06T06:35:40.005Z"
   },
   {
    "duration": 11,
    "start_time": "2023-02-06T06:35:40.037Z"
   },
   {
    "duration": 4,
    "start_time": "2023-02-06T06:35:40.050Z"
   },
   {
    "duration": 9,
    "start_time": "2023-02-06T06:35:40.055Z"
   },
   {
    "duration": 9,
    "start_time": "2023-02-06T06:35:40.065Z"
   },
   {
    "duration": 7,
    "start_time": "2023-02-06T06:35:40.075Z"
   },
   {
    "duration": 63,
    "start_time": "2023-02-06T06:35:40.084Z"
   },
   {
    "duration": 51,
    "start_time": "2023-02-06T06:35:40.148Z"
   },
   {
    "duration": 7,
    "start_time": "2023-02-06T06:35:40.201Z"
   },
   {
    "duration": 30,
    "start_time": "2023-02-06T06:35:40.209Z"
   },
   {
    "duration": 9,
    "start_time": "2023-02-06T06:35:40.240Z"
   },
   {
    "duration": 11,
    "start_time": "2023-02-06T06:35:40.250Z"
   },
   {
    "duration": 5,
    "start_time": "2023-02-06T06:35:40.263Z"
   },
   {
    "duration": 11,
    "start_time": "2023-02-06T06:35:40.269Z"
   },
   {
    "duration": 88,
    "start_time": "2023-02-06T06:35:40.281Z"
   },
   {
    "duration": 4,
    "start_time": "2023-02-06T06:35:40.371Z"
   },
   {
    "duration": 8,
    "start_time": "2023-02-06T06:35:40.377Z"
   },
   {
    "duration": 6,
    "start_time": "2023-02-06T06:35:40.387Z"
   },
   {
    "duration": 10,
    "start_time": "2023-02-06T06:35:40.395Z"
   },
   {
    "duration": 9,
    "start_time": "2023-02-06T06:35:40.406Z"
   },
   {
    "duration": 24,
    "start_time": "2023-02-06T06:35:40.416Z"
   },
   {
    "duration": 731,
    "start_time": "2023-02-06T06:35:40.442Z"
   },
   {
    "duration": 0,
    "start_time": "2023-02-06T06:35:41.175Z"
   },
   {
    "duration": 0,
    "start_time": "2023-02-06T06:35:41.176Z"
   },
   {
    "duration": 0,
    "start_time": "2023-02-06T06:35:41.177Z"
   },
   {
    "duration": 0,
    "start_time": "2023-02-06T06:35:41.177Z"
   },
   {
    "duration": 0,
    "start_time": "2023-02-06T06:35:41.178Z"
   },
   {
    "duration": 5,
    "start_time": "2023-02-06T06:36:29.187Z"
   },
   {
    "duration": 189,
    "start_time": "2023-02-06T06:36:29.194Z"
   },
   {
    "duration": 18,
    "start_time": "2023-02-06T06:36:29.385Z"
   },
   {
    "duration": 15,
    "start_time": "2023-02-06T06:36:29.405Z"
   },
   {
    "duration": 19,
    "start_time": "2023-02-06T06:36:29.421Z"
   },
   {
    "duration": 20,
    "start_time": "2023-02-06T06:36:29.441Z"
   },
   {
    "duration": 58,
    "start_time": "2023-02-06T06:36:29.463Z"
   },
   {
    "duration": 61,
    "start_time": "2023-02-06T06:36:29.538Z"
   },
   {
    "duration": 57,
    "start_time": "2023-02-06T06:36:29.603Z"
   },
   {
    "duration": 8,
    "start_time": "2023-02-06T06:36:29.662Z"
   },
   {
    "duration": 86,
    "start_time": "2023-02-06T06:36:29.672Z"
   },
   {
    "duration": 9,
    "start_time": "2023-02-06T06:36:29.760Z"
   },
   {
    "duration": 30,
    "start_time": "2023-02-06T06:36:29.770Z"
   },
   {
    "duration": 2,
    "start_time": "2023-02-06T06:36:29.802Z"
   },
   {
    "duration": 6,
    "start_time": "2023-02-06T06:36:29.806Z"
   },
   {
    "duration": 29,
    "start_time": "2023-02-06T06:36:29.814Z"
   },
   {
    "duration": 55,
    "start_time": "2023-02-06T06:36:29.845Z"
   },
   {
    "duration": 7,
    "start_time": "2023-02-06T06:36:29.902Z"
   },
   {
    "duration": 33,
    "start_time": "2023-02-06T06:36:29.911Z"
   },
   {
    "duration": 17,
    "start_time": "2023-02-06T06:36:29.945Z"
   },
   {
    "duration": 582,
    "start_time": "2023-02-06T06:36:29.963Z"
   },
   {
    "duration": 5,
    "start_time": "2023-02-06T06:36:30.547Z"
   },
   {
    "duration": 58,
    "start_time": "2023-02-06T06:36:30.553Z"
   },
   {
    "duration": 10,
    "start_time": "2023-02-06T06:36:30.616Z"
   },
   {
    "duration": 30,
    "start_time": "2023-02-06T06:36:30.628Z"
   },
   {
    "duration": 30,
    "start_time": "2023-02-06T06:36:30.660Z"
   },
   {
    "duration": 43,
    "start_time": "2023-02-06T06:36:30.691Z"
   },
   {
    "duration": 26,
    "start_time": "2023-02-06T06:36:30.736Z"
   },
   {
    "duration": 19,
    "start_time": "2023-02-06T06:36:30.764Z"
   },
   {
    "duration": 29,
    "start_time": "2023-02-06T06:36:30.785Z"
   },
   {
    "duration": 73,
    "start_time": "2023-02-06T06:36:30.816Z"
   },
   {
    "duration": 13,
    "start_time": "2023-02-06T06:36:30.890Z"
   },
   {
    "duration": 77,
    "start_time": "2023-02-06T06:36:30.905Z"
   },
   {
    "duration": 2,
    "start_time": "2023-02-06T06:36:30.984Z"
   },
   {
    "duration": 71,
    "start_time": "2023-02-06T06:36:30.988Z"
   },
   {
    "duration": 29,
    "start_time": "2023-02-06T06:36:31.061Z"
   },
   {
    "duration": 61,
    "start_time": "2023-02-06T06:36:31.092Z"
   },
   {
    "duration": 35,
    "start_time": "2023-02-06T06:36:31.155Z"
   },
   {
    "duration": 49,
    "start_time": "2023-02-06T06:36:31.192Z"
   },
   {
    "duration": 38,
    "start_time": "2023-02-06T06:36:31.243Z"
   },
   {
    "duration": 17,
    "start_time": "2023-02-06T06:36:31.283Z"
   },
   {
    "duration": 84,
    "start_time": "2023-02-06T06:36:31.302Z"
   },
   {
    "duration": 68,
    "start_time": "2023-02-06T06:36:31.388Z"
   },
   {
    "duration": 9,
    "start_time": "2023-02-06T06:36:31.458Z"
   },
   {
    "duration": 25,
    "start_time": "2023-02-06T06:36:31.469Z"
   },
   {
    "duration": 37,
    "start_time": "2023-02-06T06:36:31.496Z"
   },
   {
    "duration": 11,
    "start_time": "2023-02-06T06:36:31.536Z"
   },
   {
    "duration": 13,
    "start_time": "2023-02-06T06:36:31.549Z"
   },
   {
    "duration": 13,
    "start_time": "2023-02-06T06:36:31.564Z"
   },
   {
    "duration": 89,
    "start_time": "2023-02-06T06:36:31.578Z"
   },
   {
    "duration": 8,
    "start_time": "2023-02-06T06:36:31.669Z"
   },
   {
    "duration": 21,
    "start_time": "2023-02-06T06:36:31.678Z"
   },
   {
    "duration": 15,
    "start_time": "2023-02-06T06:36:31.700Z"
   },
   {
    "duration": 24,
    "start_time": "2023-02-06T06:36:31.717Z"
   },
   {
    "duration": 7,
    "start_time": "2023-02-06T06:36:31.743Z"
   },
   {
    "duration": 12,
    "start_time": "2023-02-06T06:36:31.752Z"
   },
   {
    "duration": 679,
    "start_time": "2023-02-06T06:36:31.765Z"
   },
   {
    "duration": 0,
    "start_time": "2023-02-06T06:36:32.446Z"
   },
   {
    "duration": 0,
    "start_time": "2023-02-06T06:36:32.447Z"
   },
   {
    "duration": 0,
    "start_time": "2023-02-06T06:36:32.449Z"
   },
   {
    "duration": 0,
    "start_time": "2023-02-06T06:36:32.450Z"
   },
   {
    "duration": 1,
    "start_time": "2023-02-06T06:36:32.451Z"
   },
   {
    "duration": 4,
    "start_time": "2023-02-06T06:36:45.028Z"
   },
   {
    "duration": 138,
    "start_time": "2023-02-06T06:36:45.034Z"
   },
   {
    "duration": 16,
    "start_time": "2023-02-06T06:36:45.174Z"
   },
   {
    "duration": 9,
    "start_time": "2023-02-06T06:36:45.191Z"
   },
   {
    "duration": 5,
    "start_time": "2023-02-06T06:36:45.201Z"
   },
   {
    "duration": 30,
    "start_time": "2023-02-06T06:36:45.208Z"
   },
   {
    "duration": 50,
    "start_time": "2023-02-06T06:36:45.239Z"
   },
   {
    "duration": 70,
    "start_time": "2023-02-06T06:36:45.290Z"
   },
   {
    "duration": 37,
    "start_time": "2023-02-06T06:36:45.362Z"
   },
   {
    "duration": 7,
    "start_time": "2023-02-06T06:36:45.401Z"
   },
   {
    "duration": 76,
    "start_time": "2023-02-06T06:36:45.409Z"
   },
   {
    "duration": 8,
    "start_time": "2023-02-06T06:36:45.487Z"
   },
   {
    "duration": 41,
    "start_time": "2023-02-06T06:36:45.496Z"
   },
   {
    "duration": 3,
    "start_time": "2023-02-06T06:36:45.540Z"
   },
   {
    "duration": 8,
    "start_time": "2023-02-06T06:36:45.544Z"
   },
   {
    "duration": 8,
    "start_time": "2023-02-06T06:36:45.554Z"
   },
   {
    "duration": 55,
    "start_time": "2023-02-06T06:36:45.563Z"
   },
   {
    "duration": 8,
    "start_time": "2023-02-06T06:36:45.638Z"
   },
   {
    "duration": 14,
    "start_time": "2023-02-06T06:36:45.648Z"
   },
   {
    "duration": 16,
    "start_time": "2023-02-06T06:36:45.664Z"
   },
   {
    "duration": 509,
    "start_time": "2023-02-06T06:36:45.682Z"
   },
   {
    "duration": 5,
    "start_time": "2023-02-06T06:36:46.192Z"
   },
   {
    "duration": 39,
    "start_time": "2023-02-06T06:36:46.198Z"
   },
   {
    "duration": 3,
    "start_time": "2023-02-06T06:36:46.239Z"
   },
   {
    "duration": 5,
    "start_time": "2023-02-06T06:36:46.244Z"
   },
   {
    "duration": 14,
    "start_time": "2023-02-06T06:36:46.250Z"
   },
   {
    "duration": 30,
    "start_time": "2023-02-06T06:36:46.266Z"
   },
   {
    "duration": 4,
    "start_time": "2023-02-06T06:36:46.297Z"
   },
   {
    "duration": 7,
    "start_time": "2023-02-06T06:36:46.303Z"
   },
   {
    "duration": 30,
    "start_time": "2023-02-06T06:36:46.311Z"
   },
   {
    "duration": 54,
    "start_time": "2023-02-06T06:36:46.342Z"
   },
   {
    "duration": 11,
    "start_time": "2023-02-06T06:36:46.398Z"
   },
   {
    "duration": 50,
    "start_time": "2023-02-06T06:36:46.411Z"
   },
   {
    "duration": 2,
    "start_time": "2023-02-06T06:36:46.462Z"
   },
   {
    "duration": 23,
    "start_time": "2023-02-06T06:36:46.466Z"
   },
   {
    "duration": 13,
    "start_time": "2023-02-06T06:36:46.490Z"
   },
   {
    "duration": 12,
    "start_time": "2023-02-06T06:36:46.505Z"
   },
   {
    "duration": 3,
    "start_time": "2023-02-06T06:36:46.537Z"
   },
   {
    "duration": 7,
    "start_time": "2023-02-06T06:36:46.542Z"
   },
   {
    "duration": 9,
    "start_time": "2023-02-06T06:36:46.550Z"
   },
   {
    "duration": 10,
    "start_time": "2023-02-06T06:36:46.562Z"
   },
   {
    "duration": 60,
    "start_time": "2023-02-06T06:36:46.574Z"
   },
   {
    "duration": 52,
    "start_time": "2023-02-06T06:36:46.635Z"
   },
   {
    "duration": 10,
    "start_time": "2023-02-06T06:36:46.688Z"
   },
   {
    "duration": 12,
    "start_time": "2023-02-06T06:36:46.699Z"
   },
   {
    "duration": 33,
    "start_time": "2023-02-06T06:36:46.713Z"
   },
   {
    "duration": 11,
    "start_time": "2023-02-06T06:36:46.748Z"
   },
   {
    "duration": 5,
    "start_time": "2023-02-06T06:36:46.760Z"
   },
   {
    "duration": 9,
    "start_time": "2023-02-06T06:36:46.766Z"
   },
   {
    "duration": 89,
    "start_time": "2023-02-06T06:36:46.777Z"
   },
   {
    "duration": 7,
    "start_time": "2023-02-06T06:36:46.868Z"
   },
   {
    "duration": 21,
    "start_time": "2023-02-06T06:36:46.876Z"
   },
   {
    "duration": 17,
    "start_time": "2023-02-06T06:36:46.898Z"
   },
   {
    "duration": 14,
    "start_time": "2023-02-06T06:36:46.917Z"
   },
   {
    "duration": 9,
    "start_time": "2023-02-06T06:36:46.934Z"
   },
   {
    "duration": 6,
    "start_time": "2023-02-06T06:36:46.944Z"
   },
   {
    "duration": 721,
    "start_time": "2023-02-06T06:36:46.951Z"
   },
   {
    "duration": 0,
    "start_time": "2023-02-06T06:36:47.673Z"
   },
   {
    "duration": 0,
    "start_time": "2023-02-06T06:36:47.674Z"
   },
   {
    "duration": 0,
    "start_time": "2023-02-06T06:36:47.675Z"
   },
   {
    "duration": 0,
    "start_time": "2023-02-06T06:36:47.676Z"
   },
   {
    "duration": 0,
    "start_time": "2023-02-06T06:36:47.677Z"
   },
   {
    "duration": 8,
    "start_time": "2023-02-06T06:37:31.352Z"
   },
   {
    "duration": 7,
    "start_time": "2023-02-06T06:37:32.645Z"
   },
   {
    "duration": 5,
    "start_time": "2023-02-06T06:37:37.496Z"
   },
   {
    "duration": 741,
    "start_time": "2023-02-06T06:37:40.213Z"
   },
   {
    "duration": 683,
    "start_time": "2023-02-06T06:37:52.990Z"
   },
   {
    "duration": 4,
    "start_time": "2023-02-06T06:38:16.973Z"
   },
   {
    "duration": 140,
    "start_time": "2023-02-06T06:38:16.979Z"
   },
   {
    "duration": 38,
    "start_time": "2023-02-06T06:38:17.122Z"
   },
   {
    "duration": 13,
    "start_time": "2023-02-06T06:38:17.161Z"
   },
   {
    "duration": 3,
    "start_time": "2023-02-06T06:38:17.175Z"
   },
   {
    "duration": 14,
    "start_time": "2023-02-06T06:38:17.179Z"
   },
   {
    "duration": 71,
    "start_time": "2023-02-06T06:38:17.195Z"
   },
   {
    "duration": 54,
    "start_time": "2023-02-06T06:38:17.268Z"
   },
   {
    "duration": 49,
    "start_time": "2023-02-06T06:38:17.324Z"
   },
   {
    "duration": 6,
    "start_time": "2023-02-06T06:38:17.374Z"
   },
   {
    "duration": 82,
    "start_time": "2023-02-06T06:38:17.383Z"
   },
   {
    "duration": 10,
    "start_time": "2023-02-06T06:38:17.467Z"
   },
   {
    "duration": 28,
    "start_time": "2023-02-06T06:38:17.478Z"
   },
   {
    "duration": 3,
    "start_time": "2023-02-06T06:38:17.507Z"
   },
   {
    "duration": 8,
    "start_time": "2023-02-06T06:38:17.511Z"
   },
   {
    "duration": 22,
    "start_time": "2023-02-06T06:38:17.520Z"
   },
   {
    "duration": 48,
    "start_time": "2023-02-06T06:38:17.544Z"
   },
   {
    "duration": 8,
    "start_time": "2023-02-06T06:38:17.594Z"
   },
   {
    "duration": 37,
    "start_time": "2023-02-06T06:38:17.603Z"
   },
   {
    "duration": 14,
    "start_time": "2023-02-06T06:38:17.642Z"
   },
   {
    "duration": 524,
    "start_time": "2023-02-06T06:38:17.658Z"
   },
   {
    "duration": 6,
    "start_time": "2023-02-06T06:38:18.184Z"
   },
   {
    "duration": 29,
    "start_time": "2023-02-06T06:38:18.191Z"
   },
   {
    "duration": 16,
    "start_time": "2023-02-06T06:38:18.222Z"
   },
   {
    "duration": 9,
    "start_time": "2023-02-06T06:38:18.240Z"
   },
   {
    "duration": 32,
    "start_time": "2023-02-06T06:38:18.251Z"
   },
   {
    "duration": 33,
    "start_time": "2023-02-06T06:38:18.285Z"
   },
   {
    "duration": 5,
    "start_time": "2023-02-06T06:38:18.320Z"
   },
   {
    "duration": 4,
    "start_time": "2023-02-06T06:38:18.337Z"
   },
   {
    "duration": 9,
    "start_time": "2023-02-06T06:38:18.342Z"
   },
   {
    "duration": 54,
    "start_time": "2023-02-06T06:38:18.352Z"
   },
   {
    "duration": 11,
    "start_time": "2023-02-06T06:38:18.408Z"
   },
   {
    "duration": 42,
    "start_time": "2023-02-06T06:38:18.420Z"
   },
   {
    "duration": 2,
    "start_time": "2023-02-06T06:38:18.464Z"
   },
   {
    "duration": 23,
    "start_time": "2023-02-06T06:38:18.468Z"
   },
   {
    "duration": 12,
    "start_time": "2023-02-06T06:38:18.492Z"
   },
   {
    "duration": 31,
    "start_time": "2023-02-06T06:38:18.506Z"
   },
   {
    "duration": 4,
    "start_time": "2023-02-06T06:38:18.538Z"
   },
   {
    "duration": 12,
    "start_time": "2023-02-06T06:38:18.543Z"
   },
   {
    "duration": 4,
    "start_time": "2023-02-06T06:38:18.557Z"
   },
   {
    "duration": 6,
    "start_time": "2023-02-06T06:38:18.562Z"
   },
   {
    "duration": 47,
    "start_time": "2023-02-06T06:38:18.569Z"
   },
   {
    "duration": 66,
    "start_time": "2023-02-06T06:38:18.617Z"
   },
   {
    "duration": 9,
    "start_time": "2023-02-06T06:38:18.685Z"
   },
   {
    "duration": 10,
    "start_time": "2023-02-06T06:38:18.696Z"
   },
   {
    "duration": 32,
    "start_time": "2023-02-06T06:38:18.707Z"
   },
   {
    "duration": 9,
    "start_time": "2023-02-06T06:38:18.740Z"
   },
   {
    "duration": 6,
    "start_time": "2023-02-06T06:38:18.751Z"
   },
   {
    "duration": 9,
    "start_time": "2023-02-06T06:38:18.758Z"
   },
   {
    "duration": 88,
    "start_time": "2023-02-06T06:38:18.768Z"
   },
   {
    "duration": 7,
    "start_time": "2023-02-06T06:38:18.858Z"
   },
   {
    "duration": 10,
    "start_time": "2023-02-06T06:38:18.866Z"
   },
   {
    "duration": 11,
    "start_time": "2023-02-06T06:38:18.877Z"
   },
   {
    "duration": 8,
    "start_time": "2023-02-06T06:38:18.889Z"
   },
   {
    "duration": 7,
    "start_time": "2023-02-06T06:38:18.899Z"
   },
   {
    "duration": 5,
    "start_time": "2023-02-06T06:38:18.907Z"
   },
   {
    "duration": 726,
    "start_time": "2023-02-06T06:38:18.914Z"
   },
   {
    "duration": 0,
    "start_time": "2023-02-06T06:38:19.641Z"
   },
   {
    "duration": 0,
    "start_time": "2023-02-06T06:38:19.643Z"
   },
   {
    "duration": 0,
    "start_time": "2023-02-06T06:38:19.644Z"
   },
   {
    "duration": 0,
    "start_time": "2023-02-06T06:38:19.645Z"
   },
   {
    "duration": 0,
    "start_time": "2023-02-06T06:38:19.646Z"
   },
   {
    "duration": 5,
    "start_time": "2023-02-06T06:40:42.518Z"
   },
   {
    "duration": 170,
    "start_time": "2023-02-06T06:40:42.525Z"
   },
   {
    "duration": 18,
    "start_time": "2023-02-06T06:40:42.697Z"
   },
   {
    "duration": 9,
    "start_time": "2023-02-06T06:40:42.717Z"
   },
   {
    "duration": 5,
    "start_time": "2023-02-06T06:40:42.739Z"
   },
   {
    "duration": 16,
    "start_time": "2023-02-06T06:40:42.745Z"
   },
   {
    "duration": 53,
    "start_time": "2023-02-06T06:40:42.763Z"
   },
   {
    "duration": 70,
    "start_time": "2023-02-06T06:40:42.818Z"
   },
   {
    "duration": 48,
    "start_time": "2023-02-06T06:40:42.890Z"
   },
   {
    "duration": 7,
    "start_time": "2023-02-06T06:40:42.940Z"
   },
   {
    "duration": 64,
    "start_time": "2023-02-06T06:40:42.948Z"
   },
   {
    "duration": 9,
    "start_time": "2023-02-06T06:40:43.013Z"
   },
   {
    "duration": 23,
    "start_time": "2023-02-06T06:40:43.037Z"
   },
   {
    "duration": 2,
    "start_time": "2023-02-06T06:40:43.063Z"
   },
   {
    "duration": 10,
    "start_time": "2023-02-06T06:40:43.067Z"
   },
   {
    "duration": 8,
    "start_time": "2023-02-06T06:40:43.078Z"
   },
   {
    "duration": 71,
    "start_time": "2023-02-06T06:40:43.087Z"
   },
   {
    "duration": 6,
    "start_time": "2023-02-06T06:40:43.160Z"
   },
   {
    "duration": 12,
    "start_time": "2023-02-06T06:40:43.168Z"
   },
   {
    "duration": 15,
    "start_time": "2023-02-06T06:40:43.182Z"
   },
   {
    "duration": 534,
    "start_time": "2023-02-06T06:40:43.198Z"
   },
   {
    "duration": 5,
    "start_time": "2023-02-06T06:40:43.736Z"
   },
   {
    "duration": 32,
    "start_time": "2023-02-06T06:40:43.743Z"
   },
   {
    "duration": 4,
    "start_time": "2023-02-06T06:40:43.777Z"
   },
   {
    "duration": 7,
    "start_time": "2023-02-06T06:40:43.782Z"
   },
   {
    "duration": 14,
    "start_time": "2023-02-06T06:40:43.790Z"
   },
   {
    "duration": 50,
    "start_time": "2023-02-06T06:40:43.806Z"
   },
   {
    "duration": 4,
    "start_time": "2023-02-06T06:40:43.857Z"
   },
   {
    "duration": 13,
    "start_time": "2023-02-06T06:40:43.863Z"
   },
   {
    "duration": 6,
    "start_time": "2023-02-06T06:40:43.878Z"
   },
   {
    "duration": 60,
    "start_time": "2023-02-06T06:40:43.885Z"
   },
   {
    "duration": 11,
    "start_time": "2023-02-06T06:40:43.947Z"
   },
   {
    "duration": 32,
    "start_time": "2023-02-06T06:40:43.960Z"
   },
   {
    "duration": 2,
    "start_time": "2023-02-06T06:40:43.994Z"
   },
   {
    "duration": 45,
    "start_time": "2023-02-06T06:40:43.997Z"
   },
   {
    "duration": 112,
    "start_time": "2023-02-06T06:40:44.044Z"
   },
   {
    "duration": 10,
    "start_time": "2023-02-06T06:40:44.158Z"
   },
   {
    "duration": 4,
    "start_time": "2023-02-06T06:40:44.170Z"
   },
   {
    "duration": 9,
    "start_time": "2023-02-06T06:40:44.176Z"
   },
   {
    "duration": 7,
    "start_time": "2023-02-06T06:40:44.186Z"
   },
   {
    "duration": 4,
    "start_time": "2023-02-06T06:40:44.196Z"
   },
   {
    "duration": 73,
    "start_time": "2023-02-06T06:40:44.201Z"
   },
   {
    "duration": 65,
    "start_time": "2023-02-06T06:40:44.276Z"
   },
   {
    "duration": 9,
    "start_time": "2023-02-06T06:40:44.343Z"
   },
   {
    "duration": 13,
    "start_time": "2023-02-06T06:40:44.354Z"
   },
   {
    "duration": 9,
    "start_time": "2023-02-06T06:40:44.368Z"
   },
   {
    "duration": 12,
    "start_time": "2023-02-06T06:40:44.379Z"
   },
   {
    "duration": 5,
    "start_time": "2023-02-06T06:40:44.392Z"
   },
   {
    "duration": 40,
    "start_time": "2023-02-06T06:40:44.398Z"
   },
   {
    "duration": 68,
    "start_time": "2023-02-06T06:40:44.439Z"
   },
   {
    "duration": 8,
    "start_time": "2023-02-06T06:40:44.509Z"
   },
   {
    "duration": 19,
    "start_time": "2023-02-06T06:40:44.536Z"
   },
   {
    "duration": 11,
    "start_time": "2023-02-06T06:40:44.556Z"
   },
   {
    "duration": 8,
    "start_time": "2023-02-06T06:40:44.569Z"
   },
   {
    "duration": 6,
    "start_time": "2023-02-06T06:40:44.579Z"
   },
   {
    "duration": 5,
    "start_time": "2023-02-06T06:40:44.587Z"
   },
   {
    "duration": 863,
    "start_time": "2023-02-06T06:40:44.594Z"
   },
   {
    "duration": 0,
    "start_time": "2023-02-06T06:40:45.459Z"
   },
   {
    "duration": 0,
    "start_time": "2023-02-06T06:40:45.461Z"
   },
   {
    "duration": 0,
    "start_time": "2023-02-06T06:40:45.461Z"
   },
   {
    "duration": 0,
    "start_time": "2023-02-06T06:40:45.462Z"
   },
   {
    "duration": 0,
    "start_time": "2023-02-06T06:40:45.463Z"
   },
   {
    "duration": 5,
    "start_time": "2023-02-06T06:46:31.192Z"
   },
   {
    "duration": 168,
    "start_time": "2023-02-06T06:46:31.199Z"
   },
   {
    "duration": 17,
    "start_time": "2023-02-06T06:46:31.369Z"
   },
   {
    "duration": 34,
    "start_time": "2023-02-06T06:46:31.388Z"
   },
   {
    "duration": 13,
    "start_time": "2023-02-06T06:46:31.424Z"
   },
   {
    "duration": 30,
    "start_time": "2023-02-06T06:46:31.439Z"
   },
   {
    "duration": 52,
    "start_time": "2023-02-06T06:46:31.471Z"
   },
   {
    "duration": 53,
    "start_time": "2023-02-06T06:46:31.524Z"
   },
   {
    "duration": 36,
    "start_time": "2023-02-06T06:46:31.578Z"
   },
   {
    "duration": 7,
    "start_time": "2023-02-06T06:46:31.615Z"
   },
   {
    "duration": 71,
    "start_time": "2023-02-06T06:46:31.624Z"
   },
   {
    "duration": 23,
    "start_time": "2023-02-06T06:46:31.697Z"
   },
   {
    "duration": 26,
    "start_time": "2023-02-06T06:46:31.721Z"
   },
   {
    "duration": 2,
    "start_time": "2023-02-06T06:46:31.748Z"
   },
   {
    "duration": 10,
    "start_time": "2023-02-06T06:46:31.752Z"
   },
   {
    "duration": 25,
    "start_time": "2023-02-06T06:46:31.764Z"
   },
   {
    "duration": 57,
    "start_time": "2023-02-06T06:46:31.791Z"
   },
   {
    "duration": 7,
    "start_time": "2023-02-06T06:46:31.849Z"
   },
   {
    "duration": 14,
    "start_time": "2023-02-06T06:46:31.857Z"
   },
   {
    "duration": 17,
    "start_time": "2023-02-06T06:46:31.872Z"
   },
   {
    "duration": 518,
    "start_time": "2023-02-06T06:46:31.891Z"
   },
   {
    "duration": 6,
    "start_time": "2023-02-06T06:46:32.411Z"
   },
   {
    "duration": 48,
    "start_time": "2023-02-06T06:46:32.418Z"
   },
   {
    "duration": 7,
    "start_time": "2023-02-06T06:46:32.468Z"
   },
   {
    "duration": 13,
    "start_time": "2023-02-06T06:46:32.477Z"
   },
   {
    "duration": 17,
    "start_time": "2023-02-06T06:46:32.492Z"
   },
   {
    "duration": 46,
    "start_time": "2023-02-06T06:46:32.510Z"
   },
   {
    "duration": 5,
    "start_time": "2023-02-06T06:46:32.557Z"
   },
   {
    "duration": 15,
    "start_time": "2023-02-06T06:46:32.567Z"
   },
   {
    "duration": 13,
    "start_time": "2023-02-06T06:46:32.584Z"
   },
   {
    "duration": 69,
    "start_time": "2023-02-06T06:46:32.599Z"
   },
   {
    "duration": 11,
    "start_time": "2023-02-06T06:46:32.670Z"
   },
   {
    "duration": 33,
    "start_time": "2023-02-06T06:46:32.683Z"
   },
   {
    "duration": 21,
    "start_time": "2023-02-06T06:46:32.717Z"
   },
   {
    "duration": 20,
    "start_time": "2023-02-06T06:46:32.739Z"
   },
   {
    "duration": 12,
    "start_time": "2023-02-06T06:46:32.761Z"
   },
   {
    "duration": 13,
    "start_time": "2023-02-06T06:46:32.775Z"
   },
   {
    "duration": 5,
    "start_time": "2023-02-06T06:46:32.790Z"
   },
   {
    "duration": 10,
    "start_time": "2023-02-06T06:46:32.796Z"
   },
   {
    "duration": 29,
    "start_time": "2023-02-06T06:46:32.808Z"
   },
   {
    "duration": 6,
    "start_time": "2023-02-06T06:46:32.839Z"
   },
   {
    "duration": 49,
    "start_time": "2023-02-06T06:46:32.846Z"
   },
   {
    "duration": 66,
    "start_time": "2023-02-06T06:46:32.897Z"
   },
   {
    "duration": 7,
    "start_time": "2023-02-06T06:46:32.965Z"
   },
   {
    "duration": 15,
    "start_time": "2023-02-06T06:46:32.974Z"
   },
   {
    "duration": 11,
    "start_time": "2023-02-06T06:46:32.991Z"
   },
   {
    "duration": 38,
    "start_time": "2023-02-06T06:46:33.003Z"
   },
   {
    "duration": 4,
    "start_time": "2023-02-06T06:46:33.043Z"
   },
   {
    "duration": 11,
    "start_time": "2023-02-06T06:46:33.049Z"
   },
   {
    "duration": 87,
    "start_time": "2023-02-06T06:46:33.061Z"
   },
   {
    "duration": 8,
    "start_time": "2023-02-06T06:46:33.150Z"
   },
   {
    "duration": 30,
    "start_time": "2023-02-06T06:46:33.160Z"
   },
   {
    "duration": 11,
    "start_time": "2023-02-06T06:46:33.192Z"
   },
   {
    "duration": 10,
    "start_time": "2023-02-06T06:46:33.204Z"
   },
   {
    "duration": 7,
    "start_time": "2023-02-06T06:46:33.216Z"
   },
   {
    "duration": 6,
    "start_time": "2023-02-06T06:46:33.224Z"
   },
   {
    "duration": 675,
    "start_time": "2023-02-06T06:46:33.231Z"
   },
   {
    "duration": 0,
    "start_time": "2023-02-06T06:46:33.908Z"
   },
   {
    "duration": 0,
    "start_time": "2023-02-06T06:46:33.908Z"
   },
   {
    "duration": 0,
    "start_time": "2023-02-06T06:46:33.910Z"
   },
   {
    "duration": 0,
    "start_time": "2023-02-06T06:46:33.910Z"
   },
   {
    "duration": 0,
    "start_time": "2023-02-06T06:46:33.911Z"
   },
   {
    "duration": 232,
    "start_time": "2023-02-06T06:47:02.669Z"
   },
   {
    "duration": 66,
    "start_time": "2023-02-06T06:47:14.897Z"
   },
   {
    "duration": 8,
    "start_time": "2023-02-06T06:47:28.469Z"
   },
   {
    "duration": 7,
    "start_time": "2023-02-06T06:47:39.432Z"
   },
   {
    "duration": 9,
    "start_time": "2023-02-06T06:47:47.800Z"
   },
   {
    "duration": 7,
    "start_time": "2023-02-06T06:47:53.059Z"
   },
   {
    "duration": 6,
    "start_time": "2023-02-06T06:47:59.785Z"
   },
   {
    "duration": 6,
    "start_time": "2023-02-06T06:48:02.776Z"
   },
   {
    "duration": 5,
    "start_time": "2023-02-06T07:04:43.150Z"
   },
   {
    "duration": 697,
    "start_time": "2023-02-06T07:04:46.043Z"
   },
   {
    "duration": 4,
    "start_time": "2023-02-06T07:05:09.017Z"
   },
   {
    "duration": 161,
    "start_time": "2023-02-06T07:05:09.023Z"
   },
   {
    "duration": 18,
    "start_time": "2023-02-06T07:05:09.186Z"
   },
   {
    "duration": 26,
    "start_time": "2023-02-06T07:05:09.207Z"
   },
   {
    "duration": 10,
    "start_time": "2023-02-06T07:05:09.236Z"
   },
   {
    "duration": 18,
    "start_time": "2023-02-06T07:05:09.247Z"
   },
   {
    "duration": 54,
    "start_time": "2023-02-06T07:05:09.267Z"
   },
   {
    "duration": 68,
    "start_time": "2023-02-06T07:05:09.323Z"
   },
   {
    "duration": 51,
    "start_time": "2023-02-06T07:05:09.393Z"
   },
   {
    "duration": 7,
    "start_time": "2023-02-06T07:05:09.447Z"
   },
   {
    "duration": 72,
    "start_time": "2023-02-06T07:05:09.455Z"
   },
   {
    "duration": 14,
    "start_time": "2023-02-06T07:05:09.529Z"
   },
   {
    "duration": 40,
    "start_time": "2023-02-06T07:05:09.544Z"
   },
   {
    "duration": 2,
    "start_time": "2023-02-06T07:05:09.586Z"
   },
   {
    "duration": 21,
    "start_time": "2023-02-06T07:05:09.589Z"
   },
   {
    "duration": 13,
    "start_time": "2023-02-06T07:05:09.612Z"
   },
   {
    "duration": 54,
    "start_time": "2023-02-06T07:05:09.627Z"
   },
   {
    "duration": 8,
    "start_time": "2023-02-06T07:05:09.682Z"
   },
   {
    "duration": 16,
    "start_time": "2023-02-06T07:05:09.691Z"
   },
   {
    "duration": 18,
    "start_time": "2023-02-06T07:05:09.709Z"
   },
   {
    "duration": 520,
    "start_time": "2023-02-06T07:05:09.738Z"
   },
   {
    "duration": 5,
    "start_time": "2023-02-06T07:05:10.260Z"
   },
   {
    "duration": 36,
    "start_time": "2023-02-06T07:05:10.266Z"
   },
   {
    "duration": 4,
    "start_time": "2023-02-06T07:05:10.304Z"
   },
   {
    "duration": 5,
    "start_time": "2023-02-06T07:05:10.310Z"
   },
   {
    "duration": 16,
    "start_time": "2023-02-06T07:05:10.336Z"
   },
   {
    "duration": 41,
    "start_time": "2023-02-06T07:05:10.353Z"
   },
   {
    "duration": 5,
    "start_time": "2023-02-06T07:05:10.397Z"
   },
   {
    "duration": 6,
    "start_time": "2023-02-06T07:05:10.404Z"
   },
   {
    "duration": 27,
    "start_time": "2023-02-06T07:05:10.411Z"
   },
   {
    "duration": 52,
    "start_time": "2023-02-06T07:05:10.440Z"
   },
   {
    "duration": 14,
    "start_time": "2023-02-06T07:05:10.493Z"
   },
   {
    "duration": 61,
    "start_time": "2023-02-06T07:05:10.509Z"
   },
   {
    "duration": 3,
    "start_time": "2023-02-06T07:05:10.572Z"
   },
   {
    "duration": 26,
    "start_time": "2023-02-06T07:05:10.577Z"
   },
   {
    "duration": 15,
    "start_time": "2023-02-06T07:05:10.605Z"
   },
   {
    "duration": 11,
    "start_time": "2023-02-06T07:05:10.638Z"
   },
   {
    "duration": 6,
    "start_time": "2023-02-06T07:05:10.651Z"
   },
   {
    "duration": 9,
    "start_time": "2023-02-06T07:05:10.658Z"
   },
   {
    "duration": 7,
    "start_time": "2023-02-06T07:05:10.668Z"
   },
   {
    "duration": 8,
    "start_time": "2023-02-06T07:05:10.676Z"
   },
   {
    "duration": 82,
    "start_time": "2023-02-06T07:05:10.685Z"
   },
   {
    "duration": 54,
    "start_time": "2023-02-06T07:05:10.769Z"
   },
   {
    "duration": 20,
    "start_time": "2023-02-06T07:05:10.824Z"
   },
   {
    "duration": 21,
    "start_time": "2023-02-06T07:05:10.846Z"
   },
   {
    "duration": 13,
    "start_time": "2023-02-06T07:05:10.868Z"
   },
   {
    "duration": 11,
    "start_time": "2023-02-06T07:05:10.883Z"
   },
   {
    "duration": 5,
    "start_time": "2023-02-06T07:05:10.896Z"
   },
   {
    "duration": 38,
    "start_time": "2023-02-06T07:05:10.903Z"
   },
   {
    "duration": 79,
    "start_time": "2023-02-06T07:05:10.943Z"
   },
   {
    "duration": 9,
    "start_time": "2023-02-06T07:05:11.038Z"
   },
   {
    "duration": 11,
    "start_time": "2023-02-06T07:05:11.049Z"
   },
   {
    "duration": 12,
    "start_time": "2023-02-06T07:05:11.063Z"
   },
   {
    "duration": 11,
    "start_time": "2023-02-06T07:05:11.076Z"
   },
   {
    "duration": 10,
    "start_time": "2023-02-06T07:05:11.088Z"
   },
   {
    "duration": 6,
    "start_time": "2023-02-06T07:05:11.100Z"
   },
   {
    "duration": 745,
    "start_time": "2023-02-06T07:05:11.107Z"
   },
   {
    "duration": 0,
    "start_time": "2023-02-06T07:05:11.853Z"
   },
   {
    "duration": 0,
    "start_time": "2023-02-06T07:05:11.854Z"
   },
   {
    "duration": 0,
    "start_time": "2023-02-06T07:05:11.855Z"
   },
   {
    "duration": 0,
    "start_time": "2023-02-06T07:05:11.856Z"
   },
   {
    "duration": 0,
    "start_time": "2023-02-06T07:05:11.857Z"
   },
   {
    "duration": 6,
    "start_time": "2023-02-06T07:05:47.550Z"
   },
   {
    "duration": 738,
    "start_time": "2023-02-06T07:05:49.341Z"
   },
   {
    "duration": 9,
    "start_time": "2023-02-06T07:09:08.302Z"
   },
   {
    "duration": 5,
    "start_time": "2023-02-06T07:09:57.298Z"
   },
   {
    "duration": 7,
    "start_time": "2023-02-06T07:10:01.569Z"
   },
   {
    "duration": 10,
    "start_time": "2023-02-06T07:10:02.616Z"
   },
   {
    "duration": 8,
    "start_time": "2023-02-06T07:10:03.692Z"
   },
   {
    "duration": 9,
    "start_time": "2023-02-06T07:10:20.972Z"
   },
   {
    "duration": 6,
    "start_time": "2023-02-06T07:10:26.829Z"
   },
   {
    "duration": 10,
    "start_time": "2023-02-06T07:10:29.603Z"
   },
   {
    "duration": 8,
    "start_time": "2023-02-06T07:10:30.471Z"
   },
   {
    "duration": 8,
    "start_time": "2023-02-06T07:10:31.348Z"
   },
   {
    "duration": 5,
    "start_time": "2023-02-06T07:10:32.362Z"
   },
   {
    "duration": 752,
    "start_time": "2023-02-06T07:10:33.257Z"
   },
   {
    "duration": 4,
    "start_time": "2023-02-06T07:10:50.486Z"
   },
   {
    "duration": 157,
    "start_time": "2023-02-06T07:10:50.493Z"
   },
   {
    "duration": 17,
    "start_time": "2023-02-06T07:10:50.652Z"
   },
   {
    "duration": 11,
    "start_time": "2023-02-06T07:10:50.671Z"
   },
   {
    "duration": 7,
    "start_time": "2023-02-06T07:10:50.683Z"
   },
   {
    "duration": 18,
    "start_time": "2023-02-06T07:10:50.691Z"
   },
   {
    "duration": 75,
    "start_time": "2023-02-06T07:10:50.710Z"
   },
   {
    "duration": 70,
    "start_time": "2023-02-06T07:10:50.786Z"
   },
   {
    "duration": 39,
    "start_time": "2023-02-06T07:10:50.858Z"
   },
   {
    "duration": 7,
    "start_time": "2023-02-06T07:10:50.899Z"
   },
   {
    "duration": 75,
    "start_time": "2023-02-06T07:10:50.908Z"
   },
   {
    "duration": 9,
    "start_time": "2023-02-06T07:10:50.985Z"
   },
   {
    "duration": 30,
    "start_time": "2023-02-06T07:10:50.995Z"
   },
   {
    "duration": 2,
    "start_time": "2023-02-06T07:10:51.036Z"
   },
   {
    "duration": 18,
    "start_time": "2023-02-06T07:10:51.040Z"
   },
   {
    "duration": 26,
    "start_time": "2023-02-06T07:10:51.060Z"
   },
   {
    "duration": 51,
    "start_time": "2023-02-06T07:10:51.088Z"
   },
   {
    "duration": 7,
    "start_time": "2023-02-06T07:10:51.141Z"
   },
   {
    "duration": 16,
    "start_time": "2023-02-06T07:10:51.149Z"
   },
   {
    "duration": 13,
    "start_time": "2023-02-06T07:10:51.167Z"
   },
   {
    "duration": 529,
    "start_time": "2023-02-06T07:10:51.182Z"
   },
   {
    "duration": 5,
    "start_time": "2023-02-06T07:10:51.713Z"
   },
   {
    "duration": 39,
    "start_time": "2023-02-06T07:10:51.720Z"
   },
   {
    "duration": 4,
    "start_time": "2023-02-06T07:10:51.760Z"
   },
   {
    "duration": 8,
    "start_time": "2023-02-06T07:10:51.766Z"
   },
   {
    "duration": 13,
    "start_time": "2023-02-06T07:10:51.775Z"
   },
   {
    "duration": 48,
    "start_time": "2023-02-06T07:10:51.790Z"
   },
   {
    "duration": 4,
    "start_time": "2023-02-06T07:10:51.842Z"
   },
   {
    "duration": 11,
    "start_time": "2023-02-06T07:10:51.848Z"
   },
   {
    "duration": 7,
    "start_time": "2023-02-06T07:10:51.860Z"
   },
   {
    "duration": 53,
    "start_time": "2023-02-06T07:10:51.868Z"
   },
   {
    "duration": 24,
    "start_time": "2023-02-06T07:10:51.923Z"
   },
   {
    "duration": 33,
    "start_time": "2023-02-06T07:10:51.949Z"
   },
   {
    "duration": 2,
    "start_time": "2023-02-06T07:10:51.984Z"
   },
   {
    "duration": 34,
    "start_time": "2023-02-06T07:10:51.987Z"
   },
   {
    "duration": 25,
    "start_time": "2023-02-06T07:10:52.023Z"
   },
   {
    "duration": 10,
    "start_time": "2023-02-06T07:10:52.050Z"
   },
   {
    "duration": 4,
    "start_time": "2023-02-06T07:10:52.062Z"
   },
   {
    "duration": 8,
    "start_time": "2023-02-06T07:10:52.068Z"
   },
   {
    "duration": 11,
    "start_time": "2023-02-06T07:10:52.077Z"
   },
   {
    "duration": 8,
    "start_time": "2023-02-06T07:10:52.090Z"
   },
   {
    "duration": 70,
    "start_time": "2023-02-06T07:10:52.099Z"
   },
   {
    "duration": 53,
    "start_time": "2023-02-06T07:10:52.171Z"
   },
   {
    "duration": 16,
    "start_time": "2023-02-06T07:10:52.226Z"
   },
   {
    "duration": 9,
    "start_time": "2023-02-06T07:10:52.244Z"
   },
   {
    "duration": 9,
    "start_time": "2023-02-06T07:10:52.255Z"
   },
   {
    "duration": 11,
    "start_time": "2023-02-06T07:10:52.265Z"
   },
   {
    "duration": 7,
    "start_time": "2023-02-06T07:10:52.278Z"
   },
   {
    "duration": 12,
    "start_time": "2023-02-06T07:10:52.286Z"
   },
   {
    "duration": 112,
    "start_time": "2023-02-06T07:10:52.299Z"
   },
   {
    "duration": 11,
    "start_time": "2023-02-06T07:10:52.413Z"
   },
   {
    "duration": 31,
    "start_time": "2023-02-06T07:10:52.426Z"
   },
   {
    "duration": 22,
    "start_time": "2023-02-06T07:10:52.460Z"
   },
   {
    "duration": 19,
    "start_time": "2023-02-06T07:10:52.483Z"
   },
   {
    "duration": 13,
    "start_time": "2023-02-06T07:10:52.504Z"
   },
   {
    "duration": 11,
    "start_time": "2023-02-06T07:10:52.519Z"
   },
   {
    "duration": 770,
    "start_time": "2023-02-06T07:10:52.532Z"
   },
   {
    "duration": 0,
    "start_time": "2023-02-06T07:10:53.304Z"
   },
   {
    "duration": 0,
    "start_time": "2023-02-06T07:10:53.305Z"
   },
   {
    "duration": 0,
    "start_time": "2023-02-06T07:10:53.307Z"
   },
   {
    "duration": 0,
    "start_time": "2023-02-06T07:10:53.308Z"
   },
   {
    "duration": 0,
    "start_time": "2023-02-06T07:10:53.309Z"
   },
   {
    "duration": 11,
    "start_time": "2023-02-06T07:11:58.892Z"
   },
   {
    "duration": 4,
    "start_time": "2023-02-06T07:12:02.160Z"
   },
   {
    "duration": 161,
    "start_time": "2023-02-06T07:12:02.166Z"
   },
   {
    "duration": 26,
    "start_time": "2023-02-06T07:12:02.329Z"
   },
   {
    "duration": 10,
    "start_time": "2023-02-06T07:12:02.357Z"
   },
   {
    "duration": 8,
    "start_time": "2023-02-06T07:12:02.369Z"
   },
   {
    "duration": 19,
    "start_time": "2023-02-06T07:12:02.378Z"
   },
   {
    "duration": 71,
    "start_time": "2023-02-06T07:12:02.399Z"
   },
   {
    "duration": 78,
    "start_time": "2023-02-06T07:12:02.471Z"
   },
   {
    "duration": 46,
    "start_time": "2023-02-06T07:12:02.551Z"
   },
   {
    "duration": 8,
    "start_time": "2023-02-06T07:12:02.599Z"
   },
   {
    "duration": 105,
    "start_time": "2023-02-06T07:12:02.610Z"
   },
   {
    "duration": 20,
    "start_time": "2023-02-06T07:12:02.717Z"
   },
   {
    "duration": 35,
    "start_time": "2023-02-06T07:12:02.740Z"
   },
   {
    "duration": 3,
    "start_time": "2023-02-06T07:12:02.777Z"
   },
   {
    "duration": 26,
    "start_time": "2023-02-06T07:12:02.782Z"
   },
   {
    "duration": 21,
    "start_time": "2023-02-06T07:12:02.810Z"
   },
   {
    "duration": 74,
    "start_time": "2023-02-06T07:12:02.832Z"
   },
   {
    "duration": 9,
    "start_time": "2023-02-06T07:12:02.908Z"
   },
   {
    "duration": 25,
    "start_time": "2023-02-06T07:12:02.919Z"
   },
   {
    "duration": 23,
    "start_time": "2023-02-06T07:12:02.946Z"
   },
   {
    "duration": 524,
    "start_time": "2023-02-06T07:12:02.971Z"
   },
   {
    "duration": 5,
    "start_time": "2023-02-06T07:12:03.496Z"
   },
   {
    "duration": 39,
    "start_time": "2023-02-06T07:12:03.502Z"
   },
   {
    "duration": 4,
    "start_time": "2023-02-06T07:12:03.543Z"
   },
   {
    "duration": 9,
    "start_time": "2023-02-06T07:12:03.548Z"
   },
   {
    "duration": 14,
    "start_time": "2023-02-06T07:12:03.558Z"
   },
   {
    "duration": 32,
    "start_time": "2023-02-06T07:12:03.573Z"
   },
   {
    "duration": 33,
    "start_time": "2023-02-06T07:12:03.606Z"
   },
   {
    "duration": 10,
    "start_time": "2023-02-06T07:12:03.641Z"
   },
   {
    "duration": 10,
    "start_time": "2023-02-06T07:12:03.652Z"
   },
   {
    "duration": 59,
    "start_time": "2023-02-06T07:12:03.664Z"
   },
   {
    "duration": 18,
    "start_time": "2023-02-06T07:12:03.725Z"
   },
   {
    "duration": 34,
    "start_time": "2023-02-06T07:12:03.745Z"
   },
   {
    "duration": 2,
    "start_time": "2023-02-06T07:12:03.780Z"
   },
   {
    "duration": 22,
    "start_time": "2023-02-06T07:12:03.784Z"
   },
   {
    "duration": 38,
    "start_time": "2023-02-06T07:12:03.808Z"
   },
   {
    "duration": 9,
    "start_time": "2023-02-06T07:12:03.848Z"
   },
   {
    "duration": 6,
    "start_time": "2023-02-06T07:12:03.858Z"
   },
   {
    "duration": 8,
    "start_time": "2023-02-06T07:12:03.866Z"
   },
   {
    "duration": 5,
    "start_time": "2023-02-06T07:12:03.875Z"
   },
   {
    "duration": 4,
    "start_time": "2023-02-06T07:12:03.884Z"
   },
   {
    "duration": 84,
    "start_time": "2023-02-06T07:12:03.890Z"
   },
   {
    "duration": 67,
    "start_time": "2023-02-06T07:12:03.976Z"
   },
   {
    "duration": 8,
    "start_time": "2023-02-06T07:12:04.045Z"
   },
   {
    "duration": 15,
    "start_time": "2023-02-06T07:12:04.055Z"
   },
   {
    "duration": 13,
    "start_time": "2023-02-06T07:12:04.072Z"
   },
   {
    "duration": 9,
    "start_time": "2023-02-06T07:12:04.087Z"
   },
   {
    "duration": 12,
    "start_time": "2023-02-06T07:12:04.098Z"
   },
   {
    "duration": 30,
    "start_time": "2023-02-06T07:12:04.111Z"
   },
   {
    "duration": 76,
    "start_time": "2023-02-06T07:12:04.143Z"
   },
   {
    "duration": 16,
    "start_time": "2023-02-06T07:12:04.221Z"
   },
   {
    "duration": 9,
    "start_time": "2023-02-06T07:12:04.239Z"
   },
   {
    "duration": 11,
    "start_time": "2023-02-06T07:12:04.250Z"
   },
   {
    "duration": 8,
    "start_time": "2023-02-06T07:12:04.262Z"
   },
   {
    "duration": 9,
    "start_time": "2023-02-06T07:12:04.272Z"
   },
   {
    "duration": 6,
    "start_time": "2023-02-06T07:12:04.283Z"
   },
   {
    "duration": 776,
    "start_time": "2023-02-06T07:12:04.291Z"
   },
   {
    "duration": 0,
    "start_time": "2023-02-06T07:12:05.069Z"
   },
   {
    "duration": 0,
    "start_time": "2023-02-06T07:12:05.071Z"
   },
   {
    "duration": 0,
    "start_time": "2023-02-06T07:12:05.072Z"
   },
   {
    "duration": 0,
    "start_time": "2023-02-06T07:12:05.074Z"
   },
   {
    "duration": 0,
    "start_time": "2023-02-06T07:12:05.075Z"
   },
   {
    "duration": 4,
    "start_time": "2023-02-06T07:12:45.715Z"
   },
   {
    "duration": 159,
    "start_time": "2023-02-06T07:12:45.721Z"
   },
   {
    "duration": 19,
    "start_time": "2023-02-06T07:12:45.882Z"
   },
   {
    "duration": 10,
    "start_time": "2023-02-06T07:12:45.904Z"
   },
   {
    "duration": 3,
    "start_time": "2023-02-06T07:12:45.916Z"
   },
   {
    "duration": 14,
    "start_time": "2023-02-06T07:12:45.939Z"
   },
   {
    "duration": 83,
    "start_time": "2023-02-06T07:12:45.955Z"
   },
   {
    "duration": 61,
    "start_time": "2023-02-06T07:12:46.040Z"
   },
   {
    "duration": 51,
    "start_time": "2023-02-06T07:12:46.103Z"
   },
   {
    "duration": 7,
    "start_time": "2023-02-06T07:12:46.157Z"
   },
   {
    "duration": 78,
    "start_time": "2023-02-06T07:12:46.166Z"
   },
   {
    "duration": 9,
    "start_time": "2023-02-06T07:12:46.246Z"
   },
   {
    "duration": 27,
    "start_time": "2023-02-06T07:12:46.257Z"
   },
   {
    "duration": 2,
    "start_time": "2023-02-06T07:12:46.286Z"
   },
   {
    "duration": 9,
    "start_time": "2023-02-06T07:12:46.290Z"
   },
   {
    "duration": 8,
    "start_time": "2023-02-06T07:12:46.301Z"
   },
   {
    "duration": 56,
    "start_time": "2023-02-06T07:12:46.338Z"
   },
   {
    "duration": 7,
    "start_time": "2023-02-06T07:12:46.396Z"
   },
   {
    "duration": 33,
    "start_time": "2023-02-06T07:12:46.405Z"
   },
   {
    "duration": 14,
    "start_time": "2023-02-06T07:12:46.440Z"
   },
   {
    "duration": 548,
    "start_time": "2023-02-06T07:12:46.455Z"
   },
   {
    "duration": 6,
    "start_time": "2023-02-06T07:12:47.004Z"
   },
   {
    "duration": 41,
    "start_time": "2023-02-06T07:12:47.011Z"
   },
   {
    "duration": 4,
    "start_time": "2023-02-06T07:12:47.054Z"
   },
   {
    "duration": 6,
    "start_time": "2023-02-06T07:12:47.060Z"
   },
   {
    "duration": 16,
    "start_time": "2023-02-06T07:12:47.068Z"
   },
   {
    "duration": 53,
    "start_time": "2023-02-06T07:12:47.085Z"
   },
   {
    "duration": 4,
    "start_time": "2023-02-06T07:12:47.142Z"
   },
   {
    "duration": 6,
    "start_time": "2023-02-06T07:12:47.148Z"
   },
   {
    "duration": 6,
    "start_time": "2023-02-06T07:12:47.155Z"
   },
   {
    "duration": 74,
    "start_time": "2023-02-06T07:12:47.163Z"
   },
   {
    "duration": 12,
    "start_time": "2023-02-06T07:12:47.239Z"
   },
   {
    "duration": 34,
    "start_time": "2023-02-06T07:12:47.252Z"
   },
   {
    "duration": 3,
    "start_time": "2023-02-06T07:12:47.287Z"
   },
   {
    "duration": 22,
    "start_time": "2023-02-06T07:12:47.291Z"
   },
   {
    "duration": 33,
    "start_time": "2023-02-06T07:12:47.314Z"
   },
   {
    "duration": 9,
    "start_time": "2023-02-06T07:12:47.349Z"
   },
   {
    "duration": 6,
    "start_time": "2023-02-06T07:12:47.359Z"
   },
   {
    "duration": 8,
    "start_time": "2023-02-06T07:12:47.367Z"
   },
   {
    "duration": 8,
    "start_time": "2023-02-06T07:12:47.377Z"
   },
   {
    "duration": 10,
    "start_time": "2023-02-06T07:12:47.387Z"
   },
   {
    "duration": 72,
    "start_time": "2023-02-06T07:12:47.398Z"
   },
   {
    "duration": 54,
    "start_time": "2023-02-06T07:12:47.472Z"
   },
   {
    "duration": 16,
    "start_time": "2023-02-06T07:12:47.527Z"
   },
   {
    "duration": 13,
    "start_time": "2023-02-06T07:12:47.544Z"
   },
   {
    "duration": 11,
    "start_time": "2023-02-06T07:12:47.559Z"
   },
   {
    "duration": 12,
    "start_time": "2023-02-06T07:12:47.572Z"
   },
   {
    "duration": 6,
    "start_time": "2023-02-06T07:12:47.586Z"
   },
   {
    "duration": 48,
    "start_time": "2023-02-06T07:12:47.593Z"
   },
   {
    "duration": 69,
    "start_time": "2023-02-06T07:12:47.643Z"
   },
   {
    "duration": 30,
    "start_time": "2023-02-06T07:12:47.713Z"
   },
   {
    "duration": 14,
    "start_time": "2023-02-06T07:12:47.745Z"
   },
   {
    "duration": 14,
    "start_time": "2023-02-06T07:12:47.761Z"
   },
   {
    "duration": 20,
    "start_time": "2023-02-06T07:12:47.776Z"
   },
   {
    "duration": 8,
    "start_time": "2023-02-06T07:12:47.798Z"
   },
   {
    "duration": 6,
    "start_time": "2023-02-06T07:12:47.807Z"
   },
   {
    "duration": 733,
    "start_time": "2023-02-06T07:12:47.814Z"
   },
   {
    "duration": 0,
    "start_time": "2023-02-06T07:12:48.549Z"
   },
   {
    "duration": 0,
    "start_time": "2023-02-06T07:12:48.550Z"
   },
   {
    "duration": 0,
    "start_time": "2023-02-06T07:12:48.552Z"
   },
   {
    "duration": 0,
    "start_time": "2023-02-06T07:12:48.553Z"
   },
   {
    "duration": 0,
    "start_time": "2023-02-06T07:12:48.554Z"
   },
   {
    "duration": 62,
    "start_time": "2023-02-06T07:21:11.591Z"
   },
   {
    "duration": 5,
    "start_time": "2023-02-06T07:22:50.541Z"
   },
   {
    "duration": 5,
    "start_time": "2023-02-06T07:23:22.185Z"
   },
   {
    "duration": 168,
    "start_time": "2023-02-06T07:23:22.192Z"
   },
   {
    "duration": 23,
    "start_time": "2023-02-06T07:23:22.362Z"
   },
   {
    "duration": 17,
    "start_time": "2023-02-06T07:23:22.388Z"
   },
   {
    "duration": 7,
    "start_time": "2023-02-06T07:23:22.407Z"
   },
   {
    "duration": 37,
    "start_time": "2023-02-06T07:23:22.416Z"
   },
   {
    "duration": 67,
    "start_time": "2023-02-06T07:23:22.455Z"
   },
   {
    "duration": 86,
    "start_time": "2023-02-06T07:23:22.525Z"
   },
   {
    "duration": 66,
    "start_time": "2023-02-06T07:23:22.613Z"
   },
   {
    "duration": 7,
    "start_time": "2023-02-06T07:23:22.683Z"
   },
   {
    "duration": 78,
    "start_time": "2023-02-06T07:23:22.692Z"
   },
   {
    "duration": 10,
    "start_time": "2023-02-06T07:23:22.772Z"
   },
   {
    "duration": 30,
    "start_time": "2023-02-06T07:23:22.783Z"
   },
   {
    "duration": 3,
    "start_time": "2023-02-06T07:23:22.815Z"
   },
   {
    "duration": 25,
    "start_time": "2023-02-06T07:23:22.819Z"
   },
   {
    "duration": 14,
    "start_time": "2023-02-06T07:23:22.846Z"
   },
   {
    "duration": 69,
    "start_time": "2023-02-06T07:23:22.861Z"
   },
   {
    "duration": 9,
    "start_time": "2023-02-06T07:23:22.931Z"
   },
   {
    "duration": 16,
    "start_time": "2023-02-06T07:23:22.941Z"
   },
   {
    "duration": 20,
    "start_time": "2023-02-06T07:23:22.959Z"
   },
   {
    "duration": 689,
    "start_time": "2023-02-06T07:23:22.981Z"
   },
   {
    "duration": 6,
    "start_time": "2023-02-06T07:23:23.672Z"
   },
   {
    "duration": 35,
    "start_time": "2023-02-06T07:23:23.680Z"
   },
   {
    "duration": 4,
    "start_time": "2023-02-06T07:23:23.717Z"
   },
   {
    "duration": 21,
    "start_time": "2023-02-06T07:23:23.723Z"
   },
   {
    "duration": 15,
    "start_time": "2023-02-06T07:23:23.745Z"
   },
   {
    "duration": 35,
    "start_time": "2023-02-06T07:23:23.762Z"
   },
   {
    "duration": 5,
    "start_time": "2023-02-06T07:23:23.801Z"
   },
   {
    "duration": 32,
    "start_time": "2023-02-06T07:23:23.807Z"
   },
   {
    "duration": 8,
    "start_time": "2023-02-06T07:23:23.841Z"
   },
   {
    "duration": 66,
    "start_time": "2023-02-06T07:23:23.850Z"
   },
   {
    "duration": 31,
    "start_time": "2023-02-06T07:23:23.917Z"
   },
   {
    "duration": 35,
    "start_time": "2023-02-06T07:23:23.950Z"
   },
   {
    "duration": 3,
    "start_time": "2023-02-06T07:23:23.986Z"
   },
   {
    "duration": 25,
    "start_time": "2023-02-06T07:23:23.991Z"
   },
   {
    "duration": 15,
    "start_time": "2023-02-06T07:23:24.036Z"
   },
   {
    "duration": 11,
    "start_time": "2023-02-06T07:23:24.052Z"
   },
   {
    "duration": 4,
    "start_time": "2023-02-06T07:23:24.064Z"
   },
   {
    "duration": 7,
    "start_time": "2023-02-06T07:23:24.069Z"
   },
   {
    "duration": 6,
    "start_time": "2023-02-06T07:23:24.078Z"
   },
   {
    "duration": 6,
    "start_time": "2023-02-06T07:23:24.086Z"
   },
   {
    "duration": 84,
    "start_time": "2023-02-06T07:23:24.094Z"
   },
   {
    "duration": 69,
    "start_time": "2023-02-06T07:23:24.181Z"
   },
   {
    "duration": 8,
    "start_time": "2023-02-06T07:23:24.252Z"
   },
   {
    "duration": 11,
    "start_time": "2023-02-06T07:23:24.262Z"
   },
   {
    "duration": 10,
    "start_time": "2023-02-06T07:23:24.275Z"
   },
   {
    "duration": 13,
    "start_time": "2023-02-06T07:23:24.287Z"
   },
   {
    "duration": 45,
    "start_time": "2023-02-06T07:23:24.302Z"
   },
   {
    "duration": 14,
    "start_time": "2023-02-06T07:23:24.350Z"
   },
   {
    "duration": 81,
    "start_time": "2023-02-06T07:23:24.366Z"
   },
   {
    "duration": 5,
    "start_time": "2023-02-06T07:23:24.449Z"
   },
   {
    "duration": 14,
    "start_time": "2023-02-06T07:23:24.455Z"
   },
   {
    "duration": 14,
    "start_time": "2023-02-06T07:23:24.471Z"
   },
   {
    "duration": 9,
    "start_time": "2023-02-06T07:23:24.487Z"
   },
   {
    "duration": 11,
    "start_time": "2023-02-06T07:23:24.497Z"
   },
   {
    "duration": 9,
    "start_time": "2023-02-06T07:23:24.509Z"
   },
   {
    "duration": 779,
    "start_time": "2023-02-06T07:23:24.537Z"
   },
   {
    "duration": 0,
    "start_time": "2023-02-06T07:23:25.318Z"
   },
   {
    "duration": 0,
    "start_time": "2023-02-06T07:23:25.319Z"
   },
   {
    "duration": 0,
    "start_time": "2023-02-06T07:23:25.320Z"
   },
   {
    "duration": 0,
    "start_time": "2023-02-06T07:23:25.321Z"
   },
   {
    "duration": 0,
    "start_time": "2023-02-06T07:23:25.321Z"
   },
   {
    "duration": 4,
    "start_time": "2023-02-06T07:32:54.384Z"
   },
   {
    "duration": 147,
    "start_time": "2023-02-06T07:32:54.390Z"
   },
   {
    "duration": 18,
    "start_time": "2023-02-06T07:32:54.539Z"
   },
   {
    "duration": 9,
    "start_time": "2023-02-06T07:32:54.559Z"
   },
   {
    "duration": 7,
    "start_time": "2023-02-06T07:32:54.570Z"
   },
   {
    "duration": 15,
    "start_time": "2023-02-06T07:32:54.579Z"
   },
   {
    "duration": 69,
    "start_time": "2023-02-06T07:32:54.596Z"
   },
   {
    "duration": 58,
    "start_time": "2023-02-06T07:32:54.667Z"
   },
   {
    "duration": 46,
    "start_time": "2023-02-06T07:32:54.726Z"
   },
   {
    "duration": 7,
    "start_time": "2023-02-06T07:32:54.774Z"
   },
   {
    "duration": 85,
    "start_time": "2023-02-06T07:32:54.783Z"
   },
   {
    "duration": 16,
    "start_time": "2023-02-06T07:32:54.870Z"
   },
   {
    "duration": 31,
    "start_time": "2023-02-06T07:32:54.887Z"
   },
   {
    "duration": 2,
    "start_time": "2023-02-06T07:32:54.921Z"
   },
   {
    "duration": 15,
    "start_time": "2023-02-06T07:32:54.924Z"
   },
   {
    "duration": 16,
    "start_time": "2023-02-06T07:32:54.940Z"
   },
   {
    "duration": 52,
    "start_time": "2023-02-06T07:32:54.958Z"
   },
   {
    "duration": 26,
    "start_time": "2023-02-06T07:32:55.012Z"
   },
   {
    "duration": 15,
    "start_time": "2023-02-06T07:32:55.040Z"
   },
   {
    "duration": 19,
    "start_time": "2023-02-06T07:32:55.057Z"
   },
   {
    "duration": 512,
    "start_time": "2023-02-06T07:32:55.078Z"
   },
   {
    "duration": 5,
    "start_time": "2023-02-06T07:32:55.591Z"
   },
   {
    "duration": 45,
    "start_time": "2023-02-06T07:32:55.598Z"
   },
   {
    "duration": 4,
    "start_time": "2023-02-06T07:32:55.646Z"
   },
   {
    "duration": 7,
    "start_time": "2023-02-06T07:32:55.652Z"
   },
   {
    "duration": 12,
    "start_time": "2023-02-06T07:32:55.662Z"
   },
   {
    "duration": 32,
    "start_time": "2023-02-06T07:32:55.676Z"
   },
   {
    "duration": 4,
    "start_time": "2023-02-06T07:32:55.709Z"
   },
   {
    "duration": 4,
    "start_time": "2023-02-06T07:32:55.737Z"
   },
   {
    "duration": 8,
    "start_time": "2023-02-06T07:32:55.743Z"
   },
   {
    "duration": 58,
    "start_time": "2023-02-06T07:32:55.752Z"
   },
   {
    "duration": 31,
    "start_time": "2023-02-06T07:32:55.812Z"
   },
   {
    "duration": 32,
    "start_time": "2023-02-06T07:32:55.845Z"
   },
   {
    "duration": 2,
    "start_time": "2023-02-06T07:32:55.879Z"
   },
   {
    "duration": 23,
    "start_time": "2023-02-06T07:32:55.882Z"
   },
   {
    "duration": 32,
    "start_time": "2023-02-06T07:32:55.907Z"
   },
   {
    "duration": 18,
    "start_time": "2023-02-06T07:32:55.941Z"
   },
   {
    "duration": 7,
    "start_time": "2023-02-06T07:32:55.961Z"
   },
   {
    "duration": 10,
    "start_time": "2023-02-06T07:32:55.969Z"
   },
   {
    "duration": 10,
    "start_time": "2023-02-06T07:32:55.980Z"
   },
   {
    "duration": 6,
    "start_time": "2023-02-06T07:32:55.995Z"
   },
   {
    "duration": 68,
    "start_time": "2023-02-06T07:32:56.003Z"
   },
   {
    "duration": 65,
    "start_time": "2023-02-06T07:32:56.073Z"
   },
   {
    "duration": 10,
    "start_time": "2023-02-06T07:32:56.139Z"
   },
   {
    "duration": 11,
    "start_time": "2023-02-06T07:32:56.150Z"
   },
   {
    "duration": 11,
    "start_time": "2023-02-06T07:32:56.163Z"
   },
   {
    "duration": 27,
    "start_time": "2023-02-06T07:32:56.175Z"
   },
   {
    "duration": 4,
    "start_time": "2023-02-06T07:32:56.204Z"
   },
   {
    "duration": 10,
    "start_time": "2023-02-06T07:32:56.237Z"
   },
   {
    "duration": 81,
    "start_time": "2023-02-06T07:32:56.248Z"
   },
   {
    "duration": 10,
    "start_time": "2023-02-06T07:32:56.331Z"
   },
   {
    "duration": 12,
    "start_time": "2023-02-06T07:32:56.342Z"
   },
   {
    "duration": 12,
    "start_time": "2023-02-06T07:32:56.356Z"
   },
   {
    "duration": 9,
    "start_time": "2023-02-06T07:32:56.369Z"
   },
   {
    "duration": 7,
    "start_time": "2023-02-06T07:32:56.379Z"
   },
   {
    "duration": 5,
    "start_time": "2023-02-06T07:32:56.388Z"
   },
   {
    "duration": 786,
    "start_time": "2023-02-06T07:32:56.395Z"
   },
   {
    "duration": 5,
    "start_time": "2023-02-06T07:34:32.418Z"
   },
   {
    "duration": 178,
    "start_time": "2023-02-06T07:34:32.425Z"
   },
   {
    "duration": 22,
    "start_time": "2023-02-06T07:34:32.605Z"
   },
   {
    "duration": 10,
    "start_time": "2023-02-06T07:34:32.638Z"
   },
   {
    "duration": 5,
    "start_time": "2023-02-06T07:34:32.649Z"
   },
   {
    "duration": 16,
    "start_time": "2023-02-06T07:34:32.655Z"
   },
   {
    "duration": 77,
    "start_time": "2023-02-06T07:34:32.672Z"
   },
   {
    "duration": 60,
    "start_time": "2023-02-06T07:34:32.750Z"
   },
   {
    "duration": 50,
    "start_time": "2023-02-06T07:34:32.812Z"
   },
   {
    "duration": 7,
    "start_time": "2023-02-06T07:34:32.865Z"
   },
   {
    "duration": 75,
    "start_time": "2023-02-06T07:34:32.874Z"
   },
   {
    "duration": 9,
    "start_time": "2023-02-06T07:34:32.951Z"
   },
   {
    "duration": 26,
    "start_time": "2023-02-06T07:34:32.961Z"
   },
   {
    "duration": 2,
    "start_time": "2023-02-06T07:34:32.989Z"
   },
   {
    "duration": 7,
    "start_time": "2023-02-06T07:34:32.993Z"
   },
   {
    "duration": 8,
    "start_time": "2023-02-06T07:34:33.001Z"
   },
   {
    "duration": 56,
    "start_time": "2023-02-06T07:34:33.038Z"
   },
   {
    "duration": 8,
    "start_time": "2023-02-06T07:34:33.095Z"
   },
   {
    "duration": 33,
    "start_time": "2023-02-06T07:34:33.105Z"
   },
   {
    "duration": 44,
    "start_time": "2023-02-06T07:34:33.140Z"
   },
   {
    "duration": 569,
    "start_time": "2023-02-06T07:34:33.186Z"
   },
   {
    "duration": 5,
    "start_time": "2023-02-06T07:34:33.757Z"
   },
   {
    "duration": 32,
    "start_time": "2023-02-06T07:34:33.766Z"
   },
   {
    "duration": 4,
    "start_time": "2023-02-06T07:34:33.800Z"
   },
   {
    "duration": 7,
    "start_time": "2023-02-06T07:34:33.805Z"
   },
   {
    "duration": 29,
    "start_time": "2023-02-06T07:34:33.813Z"
   },
   {
    "duration": 38,
    "start_time": "2023-02-06T07:34:33.844Z"
   },
   {
    "duration": 5,
    "start_time": "2023-02-06T07:34:33.885Z"
   },
   {
    "duration": 23,
    "start_time": "2023-02-06T07:34:33.892Z"
   },
   {
    "duration": 20,
    "start_time": "2023-02-06T07:34:33.917Z"
   },
   {
    "duration": 55,
    "start_time": "2023-02-06T07:34:33.939Z"
   },
   {
    "duration": 12,
    "start_time": "2023-02-06T07:34:33.996Z"
   },
   {
    "duration": 63,
    "start_time": "2023-02-06T07:34:34.009Z"
   },
   {
    "duration": 2,
    "start_time": "2023-02-06T07:34:34.074Z"
   },
   {
    "duration": 23,
    "start_time": "2023-02-06T07:34:34.078Z"
   },
   {
    "duration": 14,
    "start_time": "2023-02-06T07:34:34.103Z"
   },
   {
    "duration": 14,
    "start_time": "2023-02-06T07:34:34.136Z"
   },
   {
    "duration": 9,
    "start_time": "2023-02-06T07:34:34.152Z"
   },
   {
    "duration": 11,
    "start_time": "2023-02-06T07:34:34.163Z"
   },
   {
    "duration": 25,
    "start_time": "2023-02-06T07:34:34.176Z"
   },
   {
    "duration": 12,
    "start_time": "2023-02-06T07:34:34.203Z"
   },
   {
    "duration": 57,
    "start_time": "2023-02-06T07:34:34.217Z"
   },
   {
    "duration": 54,
    "start_time": "2023-02-06T07:34:34.276Z"
   },
   {
    "duration": 11,
    "start_time": "2023-02-06T07:34:34.349Z"
   },
   {
    "duration": 11,
    "start_time": "2023-02-06T07:34:34.362Z"
   },
   {
    "duration": 10,
    "start_time": "2023-02-06T07:34:34.374Z"
   },
   {
    "duration": 10,
    "start_time": "2023-02-06T07:34:34.385Z"
   },
   {
    "duration": 4,
    "start_time": "2023-02-06T07:34:34.397Z"
   },
   {
    "duration": 38,
    "start_time": "2023-02-06T07:34:34.403Z"
   },
   {
    "duration": 84,
    "start_time": "2023-02-06T07:34:34.443Z"
   },
   {
    "duration": 5,
    "start_time": "2023-02-06T07:34:34.529Z"
   },
   {
    "duration": 10,
    "start_time": "2023-02-06T07:34:34.537Z"
   },
   {
    "duration": 16,
    "start_time": "2023-02-06T07:34:34.549Z"
   },
   {
    "duration": 13,
    "start_time": "2023-02-06T07:34:34.567Z"
   },
   {
    "duration": 10,
    "start_time": "2023-02-06T07:34:34.581Z"
   },
   {
    "duration": 7,
    "start_time": "2023-02-06T07:34:34.593Z"
   },
   {
    "duration": 798,
    "start_time": "2023-02-06T07:34:34.602Z"
   },
   {
    "duration": 7,
    "start_time": "2023-02-06T07:37:47.481Z"
   },
   {
    "duration": 745,
    "start_time": "2023-02-06T07:37:49.808Z"
   },
   {
    "duration": 48,
    "start_time": "2023-02-06T07:39:18.588Z"
   },
   {
    "duration": 6,
    "start_time": "2023-02-06T07:39:36.111Z"
   },
   {
    "duration": 686,
    "start_time": "2023-02-06T07:39:38.847Z"
   },
   {
    "duration": 34,
    "start_time": "2023-02-06T07:49:55.033Z"
   },
   {
    "duration": 35,
    "start_time": "2023-02-06T07:50:10.784Z"
   },
   {
    "duration": 16,
    "start_time": "2023-02-06T08:12:48.734Z"
   },
   {
    "duration": 160,
    "start_time": "2023-02-06T08:12:48.752Z"
   },
   {
    "duration": 34,
    "start_time": "2023-02-06T08:12:48.914Z"
   },
   {
    "duration": 14,
    "start_time": "2023-02-06T08:12:48.951Z"
   },
   {
    "duration": 5,
    "start_time": "2023-02-06T08:12:48.968Z"
   },
   {
    "duration": 16,
    "start_time": "2023-02-06T08:12:48.975Z"
   },
   {
    "duration": 79,
    "start_time": "2023-02-06T08:12:48.993Z"
   },
   {
    "duration": 70,
    "start_time": "2023-02-06T08:12:49.074Z"
   },
   {
    "duration": 43,
    "start_time": "2023-02-06T08:12:49.151Z"
   },
   {
    "duration": 8,
    "start_time": "2023-02-06T08:12:49.197Z"
   },
   {
    "duration": 86,
    "start_time": "2023-02-06T08:12:49.208Z"
   },
   {
    "duration": 10,
    "start_time": "2023-02-06T08:12:49.296Z"
   },
   {
    "duration": 59,
    "start_time": "2023-02-06T08:12:49.308Z"
   },
   {
    "duration": 3,
    "start_time": "2023-02-06T08:12:49.368Z"
   },
   {
    "duration": 8,
    "start_time": "2023-02-06T08:12:49.373Z"
   },
   {
    "duration": 8,
    "start_time": "2023-02-06T08:12:49.382Z"
   },
   {
    "duration": 62,
    "start_time": "2023-02-06T08:12:49.391Z"
   },
   {
    "duration": 9,
    "start_time": "2023-02-06T08:12:49.455Z"
   },
   {
    "duration": 23,
    "start_time": "2023-02-06T08:12:49.466Z"
   },
   {
    "duration": 20,
    "start_time": "2023-02-06T08:12:49.491Z"
   },
   {
    "duration": 568,
    "start_time": "2023-02-06T08:12:49.513Z"
   },
   {
    "duration": 6,
    "start_time": "2023-02-06T08:12:50.082Z"
   },
   {
    "duration": 30,
    "start_time": "2023-02-06T08:12:50.089Z"
   },
   {
    "duration": 28,
    "start_time": "2023-02-06T08:12:50.121Z"
   },
   {
    "duration": 5,
    "start_time": "2023-02-06T08:12:50.154Z"
   },
   {
    "duration": 14,
    "start_time": "2023-02-06T08:12:50.161Z"
   },
   {
    "duration": 35,
    "start_time": "2023-02-06T08:12:50.177Z"
   },
   {
    "duration": 4,
    "start_time": "2023-02-06T08:12:50.214Z"
   },
   {
    "duration": 9,
    "start_time": "2023-02-06T08:12:50.241Z"
   },
   {
    "duration": 10,
    "start_time": "2023-02-06T08:12:50.251Z"
   },
   {
    "duration": 55,
    "start_time": "2023-02-06T08:12:50.262Z"
   },
   {
    "duration": 38,
    "start_time": "2023-02-06T08:12:50.318Z"
   },
   {
    "duration": 35,
    "start_time": "2023-02-06T08:12:50.358Z"
   },
   {
    "duration": 3,
    "start_time": "2023-02-06T08:12:50.394Z"
   },
   {
    "duration": 24,
    "start_time": "2023-02-06T08:12:50.399Z"
   },
   {
    "duration": 27,
    "start_time": "2023-02-06T08:12:50.425Z"
   },
   {
    "duration": 14,
    "start_time": "2023-02-06T08:12:50.456Z"
   },
   {
    "duration": 7,
    "start_time": "2023-02-06T08:12:50.472Z"
   },
   {
    "duration": 9,
    "start_time": "2023-02-06T08:12:50.481Z"
   },
   {
    "duration": 5,
    "start_time": "2023-02-06T08:12:50.492Z"
   },
   {
    "duration": 9,
    "start_time": "2023-02-06T08:12:50.499Z"
   },
   {
    "duration": 82,
    "start_time": "2023-02-06T08:12:50.510Z"
   },
   {
    "duration": 67,
    "start_time": "2023-02-06T08:12:50.594Z"
   },
   {
    "duration": 11,
    "start_time": "2023-02-06T08:12:50.663Z"
   },
   {
    "duration": 12,
    "start_time": "2023-02-06T08:12:50.676Z"
   },
   {
    "duration": 12,
    "start_time": "2023-02-06T08:12:50.690Z"
   },
   {
    "duration": 39,
    "start_time": "2023-02-06T08:12:50.704Z"
   },
   {
    "duration": 9,
    "start_time": "2023-02-06T08:12:50.746Z"
   },
   {
    "duration": 14,
    "start_time": "2023-02-06T08:12:50.757Z"
   },
   {
    "duration": 80,
    "start_time": "2023-02-06T08:12:50.773Z"
   },
   {
    "duration": 6,
    "start_time": "2023-02-06T08:12:50.854Z"
   },
   {
    "duration": 46,
    "start_time": "2023-02-06T08:12:50.862Z"
   },
   {
    "duration": 0,
    "start_time": "2023-02-06T08:12:50.909Z"
   },
   {
    "duration": 0,
    "start_time": "2023-02-06T08:12:50.911Z"
   },
   {
    "duration": 0,
    "start_time": "2023-02-06T08:12:50.912Z"
   },
   {
    "duration": 0,
    "start_time": "2023-02-06T08:12:50.913Z"
   },
   {
    "duration": 0,
    "start_time": "2023-02-06T08:12:50.915Z"
   },
   {
    "duration": 0,
    "start_time": "2023-02-06T08:12:50.916Z"
   },
   {
    "duration": 2,
    "start_time": "2023-02-06T08:13:08.833Z"
   },
   {
    "duration": 30,
    "start_time": "2023-02-06T08:13:09.667Z"
   },
   {
    "duration": 11,
    "start_time": "2023-02-06T08:13:10.475Z"
   },
   {
    "duration": 9,
    "start_time": "2023-02-06T08:13:16.831Z"
   },
   {
    "duration": 7,
    "start_time": "2023-02-06T08:13:17.777Z"
   },
   {
    "duration": 13,
    "start_time": "2023-02-06T08:13:19.945Z"
   },
   {
    "duration": 796,
    "start_time": "2023-02-06T08:13:21.842Z"
   },
   {
    "duration": 58,
    "start_time": "2023-02-06T08:14:08.876Z"
   },
   {
    "duration": 5,
    "start_time": "2023-02-06T08:14:35.389Z"
   },
   {
    "duration": 839,
    "start_time": "2023-02-06T08:14:37.549Z"
   },
   {
    "duration": 6,
    "start_time": "2023-02-06T08:15:29.352Z"
   },
   {
    "duration": 806,
    "start_time": "2023-02-06T08:15:40.372Z"
   },
   {
    "duration": 60,
    "start_time": "2023-02-06T08:17:21.401Z"
   },
   {
    "duration": 47,
    "start_time": "2023-02-06T08:19:07.252Z"
   },
   {
    "duration": 69,
    "start_time": "2023-02-06T08:21:14.303Z"
   },
   {
    "duration": 8,
    "start_time": "2023-02-06T08:22:21.687Z"
   },
   {
    "duration": 6,
    "start_time": "2023-02-06T08:23:52.417Z"
   },
   {
    "duration": 50,
    "start_time": "2023-02-06T08:24:40.671Z"
   },
   {
    "duration": 52,
    "start_time": "2023-02-06T08:24:56.396Z"
   },
   {
    "duration": 5,
    "start_time": "2023-02-06T08:25:49.907Z"
   },
   {
    "duration": 827,
    "start_time": "2023-02-06T08:25:51.986Z"
   },
   {
    "duration": 11,
    "start_time": "2023-02-06T08:44:39.533Z"
   },
   {
    "duration": 9,
    "start_time": "2023-02-06T08:45:23.202Z"
   },
   {
    "duration": 12,
    "start_time": "2023-02-06T08:45:28.793Z"
   },
   {
    "duration": 13,
    "start_time": "2023-02-06T08:45:35.083Z"
   },
   {
    "duration": 9,
    "start_time": "2023-02-06T08:45:47.180Z"
   },
   {
    "duration": 6,
    "start_time": "2023-02-06T08:45:52.919Z"
   },
   {
    "duration": 5,
    "start_time": "2023-02-06T08:46:01.273Z"
   },
   {
    "duration": 203,
    "start_time": "2023-02-06T08:46:01.280Z"
   },
   {
    "duration": 27,
    "start_time": "2023-02-06T08:46:01.485Z"
   },
   {
    "duration": 32,
    "start_time": "2023-02-06T08:46:01.514Z"
   },
   {
    "duration": 37,
    "start_time": "2023-02-06T08:46:01.548Z"
   },
   {
    "duration": 62,
    "start_time": "2023-02-06T08:46:01.587Z"
   },
   {
    "duration": 109,
    "start_time": "2023-02-06T08:46:01.650Z"
   },
   {
    "duration": 61,
    "start_time": "2023-02-06T08:46:01.761Z"
   },
   {
    "duration": 58,
    "start_time": "2023-02-06T08:46:01.823Z"
   },
   {
    "duration": 10,
    "start_time": "2023-02-06T08:46:01.884Z"
   },
   {
    "duration": 103,
    "start_time": "2023-02-06T08:46:01.896Z"
   },
   {
    "duration": 17,
    "start_time": "2023-02-06T08:46:02.001Z"
   },
   {
    "duration": 60,
    "start_time": "2023-02-06T08:46:02.020Z"
   },
   {
    "duration": 3,
    "start_time": "2023-02-06T08:46:02.083Z"
   },
   {
    "duration": 22,
    "start_time": "2023-02-06T08:46:02.087Z"
   },
   {
    "duration": 21,
    "start_time": "2023-02-06T08:46:02.111Z"
   },
   {
    "duration": 94,
    "start_time": "2023-02-06T08:46:02.134Z"
   },
   {
    "duration": 8,
    "start_time": "2023-02-06T08:46:02.230Z"
   },
   {
    "duration": 61,
    "start_time": "2023-02-06T08:46:02.240Z"
   },
   {
    "duration": 21,
    "start_time": "2023-02-06T08:46:02.303Z"
   },
   {
    "duration": 689,
    "start_time": "2023-02-06T08:46:02.326Z"
   },
   {
    "duration": 5,
    "start_time": "2023-02-06T08:46:03.016Z"
   },
   {
    "duration": 44,
    "start_time": "2023-02-06T08:46:03.023Z"
   },
   {
    "duration": 12,
    "start_time": "2023-02-06T08:46:03.069Z"
   },
   {
    "duration": 6,
    "start_time": "2023-02-06T08:46:03.082Z"
   },
   {
    "duration": 12,
    "start_time": "2023-02-06T08:46:03.090Z"
   },
   {
    "duration": 57,
    "start_time": "2023-02-06T08:46:03.103Z"
   },
   {
    "duration": 8,
    "start_time": "2023-02-06T08:46:03.163Z"
   },
   {
    "duration": 7,
    "start_time": "2023-02-06T08:46:03.173Z"
   },
   {
    "duration": 7,
    "start_time": "2023-02-06T08:46:03.182Z"
   },
   {
    "duration": 58,
    "start_time": "2023-02-06T08:46:03.191Z"
   },
   {
    "duration": 15,
    "start_time": "2023-02-06T08:46:03.250Z"
   },
   {
    "duration": 40,
    "start_time": "2023-02-06T08:46:03.267Z"
   },
   {
    "duration": 3,
    "start_time": "2023-02-06T08:46:03.308Z"
   },
   {
    "duration": 46,
    "start_time": "2023-02-06T08:46:03.312Z"
   },
   {
    "duration": 16,
    "start_time": "2023-02-06T08:46:03.360Z"
   },
   {
    "duration": 10,
    "start_time": "2023-02-06T08:46:03.378Z"
   },
   {
    "duration": 4,
    "start_time": "2023-02-06T08:46:03.390Z"
   },
   {
    "duration": 7,
    "start_time": "2023-02-06T08:46:03.395Z"
   },
   {
    "duration": 5,
    "start_time": "2023-02-06T08:46:03.404Z"
   },
   {
    "duration": 30,
    "start_time": "2023-02-06T08:46:03.412Z"
   },
   {
    "duration": 83,
    "start_time": "2023-02-06T08:46:03.444Z"
   },
   {
    "duration": 68,
    "start_time": "2023-02-06T08:46:03.529Z"
   },
   {
    "duration": 8,
    "start_time": "2023-02-06T08:46:03.599Z"
   },
   {
    "duration": 10,
    "start_time": "2023-02-06T08:46:03.608Z"
   },
   {
    "duration": 30,
    "start_time": "2023-02-06T08:46:03.620Z"
   },
   {
    "duration": 33,
    "start_time": "2023-02-06T08:46:03.652Z"
   },
   {
    "duration": 6,
    "start_time": "2023-02-06T08:46:03.686Z"
   },
   {
    "duration": 11,
    "start_time": "2023-02-06T08:46:03.693Z"
   },
   {
    "duration": 80,
    "start_time": "2023-02-06T08:46:03.705Z"
   },
   {
    "duration": 4,
    "start_time": "2023-02-06T08:46:03.787Z"
   },
   {
    "duration": 9,
    "start_time": "2023-02-06T08:46:03.792Z"
   },
   {
    "duration": 30,
    "start_time": "2023-02-06T08:46:03.803Z"
   },
   {
    "duration": 15,
    "start_time": "2023-02-06T08:46:03.837Z"
   },
   {
    "duration": 27,
    "start_time": "2023-02-06T08:46:03.854Z"
   },
   {
    "duration": 12,
    "start_time": "2023-02-06T08:46:03.883Z"
   },
   {
    "duration": 0,
    "start_time": "2023-02-06T08:46:03.897Z"
   },
   {
    "duration": 0,
    "start_time": "2023-02-06T08:46:03.898Z"
   },
   {
    "duration": 13,
    "start_time": "2023-02-06T08:47:11.813Z"
   },
   {
    "duration": 13,
    "start_time": "2023-02-06T08:49:06.488Z"
   },
   {
    "duration": 5,
    "start_time": "2023-02-06T08:49:16.869Z"
   },
   {
    "duration": 167,
    "start_time": "2023-02-06T08:49:16.877Z"
   },
   {
    "duration": 25,
    "start_time": "2023-02-06T08:49:17.053Z"
   },
   {
    "duration": 11,
    "start_time": "2023-02-06T08:49:17.080Z"
   },
   {
    "duration": 4,
    "start_time": "2023-02-06T08:49:17.094Z"
   },
   {
    "duration": 21,
    "start_time": "2023-02-06T08:49:17.100Z"
   },
   {
    "duration": 77,
    "start_time": "2023-02-06T08:49:17.122Z"
   },
   {
    "duration": 69,
    "start_time": "2023-02-06T08:49:17.201Z"
   },
   {
    "duration": 38,
    "start_time": "2023-02-06T08:49:17.271Z"
   },
   {
    "duration": 6,
    "start_time": "2023-02-06T08:49:17.311Z"
   },
   {
    "duration": 96,
    "start_time": "2023-02-06T08:49:17.320Z"
   },
   {
    "duration": 9,
    "start_time": "2023-02-06T08:49:17.417Z"
   },
   {
    "duration": 52,
    "start_time": "2023-02-06T08:49:17.441Z"
   },
   {
    "duration": 2,
    "start_time": "2023-02-06T08:49:17.496Z"
   },
   {
    "duration": 8,
    "start_time": "2023-02-06T08:49:17.499Z"
   },
   {
    "duration": 8,
    "start_time": "2023-02-06T08:49:17.509Z"
   },
   {
    "duration": 58,
    "start_time": "2023-02-06T08:49:17.518Z"
   },
   {
    "duration": 9,
    "start_time": "2023-02-06T08:49:17.579Z"
   },
   {
    "duration": 20,
    "start_time": "2023-02-06T08:49:17.590Z"
   },
   {
    "duration": 29,
    "start_time": "2023-02-06T08:49:17.612Z"
   },
   {
    "duration": 549,
    "start_time": "2023-02-06T08:49:17.642Z"
   },
   {
    "duration": 5,
    "start_time": "2023-02-06T08:49:18.193Z"
   },
   {
    "duration": 48,
    "start_time": "2023-02-06T08:49:18.199Z"
   },
   {
    "duration": 10,
    "start_time": "2023-02-06T08:49:18.255Z"
   },
   {
    "duration": 6,
    "start_time": "2023-02-06T08:49:18.270Z"
   },
   {
    "duration": 12,
    "start_time": "2023-02-06T08:49:18.278Z"
   },
   {
    "duration": 30,
    "start_time": "2023-02-06T08:49:18.292Z"
   },
   {
    "duration": 4,
    "start_time": "2023-02-06T08:49:18.324Z"
   },
   {
    "duration": 46,
    "start_time": "2023-02-06T08:49:18.329Z"
   },
   {
    "duration": 6,
    "start_time": "2023-02-06T08:49:18.377Z"
   },
   {
    "duration": 50,
    "start_time": "2023-02-06T08:49:18.384Z"
   },
   {
    "duration": 19,
    "start_time": "2023-02-06T08:49:18.436Z"
   },
   {
    "duration": 60,
    "start_time": "2023-02-06T08:49:18.456Z"
   },
   {
    "duration": 3,
    "start_time": "2023-02-06T08:49:18.517Z"
   },
   {
    "duration": 28,
    "start_time": "2023-02-06T08:49:18.521Z"
   },
   {
    "duration": 14,
    "start_time": "2023-02-06T08:49:18.551Z"
   },
   {
    "duration": 19,
    "start_time": "2023-02-06T08:49:18.566Z"
   },
   {
    "duration": 7,
    "start_time": "2023-02-06T08:49:18.586Z"
   },
   {
    "duration": 7,
    "start_time": "2023-02-06T08:49:18.594Z"
   },
   {
    "duration": 4,
    "start_time": "2023-02-06T08:49:18.603Z"
   },
   {
    "duration": 4,
    "start_time": "2023-02-06T08:49:18.611Z"
   },
   {
    "duration": 62,
    "start_time": "2023-02-06T08:49:18.644Z"
   },
   {
    "duration": 63,
    "start_time": "2023-02-06T08:49:18.708Z"
   },
   {
    "duration": 10,
    "start_time": "2023-02-06T08:49:18.774Z"
   },
   {
    "duration": 11,
    "start_time": "2023-02-06T08:49:18.786Z"
   },
   {
    "duration": 12,
    "start_time": "2023-02-06T08:49:18.798Z"
   },
   {
    "duration": 15,
    "start_time": "2023-02-06T08:49:18.837Z"
   },
   {
    "duration": 25,
    "start_time": "2023-02-06T08:49:18.853Z"
   },
   {
    "duration": 10,
    "start_time": "2023-02-06T08:49:18.879Z"
   },
   {
    "duration": 78,
    "start_time": "2023-02-06T08:49:18.890Z"
   },
   {
    "duration": 5,
    "start_time": "2023-02-06T08:49:18.970Z"
   },
   {
    "duration": 8,
    "start_time": "2023-02-06T08:49:18.977Z"
   },
   {
    "duration": 33,
    "start_time": "2023-02-06T08:49:18.986Z"
   },
   {
    "duration": 25,
    "start_time": "2023-02-06T08:49:19.021Z"
   },
   {
    "duration": 31,
    "start_time": "2023-02-06T08:49:19.050Z"
   },
   {
    "duration": 10,
    "start_time": "2023-02-06T08:49:19.083Z"
   },
   {
    "duration": 6,
    "start_time": "2023-02-06T08:49:19.094Z"
   },
   {
    "duration": 909,
    "start_time": "2023-02-06T08:49:19.101Z"
   },
   {
    "duration": 282,
    "start_time": "2023-02-06T08:51:18.932Z"
   },
   {
    "duration": 6,
    "start_time": "2023-02-06T08:51:42.081Z"
   },
   {
    "duration": 194,
    "start_time": "2023-02-06T08:51:42.090Z"
   },
   {
    "duration": 26,
    "start_time": "2023-02-06T08:51:42.286Z"
   },
   {
    "duration": 15,
    "start_time": "2023-02-06T08:51:42.314Z"
   },
   {
    "duration": 7,
    "start_time": "2023-02-06T08:51:42.343Z"
   },
   {
    "duration": 74,
    "start_time": "2023-02-06T08:51:42.354Z"
   },
   {
    "duration": 137,
    "start_time": "2023-02-06T08:51:42.431Z"
   },
   {
    "duration": 75,
    "start_time": "2023-02-06T08:51:42.571Z"
   },
   {
    "duration": 49,
    "start_time": "2023-02-06T08:51:42.655Z"
   },
   {
    "duration": 8,
    "start_time": "2023-02-06T08:51:42.706Z"
   },
   {
    "duration": 124,
    "start_time": "2023-02-06T08:51:42.717Z"
   },
   {
    "duration": 50,
    "start_time": "2023-02-06T08:51:42.845Z"
   },
   {
    "duration": 52,
    "start_time": "2023-02-06T08:51:42.897Z"
   },
   {
    "duration": 6,
    "start_time": "2023-02-06T08:51:42.954Z"
   },
   {
    "duration": 22,
    "start_time": "2023-02-06T08:51:42.962Z"
   },
   {
    "duration": 10,
    "start_time": "2023-02-06T08:51:42.986Z"
   },
   {
    "duration": 68,
    "start_time": "2023-02-06T08:51:42.999Z"
   },
   {
    "duration": 13,
    "start_time": "2023-02-06T08:51:43.068Z"
   },
   {
    "duration": 27,
    "start_time": "2023-02-06T08:51:43.082Z"
   },
   {
    "duration": 28,
    "start_time": "2023-02-06T08:51:43.110Z"
   },
   {
    "duration": 760,
    "start_time": "2023-02-06T08:51:43.140Z"
   },
   {
    "duration": 6,
    "start_time": "2023-02-06T08:51:43.903Z"
   },
   {
    "duration": 54,
    "start_time": "2023-02-06T08:51:43.910Z"
   },
   {
    "duration": 10,
    "start_time": "2023-02-06T08:51:43.966Z"
   },
   {
    "duration": 7,
    "start_time": "2023-02-06T08:51:43.978Z"
   },
   {
    "duration": 16,
    "start_time": "2023-02-06T08:51:43.987Z"
   },
   {
    "duration": 64,
    "start_time": "2023-02-06T08:51:44.005Z"
   },
   {
    "duration": 8,
    "start_time": "2023-02-06T08:51:44.071Z"
   },
   {
    "duration": 12,
    "start_time": "2023-02-06T08:51:44.084Z"
   },
   {
    "duration": 9,
    "start_time": "2023-02-06T08:51:44.097Z"
   },
   {
    "duration": 85,
    "start_time": "2023-02-06T08:51:44.107Z"
   },
   {
    "duration": 20,
    "start_time": "2023-02-06T08:51:44.194Z"
   },
   {
    "duration": 65,
    "start_time": "2023-02-06T08:51:44.216Z"
   },
   {
    "duration": 3,
    "start_time": "2023-02-06T08:51:44.283Z"
   },
   {
    "duration": 35,
    "start_time": "2023-02-06T08:51:44.288Z"
   },
   {
    "duration": 17,
    "start_time": "2023-02-06T08:51:44.326Z"
   },
   {
    "duration": 45,
    "start_time": "2023-02-06T08:51:44.345Z"
   },
   {
    "duration": 7,
    "start_time": "2023-02-06T08:51:44.392Z"
   },
   {
    "duration": 8,
    "start_time": "2023-02-06T08:51:44.401Z"
   },
   {
    "duration": 9,
    "start_time": "2023-02-06T08:51:44.411Z"
   },
   {
    "duration": 14,
    "start_time": "2023-02-06T08:51:44.424Z"
   },
   {
    "duration": 87,
    "start_time": "2023-02-06T08:51:44.440Z"
   },
   {
    "duration": 90,
    "start_time": "2023-02-06T08:51:44.530Z"
   },
   {
    "duration": 9,
    "start_time": "2023-02-06T08:51:44.622Z"
   },
   {
    "duration": 15,
    "start_time": "2023-02-06T08:51:44.638Z"
   },
   {
    "duration": 15,
    "start_time": "2023-02-06T08:51:44.654Z"
   },
   {
    "duration": 21,
    "start_time": "2023-02-06T08:51:44.672Z"
   },
   {
    "duration": 7,
    "start_time": "2023-02-06T08:51:44.695Z"
   },
   {
    "duration": 40,
    "start_time": "2023-02-06T08:51:44.704Z"
   },
   {
    "duration": 114,
    "start_time": "2023-02-06T08:51:44.747Z"
   },
   {
    "duration": 6,
    "start_time": "2023-02-06T08:51:44.863Z"
   },
   {
    "duration": 12,
    "start_time": "2023-02-06T08:51:44.875Z"
   },
   {
    "duration": 41,
    "start_time": "2023-02-06T08:51:44.888Z"
   },
   {
    "duration": 13,
    "start_time": "2023-02-06T08:51:44.931Z"
   },
   {
    "duration": 38,
    "start_time": "2023-02-06T08:51:44.946Z"
   },
   {
    "duration": 18,
    "start_time": "2023-02-06T08:51:44.986Z"
   },
   {
    "duration": 305,
    "start_time": "2023-02-06T08:51:45.007Z"
   },
   {
    "duration": 0,
    "start_time": "2023-02-06T08:51:45.314Z"
   },
   {
    "duration": 0,
    "start_time": "2023-02-06T08:51:45.315Z"
   },
   {
    "duration": 107,
    "start_time": "2023-02-06T08:53:32.027Z"
   },
   {
    "duration": 3,
    "start_time": "2023-02-06T08:53:41.765Z"
   },
   {
    "duration": 16,
    "start_time": "2023-02-06T08:53:56.387Z"
   },
   {
    "duration": 4,
    "start_time": "2023-02-06T09:01:00.052Z"
   },
   {
    "duration": 276,
    "start_time": "2023-02-06T09:01:03.005Z"
   },
   {
    "duration": 3,
    "start_time": "2023-02-06T09:01:14.588Z"
   },
   {
    "duration": 55,
    "start_time": "2023-02-06T09:04:02.592Z"
   },
   {
    "duration": 12,
    "start_time": "2023-02-06T09:04:27.775Z"
   },
   {
    "duration": 79,
    "start_time": "2023-02-06T09:09:06.055Z"
   },
   {
    "duration": 7,
    "start_time": "2023-02-06T09:09:18.663Z"
   },
   {
    "duration": 924,
    "start_time": "2023-02-06T09:10:09.376Z"
   },
   {
    "duration": 12,
    "start_time": "2023-02-06T09:12:58.863Z"
   },
   {
    "duration": 4,
    "start_time": "2023-02-06T09:13:02.885Z"
   },
   {
    "duration": 184,
    "start_time": "2023-02-06T09:13:02.892Z"
   },
   {
    "duration": 18,
    "start_time": "2023-02-06T09:13:03.081Z"
   },
   {
    "duration": 10,
    "start_time": "2023-02-06T09:13:03.101Z"
   },
   {
    "duration": 16,
    "start_time": "2023-02-06T09:13:03.112Z"
   },
   {
    "duration": 65,
    "start_time": "2023-02-06T09:13:03.130Z"
   },
   {
    "duration": 64,
    "start_time": "2023-02-06T09:13:03.196Z"
   },
   {
    "duration": 84,
    "start_time": "2023-02-06T09:13:03.267Z"
   },
   {
    "duration": 44,
    "start_time": "2023-02-06T09:13:03.353Z"
   },
   {
    "duration": 7,
    "start_time": "2023-02-06T09:13:03.399Z"
   },
   {
    "duration": 100,
    "start_time": "2023-02-06T09:13:03.408Z"
   },
   {
    "duration": 11,
    "start_time": "2023-02-06T09:13:03.510Z"
   },
   {
    "duration": 45,
    "start_time": "2023-02-06T09:13:03.523Z"
   },
   {
    "duration": 21,
    "start_time": "2023-02-06T09:13:03.570Z"
   },
   {
    "duration": 10,
    "start_time": "2023-02-06T09:13:03.593Z"
   },
   {
    "duration": 7,
    "start_time": "2023-02-06T09:13:03.605Z"
   },
   {
    "duration": 71,
    "start_time": "2023-02-06T09:13:03.613Z"
   },
   {
    "duration": 8,
    "start_time": "2023-02-06T09:13:03.686Z"
   },
   {
    "duration": 16,
    "start_time": "2023-02-06T09:13:03.696Z"
   },
   {
    "duration": 34,
    "start_time": "2023-02-06T09:13:03.714Z"
   },
   {
    "duration": 672,
    "start_time": "2023-02-06T09:13:03.751Z"
   },
   {
    "duration": 5,
    "start_time": "2023-02-06T09:13:04.425Z"
   },
   {
    "duration": 40,
    "start_time": "2023-02-06T09:13:04.437Z"
   },
   {
    "duration": 13,
    "start_time": "2023-02-06T09:13:04.481Z"
   },
   {
    "duration": 5,
    "start_time": "2023-02-06T09:13:04.496Z"
   },
   {
    "duration": 13,
    "start_time": "2023-02-06T09:13:04.502Z"
   },
   {
    "duration": 55,
    "start_time": "2023-02-06T09:13:04.517Z"
   },
   {
    "duration": 7,
    "start_time": "2023-02-06T09:13:04.579Z"
   },
   {
    "duration": 10,
    "start_time": "2023-02-06T09:13:04.588Z"
   },
   {
    "duration": 5,
    "start_time": "2023-02-06T09:13:04.600Z"
   },
   {
    "duration": 88,
    "start_time": "2023-02-06T09:13:04.607Z"
   },
   {
    "duration": 13,
    "start_time": "2023-02-06T09:13:04.696Z"
   },
   {
    "duration": 56,
    "start_time": "2023-02-06T09:13:04.710Z"
   },
   {
    "duration": 10,
    "start_time": "2023-02-06T09:13:04.768Z"
   },
   {
    "duration": 33,
    "start_time": "2023-02-06T09:13:04.779Z"
   },
   {
    "duration": 14,
    "start_time": "2023-02-06T09:13:04.814Z"
   },
   {
    "duration": 18,
    "start_time": "2023-02-06T09:13:04.830Z"
   },
   {
    "duration": 41,
    "start_time": "2023-02-06T09:13:04.850Z"
   },
   {
    "duration": 7,
    "start_time": "2023-02-06T09:13:04.893Z"
   },
   {
    "duration": 22,
    "start_time": "2023-02-06T09:13:04.902Z"
   },
   {
    "duration": 62,
    "start_time": "2023-02-06T09:13:04.926Z"
   },
   {
    "duration": 70,
    "start_time": "2023-02-06T09:13:04.989Z"
   },
   {
    "duration": 91,
    "start_time": "2023-02-06T09:13:05.061Z"
   },
   {
    "duration": 14,
    "start_time": "2023-02-06T09:13:05.153Z"
   },
   {
    "duration": 30,
    "start_time": "2023-02-06T09:13:05.170Z"
   },
   {
    "duration": 9,
    "start_time": "2023-02-06T09:13:05.202Z"
   },
   {
    "duration": 11,
    "start_time": "2023-02-06T09:13:05.213Z"
   },
   {
    "duration": 4,
    "start_time": "2023-02-06T09:13:05.225Z"
   },
   {
    "duration": 17,
    "start_time": "2023-02-06T09:13:05.231Z"
   },
   {
    "duration": 123,
    "start_time": "2023-02-06T09:13:05.250Z"
   },
   {
    "duration": 6,
    "start_time": "2023-02-06T09:13:05.381Z"
   },
   {
    "duration": 7,
    "start_time": "2023-02-06T09:13:05.389Z"
   },
   {
    "duration": 31,
    "start_time": "2023-02-06T09:13:05.398Z"
   },
   {
    "duration": 16,
    "start_time": "2023-02-06T09:13:05.432Z"
   },
   {
    "duration": 45,
    "start_time": "2023-02-06T09:13:05.452Z"
   },
   {
    "duration": 12,
    "start_time": "2023-02-06T09:13:05.499Z"
   },
   {
    "duration": 1254,
    "start_time": "2023-02-06T09:13:05.513Z"
   },
   {
    "duration": 0,
    "start_time": "2023-02-06T09:13:06.769Z"
   },
   {
    "duration": 0,
    "start_time": "2023-02-06T09:13:06.770Z"
   },
   {
    "duration": 0,
    "start_time": "2023-02-06T09:13:06.771Z"
   },
   {
    "duration": 0,
    "start_time": "2023-02-06T09:13:06.772Z"
   },
   {
    "duration": 6,
    "start_time": "2023-02-06T09:14:05.659Z"
   },
   {
    "duration": 4,
    "start_time": "2023-02-06T09:15:59.023Z"
   },
   {
    "duration": 189,
    "start_time": "2023-02-06T09:15:59.029Z"
   },
   {
    "duration": 24,
    "start_time": "2023-02-06T09:15:59.220Z"
   },
   {
    "duration": 9,
    "start_time": "2023-02-06T09:15:59.246Z"
   },
   {
    "duration": 20,
    "start_time": "2023-02-06T09:15:59.257Z"
   },
   {
    "duration": 16,
    "start_time": "2023-02-06T09:15:59.279Z"
   },
   {
    "duration": 70,
    "start_time": "2023-02-06T09:15:59.297Z"
   },
   {
    "duration": 58,
    "start_time": "2023-02-06T09:15:59.369Z"
   },
   {
    "duration": 49,
    "start_time": "2023-02-06T09:15:59.429Z"
   },
   {
    "duration": 7,
    "start_time": "2023-02-06T09:15:59.480Z"
   },
   {
    "duration": 91,
    "start_time": "2023-02-06T09:15:59.488Z"
   },
   {
    "duration": 10,
    "start_time": "2023-02-06T09:15:59.581Z"
   },
   {
    "duration": 55,
    "start_time": "2023-02-06T09:15:59.593Z"
   },
   {
    "duration": 4,
    "start_time": "2023-02-06T09:15:59.652Z"
   },
   {
    "duration": 18,
    "start_time": "2023-02-06T09:15:59.658Z"
   },
   {
    "duration": 9,
    "start_time": "2023-02-06T09:15:59.677Z"
   },
   {
    "duration": 54,
    "start_time": "2023-02-06T09:15:59.688Z"
   },
   {
    "duration": 23,
    "start_time": "2023-02-06T09:15:59.744Z"
   },
   {
    "duration": 16,
    "start_time": "2023-02-06T09:15:59.772Z"
   },
   {
    "duration": 15,
    "start_time": "2023-02-06T09:15:59.789Z"
   },
   {
    "duration": 586,
    "start_time": "2023-02-06T09:15:59.806Z"
   },
   {
    "duration": 7,
    "start_time": "2023-02-06T09:16:00.394Z"
   },
   {
    "duration": 66,
    "start_time": "2023-02-06T09:16:00.402Z"
   },
   {
    "duration": 36,
    "start_time": "2023-02-06T09:16:00.470Z"
   },
   {
    "duration": 78,
    "start_time": "2023-02-06T09:16:00.508Z"
   },
   {
    "duration": 44,
    "start_time": "2023-02-06T09:16:00.588Z"
   },
   {
    "duration": 88,
    "start_time": "2023-02-06T09:16:00.634Z"
   },
   {
    "duration": 7,
    "start_time": "2023-02-06T09:16:00.723Z"
   },
   {
    "duration": 58,
    "start_time": "2023-02-06T09:16:00.732Z"
   },
   {
    "duration": 14,
    "start_time": "2023-02-06T09:16:00.792Z"
   },
   {
    "duration": 88,
    "start_time": "2023-02-06T09:16:00.808Z"
   },
   {
    "duration": 16,
    "start_time": "2023-02-06T09:16:00.898Z"
   },
   {
    "duration": 60,
    "start_time": "2023-02-06T09:16:00.916Z"
   },
   {
    "duration": 3,
    "start_time": "2023-02-06T09:16:00.978Z"
   },
   {
    "duration": 34,
    "start_time": "2023-02-06T09:16:00.982Z"
   },
   {
    "duration": 23,
    "start_time": "2023-02-06T09:16:01.018Z"
   },
   {
    "duration": 61,
    "start_time": "2023-02-06T09:16:01.049Z"
   },
   {
    "duration": 13,
    "start_time": "2023-02-06T09:16:01.112Z"
   },
   {
    "duration": 14,
    "start_time": "2023-02-06T09:16:01.126Z"
   },
   {
    "duration": 60,
    "start_time": "2023-02-06T09:16:01.142Z"
   },
   {
    "duration": 22,
    "start_time": "2023-02-06T09:16:01.207Z"
   },
   {
    "duration": 145,
    "start_time": "2023-02-06T09:16:01.231Z"
   },
   {
    "duration": 63,
    "start_time": "2023-02-06T09:16:01.377Z"
   },
   {
    "duration": 20,
    "start_time": "2023-02-06T09:16:01.443Z"
   },
   {
    "duration": 17,
    "start_time": "2023-02-06T09:16:01.465Z"
   },
   {
    "duration": 100,
    "start_time": "2023-02-06T09:16:01.484Z"
   },
   {
    "duration": 37,
    "start_time": "2023-02-06T09:16:01.586Z"
   },
   {
    "duration": 55,
    "start_time": "2023-02-06T09:16:01.625Z"
   },
   {
    "duration": 33,
    "start_time": "2023-02-06T09:16:01.682Z"
   },
   {
    "duration": 137,
    "start_time": "2023-02-06T09:16:01.717Z"
   },
   {
    "duration": 6,
    "start_time": "2023-02-06T09:16:01.856Z"
   },
   {
    "duration": 35,
    "start_time": "2023-02-06T09:16:01.863Z"
   },
   {
    "duration": 35,
    "start_time": "2023-02-06T09:16:01.900Z"
   },
   {
    "duration": 11,
    "start_time": "2023-02-06T09:16:01.937Z"
   },
   {
    "duration": 12,
    "start_time": "2023-02-06T09:16:01.949Z"
   },
   {
    "duration": 26,
    "start_time": "2023-02-06T09:16:01.963Z"
   },
   {
    "duration": 9,
    "start_time": "2023-02-06T09:16:01.990Z"
   },
   {
    "duration": 4,
    "start_time": "2023-02-06T09:16:02.001Z"
   },
   {
    "duration": 4,
    "start_time": "2023-02-06T09:16:02.007Z"
   },
   {
    "duration": 7,
    "start_time": "2023-02-06T09:16:02.014Z"
   },
   {
    "duration": 20,
    "start_time": "2023-02-06T09:16:02.022Z"
   },
   {
    "duration": 1145,
    "start_time": "2023-02-06T09:16:02.051Z"
   },
   {
    "duration": 4,
    "start_time": "2023-02-06T09:16:28.273Z"
   },
   {
    "duration": 2,
    "start_time": "2023-02-06T09:16:32.498Z"
   },
   {
    "duration": 3,
    "start_time": "2023-02-06T09:16:32.916Z"
   },
   {
    "duration": 3,
    "start_time": "2023-02-06T09:16:33.518Z"
   },
   {
    "duration": 10,
    "start_time": "2023-02-06T09:16:34.256Z"
   },
   {
    "duration": 918,
    "start_time": "2023-02-06T09:16:36.558Z"
   },
   {
    "duration": 4,
    "start_time": "2023-02-06T09:17:39.473Z"
   },
   {
    "duration": 185,
    "start_time": "2023-02-06T09:17:39.479Z"
   },
   {
    "duration": 25,
    "start_time": "2023-02-06T09:17:39.666Z"
   },
   {
    "duration": 14,
    "start_time": "2023-02-06T09:17:39.693Z"
   },
   {
    "duration": 6,
    "start_time": "2023-02-06T09:17:39.709Z"
   },
   {
    "duration": 39,
    "start_time": "2023-02-06T09:17:39.716Z"
   },
   {
    "duration": 80,
    "start_time": "2023-02-06T09:17:39.756Z"
   },
   {
    "duration": 83,
    "start_time": "2023-02-06T09:17:39.838Z"
   },
   {
    "duration": 58,
    "start_time": "2023-02-06T09:17:39.924Z"
   },
   {
    "duration": 8,
    "start_time": "2023-02-06T09:17:39.985Z"
   },
   {
    "duration": 105,
    "start_time": "2023-02-06T09:17:39.995Z"
   },
   {
    "duration": 12,
    "start_time": "2023-02-06T09:17:40.103Z"
   },
   {
    "duration": 53,
    "start_time": "2023-02-06T09:17:40.117Z"
   },
   {
    "duration": 25,
    "start_time": "2023-02-06T09:17:40.171Z"
   },
   {
    "duration": 9,
    "start_time": "2023-02-06T09:17:40.198Z"
   },
   {
    "duration": 8,
    "start_time": "2023-02-06T09:17:40.209Z"
   },
   {
    "duration": 65,
    "start_time": "2023-02-06T09:17:40.219Z"
   },
   {
    "duration": 8,
    "start_time": "2023-02-06T09:17:40.287Z"
   },
   {
    "duration": 30,
    "start_time": "2023-02-06T09:17:40.296Z"
   },
   {
    "duration": 41,
    "start_time": "2023-02-06T09:17:40.328Z"
   },
   {
    "duration": 633,
    "start_time": "2023-02-06T09:17:40.371Z"
   },
   {
    "duration": 6,
    "start_time": "2023-02-06T09:17:41.006Z"
   },
   {
    "duration": 47,
    "start_time": "2023-02-06T09:17:41.014Z"
   },
   {
    "duration": 18,
    "start_time": "2023-02-06T09:17:41.063Z"
   },
   {
    "duration": 11,
    "start_time": "2023-02-06T09:17:41.083Z"
   },
   {
    "duration": 17,
    "start_time": "2023-02-06T09:17:41.097Z"
   },
   {
    "duration": 54,
    "start_time": "2023-02-06T09:17:41.116Z"
   },
   {
    "duration": 16,
    "start_time": "2023-02-06T09:17:41.175Z"
   },
   {
    "duration": 22,
    "start_time": "2023-02-06T09:17:41.194Z"
   },
   {
    "duration": 16,
    "start_time": "2023-02-06T09:17:41.218Z"
   },
   {
    "duration": 126,
    "start_time": "2023-02-06T09:17:41.237Z"
   },
   {
    "duration": 19,
    "start_time": "2023-02-06T09:17:41.366Z"
   },
   {
    "duration": 40,
    "start_time": "2023-02-06T09:17:41.387Z"
   },
   {
    "duration": 2,
    "start_time": "2023-02-06T09:17:41.428Z"
   },
   {
    "duration": 70,
    "start_time": "2023-02-06T09:17:41.432Z"
   },
   {
    "duration": 18,
    "start_time": "2023-02-06T09:17:41.504Z"
   },
   {
    "duration": 15,
    "start_time": "2023-02-06T09:17:41.524Z"
   },
   {
    "duration": 34,
    "start_time": "2023-02-06T09:17:41.545Z"
   },
   {
    "duration": 12,
    "start_time": "2023-02-06T09:17:41.581Z"
   },
   {
    "duration": 11,
    "start_time": "2023-02-06T09:17:41.595Z"
   },
   {
    "duration": 7,
    "start_time": "2023-02-06T09:17:41.608Z"
   },
   {
    "duration": 70,
    "start_time": "2023-02-06T09:17:41.617Z"
   },
   {
    "duration": 69,
    "start_time": "2023-02-06T09:17:41.689Z"
   },
   {
    "duration": 17,
    "start_time": "2023-02-06T09:17:41.759Z"
   },
   {
    "duration": 11,
    "start_time": "2023-02-06T09:17:41.778Z"
   },
   {
    "duration": 17,
    "start_time": "2023-02-06T09:17:41.791Z"
   },
   {
    "duration": 12,
    "start_time": "2023-02-06T09:17:41.809Z"
   },
   {
    "duration": 37,
    "start_time": "2023-02-06T09:17:41.844Z"
   },
   {
    "duration": 12,
    "start_time": "2023-02-06T09:17:41.883Z"
   },
   {
    "duration": 87,
    "start_time": "2023-02-06T09:17:41.897Z"
   },
   {
    "duration": 6,
    "start_time": "2023-02-06T09:17:41.987Z"
   },
   {
    "duration": 10,
    "start_time": "2023-02-06T09:17:41.996Z"
   },
   {
    "duration": 51,
    "start_time": "2023-02-06T09:17:42.008Z"
   },
   {
    "duration": 15,
    "start_time": "2023-02-06T09:17:42.061Z"
   },
   {
    "duration": 10,
    "start_time": "2023-02-06T09:17:42.078Z"
   },
   {
    "duration": 15,
    "start_time": "2023-02-06T09:17:42.090Z"
   },
   {
    "duration": 6,
    "start_time": "2023-02-06T09:17:42.106Z"
   },
   {
    "duration": 7,
    "start_time": "2023-02-06T09:17:42.114Z"
   },
   {
    "duration": 5,
    "start_time": "2023-02-06T09:17:42.122Z"
   },
   {
    "duration": 15,
    "start_time": "2023-02-06T09:17:42.128Z"
   },
   {
    "duration": 40,
    "start_time": "2023-02-06T09:17:42.152Z"
   },
   {
    "duration": 1016,
    "start_time": "2023-02-06T09:17:42.194Z"
   },
   {
    "duration": 1012,
    "start_time": "2023-02-06T09:18:46.263Z"
   },
   {
    "duration": 10,
    "start_time": "2023-02-06T09:20:21.654Z"
   },
   {
    "duration": 8,
    "start_time": "2023-02-06T09:20:46.178Z"
   },
   {
    "duration": 16,
    "start_time": "2023-02-06T09:20:49.777Z"
   },
   {
    "duration": 1090,
    "start_time": "2023-02-06T09:21:02.723Z"
   },
   {
    "duration": 1220,
    "start_time": "2023-02-06T09:22:41.781Z"
   },
   {
    "duration": 0,
    "start_time": "2023-02-06T09:22:43.002Z"
   },
   {
    "duration": 1078,
    "start_time": "2023-02-06T09:22:46.928Z"
   },
   {
    "duration": 15,
    "start_time": "2023-02-06T09:26:46.862Z"
   },
   {
    "duration": 5,
    "start_time": "2023-02-06T09:26:55.749Z"
   },
   {
    "duration": 200,
    "start_time": "2023-02-06T09:26:55.757Z"
   },
   {
    "duration": 34,
    "start_time": "2023-02-06T09:26:55.960Z"
   },
   {
    "duration": 16,
    "start_time": "2023-02-06T09:26:55.997Z"
   },
   {
    "duration": 5,
    "start_time": "2023-02-06T09:26:56.015Z"
   },
   {
    "duration": 34,
    "start_time": "2023-02-06T09:26:56.022Z"
   },
   {
    "duration": 88,
    "start_time": "2023-02-06T09:26:56.058Z"
   },
   {
    "duration": 68,
    "start_time": "2023-02-06T09:26:56.148Z"
   },
   {
    "duration": 67,
    "start_time": "2023-02-06T09:26:56.218Z"
   },
   {
    "duration": 7,
    "start_time": "2023-02-06T09:26:56.288Z"
   },
   {
    "duration": 113,
    "start_time": "2023-02-06T09:26:56.298Z"
   },
   {
    "duration": 9,
    "start_time": "2023-02-06T09:26:56.413Z"
   },
   {
    "duration": 38,
    "start_time": "2023-02-06T09:26:56.423Z"
   },
   {
    "duration": 12,
    "start_time": "2023-02-06T09:26:56.463Z"
   },
   {
    "duration": 16,
    "start_time": "2023-02-06T09:26:56.476Z"
   },
   {
    "duration": 11,
    "start_time": "2023-02-06T09:26:56.493Z"
   },
   {
    "duration": 66,
    "start_time": "2023-02-06T09:26:56.506Z"
   },
   {
    "duration": 8,
    "start_time": "2023-02-06T09:26:56.573Z"
   },
   {
    "duration": 19,
    "start_time": "2023-02-06T09:26:56.583Z"
   },
   {
    "duration": 16,
    "start_time": "2023-02-06T09:26:56.604Z"
   },
   {
    "duration": 670,
    "start_time": "2023-02-06T09:26:56.621Z"
   },
   {
    "duration": 5,
    "start_time": "2023-02-06T09:26:57.293Z"
   },
   {
    "duration": 48,
    "start_time": "2023-02-06T09:26:57.300Z"
   },
   {
    "duration": 7,
    "start_time": "2023-02-06T09:26:57.350Z"
   },
   {
    "duration": 36,
    "start_time": "2023-02-06T09:26:57.358Z"
   },
   {
    "duration": 21,
    "start_time": "2023-02-06T09:26:57.396Z"
   },
   {
    "duration": 36,
    "start_time": "2023-02-06T09:26:57.419Z"
   },
   {
    "duration": 10,
    "start_time": "2023-02-06T09:26:57.457Z"
   },
   {
    "duration": 19,
    "start_time": "2023-02-06T09:26:57.471Z"
   },
   {
    "duration": 11,
    "start_time": "2023-02-06T09:26:57.492Z"
   },
   {
    "duration": 72,
    "start_time": "2023-02-06T09:26:57.504Z"
   },
   {
    "duration": 15,
    "start_time": "2023-02-06T09:26:57.578Z"
   },
   {
    "duration": 35,
    "start_time": "2023-02-06T09:26:57.595Z"
   },
   {
    "duration": 10,
    "start_time": "2023-02-06T09:26:57.632Z"
   },
   {
    "duration": 67,
    "start_time": "2023-02-06T09:26:57.643Z"
   },
   {
    "duration": 17,
    "start_time": "2023-02-06T09:26:57.712Z"
   },
   {
    "duration": 59,
    "start_time": "2023-02-06T09:26:57.730Z"
   },
   {
    "duration": 11,
    "start_time": "2023-02-06T09:26:57.790Z"
   },
   {
    "duration": 8,
    "start_time": "2023-02-06T09:26:57.803Z"
   },
   {
    "duration": 8,
    "start_time": "2023-02-06T09:26:57.812Z"
   },
   {
    "duration": 6,
    "start_time": "2023-02-06T09:26:57.821Z"
   },
   {
    "duration": 64,
    "start_time": "2023-02-06T09:26:57.828Z"
   },
   {
    "duration": 59,
    "start_time": "2023-02-06T09:26:57.894Z"
   },
   {
    "duration": 10,
    "start_time": "2023-02-06T09:26:57.954Z"
   },
   {
    "duration": 45,
    "start_time": "2023-02-06T09:26:57.966Z"
   },
   {
    "duration": 13,
    "start_time": "2023-02-06T09:26:58.012Z"
   },
   {
    "duration": 11,
    "start_time": "2023-02-06T09:26:58.027Z"
   },
   {
    "duration": 45,
    "start_time": "2023-02-06T09:26:58.039Z"
   },
   {
    "duration": 13,
    "start_time": "2023-02-06T09:26:58.086Z"
   },
   {
    "duration": 104,
    "start_time": "2023-02-06T09:26:58.101Z"
   },
   {
    "duration": 5,
    "start_time": "2023-02-06T09:26:58.206Z"
   },
   {
    "duration": 8,
    "start_time": "2023-02-06T09:26:58.213Z"
   },
   {
    "duration": 20,
    "start_time": "2023-02-06T09:26:58.222Z"
   },
   {
    "duration": 65,
    "start_time": "2023-02-06T09:26:58.243Z"
   },
   {
    "duration": 11,
    "start_time": "2023-02-06T09:26:58.310Z"
   },
   {
    "duration": 1094,
    "start_time": "2023-02-06T09:26:58.325Z"
   },
   {
    "duration": 0,
    "start_time": "2023-02-06T09:26:59.421Z"
   },
   {
    "duration": 0,
    "start_time": "2023-02-06T09:26:59.422Z"
   },
   {
    "duration": 0,
    "start_time": "2023-02-06T09:26:59.423Z"
   },
   {
    "duration": 0,
    "start_time": "2023-02-06T09:26:59.424Z"
   },
   {
    "duration": 0,
    "start_time": "2023-02-06T09:26:59.425Z"
   },
   {
    "duration": 0,
    "start_time": "2023-02-06T09:26:59.426Z"
   },
   {
    "duration": 4,
    "start_time": "2023-02-06T09:28:55.710Z"
   },
   {
    "duration": 3,
    "start_time": "2023-02-06T09:29:01.422Z"
   },
   {
    "duration": 1095,
    "start_time": "2023-02-06T09:29:03.207Z"
   },
   {
    "duration": 13,
    "start_time": "2023-02-06T09:29:43.114Z"
   },
   {
    "duration": 21,
    "start_time": "2023-02-06T09:29:57.060Z"
   },
   {
    "duration": 15,
    "start_time": "2023-02-06T09:34:11.210Z"
   },
   {
    "duration": 12,
    "start_time": "2023-02-06T10:21:10.860Z"
   },
   {
    "duration": 151,
    "start_time": "2023-02-06T10:31:57.636Z"
   },
   {
    "duration": 78,
    "start_time": "2023-02-06T10:32:02.364Z"
   },
   {
    "duration": 147,
    "start_time": "2023-02-06T10:32:04.175Z"
   },
   {
    "duration": 77,
    "start_time": "2023-02-06T10:32:25.454Z"
   },
   {
    "duration": 9,
    "start_time": "2023-02-06T10:32:36.852Z"
   },
   {
    "duration": 10,
    "start_time": "2023-02-06T10:32:47.277Z"
   },
   {
    "duration": 5,
    "start_time": "2023-02-06T10:32:50.756Z"
   },
   {
    "duration": 160,
    "start_time": "2023-02-06T10:32:50.764Z"
   },
   {
    "duration": 26,
    "start_time": "2023-02-06T10:32:50.925Z"
   },
   {
    "duration": 15,
    "start_time": "2023-02-06T10:32:50.952Z"
   },
   {
    "duration": 8,
    "start_time": "2023-02-06T10:32:50.969Z"
   },
   {
    "duration": 67,
    "start_time": "2023-02-06T10:32:50.979Z"
   },
   {
    "duration": 68,
    "start_time": "2023-02-06T10:32:51.049Z"
   },
   {
    "duration": 0,
    "start_time": "2023-02-06T10:32:51.120Z"
   },
   {
    "duration": 0,
    "start_time": "2023-02-06T10:32:51.122Z"
   },
   {
    "duration": 0,
    "start_time": "2023-02-06T10:32:51.123Z"
   },
   {
    "duration": 0,
    "start_time": "2023-02-06T10:32:51.143Z"
   },
   {
    "duration": 0,
    "start_time": "2023-02-06T10:32:51.144Z"
   },
   {
    "duration": 0,
    "start_time": "2023-02-06T10:32:51.146Z"
   },
   {
    "duration": 0,
    "start_time": "2023-02-06T10:32:51.147Z"
   },
   {
    "duration": 0,
    "start_time": "2023-02-06T10:32:51.147Z"
   },
   {
    "duration": 0,
    "start_time": "2023-02-06T10:32:51.150Z"
   },
   {
    "duration": 0,
    "start_time": "2023-02-06T10:32:51.151Z"
   },
   {
    "duration": 0,
    "start_time": "2023-02-06T10:32:51.151Z"
   },
   {
    "duration": 0,
    "start_time": "2023-02-06T10:32:51.152Z"
   },
   {
    "duration": 0,
    "start_time": "2023-02-06T10:32:51.153Z"
   },
   {
    "duration": 1,
    "start_time": "2023-02-06T10:32:51.155Z"
   },
   {
    "duration": 0,
    "start_time": "2023-02-06T10:32:51.157Z"
   },
   {
    "duration": 0,
    "start_time": "2023-02-06T10:32:51.158Z"
   },
   {
    "duration": 0,
    "start_time": "2023-02-06T10:32:51.159Z"
   },
   {
    "duration": 0,
    "start_time": "2023-02-06T10:32:51.160Z"
   },
   {
    "duration": 0,
    "start_time": "2023-02-06T10:32:51.161Z"
   },
   {
    "duration": 0,
    "start_time": "2023-02-06T10:32:51.163Z"
   },
   {
    "duration": 0,
    "start_time": "2023-02-06T10:32:51.164Z"
   },
   {
    "duration": 0,
    "start_time": "2023-02-06T10:32:51.165Z"
   },
   {
    "duration": 0,
    "start_time": "2023-02-06T10:32:51.167Z"
   },
   {
    "duration": 0,
    "start_time": "2023-02-06T10:32:51.168Z"
   },
   {
    "duration": 88,
    "start_time": "2023-02-06T10:32:51.172Z"
   },
   {
    "duration": 3,
    "start_time": "2023-02-06T10:32:51.262Z"
   },
   {
    "duration": 26,
    "start_time": "2023-02-06T10:32:51.267Z"
   },
   {
    "duration": 12,
    "start_time": "2023-02-06T10:32:51.295Z"
   },
   {
    "duration": 37,
    "start_time": "2023-02-06T10:32:51.309Z"
   },
   {
    "duration": 20,
    "start_time": "2023-02-06T10:32:51.350Z"
   },
   {
    "duration": 0,
    "start_time": "2023-02-06T10:32:51.372Z"
   },
   {
    "duration": 0,
    "start_time": "2023-02-06T10:32:51.373Z"
   },
   {
    "duration": 0,
    "start_time": "2023-02-06T10:32:51.374Z"
   },
   {
    "duration": 0,
    "start_time": "2023-02-06T10:32:51.376Z"
   },
   {
    "duration": 0,
    "start_time": "2023-02-06T10:32:51.378Z"
   },
   {
    "duration": 0,
    "start_time": "2023-02-06T10:32:51.379Z"
   },
   {
    "duration": 0,
    "start_time": "2023-02-06T10:32:51.380Z"
   },
   {
    "duration": 0,
    "start_time": "2023-02-06T10:32:51.381Z"
   },
   {
    "duration": 12,
    "start_time": "2023-02-06T10:32:51.551Z"
   },
   {
    "duration": 7,
    "start_time": "2023-02-06T10:32:51.565Z"
   },
   {
    "duration": 12,
    "start_time": "2023-02-06T10:32:51.574Z"
   },
   {
    "duration": 82,
    "start_time": "2023-02-06T10:32:51.587Z"
   },
   {
    "duration": 4,
    "start_time": "2023-02-06T10:32:51.672Z"
   },
   {
    "duration": 13,
    "start_time": "2023-02-06T10:32:51.678Z"
   },
   {
    "duration": 18,
    "start_time": "2023-02-06T10:32:51.692Z"
   },
   {
    "duration": 0,
    "start_time": "2023-02-06T10:32:51.711Z"
   },
   {
    "duration": 0,
    "start_time": "2023-02-06T10:32:51.712Z"
   },
   {
    "duration": 0,
    "start_time": "2023-02-06T10:32:51.714Z"
   },
   {
    "duration": 0,
    "start_time": "2023-02-06T10:32:51.715Z"
   },
   {
    "duration": 0,
    "start_time": "2023-02-06T10:32:51.716Z"
   },
   {
    "duration": 0,
    "start_time": "2023-02-06T10:32:51.717Z"
   },
   {
    "duration": 0,
    "start_time": "2023-02-06T10:32:51.718Z"
   },
   {
    "duration": 0,
    "start_time": "2023-02-06T10:32:51.719Z"
   },
   {
    "duration": 0,
    "start_time": "2023-02-06T10:32:51.720Z"
   },
   {
    "duration": 0,
    "start_time": "2023-02-06T10:32:51.742Z"
   },
   {
    "duration": 10,
    "start_time": "2023-02-06T10:33:39.778Z"
   },
   {
    "duration": 13,
    "start_time": "2023-02-06T10:34:02.154Z"
   },
   {
    "duration": 6,
    "start_time": "2023-02-06T10:34:20.557Z"
   },
   {
    "duration": 153,
    "start_time": "2023-02-06T10:34:20.565Z"
   },
   {
    "duration": 28,
    "start_time": "2023-02-06T10:34:20.720Z"
   },
   {
    "duration": 8,
    "start_time": "2023-02-06T10:34:20.752Z"
   },
   {
    "duration": 12,
    "start_time": "2023-02-06T10:34:20.762Z"
   },
   {
    "duration": 52,
    "start_time": "2023-02-06T10:34:20.776Z"
   },
   {
    "duration": 71,
    "start_time": "2023-02-06T10:34:20.829Z"
   },
   {
    "duration": 11,
    "start_time": "2023-02-06T10:34:20.901Z"
   },
   {
    "duration": 0,
    "start_time": "2023-02-06T10:34:20.915Z"
   },
   {
    "duration": 0,
    "start_time": "2023-02-06T10:34:20.915Z"
   },
   {
    "duration": 0,
    "start_time": "2023-02-06T10:34:20.916Z"
   },
   {
    "duration": 0,
    "start_time": "2023-02-06T10:34:20.917Z"
   },
   {
    "duration": 0,
    "start_time": "2023-02-06T10:34:20.938Z"
   },
   {
    "duration": 0,
    "start_time": "2023-02-06T10:34:20.939Z"
   },
   {
    "duration": 0,
    "start_time": "2023-02-06T10:34:20.939Z"
   },
   {
    "duration": 0,
    "start_time": "2023-02-06T10:34:20.940Z"
   },
   {
    "duration": 0,
    "start_time": "2023-02-06T10:34:20.941Z"
   },
   {
    "duration": 0,
    "start_time": "2023-02-06T10:34:20.943Z"
   },
   {
    "duration": 0,
    "start_time": "2023-02-06T10:34:20.943Z"
   },
   {
    "duration": 0,
    "start_time": "2023-02-06T10:34:20.944Z"
   },
   {
    "duration": 0,
    "start_time": "2023-02-06T10:34:20.945Z"
   },
   {
    "duration": 0,
    "start_time": "2023-02-06T10:34:20.946Z"
   },
   {
    "duration": 0,
    "start_time": "2023-02-06T10:34:20.947Z"
   },
   {
    "duration": 0,
    "start_time": "2023-02-06T10:34:20.948Z"
   },
   {
    "duration": 1,
    "start_time": "2023-02-06T10:34:20.948Z"
   },
   {
    "duration": 0,
    "start_time": "2023-02-06T10:34:20.949Z"
   },
   {
    "duration": 0,
    "start_time": "2023-02-06T10:34:20.951Z"
   },
   {
    "duration": 0,
    "start_time": "2023-02-06T10:34:20.952Z"
   },
   {
    "duration": 0,
    "start_time": "2023-02-06T10:34:20.953Z"
   },
   {
    "duration": 0,
    "start_time": "2023-02-06T10:34:20.954Z"
   },
   {
    "duration": 0,
    "start_time": "2023-02-06T10:34:20.956Z"
   },
   {
    "duration": 0,
    "start_time": "2023-02-06T10:34:20.957Z"
   },
   {
    "duration": 0,
    "start_time": "2023-02-06T10:34:20.958Z"
   },
   {
    "duration": 0,
    "start_time": "2023-02-06T10:34:20.959Z"
   },
   {
    "duration": 0,
    "start_time": "2023-02-06T10:34:20.960Z"
   },
   {
    "duration": 0,
    "start_time": "2023-02-06T10:34:20.961Z"
   },
   {
    "duration": 0,
    "start_time": "2023-02-06T10:34:20.963Z"
   },
   {
    "duration": 0,
    "start_time": "2023-02-06T10:34:20.964Z"
   },
   {
    "duration": 0,
    "start_time": "2023-02-06T10:34:20.965Z"
   },
   {
    "duration": 0,
    "start_time": "2023-02-06T10:34:20.967Z"
   },
   {
    "duration": 0,
    "start_time": "2023-02-06T10:34:20.968Z"
   },
   {
    "duration": 0,
    "start_time": "2023-02-06T10:34:20.969Z"
   },
   {
    "duration": 0,
    "start_time": "2023-02-06T10:34:20.970Z"
   },
   {
    "duration": 0,
    "start_time": "2023-02-06T10:34:20.971Z"
   },
   {
    "duration": 0,
    "start_time": "2023-02-06T10:34:20.973Z"
   },
   {
    "duration": 0,
    "start_time": "2023-02-06T10:34:20.974Z"
   },
   {
    "duration": 0,
    "start_time": "2023-02-06T10:34:20.975Z"
   },
   {
    "duration": 0,
    "start_time": "2023-02-06T10:34:20.976Z"
   },
   {
    "duration": 0,
    "start_time": "2023-02-06T10:34:20.977Z"
   },
   {
    "duration": 0,
    "start_time": "2023-02-06T10:34:20.978Z"
   },
   {
    "duration": 0,
    "start_time": "2023-02-06T10:34:20.979Z"
   },
   {
    "duration": 0,
    "start_time": "2023-02-06T10:34:20.980Z"
   },
   {
    "duration": 0,
    "start_time": "2023-02-06T10:34:20.982Z"
   },
   {
    "duration": 0,
    "start_time": "2023-02-06T10:34:20.983Z"
   },
   {
    "duration": 0,
    "start_time": "2023-02-06T10:34:21.039Z"
   },
   {
    "duration": 0,
    "start_time": "2023-02-06T10:34:21.040Z"
   },
   {
    "duration": 0,
    "start_time": "2023-02-06T10:34:21.040Z"
   },
   {
    "duration": 0,
    "start_time": "2023-02-06T10:34:21.046Z"
   },
   {
    "duration": 0,
    "start_time": "2023-02-06T10:34:21.047Z"
   },
   {
    "duration": 0,
    "start_time": "2023-02-06T10:34:21.048Z"
   },
   {
    "duration": 0,
    "start_time": "2023-02-06T10:34:21.051Z"
   },
   {
    "duration": 0,
    "start_time": "2023-02-06T10:34:21.052Z"
   },
   {
    "duration": 9,
    "start_time": "2023-02-06T10:34:54.652Z"
   },
   {
    "duration": 14,
    "start_time": "2023-02-06T10:35:12.662Z"
   },
   {
    "duration": 4,
    "start_time": "2023-02-06T10:35:28.300Z"
   },
   {
    "duration": 240,
    "start_time": "2023-02-06T10:35:28.951Z"
   },
   {
    "duration": 20,
    "start_time": "2023-02-06T10:35:31.188Z"
   },
   {
    "duration": 17,
    "start_time": "2023-02-06T10:35:33.636Z"
   },
   {
    "duration": 3,
    "start_time": "2023-02-06T10:35:36.860Z"
   },
   {
    "duration": 59,
    "start_time": "2023-02-06T10:35:38.336Z"
   },
   {
    "duration": 64,
    "start_time": "2023-02-06T10:35:40.039Z"
   },
   {
    "duration": 48,
    "start_time": "2023-02-06T10:35:41.450Z"
   },
   {
    "duration": 37,
    "start_time": "2023-02-06T10:35:44.370Z"
   },
   {
    "duration": 14,
    "start_time": "2023-02-06T10:38:12.205Z"
   },
   {
    "duration": 71,
    "start_time": "2023-02-06T10:38:32.105Z"
   },
   {
    "duration": 10,
    "start_time": "2023-02-06T10:38:33.151Z"
   },
   {
    "duration": 39,
    "start_time": "2023-02-06T10:39:45.016Z"
   },
   {
    "duration": 15,
    "start_time": "2023-02-06T10:42:38.835Z"
   },
   {
    "duration": 15,
    "start_time": "2023-02-06T10:42:40.256Z"
   },
   {
    "duration": 18,
    "start_time": "2023-02-06T10:42:41.371Z"
   },
   {
    "duration": 31,
    "start_time": "2023-02-06T10:58:31.136Z"
   },
   {
    "duration": 4,
    "start_time": "2023-02-06T10:58:48.864Z"
   },
   {
    "duration": 8,
    "start_time": "2023-02-06T10:59:16.527Z"
   },
   {
    "duration": 23,
    "start_time": "2023-02-06T10:59:31.464Z"
   },
   {
    "duration": 51,
    "start_time": "2023-02-06T10:59:47.328Z"
   },
   {
    "duration": 5,
    "start_time": "2023-02-06T11:00:59.403Z"
   },
   {
    "duration": 5,
    "start_time": "2023-02-06T11:01:09.942Z"
   },
   {
    "duration": 375,
    "start_time": "2023-02-06T11:01:39.807Z"
   },
   {
    "duration": 289,
    "start_time": "2023-02-06T11:02:51.521Z"
   },
   {
    "duration": 323,
    "start_time": "2023-02-06T11:03:45.580Z"
   },
   {
    "duration": 5,
    "start_time": "2023-02-06T11:04:44.844Z"
   },
   {
    "duration": 26,
    "start_time": "2023-02-06T11:05:22.027Z"
   },
   {
    "duration": 4,
    "start_time": "2023-02-06T11:05:49.511Z"
   },
   {
    "duration": 5,
    "start_time": "2023-02-06T11:06:12.270Z"
   },
   {
    "duration": 4,
    "start_time": "2023-02-06T11:06:29.375Z"
   },
   {
    "duration": 12,
    "start_time": "2023-02-06T11:07:13.954Z"
   },
   {
    "duration": 36,
    "start_time": "2023-02-06T11:08:05.249Z"
   },
   {
    "duration": 33,
    "start_time": "2023-02-06T11:15:02.079Z"
   },
   {
    "duration": 4,
    "start_time": "2023-02-06T11:15:32.842Z"
   },
   {
    "duration": 5,
    "start_time": "2023-02-06T11:15:34.456Z"
   },
   {
    "duration": 5,
    "start_time": "2023-02-06T11:15:35.403Z"
   },
   {
    "duration": 52,
    "start_time": "2023-02-06T11:20:54.853Z"
   },
   {
    "duration": 8,
    "start_time": "2023-02-06T11:22:34.272Z"
   },
   {
    "duration": 19,
    "start_time": "2023-02-06T11:23:26.110Z"
   },
   {
    "duration": 51,
    "start_time": "2023-02-06T11:33:21.055Z"
   },
   {
    "duration": 52,
    "start_time": "2023-02-06T11:34:17.840Z"
   },
   {
    "duration": 50,
    "start_time": "2023-02-06T11:34:31.962Z"
   },
   {
    "duration": 13,
    "start_time": "2023-02-06T11:35:36.148Z"
   },
   {
    "duration": 796,
    "start_time": "2023-02-06T11:35:56.156Z"
   },
   {
    "duration": 14,
    "start_time": "2023-02-06T11:36:44.519Z"
   },
   {
    "duration": 35,
    "start_time": "2023-02-06T11:39:52.422Z"
   },
   {
    "duration": 18,
    "start_time": "2023-02-06T11:43:00.116Z"
   },
   {
    "duration": 4,
    "start_time": "2023-02-06T11:48:03.310Z"
   },
   {
    "duration": 152,
    "start_time": "2023-02-06T11:48:03.316Z"
   },
   {
    "duration": 18,
    "start_time": "2023-02-06T11:48:03.469Z"
   },
   {
    "duration": 8,
    "start_time": "2023-02-06T11:48:03.489Z"
   },
   {
    "duration": 6,
    "start_time": "2023-02-06T11:48:03.498Z"
   },
   {
    "duration": 67,
    "start_time": "2023-02-06T11:48:03.505Z"
   },
   {
    "duration": 63,
    "start_time": "2023-02-06T11:48:03.574Z"
   },
   {
    "duration": 45,
    "start_time": "2023-02-06T11:48:03.638Z"
   },
   {
    "duration": 35,
    "start_time": "2023-02-06T11:48:03.684Z"
   },
   {
    "duration": 22,
    "start_time": "2023-02-06T11:48:03.721Z"
   },
   {
    "duration": 16,
    "start_time": "2023-02-06T11:48:03.744Z"
   },
   {
    "duration": 17,
    "start_time": "2023-02-06T11:48:03.762Z"
   },
   {
    "duration": 4,
    "start_time": "2023-02-06T11:48:03.780Z"
   },
   {
    "duration": 8,
    "start_time": "2023-02-06T11:48:03.785Z"
   },
   {
    "duration": 51,
    "start_time": "2023-02-06T11:48:03.794Z"
   },
   {
    "duration": 2,
    "start_time": "2023-02-06T11:48:03.847Z"
   },
   {
    "duration": 54,
    "start_time": "2023-02-06T11:48:03.850Z"
   },
   {
    "duration": 7,
    "start_time": "2023-02-06T11:48:03.906Z"
   },
   {
    "duration": 5,
    "start_time": "2023-02-06T11:48:03.914Z"
   },
   {
    "duration": 4,
    "start_time": "2023-02-06T11:48:03.937Z"
   },
   {
    "duration": 319,
    "start_time": "2023-02-06T11:48:03.943Z"
   },
   {
    "duration": 25,
    "start_time": "2023-02-06T11:48:04.264Z"
   },
   {
    "duration": 4,
    "start_time": "2023-02-06T11:48:04.291Z"
   },
   {
    "duration": 8,
    "start_time": "2023-02-06T11:48:04.297Z"
   },
   {
    "duration": 34,
    "start_time": "2023-02-06T11:48:04.307Z"
   },
   {
    "duration": 40,
    "start_time": "2023-02-06T11:48:04.343Z"
   },
   {
    "duration": 5,
    "start_time": "2023-02-06T11:48:04.385Z"
   },
   {
    "duration": 10,
    "start_time": "2023-02-06T11:48:04.392Z"
   },
   {
    "duration": 6,
    "start_time": "2023-02-06T11:48:04.404Z"
   },
   {
    "duration": 37,
    "start_time": "2023-02-06T11:48:04.412Z"
   },
   {
    "duration": 7,
    "start_time": "2023-02-06T11:48:04.450Z"
   },
   {
    "duration": 56,
    "start_time": "2023-02-06T11:48:04.458Z"
   },
   {
    "duration": 22,
    "start_time": "2023-02-06T11:48:04.515Z"
   },
   {
    "duration": 30,
    "start_time": "2023-02-06T11:48:04.538Z"
   },
   {
    "duration": 18,
    "start_time": "2023-02-06T11:48:04.569Z"
   },
   {
    "duration": 55,
    "start_time": "2023-02-06T11:48:04.589Z"
   },
   {
    "duration": 9,
    "start_time": "2023-02-06T11:48:04.647Z"
   },
   {
    "duration": 7,
    "start_time": "2023-02-06T11:48:04.658Z"
   },
   {
    "duration": 8,
    "start_time": "2023-02-06T11:48:04.666Z"
   },
   {
    "duration": 7,
    "start_time": "2023-02-06T11:48:04.675Z"
   },
   {
    "duration": 7,
    "start_time": "2023-02-06T11:48:04.683Z"
   },
   {
    "duration": 49,
    "start_time": "2023-02-06T11:48:04.691Z"
   },
   {
    "duration": 50,
    "start_time": "2023-02-06T11:48:04.742Z"
   },
   {
    "duration": 7,
    "start_time": "2023-02-06T11:48:04.793Z"
   },
   {
    "duration": 14,
    "start_time": "2023-02-06T11:48:04.801Z"
   },
   {
    "duration": 23,
    "start_time": "2023-02-06T11:48:04.817Z"
   },
   {
    "duration": 10,
    "start_time": "2023-02-06T11:48:04.841Z"
   },
   {
    "duration": 6,
    "start_time": "2023-02-06T11:48:04.852Z"
   },
   {
    "duration": 14,
    "start_time": "2023-02-06T11:48:04.859Z"
   },
   {
    "duration": 114,
    "start_time": "2023-02-06T11:48:04.875Z"
   },
   {
    "duration": 3,
    "start_time": "2023-02-06T11:48:04.991Z"
   },
   {
    "duration": 8,
    "start_time": "2023-02-06T11:48:04.996Z"
   },
   {
    "duration": 10,
    "start_time": "2023-02-06T11:48:05.037Z"
   },
   {
    "duration": 11,
    "start_time": "2023-02-06T11:48:05.049Z"
   },
   {
    "duration": 9,
    "start_time": "2023-02-06T11:48:05.062Z"
   },
   {
    "duration": 4,
    "start_time": "2023-02-06T11:48:05.073Z"
   },
   {
    "duration": 59,
    "start_time": "2023-02-06T11:48:05.078Z"
   },
   {
    "duration": 21,
    "start_time": "2023-02-06T11:48:05.139Z"
   },
   {
    "duration": 0,
    "start_time": "2023-02-06T11:48:05.163Z"
   },
   {
    "duration": 0,
    "start_time": "2023-02-06T11:48:05.164Z"
   },
   {
    "duration": 0,
    "start_time": "2023-02-06T11:48:05.165Z"
   },
   {
    "duration": 0,
    "start_time": "2023-02-06T11:48:05.166Z"
   },
   {
    "duration": 0,
    "start_time": "2023-02-06T11:48:05.167Z"
   },
   {
    "duration": 1273,
    "start_time": "2023-02-06T15:07:33.703Z"
   },
   {
    "duration": 493,
    "start_time": "2023-02-06T15:07:34.978Z"
   },
   {
    "duration": 17,
    "start_time": "2023-02-06T15:07:35.473Z"
   },
   {
    "duration": 10,
    "start_time": "2023-02-06T15:07:35.492Z"
   },
   {
    "duration": 15,
    "start_time": "2023-02-06T15:07:35.503Z"
   },
   {
    "duration": 71,
    "start_time": "2023-02-06T15:07:35.519Z"
   },
   {
    "duration": 68,
    "start_time": "2023-02-06T15:07:35.591Z"
   },
   {
    "duration": 54,
    "start_time": "2023-02-06T15:07:35.661Z"
   },
   {
    "duration": 41,
    "start_time": "2023-02-06T15:07:35.728Z"
   },
   {
    "duration": 7,
    "start_time": "2023-02-06T15:07:35.772Z"
   },
   {
    "duration": 13,
    "start_time": "2023-02-06T15:07:35.781Z"
   },
   {
    "duration": 37,
    "start_time": "2023-02-06T15:07:35.796Z"
   },
   {
    "duration": 4,
    "start_time": "2023-02-06T15:07:35.834Z"
   },
   {
    "duration": 14,
    "start_time": "2023-02-06T15:07:35.839Z"
   },
   {
    "duration": 25,
    "start_time": "2023-02-06T15:07:35.854Z"
   },
   {
    "duration": 3,
    "start_time": "2023-02-06T15:07:35.880Z"
   },
   {
    "duration": 76,
    "start_time": "2023-02-06T15:07:35.884Z"
   },
   {
    "duration": 7,
    "start_time": "2023-02-06T15:07:35.961Z"
   },
   {
    "duration": 4,
    "start_time": "2023-02-06T15:07:35.969Z"
   },
   {
    "duration": 4,
    "start_time": "2023-02-06T15:07:35.975Z"
   },
   {
    "duration": 379,
    "start_time": "2023-02-06T15:07:35.980Z"
   },
   {
    "duration": 23,
    "start_time": "2023-02-06T15:07:36.360Z"
   },
   {
    "duration": 4,
    "start_time": "2023-02-06T15:07:36.384Z"
   },
   {
    "duration": 8,
    "start_time": "2023-02-06T15:07:36.389Z"
   },
   {
    "duration": 14,
    "start_time": "2023-02-06T15:07:36.398Z"
   },
   {
    "duration": 31,
    "start_time": "2023-02-06T15:07:36.428Z"
   },
   {
    "duration": 97,
    "start_time": "2023-02-06T15:07:36.461Z"
   },
   {
    "duration": 0,
    "start_time": "2023-02-06T15:07:36.560Z"
   },
   {
    "duration": 0,
    "start_time": "2023-02-06T15:07:36.562Z"
   },
   {
    "duration": 0,
    "start_time": "2023-02-06T15:07:36.563Z"
   },
   {
    "duration": 0,
    "start_time": "2023-02-06T15:07:36.564Z"
   },
   {
    "duration": 0,
    "start_time": "2023-02-06T15:07:36.565Z"
   },
   {
    "duration": 0,
    "start_time": "2023-02-06T15:07:36.566Z"
   },
   {
    "duration": 0,
    "start_time": "2023-02-06T15:07:36.567Z"
   },
   {
    "duration": 0,
    "start_time": "2023-02-06T15:07:36.568Z"
   },
   {
    "duration": 0,
    "start_time": "2023-02-06T15:07:36.569Z"
   },
   {
    "duration": 0,
    "start_time": "2023-02-06T15:07:36.570Z"
   },
   {
    "duration": 0,
    "start_time": "2023-02-06T15:07:36.571Z"
   },
   {
    "duration": 0,
    "start_time": "2023-02-06T15:07:36.572Z"
   },
   {
    "duration": 0,
    "start_time": "2023-02-06T15:07:36.573Z"
   },
   {
    "duration": 0,
    "start_time": "2023-02-06T15:07:36.574Z"
   },
   {
    "duration": 1,
    "start_time": "2023-02-06T15:07:36.574Z"
   },
   {
    "duration": 0,
    "start_time": "2023-02-06T15:07:36.576Z"
   },
   {
    "duration": 0,
    "start_time": "2023-02-06T15:07:36.577Z"
   },
   {
    "duration": 0,
    "start_time": "2023-02-06T15:07:36.577Z"
   },
   {
    "duration": 0,
    "start_time": "2023-02-06T15:07:36.578Z"
   },
   {
    "duration": 0,
    "start_time": "2023-02-06T15:07:36.579Z"
   },
   {
    "duration": 0,
    "start_time": "2023-02-06T15:07:36.580Z"
   },
   {
    "duration": 0,
    "start_time": "2023-02-06T15:07:36.581Z"
   },
   {
    "duration": 0,
    "start_time": "2023-02-06T15:07:36.582Z"
   },
   {
    "duration": 0,
    "start_time": "2023-02-06T15:07:36.583Z"
   },
   {
    "duration": 0,
    "start_time": "2023-02-06T15:07:36.584Z"
   },
   {
    "duration": 0,
    "start_time": "2023-02-06T15:07:36.585Z"
   },
   {
    "duration": 0,
    "start_time": "2023-02-06T15:07:36.628Z"
   },
   {
    "duration": 0,
    "start_time": "2023-02-06T15:07:36.629Z"
   },
   {
    "duration": 0,
    "start_time": "2023-02-06T15:07:36.630Z"
   },
   {
    "duration": 0,
    "start_time": "2023-02-06T15:07:36.631Z"
   },
   {
    "duration": 0,
    "start_time": "2023-02-06T15:07:36.632Z"
   },
   {
    "duration": 0,
    "start_time": "2023-02-06T15:07:36.633Z"
   },
   {
    "duration": 0,
    "start_time": "2023-02-06T15:07:36.634Z"
   },
   {
    "duration": 0,
    "start_time": "2023-02-06T15:07:36.635Z"
   },
   {
    "duration": 0,
    "start_time": "2023-02-06T15:07:36.635Z"
   },
   {
    "duration": 0,
    "start_time": "2023-02-06T15:07:36.636Z"
   },
   {
    "duration": 32,
    "start_time": "2023-02-06T15:07:53.352Z"
   },
   {
    "duration": 4,
    "start_time": "2023-02-06T15:08:30.916Z"
   },
   {
    "duration": 163,
    "start_time": "2023-02-06T15:08:30.922Z"
   },
   {
    "duration": 16,
    "start_time": "2023-02-06T15:08:31.087Z"
   },
   {
    "duration": 20,
    "start_time": "2023-02-06T15:08:31.105Z"
   },
   {
    "duration": 19,
    "start_time": "2023-02-06T15:08:31.127Z"
   },
   {
    "duration": 66,
    "start_time": "2023-02-06T15:08:31.147Z"
   },
   {
    "duration": 49,
    "start_time": "2023-02-06T15:08:31.215Z"
   },
   {
    "duration": 46,
    "start_time": "2023-02-06T15:08:31.266Z"
   },
   {
    "duration": 45,
    "start_time": "2023-02-06T15:08:31.314Z"
   },
   {
    "duration": 6,
    "start_time": "2023-02-06T15:08:31.362Z"
   },
   {
    "duration": 16,
    "start_time": "2023-02-06T15:08:31.370Z"
   },
   {
    "duration": 23,
    "start_time": "2023-02-06T15:08:31.387Z"
   },
   {
    "duration": 25,
    "start_time": "2023-02-06T15:08:31.411Z"
   },
   {
    "duration": 24,
    "start_time": "2023-02-06T15:08:31.438Z"
   },
   {
    "duration": 26,
    "start_time": "2023-02-06T15:08:31.464Z"
   },
   {
    "duration": 8,
    "start_time": "2023-02-06T15:08:31.492Z"
   },
   {
    "duration": 54,
    "start_time": "2023-02-06T15:08:31.502Z"
   },
   {
    "duration": 7,
    "start_time": "2023-02-06T15:08:31.558Z"
   },
   {
    "duration": 13,
    "start_time": "2023-02-06T15:08:31.566Z"
   },
   {
    "duration": 21,
    "start_time": "2023-02-06T15:08:31.581Z"
   },
   {
    "duration": 308,
    "start_time": "2023-02-06T15:08:31.604Z"
   },
   {
    "duration": 26,
    "start_time": "2023-02-06T15:08:31.914Z"
   },
   {
    "duration": 4,
    "start_time": "2023-02-06T15:08:31.941Z"
   },
   {
    "duration": 8,
    "start_time": "2023-02-06T15:08:31.946Z"
   },
   {
    "duration": 16,
    "start_time": "2023-02-06T15:08:31.955Z"
   },
   {
    "duration": 30,
    "start_time": "2023-02-06T15:08:31.972Z"
   },
   {
    "duration": 29,
    "start_time": "2023-02-06T15:08:32.004Z"
   },
   {
    "duration": 0,
    "start_time": "2023-02-06T15:08:32.035Z"
   },
   {
    "duration": 0,
    "start_time": "2023-02-06T15:08:32.036Z"
   },
   {
    "duration": 0,
    "start_time": "2023-02-06T15:08:32.037Z"
   },
   {
    "duration": 0,
    "start_time": "2023-02-06T15:08:32.038Z"
   },
   {
    "duration": 0,
    "start_time": "2023-02-06T15:08:32.040Z"
   },
   {
    "duration": 0,
    "start_time": "2023-02-06T15:08:32.040Z"
   },
   {
    "duration": 0,
    "start_time": "2023-02-06T15:08:32.042Z"
   },
   {
    "duration": 0,
    "start_time": "2023-02-06T15:08:32.042Z"
   },
   {
    "duration": 0,
    "start_time": "2023-02-06T15:08:32.043Z"
   },
   {
    "duration": 0,
    "start_time": "2023-02-06T15:08:32.044Z"
   },
   {
    "duration": 0,
    "start_time": "2023-02-06T15:08:32.045Z"
   },
   {
    "duration": 0,
    "start_time": "2023-02-06T15:08:32.046Z"
   },
   {
    "duration": 0,
    "start_time": "2023-02-06T15:08:32.047Z"
   },
   {
    "duration": 0,
    "start_time": "2023-02-06T15:08:32.048Z"
   },
   {
    "duration": 0,
    "start_time": "2023-02-06T15:08:32.049Z"
   },
   {
    "duration": 0,
    "start_time": "2023-02-06T15:08:32.050Z"
   },
   {
    "duration": 0,
    "start_time": "2023-02-06T15:08:32.051Z"
   },
   {
    "duration": 0,
    "start_time": "2023-02-06T15:08:32.052Z"
   },
   {
    "duration": 0,
    "start_time": "2023-02-06T15:08:32.053Z"
   },
   {
    "duration": 0,
    "start_time": "2023-02-06T15:08:32.054Z"
   },
   {
    "duration": 0,
    "start_time": "2023-02-06T15:08:32.055Z"
   },
   {
    "duration": 0,
    "start_time": "2023-02-06T15:08:32.056Z"
   },
   {
    "duration": 0,
    "start_time": "2023-02-06T15:08:32.057Z"
   },
   {
    "duration": 0,
    "start_time": "2023-02-06T15:08:32.058Z"
   },
   {
    "duration": 0,
    "start_time": "2023-02-06T15:08:32.059Z"
   },
   {
    "duration": 0,
    "start_time": "2023-02-06T15:08:32.059Z"
   },
   {
    "duration": 0,
    "start_time": "2023-02-06T15:08:32.061Z"
   },
   {
    "duration": 0,
    "start_time": "2023-02-06T15:08:32.061Z"
   },
   {
    "duration": 0,
    "start_time": "2023-02-06T15:08:32.062Z"
   },
   {
    "duration": 0,
    "start_time": "2023-02-06T15:08:32.063Z"
   },
   {
    "duration": 0,
    "start_time": "2023-02-06T15:08:32.064Z"
   },
   {
    "duration": 0,
    "start_time": "2023-02-06T15:08:32.065Z"
   },
   {
    "duration": 0,
    "start_time": "2023-02-06T15:08:32.066Z"
   },
   {
    "duration": 0,
    "start_time": "2023-02-06T15:08:32.067Z"
   },
   {
    "duration": 0,
    "start_time": "2023-02-06T15:08:32.068Z"
   },
   {
    "duration": 0,
    "start_time": "2023-02-06T15:08:32.069Z"
   },
   {
    "duration": 11,
    "start_time": "2023-02-06T15:08:56.674Z"
   },
   {
    "duration": 4,
    "start_time": "2023-02-06T15:15:02.787Z"
   },
   {
    "duration": 161,
    "start_time": "2023-02-06T15:15:02.793Z"
   },
   {
    "duration": 17,
    "start_time": "2023-02-06T15:15:02.955Z"
   },
   {
    "duration": 17,
    "start_time": "2023-02-06T15:15:02.974Z"
   },
   {
    "duration": 11,
    "start_time": "2023-02-06T15:15:02.993Z"
   },
   {
    "duration": 68,
    "start_time": "2023-02-06T15:15:03.006Z"
   },
   {
    "duration": 52,
    "start_time": "2023-02-06T15:15:03.076Z"
   },
   {
    "duration": 45,
    "start_time": "2023-02-06T15:15:03.129Z"
   },
   {
    "duration": 35,
    "start_time": "2023-02-06T15:15:03.175Z"
   },
   {
    "duration": 7,
    "start_time": "2023-02-06T15:15:03.227Z"
   },
   {
    "duration": 17,
    "start_time": "2023-02-06T15:15:03.235Z"
   },
   {
    "duration": 17,
    "start_time": "2023-02-06T15:15:03.254Z"
   },
   {
    "duration": 4,
    "start_time": "2023-02-06T15:15:03.273Z"
   },
   {
    "duration": 9,
    "start_time": "2023-02-06T15:15:03.278Z"
   },
   {
    "duration": 55,
    "start_time": "2023-02-06T15:15:03.289Z"
   },
   {
    "duration": 3,
    "start_time": "2023-02-06T15:15:03.346Z"
   },
   {
    "duration": 75,
    "start_time": "2023-02-06T15:15:03.350Z"
   },
   {
    "duration": 9,
    "start_time": "2023-02-06T15:15:03.427Z"
   },
   {
    "duration": 19,
    "start_time": "2023-02-06T15:15:03.438Z"
   },
   {
    "duration": 5,
    "start_time": "2023-02-06T15:15:03.459Z"
   },
   {
    "duration": 305,
    "start_time": "2023-02-06T15:15:03.466Z"
   },
   {
    "duration": 17,
    "start_time": "2023-02-06T15:15:03.773Z"
   },
   {
    "duration": 4,
    "start_time": "2023-02-06T15:15:03.791Z"
   },
   {
    "duration": 5,
    "start_time": "2023-02-06T15:15:03.797Z"
   },
   {
    "duration": 31,
    "start_time": "2023-02-06T15:15:03.804Z"
   },
   {
    "duration": 32,
    "start_time": "2023-02-06T15:15:03.836Z"
   },
   {
    "duration": 20,
    "start_time": "2023-02-06T15:15:03.870Z"
   },
   {
    "duration": 4,
    "start_time": "2023-02-06T15:15:03.895Z"
   },
   {
    "duration": 75,
    "start_time": "2023-02-06T15:15:03.901Z"
   },
   {
    "duration": 13,
    "start_time": "2023-02-06T15:15:03.978Z"
   },
   {
    "duration": 43,
    "start_time": "2023-02-06T15:15:03.992Z"
   },
   {
    "duration": 20,
    "start_time": "2023-02-06T15:15:04.036Z"
   },
   {
    "duration": 14,
    "start_time": "2023-02-06T15:15:04.058Z"
   },
   {
    "duration": 152,
    "start_time": "2023-02-06T15:15:04.073Z"
   },
   {
    "duration": 14,
    "start_time": "2023-02-06T15:15:04.227Z"
   },
   {
    "duration": 0,
    "start_time": "2023-02-06T15:15:04.242Z"
   },
   {
    "duration": 0,
    "start_time": "2023-02-06T15:15:04.244Z"
   },
   {
    "duration": 0,
    "start_time": "2023-02-06T15:15:04.246Z"
   },
   {
    "duration": 0,
    "start_time": "2023-02-06T15:15:04.247Z"
   },
   {
    "duration": 0,
    "start_time": "2023-02-06T15:15:04.249Z"
   },
   {
    "duration": 0,
    "start_time": "2023-02-06T15:15:04.250Z"
   },
   {
    "duration": 0,
    "start_time": "2023-02-06T15:15:04.252Z"
   },
   {
    "duration": 0,
    "start_time": "2023-02-06T15:15:04.253Z"
   },
   {
    "duration": 0,
    "start_time": "2023-02-06T15:15:04.255Z"
   },
   {
    "duration": 0,
    "start_time": "2023-02-06T15:15:04.256Z"
   },
   {
    "duration": 0,
    "start_time": "2023-02-06T15:15:04.258Z"
   },
   {
    "duration": 0,
    "start_time": "2023-02-06T15:15:04.259Z"
   },
   {
    "duration": 0,
    "start_time": "2023-02-06T15:15:04.261Z"
   },
   {
    "duration": 0,
    "start_time": "2023-02-06T15:15:04.262Z"
   },
   {
    "duration": 0,
    "start_time": "2023-02-06T15:15:04.264Z"
   },
   {
    "duration": 0,
    "start_time": "2023-02-06T15:15:04.265Z"
   },
   {
    "duration": 0,
    "start_time": "2023-02-06T15:15:04.327Z"
   },
   {
    "duration": 0,
    "start_time": "2023-02-06T15:15:04.329Z"
   },
   {
    "duration": 0,
    "start_time": "2023-02-06T15:15:04.330Z"
   },
   {
    "duration": 0,
    "start_time": "2023-02-06T15:15:04.331Z"
   },
   {
    "duration": 0,
    "start_time": "2023-02-06T15:15:04.332Z"
   },
   {
    "duration": 0,
    "start_time": "2023-02-06T15:15:04.333Z"
   },
   {
    "duration": 0,
    "start_time": "2023-02-06T15:15:04.335Z"
   },
   {
    "duration": 0,
    "start_time": "2023-02-06T15:15:04.336Z"
   },
   {
    "duration": 0,
    "start_time": "2023-02-06T15:15:04.336Z"
   },
   {
    "duration": 1,
    "start_time": "2023-02-06T15:15:04.337Z"
   },
   {
    "duration": 7,
    "start_time": "2023-02-06T15:22:04.169Z"
   },
   {
    "duration": 6,
    "start_time": "2023-02-06T15:22:21.511Z"
   },
   {
    "duration": 19,
    "start_time": "2023-02-06T15:24:27.529Z"
   },
   {
    "duration": 5,
    "start_time": "2023-02-06T15:24:49.856Z"
   },
   {
    "duration": 9,
    "start_time": "2023-02-06T15:25:12.595Z"
   },
   {
    "duration": 20,
    "start_time": "2023-02-06T15:28:38.929Z"
   },
   {
    "duration": 10,
    "start_time": "2023-02-06T15:28:52.429Z"
   },
   {
    "duration": 8,
    "start_time": "2023-02-06T15:28:57.091Z"
   },
   {
    "duration": 36,
    "start_time": "2023-02-06T15:29:50.447Z"
   },
   {
    "duration": 6,
    "start_time": "2023-02-06T15:32:39.321Z"
   },
   {
    "duration": 4,
    "start_time": "2023-02-06T15:33:37.129Z"
   },
   {
    "duration": 4,
    "start_time": "2023-02-06T15:33:48.930Z"
   },
   {
    "duration": 47,
    "start_time": "2023-02-06T15:42:00.830Z"
   },
   {
    "duration": 19,
    "start_time": "2023-02-06T15:45:11.322Z"
   },
   {
    "duration": 67,
    "start_time": "2023-02-06T15:46:55.785Z"
   },
   {
    "duration": 5,
    "start_time": "2023-02-06T15:59:35.151Z"
   },
   {
    "duration": 12,
    "start_time": "2023-02-06T16:07:14.490Z"
   },
   {
    "duration": 4,
    "start_time": "2023-02-06T16:08:12.281Z"
   },
   {
    "duration": 14,
    "start_time": "2023-02-06T16:08:15.557Z"
   },
   {
    "duration": 13,
    "start_time": "2023-02-06T16:08:41.059Z"
   },
   {
    "duration": 8,
    "start_time": "2023-02-06T16:09:12.041Z"
   },
   {
    "duration": 46,
    "start_time": "2023-02-06T16:09:16.128Z"
   },
   {
    "duration": 6,
    "start_time": "2023-02-06T16:10:06.386Z"
   },
   {
    "duration": 14,
    "start_time": "2023-02-06T16:10:09.600Z"
   },
   {
    "duration": 12,
    "start_time": "2023-02-06T16:16:32.162Z"
   },
   {
    "duration": 64,
    "start_time": "2023-02-06T16:22:44.885Z"
   },
   {
    "duration": 76,
    "start_time": "2023-02-06T16:22:46.335Z"
   },
   {
    "duration": 11,
    "start_time": "2023-02-06T16:22:47.284Z"
   },
   {
    "duration": 5,
    "start_time": "2023-02-06T16:22:50.480Z"
   },
   {
    "duration": 9,
    "start_time": "2023-02-06T16:22:56.203Z"
   },
   {
    "duration": 15,
    "start_time": "2023-02-06T16:29:57.200Z"
   },
   {
    "duration": 11,
    "start_time": "2023-02-06T16:33:08.263Z"
   },
   {
    "duration": 15,
    "start_time": "2023-02-06T16:35:07.180Z"
   },
   {
    "duration": 7,
    "start_time": "2023-02-06T16:42:20.536Z"
   },
   {
    "duration": 13,
    "start_time": "2023-02-06T16:43:39.809Z"
   },
   {
    "duration": 1267,
    "start_time": "2023-02-06T16:47:24.125Z"
   },
   {
    "duration": 1212,
    "start_time": "2023-02-06T16:47:57.804Z"
   },
   {
    "duration": 1366,
    "start_time": "2023-02-06T16:48:26.944Z"
   },
   {
    "duration": 15,
    "start_time": "2023-02-06T16:48:33.517Z"
   },
   {
    "duration": 932,
    "start_time": "2023-02-06T16:48:35.837Z"
   },
   {
    "duration": 13,
    "start_time": "2023-02-06T16:48:56.589Z"
   },
   {
    "duration": 7,
    "start_time": "2023-02-06T16:49:25.446Z"
   },
   {
    "duration": 882,
    "start_time": "2023-02-06T16:50:07.826Z"
   },
   {
    "duration": 1703,
    "start_time": "2023-02-06T16:50:19.384Z"
   },
   {
    "duration": 9,
    "start_time": "2023-02-06T16:51:12.053Z"
   },
   {
    "duration": 1493,
    "start_time": "2023-02-06T16:51:49.585Z"
   },
   {
    "duration": 6,
    "start_time": "2023-02-06T16:52:20.584Z"
   },
   {
    "duration": 1204,
    "start_time": "2023-02-06T16:52:35.496Z"
   },
   {
    "duration": 4,
    "start_time": "2023-02-06T16:52:49.828Z"
   },
   {
    "duration": 5,
    "start_time": "2023-02-06T16:52:52.001Z"
   },
   {
    "duration": 9,
    "start_time": "2023-02-06T16:53:33.971Z"
   },
   {
    "duration": 4,
    "start_time": "2023-02-06T16:54:13.331Z"
   },
   {
    "duration": 14,
    "start_time": "2023-02-06T16:55:01.385Z"
   },
   {
    "duration": 7,
    "start_time": "2023-02-06T16:55:14.977Z"
   },
   {
    "duration": 5,
    "start_time": "2023-02-06T16:55:16.137Z"
   },
   {
    "duration": 16,
    "start_time": "2023-02-06T16:55:18.989Z"
   },
   {
    "duration": 5,
    "start_time": "2023-02-06T16:55:41.687Z"
   },
   {
    "duration": 11,
    "start_time": "2023-02-06T16:55:53.365Z"
   },
   {
    "duration": 5,
    "start_time": "2023-02-06T16:56:56.666Z"
   },
   {
    "duration": 163,
    "start_time": "2023-02-06T16:56:56.673Z"
   },
   {
    "duration": 19,
    "start_time": "2023-02-06T16:56:56.838Z"
   },
   {
    "duration": 7,
    "start_time": "2023-02-06T16:56:56.859Z"
   },
   {
    "duration": 3,
    "start_time": "2023-02-06T16:56:56.870Z"
   },
   {
    "duration": 86,
    "start_time": "2023-02-06T16:56:56.874Z"
   },
   {
    "duration": 120,
    "start_time": "2023-02-06T16:56:56.962Z"
   },
   {
    "duration": 62,
    "start_time": "2023-02-06T16:56:57.083Z"
   },
   {
    "duration": 35,
    "start_time": "2023-02-06T16:56:57.147Z"
   },
   {
    "duration": 15,
    "start_time": "2023-02-06T16:56:57.183Z"
   },
   {
    "duration": 41,
    "start_time": "2023-02-06T16:56:57.206Z"
   },
   {
    "duration": 25,
    "start_time": "2023-02-06T16:56:57.249Z"
   },
   {
    "duration": 5,
    "start_time": "2023-02-06T16:56:57.276Z"
   },
   {
    "duration": 14,
    "start_time": "2023-02-06T16:56:57.285Z"
   },
   {
    "duration": 40,
    "start_time": "2023-02-06T16:56:57.302Z"
   },
   {
    "duration": 5,
    "start_time": "2023-02-06T16:56:57.344Z"
   },
   {
    "duration": 181,
    "start_time": "2023-02-06T16:56:57.351Z"
   },
   {
    "duration": 10,
    "start_time": "2023-02-06T16:56:57.534Z"
   },
   {
    "duration": 40,
    "start_time": "2023-02-06T16:56:57.546Z"
   },
   {
    "duration": 42,
    "start_time": "2023-02-06T16:56:57.588Z"
   },
   {
    "duration": 447,
    "start_time": "2023-02-06T16:56:57.632Z"
   },
   {
    "duration": 21,
    "start_time": "2023-02-06T16:56:58.081Z"
   },
   {
    "duration": 4,
    "start_time": "2023-02-06T16:56:58.103Z"
   },
   {
    "duration": 20,
    "start_time": "2023-02-06T16:56:58.109Z"
   },
   {
    "duration": 15,
    "start_time": "2023-02-06T16:56:58.130Z"
   },
   {
    "duration": 32,
    "start_time": "2023-02-06T16:56:58.147Z"
   },
   {
    "duration": 53,
    "start_time": "2023-02-06T16:56:58.180Z"
   },
   {
    "duration": 8,
    "start_time": "2023-02-06T16:56:58.235Z"
   },
   {
    "duration": 58,
    "start_time": "2023-02-06T16:56:58.245Z"
   },
   {
    "duration": 28,
    "start_time": "2023-02-06T16:56:58.304Z"
   },
   {
    "duration": 41,
    "start_time": "2023-02-06T16:56:58.334Z"
   },
   {
    "duration": 22,
    "start_time": "2023-02-06T16:56:58.378Z"
   },
   {
    "duration": 32,
    "start_time": "2023-02-06T16:56:58.401Z"
   },
   {
    "duration": 8,
    "start_time": "2023-02-06T16:56:58.435Z"
   },
   {
    "duration": 89,
    "start_time": "2023-02-06T16:56:58.445Z"
   },
   {
    "duration": 34,
    "start_time": "2023-02-06T16:56:58.536Z"
   },
   {
    "duration": 5,
    "start_time": "2023-02-06T16:56:58.571Z"
   },
   {
    "duration": 71,
    "start_time": "2023-02-06T16:56:58.578Z"
   },
   {
    "duration": 67,
    "start_time": "2023-02-06T16:56:58.650Z"
   },
   {
    "duration": 5,
    "start_time": "2023-02-06T16:56:58.728Z"
   },
   {
    "duration": 12,
    "start_time": "2023-02-06T16:56:58.737Z"
   },
   {
    "duration": 10,
    "start_time": "2023-02-06T16:56:58.751Z"
   },
   {
    "duration": 11,
    "start_time": "2023-02-06T16:56:58.763Z"
   },
   {
    "duration": 6,
    "start_time": "2023-02-06T16:56:58.776Z"
   },
   {
    "duration": 46,
    "start_time": "2023-02-06T16:56:58.784Z"
   },
   {
    "duration": 13,
    "start_time": "2023-02-06T16:56:58.832Z"
   },
   {
    "duration": 0,
    "start_time": "2023-02-06T16:56:58.847Z"
   },
   {
    "duration": 0,
    "start_time": "2023-02-06T16:56:58.849Z"
   },
   {
    "duration": 0,
    "start_time": "2023-02-06T16:56:58.851Z"
   },
   {
    "duration": 0,
    "start_time": "2023-02-06T16:56:58.852Z"
   },
   {
    "duration": 0,
    "start_time": "2023-02-06T16:56:58.853Z"
   },
   {
    "duration": 1,
    "start_time": "2023-02-06T16:56:58.854Z"
   },
   {
    "duration": 0,
    "start_time": "2023-02-06T16:56:58.856Z"
   },
   {
    "duration": 0,
    "start_time": "2023-02-06T16:56:58.857Z"
   },
   {
    "duration": 0,
    "start_time": "2023-02-06T16:56:58.859Z"
   },
   {
    "duration": 0,
    "start_time": "2023-02-06T16:56:58.861Z"
   },
   {
    "duration": 0,
    "start_time": "2023-02-06T16:56:58.862Z"
   },
   {
    "duration": 0,
    "start_time": "2023-02-06T16:56:58.863Z"
   },
   {
    "duration": 0,
    "start_time": "2023-02-06T16:56:58.865Z"
   },
   {
    "duration": 0,
    "start_time": "2023-02-06T16:56:58.866Z"
   },
   {
    "duration": 0,
    "start_time": "2023-02-06T16:56:58.868Z"
   },
   {
    "duration": 0,
    "start_time": "2023-02-06T16:56:58.869Z"
   },
   {
    "duration": 0,
    "start_time": "2023-02-06T16:56:58.871Z"
   },
   {
    "duration": 18,
    "start_time": "2023-02-06T16:57:43.018Z"
   },
   {
    "duration": 96,
    "start_time": "2023-02-06T16:58:55.782Z"
   },
   {
    "duration": 8,
    "start_time": "2023-02-06T16:59:09.256Z"
   },
   {
    "duration": 5,
    "start_time": "2023-02-06T16:59:13.608Z"
   },
   {
    "duration": 232,
    "start_time": "2023-02-06T16:59:13.615Z"
   },
   {
    "duration": 21,
    "start_time": "2023-02-06T16:59:13.849Z"
   },
   {
    "duration": 9,
    "start_time": "2023-02-06T16:59:13.872Z"
   },
   {
    "duration": 6,
    "start_time": "2023-02-06T16:59:13.883Z"
   },
   {
    "duration": 82,
    "start_time": "2023-02-06T16:59:13.890Z"
   },
   {
    "duration": 60,
    "start_time": "2023-02-06T16:59:13.973Z"
   },
   {
    "duration": 48,
    "start_time": "2023-02-06T16:59:14.034Z"
   },
   {
    "duration": 55,
    "start_time": "2023-02-06T16:59:14.084Z"
   },
   {
    "duration": 7,
    "start_time": "2023-02-06T16:59:14.143Z"
   },
   {
    "duration": 26,
    "start_time": "2023-02-06T16:59:14.151Z"
   },
   {
    "duration": 18,
    "start_time": "2023-02-06T16:59:14.179Z"
   },
   {
    "duration": 4,
    "start_time": "2023-02-06T16:59:14.199Z"
   },
   {
    "duration": 27,
    "start_time": "2023-02-06T16:59:14.204Z"
   },
   {
    "duration": 34,
    "start_time": "2023-02-06T16:59:14.233Z"
   },
   {
    "duration": 2,
    "start_time": "2023-02-06T16:59:14.269Z"
   },
   {
    "duration": 101,
    "start_time": "2023-02-06T16:59:14.274Z"
   },
   {
    "duration": 7,
    "start_time": "2023-02-06T16:59:14.377Z"
   },
   {
    "duration": 5,
    "start_time": "2023-02-06T16:59:14.385Z"
   },
   {
    "duration": 5,
    "start_time": "2023-02-06T16:59:14.392Z"
   },
   {
    "duration": 352,
    "start_time": "2023-02-06T16:59:14.399Z"
   },
   {
    "duration": 18,
    "start_time": "2023-02-06T16:59:14.753Z"
   },
   {
    "duration": 7,
    "start_time": "2023-02-06T16:59:14.772Z"
   },
   {
    "duration": 12,
    "start_time": "2023-02-06T16:59:14.781Z"
   },
   {
    "duration": 35,
    "start_time": "2023-02-06T16:59:14.795Z"
   },
   {
    "duration": 33,
    "start_time": "2023-02-06T16:59:14.831Z"
   },
   {
    "duration": 20,
    "start_time": "2023-02-06T16:59:14.865Z"
   },
   {
    "duration": 10,
    "start_time": "2023-02-06T16:59:14.889Z"
   },
   {
    "duration": 71,
    "start_time": "2023-02-06T16:59:14.900Z"
   },
   {
    "duration": 18,
    "start_time": "2023-02-06T16:59:14.973Z"
   },
   {
    "duration": 55,
    "start_time": "2023-02-06T16:59:14.993Z"
   },
   {
    "duration": 20,
    "start_time": "2023-02-06T16:59:15.051Z"
   },
   {
    "duration": 19,
    "start_time": "2023-02-06T16:59:15.073Z"
   },
   {
    "duration": 22,
    "start_time": "2023-02-06T16:59:15.095Z"
   },
   {
    "duration": 20,
    "start_time": "2023-02-06T16:59:15.119Z"
   },
   {
    "duration": 59,
    "start_time": "2023-02-06T16:59:15.141Z"
   },
   {
    "duration": 5,
    "start_time": "2023-02-06T16:59:15.203Z"
   },
   {
    "duration": 96,
    "start_time": "2023-02-06T16:59:15.210Z"
   },
   {
    "duration": 90,
    "start_time": "2023-02-06T16:59:15.308Z"
   },
   {
    "duration": 4,
    "start_time": "2023-02-06T16:59:15.400Z"
   },
   {
    "duration": 30,
    "start_time": "2023-02-06T16:59:15.406Z"
   },
   {
    "duration": 14,
    "start_time": "2023-02-06T16:59:15.439Z"
   },
   {
    "duration": 14,
    "start_time": "2023-02-06T16:59:15.455Z"
   },
   {
    "duration": 16,
    "start_time": "2023-02-06T16:59:15.472Z"
   },
   {
    "duration": 1346,
    "start_time": "2023-02-06T16:59:15.490Z"
   },
   {
    "duration": 0,
    "start_time": "2023-02-06T16:59:16.837Z"
   },
   {
    "duration": 0,
    "start_time": "2023-02-06T16:59:16.839Z"
   },
   {
    "duration": 0,
    "start_time": "2023-02-06T16:59:16.840Z"
   },
   {
    "duration": 0,
    "start_time": "2023-02-06T16:59:16.841Z"
   },
   {
    "duration": 0,
    "start_time": "2023-02-06T16:59:16.843Z"
   },
   {
    "duration": 0,
    "start_time": "2023-02-06T16:59:16.844Z"
   },
   {
    "duration": 0,
    "start_time": "2023-02-06T16:59:16.846Z"
   },
   {
    "duration": 0,
    "start_time": "2023-02-06T16:59:16.848Z"
   },
   {
    "duration": 0,
    "start_time": "2023-02-06T16:59:16.850Z"
   },
   {
    "duration": 0,
    "start_time": "2023-02-06T16:59:16.852Z"
   },
   {
    "duration": 0,
    "start_time": "2023-02-06T16:59:16.853Z"
   },
   {
    "duration": 0,
    "start_time": "2023-02-06T16:59:16.854Z"
   },
   {
    "duration": 0,
    "start_time": "2023-02-06T16:59:16.856Z"
   },
   {
    "duration": 0,
    "start_time": "2023-02-06T16:59:16.857Z"
   },
   {
    "duration": 0,
    "start_time": "2023-02-06T16:59:16.859Z"
   },
   {
    "duration": 0,
    "start_time": "2023-02-06T16:59:16.860Z"
   },
   {
    "duration": 0,
    "start_time": "2023-02-06T16:59:16.862Z"
   },
   {
    "duration": 0,
    "start_time": "2023-02-06T16:59:16.863Z"
   },
   {
    "duration": 8,
    "start_time": "2023-02-06T16:59:43.894Z"
   },
   {
    "duration": 1423,
    "start_time": "2023-02-06T16:59:46.757Z"
   },
   {
    "duration": 4,
    "start_time": "2023-02-06T16:59:58.193Z"
   },
   {
    "duration": 6,
    "start_time": "2023-02-06T17:00:00.014Z"
   },
   {
    "duration": 15,
    "start_time": "2023-02-06T17:00:03.433Z"
   },
   {
    "duration": 14,
    "start_time": "2023-02-06T17:00:58.306Z"
   },
   {
    "duration": 13,
    "start_time": "2023-02-06T17:04:34.130Z"
   },
   {
    "duration": 10,
    "start_time": "2023-02-06T17:04:42.449Z"
   },
   {
    "duration": 6,
    "start_time": "2023-02-06T17:04:45.154Z"
   },
   {
    "duration": 170,
    "start_time": "2023-02-06T17:04:45.164Z"
   },
   {
    "duration": 17,
    "start_time": "2023-02-06T17:04:45.337Z"
   },
   {
    "duration": 7,
    "start_time": "2023-02-06T17:04:45.355Z"
   },
   {
    "duration": 8,
    "start_time": "2023-02-06T17:04:45.364Z"
   },
   {
    "duration": 74,
    "start_time": "2023-02-06T17:04:45.374Z"
   },
   {
    "duration": 51,
    "start_time": "2023-02-06T17:04:45.450Z"
   },
   {
    "duration": 61,
    "start_time": "2023-02-06T17:04:45.503Z"
   },
   {
    "duration": 37,
    "start_time": "2023-02-06T17:04:45.566Z"
   },
   {
    "duration": 22,
    "start_time": "2023-02-06T17:04:45.605Z"
   },
   {
    "duration": 14,
    "start_time": "2023-02-06T17:04:45.629Z"
   },
   {
    "duration": 17,
    "start_time": "2023-02-06T17:04:45.645Z"
   },
   {
    "duration": 15,
    "start_time": "2023-02-06T17:04:45.663Z"
   },
   {
    "duration": 9,
    "start_time": "2023-02-06T17:04:45.682Z"
   },
   {
    "duration": 48,
    "start_time": "2023-02-06T17:04:45.693Z"
   },
   {
    "duration": 3,
    "start_time": "2023-02-06T17:04:45.743Z"
   },
   {
    "duration": 58,
    "start_time": "2023-02-06T17:04:45.748Z"
   },
   {
    "duration": 28,
    "start_time": "2023-02-06T17:04:45.808Z"
   },
   {
    "duration": 6,
    "start_time": "2023-02-06T17:04:45.838Z"
   },
   {
    "duration": 9,
    "start_time": "2023-02-06T17:04:45.846Z"
   },
   {
    "duration": 333,
    "start_time": "2023-02-06T17:04:45.857Z"
   },
   {
    "duration": 36,
    "start_time": "2023-02-06T17:04:46.192Z"
   },
   {
    "duration": 5,
    "start_time": "2023-02-06T17:04:46.230Z"
   },
   {
    "duration": 11,
    "start_time": "2023-02-06T17:04:46.236Z"
   },
   {
    "duration": 17,
    "start_time": "2023-02-06T17:04:46.249Z"
   },
   {
    "duration": 37,
    "start_time": "2023-02-06T17:04:46.268Z"
   },
   {
    "duration": 39,
    "start_time": "2023-02-06T17:04:46.306Z"
   },
   {
    "duration": 5,
    "start_time": "2023-02-06T17:04:46.346Z"
   },
   {
    "duration": 93,
    "start_time": "2023-02-06T17:04:46.353Z"
   },
   {
    "duration": 12,
    "start_time": "2023-02-06T17:04:46.448Z"
   },
   {
    "duration": 29,
    "start_time": "2023-02-06T17:04:46.462Z"
   },
   {
    "duration": 37,
    "start_time": "2023-02-06T17:04:46.493Z"
   },
   {
    "duration": 14,
    "start_time": "2023-02-06T17:04:46.532Z"
   },
   {
    "duration": 7,
    "start_time": "2023-02-06T17:04:46.547Z"
   },
   {
    "duration": 10,
    "start_time": "2023-02-06T17:04:46.556Z"
   },
   {
    "duration": 61,
    "start_time": "2023-02-06T17:04:46.568Z"
   },
   {
    "duration": 5,
    "start_time": "2023-02-06T17:04:46.630Z"
   },
   {
    "duration": 58,
    "start_time": "2023-02-06T17:04:46.637Z"
   },
   {
    "duration": 82,
    "start_time": "2023-02-06T17:04:46.697Z"
   },
   {
    "duration": 6,
    "start_time": "2023-02-06T17:04:46.781Z"
   },
   {
    "duration": 16,
    "start_time": "2023-02-06T17:04:46.791Z"
   },
   {
    "duration": 29,
    "start_time": "2023-02-06T17:04:46.808Z"
   },
   {
    "duration": 12,
    "start_time": "2023-02-06T17:04:46.839Z"
   },
   {
    "duration": 9,
    "start_time": "2023-02-06T17:04:46.853Z"
   },
   {
    "duration": 9,
    "start_time": "2023-02-06T17:04:46.864Z"
   },
   {
    "duration": 22,
    "start_time": "2023-02-06T17:04:46.875Z"
   },
   {
    "duration": 0,
    "start_time": "2023-02-06T17:04:46.899Z"
   },
   {
    "duration": 0,
    "start_time": "2023-02-06T17:04:46.929Z"
   },
   {
    "duration": 0,
    "start_time": "2023-02-06T17:04:46.930Z"
   },
   {
    "duration": 0,
    "start_time": "2023-02-06T17:04:46.931Z"
   },
   {
    "duration": 0,
    "start_time": "2023-02-06T17:04:46.933Z"
   },
   {
    "duration": 0,
    "start_time": "2023-02-06T17:04:46.934Z"
   },
   {
    "duration": 0,
    "start_time": "2023-02-06T17:04:46.935Z"
   },
   {
    "duration": 0,
    "start_time": "2023-02-06T17:04:46.936Z"
   },
   {
    "duration": 0,
    "start_time": "2023-02-06T17:04:46.937Z"
   },
   {
    "duration": 0,
    "start_time": "2023-02-06T17:04:46.938Z"
   },
   {
    "duration": 0,
    "start_time": "2023-02-06T17:04:46.938Z"
   },
   {
    "duration": 0,
    "start_time": "2023-02-06T17:04:46.939Z"
   },
   {
    "duration": 0,
    "start_time": "2023-02-06T17:04:46.940Z"
   },
   {
    "duration": 0,
    "start_time": "2023-02-06T17:04:46.941Z"
   },
   {
    "duration": 0,
    "start_time": "2023-02-06T17:04:46.943Z"
   },
   {
    "duration": 0,
    "start_time": "2023-02-06T17:04:46.944Z"
   },
   {
    "duration": 0,
    "start_time": "2023-02-06T17:04:46.944Z"
   },
   {
    "duration": 5,
    "start_time": "2023-02-06T17:05:52.716Z"
   },
   {
    "duration": 9,
    "start_time": "2023-02-06T17:10:32.150Z"
   },
   {
    "duration": 3,
    "start_time": "2023-02-06T17:10:32.986Z"
   },
   {
    "duration": 5,
    "start_time": "2023-02-06T17:10:42.147Z"
   },
   {
    "duration": 160,
    "start_time": "2023-02-06T17:10:42.154Z"
   },
   {
    "duration": 38,
    "start_time": "2023-02-06T17:10:42.316Z"
   },
   {
    "duration": 31,
    "start_time": "2023-02-06T17:10:42.356Z"
   },
   {
    "duration": 9,
    "start_time": "2023-02-06T17:10:42.389Z"
   },
   {
    "duration": 72,
    "start_time": "2023-02-06T17:10:42.400Z"
   },
   {
    "duration": 80,
    "start_time": "2023-02-06T17:10:42.474Z"
   },
   {
    "duration": 73,
    "start_time": "2023-02-06T17:10:42.556Z"
   },
   {
    "duration": 51,
    "start_time": "2023-02-06T17:10:42.631Z"
   },
   {
    "duration": 8,
    "start_time": "2023-02-06T17:10:42.685Z"
   },
   {
    "duration": 44,
    "start_time": "2023-02-06T17:10:42.694Z"
   },
   {
    "duration": 26,
    "start_time": "2023-02-06T17:10:42.740Z"
   },
   {
    "duration": 5,
    "start_time": "2023-02-06T17:10:42.768Z"
   },
   {
    "duration": 11,
    "start_time": "2023-02-06T17:10:42.776Z"
   },
   {
    "duration": 50,
    "start_time": "2023-02-06T17:10:42.788Z"
   },
   {
    "duration": 3,
    "start_time": "2023-02-06T17:10:42.839Z"
   },
   {
    "duration": 54,
    "start_time": "2023-02-06T17:10:42.843Z"
   },
   {
    "duration": 10,
    "start_time": "2023-02-06T17:10:42.899Z"
   },
   {
    "duration": 5,
    "start_time": "2023-02-06T17:10:42.927Z"
   },
   {
    "duration": 7,
    "start_time": "2023-02-06T17:10:42.934Z"
   },
   {
    "duration": 317,
    "start_time": "2023-02-06T17:10:42.943Z"
   },
   {
    "duration": 20,
    "start_time": "2023-02-06T17:10:43.262Z"
   },
   {
    "duration": 5,
    "start_time": "2023-02-06T17:10:43.284Z"
   },
   {
    "duration": 7,
    "start_time": "2023-02-06T17:10:43.291Z"
   },
   {
    "duration": 36,
    "start_time": "2023-02-06T17:10:43.300Z"
   },
   {
    "duration": 47,
    "start_time": "2023-02-06T17:10:43.338Z"
   },
   {
    "duration": 42,
    "start_time": "2023-02-06T17:10:43.387Z"
   },
   {
    "duration": 3,
    "start_time": "2023-02-06T17:10:43.436Z"
   },
   {
    "duration": 68,
    "start_time": "2023-02-06T17:10:43.441Z"
   },
   {
    "duration": 29,
    "start_time": "2023-02-06T17:10:43.511Z"
   },
   {
    "duration": 37,
    "start_time": "2023-02-06T17:10:43.542Z"
   },
   {
    "duration": 31,
    "start_time": "2023-02-06T17:10:43.582Z"
   },
   {
    "duration": 29,
    "start_time": "2023-02-06T17:10:43.615Z"
   },
   {
    "duration": 9,
    "start_time": "2023-02-06T17:10:43.646Z"
   },
   {
    "duration": 16,
    "start_time": "2023-02-06T17:10:43.657Z"
   },
   {
    "duration": 65,
    "start_time": "2023-02-06T17:10:43.675Z"
   },
   {
    "duration": 6,
    "start_time": "2023-02-06T17:10:43.742Z"
   },
   {
    "duration": 83,
    "start_time": "2023-02-06T17:10:43.749Z"
   },
   {
    "duration": 93,
    "start_time": "2023-02-06T17:10:43.835Z"
   },
   {
    "duration": 5,
    "start_time": "2023-02-06T17:10:43.930Z"
   },
   {
    "duration": 20,
    "start_time": "2023-02-06T17:10:43.937Z"
   },
   {
    "duration": 11,
    "start_time": "2023-02-06T17:10:43.958Z"
   },
   {
    "duration": 14,
    "start_time": "2023-02-06T17:10:43.971Z"
   },
   {
    "duration": 41,
    "start_time": "2023-02-06T17:10:43.987Z"
   },
   {
    "duration": 4,
    "start_time": "2023-02-06T17:10:44.030Z"
   },
   {
    "duration": 27,
    "start_time": "2023-02-06T17:10:44.036Z"
   },
   {
    "duration": 0,
    "start_time": "2023-02-06T17:10:44.065Z"
   },
   {
    "duration": 0,
    "start_time": "2023-02-06T17:10:44.066Z"
   },
   {
    "duration": 0,
    "start_time": "2023-02-06T17:10:44.068Z"
   },
   {
    "duration": 0,
    "start_time": "2023-02-06T17:10:44.069Z"
   },
   {
    "duration": 0,
    "start_time": "2023-02-06T17:10:44.070Z"
   },
   {
    "duration": 0,
    "start_time": "2023-02-06T17:10:44.071Z"
   },
   {
    "duration": 0,
    "start_time": "2023-02-06T17:10:44.073Z"
   },
   {
    "duration": 0,
    "start_time": "2023-02-06T17:10:44.074Z"
   },
   {
    "duration": 0,
    "start_time": "2023-02-06T17:10:44.076Z"
   },
   {
    "duration": 0,
    "start_time": "2023-02-06T17:10:44.077Z"
   },
   {
    "duration": 0,
    "start_time": "2023-02-06T17:10:44.078Z"
   },
   {
    "duration": 0,
    "start_time": "2023-02-06T17:10:44.079Z"
   },
   {
    "duration": 0,
    "start_time": "2023-02-06T17:10:44.080Z"
   },
   {
    "duration": 0,
    "start_time": "2023-02-06T17:10:44.081Z"
   },
   {
    "duration": 0,
    "start_time": "2023-02-06T17:10:44.082Z"
   },
   {
    "duration": 0,
    "start_time": "2023-02-06T17:10:44.084Z"
   },
   {
    "duration": 0,
    "start_time": "2023-02-06T17:10:44.085Z"
   },
   {
    "duration": 11,
    "start_time": "2023-02-06T17:11:11.489Z"
   },
   {
    "duration": 3,
    "start_time": "2023-02-06T17:11:13.081Z"
   },
   {
    "duration": 15,
    "start_time": "2023-02-06T17:11:14.964Z"
   },
   {
    "duration": 3,
    "start_time": "2023-02-06T17:12:28.465Z"
   },
   {
    "duration": 15,
    "start_time": "2023-02-06T17:12:58.932Z"
   },
   {
    "duration": 6,
    "start_time": "2023-02-06T17:13:21.879Z"
   },
   {
    "duration": 11,
    "start_time": "2023-02-06T17:13:32.588Z"
   },
   {
    "duration": 3,
    "start_time": "2023-02-06T17:14:03.379Z"
   },
   {
    "duration": 5,
    "start_time": "2023-02-06T17:14:09.758Z"
   },
   {
    "duration": 10,
    "start_time": "2023-02-06T17:14:23.742Z"
   },
   {
    "duration": 5,
    "start_time": "2023-02-06T17:14:48.817Z"
   },
   {
    "duration": 127,
    "start_time": "2023-02-06T17:14:48.825Z"
   },
   {
    "duration": 16,
    "start_time": "2023-02-06T17:14:48.953Z"
   },
   {
    "duration": 8,
    "start_time": "2023-02-06T17:14:48.971Z"
   },
   {
    "duration": 4,
    "start_time": "2023-02-06T17:14:48.981Z"
   },
   {
    "duration": 70,
    "start_time": "2023-02-06T17:14:48.986Z"
   },
   {
    "duration": 49,
    "start_time": "2023-02-06T17:14:49.058Z"
   },
   {
    "duration": 58,
    "start_time": "2023-02-06T17:14:49.109Z"
   },
   {
    "duration": 35,
    "start_time": "2023-02-06T17:14:49.169Z"
   },
   {
    "duration": 27,
    "start_time": "2023-02-06T17:14:49.206Z"
   },
   {
    "duration": 14,
    "start_time": "2023-02-06T17:14:49.234Z"
   },
   {
    "duration": 18,
    "start_time": "2023-02-06T17:14:49.249Z"
   },
   {
    "duration": 4,
    "start_time": "2023-02-06T17:14:49.268Z"
   },
   {
    "duration": 7,
    "start_time": "2023-02-06T17:14:49.275Z"
   },
   {
    "duration": 51,
    "start_time": "2023-02-06T17:14:49.284Z"
   },
   {
    "duration": 2,
    "start_time": "2023-02-06T17:14:49.337Z"
   },
   {
    "duration": 53,
    "start_time": "2023-02-06T17:14:49.341Z"
   },
   {
    "duration": 8,
    "start_time": "2023-02-06T17:14:49.396Z"
   },
   {
    "duration": 7,
    "start_time": "2023-02-06T17:14:49.428Z"
   },
   {
    "duration": 6,
    "start_time": "2023-02-06T17:14:49.436Z"
   },
   {
    "duration": 300,
    "start_time": "2023-02-06T17:14:49.443Z"
   },
   {
    "duration": 17,
    "start_time": "2023-02-06T17:14:49.744Z"
   },
   {
    "duration": 4,
    "start_time": "2023-02-06T17:14:49.763Z"
   },
   {
    "duration": 7,
    "start_time": "2023-02-06T17:14:49.768Z"
   },
   {
    "duration": 12,
    "start_time": "2023-02-06T17:14:49.776Z"
   },
   {
    "duration": 55,
    "start_time": "2023-02-06T17:14:49.789Z"
   },
   {
    "duration": 19,
    "start_time": "2023-02-06T17:14:49.845Z"
   },
   {
    "duration": 6,
    "start_time": "2023-02-06T17:14:49.866Z"
   },
   {
    "duration": 66,
    "start_time": "2023-02-06T17:14:49.873Z"
   },
   {
    "duration": 12,
    "start_time": "2023-02-06T17:14:49.940Z"
   },
   {
    "duration": 28,
    "start_time": "2023-02-06T17:14:49.953Z"
   },
   {
    "duration": 14,
    "start_time": "2023-02-06T17:14:49.983Z"
   },
   {
    "duration": 33,
    "start_time": "2023-02-06T17:14:49.999Z"
   },
   {
    "duration": 4,
    "start_time": "2023-02-06T17:14:50.034Z"
   },
   {
    "duration": 18,
    "start_time": "2023-02-06T17:14:50.040Z"
   },
   {
    "duration": 44,
    "start_time": "2023-02-06T17:14:50.060Z"
   },
   {
    "duration": 25,
    "start_time": "2023-02-06T17:14:50.106Z"
   },
   {
    "duration": 62,
    "start_time": "2023-02-06T17:14:50.133Z"
   },
   {
    "duration": 73,
    "start_time": "2023-02-06T17:14:50.197Z"
   },
   {
    "duration": 6,
    "start_time": "2023-02-06T17:14:50.272Z"
   },
   {
    "duration": 18,
    "start_time": "2023-02-06T17:14:50.283Z"
   },
   {
    "duration": 30,
    "start_time": "2023-02-06T17:14:50.303Z"
   },
   {
    "duration": 11,
    "start_time": "2023-02-06T17:14:50.335Z"
   },
   {
    "duration": 9,
    "start_time": "2023-02-06T17:14:50.355Z"
   },
   {
    "duration": 20,
    "start_time": "2023-02-06T17:14:50.366Z"
   },
   {
    "duration": 6,
    "start_time": "2023-02-06T17:14:50.388Z"
   },
   {
    "duration": 11,
    "start_time": "2023-02-06T17:14:50.395Z"
   },
   {
    "duration": 26,
    "start_time": "2023-02-06T17:14:50.408Z"
   },
   {
    "duration": 0,
    "start_time": "2023-02-06T17:14:50.436Z"
   },
   {
    "duration": 0,
    "start_time": "2023-02-06T17:14:50.438Z"
   },
   {
    "duration": 0,
    "start_time": "2023-02-06T17:14:50.439Z"
   },
   {
    "duration": 0,
    "start_time": "2023-02-06T17:14:50.440Z"
   },
   {
    "duration": 0,
    "start_time": "2023-02-06T17:14:50.442Z"
   },
   {
    "duration": 0,
    "start_time": "2023-02-06T17:14:50.443Z"
   },
   {
    "duration": 0,
    "start_time": "2023-02-06T17:14:50.444Z"
   },
   {
    "duration": 0,
    "start_time": "2023-02-06T17:14:50.445Z"
   },
   {
    "duration": 0,
    "start_time": "2023-02-06T17:14:50.446Z"
   },
   {
    "duration": 0,
    "start_time": "2023-02-06T17:14:50.447Z"
   },
   {
    "duration": 0,
    "start_time": "2023-02-06T17:14:50.448Z"
   },
   {
    "duration": 0,
    "start_time": "2023-02-06T17:14:50.450Z"
   },
   {
    "duration": 0,
    "start_time": "2023-02-06T17:14:50.451Z"
   },
   {
    "duration": 0,
    "start_time": "2023-02-06T17:14:50.452Z"
   },
   {
    "duration": 0,
    "start_time": "2023-02-06T17:14:50.453Z"
   },
   {
    "duration": 3,
    "start_time": "2023-02-06T17:15:54.800Z"
   },
   {
    "duration": 16,
    "start_time": "2023-02-06T17:15:56.861Z"
   },
   {
    "duration": 14,
    "start_time": "2023-02-06T17:16:52.304Z"
   },
   {
    "duration": 4,
    "start_time": "2023-02-06T17:17:19.379Z"
   },
   {
    "duration": 162,
    "start_time": "2023-02-06T17:17:19.386Z"
   },
   {
    "duration": 18,
    "start_time": "2023-02-06T17:17:19.549Z"
   },
   {
    "duration": 13,
    "start_time": "2023-02-06T17:17:19.569Z"
   },
   {
    "duration": 7,
    "start_time": "2023-02-06T17:17:19.584Z"
   },
   {
    "duration": 70,
    "start_time": "2023-02-06T17:17:19.592Z"
   },
   {
    "duration": 52,
    "start_time": "2023-02-06T17:17:19.663Z"
   },
   {
    "duration": 46,
    "start_time": "2023-02-06T17:17:19.727Z"
   },
   {
    "duration": 54,
    "start_time": "2023-02-06T17:17:19.775Z"
   },
   {
    "duration": 7,
    "start_time": "2023-02-06T17:17:19.830Z"
   },
   {
    "duration": 27,
    "start_time": "2023-02-06T17:17:19.839Z"
   },
   {
    "duration": 20,
    "start_time": "2023-02-06T17:17:19.868Z"
   },
   {
    "duration": 5,
    "start_time": "2023-02-06T17:17:19.891Z"
   },
   {
    "duration": 12,
    "start_time": "2023-02-06T17:17:19.929Z"
   },
   {
    "duration": 35,
    "start_time": "2023-02-06T17:17:19.943Z"
   },
   {
    "duration": 2,
    "start_time": "2023-02-06T17:17:19.980Z"
   },
   {
    "duration": 100,
    "start_time": "2023-02-06T17:17:19.984Z"
   },
   {
    "duration": 8,
    "start_time": "2023-02-06T17:17:20.086Z"
   },
   {
    "duration": 21,
    "start_time": "2023-02-06T17:17:20.096Z"
   },
   {
    "duration": 14,
    "start_time": "2023-02-06T17:17:20.119Z"
   },
   {
    "duration": 447,
    "start_time": "2023-02-06T17:17:20.135Z"
   },
   {
    "duration": 23,
    "start_time": "2023-02-06T17:17:20.584Z"
   },
   {
    "duration": 21,
    "start_time": "2023-02-06T17:17:20.609Z"
   },
   {
    "duration": 8,
    "start_time": "2023-02-06T17:17:20.632Z"
   },
   {
    "duration": 15,
    "start_time": "2023-02-06T17:17:20.643Z"
   },
   {
    "duration": 45,
    "start_time": "2023-02-06T17:17:20.660Z"
   },
   {
    "duration": 23,
    "start_time": "2023-02-06T17:17:20.727Z"
   },
   {
    "duration": 5,
    "start_time": "2023-02-06T17:17:20.752Z"
   },
   {
    "duration": 96,
    "start_time": "2023-02-06T17:17:20.759Z"
   },
   {
    "duration": 13,
    "start_time": "2023-02-06T17:17:20.857Z"
   },
   {
    "duration": 62,
    "start_time": "2023-02-06T17:17:20.872Z"
   },
   {
    "duration": 17,
    "start_time": "2023-02-06T17:17:20.935Z"
   },
   {
    "duration": 16,
    "start_time": "2023-02-06T17:17:20.953Z"
   },
   {
    "duration": 6,
    "start_time": "2023-02-06T17:17:20.971Z"
   },
   {
    "duration": 15,
    "start_time": "2023-02-06T17:17:20.978Z"
   },
   {
    "duration": 64,
    "start_time": "2023-02-06T17:17:20.995Z"
   },
   {
    "duration": 5,
    "start_time": "2023-02-06T17:17:21.061Z"
   },
   {
    "duration": 89,
    "start_time": "2023-02-06T17:17:21.068Z"
   },
   {
    "duration": 111,
    "start_time": "2023-02-06T17:17:21.160Z"
   },
   {
    "duration": 8,
    "start_time": "2023-02-06T17:17:21.273Z"
   },
   {
    "duration": 17,
    "start_time": "2023-02-06T17:17:21.285Z"
   },
   {
    "duration": 35,
    "start_time": "2023-02-06T17:17:21.303Z"
   },
   {
    "duration": 14,
    "start_time": "2023-02-06T17:17:21.340Z"
   },
   {
    "duration": 3,
    "start_time": "2023-02-06T17:17:21.355Z"
   },
   {
    "duration": 7,
    "start_time": "2023-02-06T17:17:21.360Z"
   },
   {
    "duration": 6,
    "start_time": "2023-02-06T17:17:21.369Z"
   },
   {
    "duration": 15,
    "start_time": "2023-02-06T17:17:21.377Z"
   },
   {
    "duration": 39,
    "start_time": "2023-02-06T17:17:21.395Z"
   },
   {
    "duration": 21,
    "start_time": "2023-02-06T17:17:21.436Z"
   },
   {
    "duration": 0,
    "start_time": "2023-02-06T17:17:21.459Z"
   },
   {
    "duration": 0,
    "start_time": "2023-02-06T17:17:21.460Z"
   },
   {
    "duration": 0,
    "start_time": "2023-02-06T17:17:21.461Z"
   },
   {
    "duration": 0,
    "start_time": "2023-02-06T17:17:21.463Z"
   },
   {
    "duration": 0,
    "start_time": "2023-02-06T17:17:21.464Z"
   },
   {
    "duration": 0,
    "start_time": "2023-02-06T17:17:21.465Z"
   },
   {
    "duration": 0,
    "start_time": "2023-02-06T17:17:21.467Z"
   },
   {
    "duration": 0,
    "start_time": "2023-02-06T17:17:21.468Z"
   },
   {
    "duration": 0,
    "start_time": "2023-02-06T17:17:21.469Z"
   },
   {
    "duration": 0,
    "start_time": "2023-02-06T17:17:21.471Z"
   },
   {
    "duration": 0,
    "start_time": "2023-02-06T17:17:21.473Z"
   },
   {
    "duration": 0,
    "start_time": "2023-02-06T17:17:21.474Z"
   },
   {
    "duration": 0,
    "start_time": "2023-02-06T17:17:21.476Z"
   },
   {
    "duration": 0,
    "start_time": "2023-02-06T17:17:21.478Z"
   },
   {
    "duration": 0,
    "start_time": "2023-02-06T17:17:21.480Z"
   },
   {
    "duration": 18,
    "start_time": "2023-02-06T17:18:12.441Z"
   },
   {
    "duration": 11,
    "start_time": "2023-02-06T17:18:52.866Z"
   },
   {
    "duration": 11,
    "start_time": "2023-02-06T17:20:53.352Z"
   },
   {
    "duration": 5,
    "start_time": "2023-02-06T17:21:01.720Z"
   },
   {
    "duration": 145,
    "start_time": "2023-02-06T17:21:01.727Z"
   },
   {
    "duration": 16,
    "start_time": "2023-02-06T17:21:01.874Z"
   },
   {
    "duration": 23,
    "start_time": "2023-02-06T17:21:01.892Z"
   },
   {
    "duration": 22,
    "start_time": "2023-02-06T17:21:01.918Z"
   },
   {
    "duration": 70,
    "start_time": "2023-02-06T17:21:01.942Z"
   },
   {
    "duration": 49,
    "start_time": "2023-02-06T17:21:02.013Z"
   },
   {
    "duration": 46,
    "start_time": "2023-02-06T17:21:02.063Z"
   },
   {
    "duration": 42,
    "start_time": "2023-02-06T17:21:02.111Z"
   },
   {
    "duration": 6,
    "start_time": "2023-02-06T17:21:02.155Z"
   },
   {
    "duration": 17,
    "start_time": "2023-02-06T17:21:02.163Z"
   },
   {
    "duration": 20,
    "start_time": "2023-02-06T17:21:02.182Z"
   },
   {
    "duration": 3,
    "start_time": "2023-02-06T17:21:02.204Z"
   },
   {
    "duration": 7,
    "start_time": "2023-02-06T17:21:02.229Z"
   },
   {
    "duration": 25,
    "start_time": "2023-02-06T17:21:02.237Z"
   },
   {
    "duration": 2,
    "start_time": "2023-02-06T17:21:02.263Z"
   },
   {
    "duration": 75,
    "start_time": "2023-02-06T17:21:02.267Z"
   },
   {
    "duration": 7,
    "start_time": "2023-02-06T17:21:02.344Z"
   },
   {
    "duration": 7,
    "start_time": "2023-02-06T17:21:02.352Z"
   },
   {
    "duration": 9,
    "start_time": "2023-02-06T17:21:02.361Z"
   },
   {
    "duration": 393,
    "start_time": "2023-02-06T17:21:02.371Z"
   },
   {
    "duration": 18,
    "start_time": "2023-02-06T17:21:02.766Z"
   },
   {
    "duration": 5,
    "start_time": "2023-02-06T17:21:02.785Z"
   },
   {
    "duration": 11,
    "start_time": "2023-02-06T17:21:02.791Z"
   },
   {
    "duration": 28,
    "start_time": "2023-02-06T17:21:02.804Z"
   },
   {
    "duration": 31,
    "start_time": "2023-02-06T17:21:02.834Z"
   },
   {
    "duration": 20,
    "start_time": "2023-02-06T17:21:02.866Z"
   },
   {
    "duration": 8,
    "start_time": "2023-02-06T17:21:02.889Z"
   },
   {
    "duration": 68,
    "start_time": "2023-02-06T17:21:02.899Z"
   },
   {
    "duration": 13,
    "start_time": "2023-02-06T17:21:02.969Z"
   },
   {
    "duration": 52,
    "start_time": "2023-02-06T17:21:02.984Z"
   },
   {
    "duration": 17,
    "start_time": "2023-02-06T17:21:03.037Z"
   },
   {
    "duration": 13,
    "start_time": "2023-02-06T17:21:03.055Z"
   },
   {
    "duration": 6,
    "start_time": "2023-02-06T17:21:03.070Z"
   },
   {
    "duration": 12,
    "start_time": "2023-02-06T17:21:03.078Z"
   },
   {
    "duration": 56,
    "start_time": "2023-02-06T17:21:03.092Z"
   },
   {
    "duration": 4,
    "start_time": "2023-02-06T17:21:03.150Z"
   },
   {
    "duration": 54,
    "start_time": "2023-02-06T17:21:03.155Z"
   },
   {
    "duration": 112,
    "start_time": "2023-02-06T17:21:03.211Z"
   },
   {
    "duration": 5,
    "start_time": "2023-02-06T17:21:03.325Z"
   },
   {
    "duration": 22,
    "start_time": "2023-02-06T17:21:03.333Z"
   },
   {
    "duration": 15,
    "start_time": "2023-02-06T17:21:03.357Z"
   },
   {
    "duration": 12,
    "start_time": "2023-02-06T17:21:03.373Z"
   },
   {
    "duration": 10,
    "start_time": "2023-02-06T17:21:03.386Z"
   },
   {
    "duration": 32,
    "start_time": "2023-02-06T17:21:03.398Z"
   },
   {
    "duration": 0,
    "start_time": "2023-02-06T17:21:03.432Z"
   },
   {
    "duration": 0,
    "start_time": "2023-02-06T17:21:03.433Z"
   },
   {
    "duration": 0,
    "start_time": "2023-02-06T17:21:03.434Z"
   },
   {
    "duration": 0,
    "start_time": "2023-02-06T17:21:03.435Z"
   },
   {
    "duration": 0,
    "start_time": "2023-02-06T17:21:03.436Z"
   },
   {
    "duration": 0,
    "start_time": "2023-02-06T17:21:03.438Z"
   },
   {
    "duration": 0,
    "start_time": "2023-02-06T17:21:03.438Z"
   },
   {
    "duration": 0,
    "start_time": "2023-02-06T17:21:03.439Z"
   },
   {
    "duration": 0,
    "start_time": "2023-02-06T17:21:03.440Z"
   },
   {
    "duration": 0,
    "start_time": "2023-02-06T17:21:03.441Z"
   },
   {
    "duration": 0,
    "start_time": "2023-02-06T17:21:03.442Z"
   },
   {
    "duration": 0,
    "start_time": "2023-02-06T17:21:03.443Z"
   },
   {
    "duration": 1,
    "start_time": "2023-02-06T17:21:03.443Z"
   },
   {
    "duration": 0,
    "start_time": "2023-02-06T17:21:03.444Z"
   },
   {
    "duration": 6,
    "start_time": "2023-02-06T17:22:40.277Z"
   },
   {
    "duration": 8,
    "start_time": "2023-02-06T17:23:56.630Z"
   },
   {
    "duration": 11,
    "start_time": "2023-02-06T17:27:45.103Z"
   },
   {
    "duration": 12,
    "start_time": "2023-02-06T17:28:00.821Z"
   },
   {
    "duration": 1325,
    "start_time": "2023-02-07T07:18:27.751Z"
   },
   {
    "duration": 531,
    "start_time": "2023-02-07T07:18:29.078Z"
   },
   {
    "duration": 22,
    "start_time": "2023-02-07T07:18:29.611Z"
   },
   {
    "duration": 12,
    "start_time": "2023-02-07T07:18:29.635Z"
   },
   {
    "duration": 2,
    "start_time": "2023-02-07T07:18:29.649Z"
   },
   {
    "duration": 68,
    "start_time": "2023-02-07T07:18:29.653Z"
   },
   {
    "duration": 92,
    "start_time": "2023-02-07T07:18:29.722Z"
   },
   {
    "duration": 62,
    "start_time": "2023-02-07T07:18:29.816Z"
   },
   {
    "duration": 45,
    "start_time": "2023-02-07T07:18:29.879Z"
   },
   {
    "duration": 7,
    "start_time": "2023-02-07T07:18:29.927Z"
   },
   {
    "duration": 36,
    "start_time": "2023-02-07T07:18:29.935Z"
   },
   {
    "duration": 21,
    "start_time": "2023-02-07T07:18:29.973Z"
   },
   {
    "duration": 4,
    "start_time": "2023-02-07T07:18:29.995Z"
   },
   {
    "duration": 14,
    "start_time": "2023-02-07T07:18:30.000Z"
   },
   {
    "duration": 53,
    "start_time": "2023-02-07T07:18:30.015Z"
   },
   {
    "duration": 2,
    "start_time": "2023-02-07T07:18:30.070Z"
   },
   {
    "duration": 68,
    "start_time": "2023-02-07T07:18:30.074Z"
   },
   {
    "duration": 7,
    "start_time": "2023-02-07T07:18:30.144Z"
   },
   {
    "duration": 24,
    "start_time": "2023-02-07T07:18:30.153Z"
   },
   {
    "duration": 43,
    "start_time": "2023-02-07T07:18:30.179Z"
   },
   {
    "duration": 427,
    "start_time": "2023-02-07T07:18:30.224Z"
   },
   {
    "duration": 35,
    "start_time": "2023-02-07T07:18:30.652Z"
   },
   {
    "duration": 10,
    "start_time": "2023-02-07T07:18:30.688Z"
   },
   {
    "duration": 39,
    "start_time": "2023-02-07T07:18:30.700Z"
   },
   {
    "duration": 40,
    "start_time": "2023-02-07T07:18:30.740Z"
   },
   {
    "duration": 62,
    "start_time": "2023-02-07T07:18:30.782Z"
   },
   {
    "duration": 31,
    "start_time": "2023-02-07T07:18:30.846Z"
   },
   {
    "duration": 46,
    "start_time": "2023-02-07T07:18:30.882Z"
   },
   {
    "duration": 97,
    "start_time": "2023-02-07T07:18:30.930Z"
   },
   {
    "duration": 15,
    "start_time": "2023-02-07T07:18:31.029Z"
   },
   {
    "duration": 86,
    "start_time": "2023-02-07T07:18:31.046Z"
   },
   {
    "duration": 17,
    "start_time": "2023-02-07T07:18:31.134Z"
   },
   {
    "duration": 24,
    "start_time": "2023-02-07T07:18:31.152Z"
   },
   {
    "duration": 56,
    "start_time": "2023-02-07T07:18:31.178Z"
   },
   {
    "duration": 193,
    "start_time": "2023-02-07T07:18:31.236Z"
   },
   {
    "duration": 37,
    "start_time": "2023-02-07T07:18:31.430Z"
   },
   {
    "duration": 4,
    "start_time": "2023-02-07T07:18:31.469Z"
   },
   {
    "duration": 109,
    "start_time": "2023-02-07T07:18:31.474Z"
   },
   {
    "duration": 92,
    "start_time": "2023-02-07T07:18:31.584Z"
   },
   {
    "duration": 5,
    "start_time": "2023-02-07T07:18:31.678Z"
   },
   {
    "duration": 30,
    "start_time": "2023-02-07T07:18:31.684Z"
   },
   {
    "duration": 23,
    "start_time": "2023-02-07T07:18:31.716Z"
   },
   {
    "duration": 12,
    "start_time": "2023-02-07T07:18:31.740Z"
   },
   {
    "duration": 17,
    "start_time": "2023-02-07T07:18:31.754Z"
   },
   {
    "duration": 16,
    "start_time": "2023-02-07T07:18:31.772Z"
   },
   {
    "duration": 18,
    "start_time": "2023-02-07T07:18:31.790Z"
   },
   {
    "duration": 25,
    "start_time": "2023-02-07T07:18:31.810Z"
   },
   {
    "duration": 113,
    "start_time": "2023-02-07T07:18:31.837Z"
   },
   {
    "duration": 0,
    "start_time": "2023-02-07T07:18:31.952Z"
   },
   {
    "duration": 1385,
    "start_time": "2023-02-08T06:44:49.245Z"
   },
   {
    "duration": 997,
    "start_time": "2023-02-08T06:44:50.632Z"
   },
   {
    "duration": 20,
    "start_time": "2023-02-08T06:44:51.630Z"
   },
   {
    "duration": 11,
    "start_time": "2023-02-08T06:44:51.652Z"
   },
   {
    "duration": 3,
    "start_time": "2023-02-08T06:44:51.665Z"
   },
   {
    "duration": 72,
    "start_time": "2023-02-08T06:44:51.669Z"
   },
   {
    "duration": 81,
    "start_time": "2023-02-08T06:44:51.742Z"
   },
   {
    "duration": 57,
    "start_time": "2023-02-08T06:44:51.825Z"
   },
   {
    "duration": 60,
    "start_time": "2023-02-08T06:44:51.884Z"
   },
   {
    "duration": 7,
    "start_time": "2023-02-08T06:44:51.947Z"
   },
   {
    "duration": 34,
    "start_time": "2023-02-08T06:44:51.956Z"
   },
   {
    "duration": 24,
    "start_time": "2023-02-08T06:44:51.992Z"
   },
   {
    "duration": 13,
    "start_time": "2023-02-08T06:44:52.017Z"
   },
   {
    "duration": 19,
    "start_time": "2023-02-08T06:44:52.031Z"
   },
   {
    "duration": 24,
    "start_time": "2023-02-08T06:44:52.052Z"
   },
   {
    "duration": 7,
    "start_time": "2023-02-08T06:44:52.078Z"
   },
   {
    "duration": 64,
    "start_time": "2023-02-08T06:44:52.086Z"
   },
   {
    "duration": 9,
    "start_time": "2023-02-08T06:44:52.152Z"
   },
   {
    "duration": 7,
    "start_time": "2023-02-08T06:44:52.162Z"
   },
   {
    "duration": 12,
    "start_time": "2023-02-08T06:44:52.171Z"
   },
   {
    "duration": 418,
    "start_time": "2023-02-08T06:44:52.185Z"
   },
   {
    "duration": 25,
    "start_time": "2023-02-08T06:44:52.604Z"
   },
   {
    "duration": 5,
    "start_time": "2023-02-08T06:44:52.630Z"
   },
   {
    "duration": 17,
    "start_time": "2023-02-08T06:44:52.637Z"
   },
   {
    "duration": 21,
    "start_time": "2023-02-08T06:44:52.656Z"
   },
   {
    "duration": 61,
    "start_time": "2023-02-08T06:44:52.678Z"
   },
   {
    "duration": 21,
    "start_time": "2023-02-08T06:44:52.741Z"
   },
   {
    "duration": 8,
    "start_time": "2023-02-08T06:44:52.765Z"
   },
   {
    "duration": 72,
    "start_time": "2023-02-08T06:44:52.774Z"
   },
   {
    "duration": 13,
    "start_time": "2023-02-08T06:44:52.848Z"
   },
   {
    "duration": 47,
    "start_time": "2023-02-08T06:44:52.863Z"
   },
   {
    "duration": 14,
    "start_time": "2023-02-08T06:44:52.912Z"
   },
   {
    "duration": 22,
    "start_time": "2023-02-08T06:44:52.928Z"
   },
   {
    "duration": 20,
    "start_time": "2023-02-08T06:44:52.951Z"
   },
   {
    "duration": 193,
    "start_time": "2023-02-08T06:44:52.973Z"
   },
   {
    "duration": 56,
    "start_time": "2023-02-08T06:44:53.168Z"
   },
   {
    "duration": 11,
    "start_time": "2023-02-08T06:44:53.226Z"
   },
   {
    "duration": 106,
    "start_time": "2023-02-08T06:44:53.238Z"
   },
   {
    "duration": 80,
    "start_time": "2023-02-08T06:44:53.345Z"
   },
   {
    "duration": 5,
    "start_time": "2023-02-08T06:44:53.427Z"
   },
   {
    "duration": 21,
    "start_time": "2023-02-08T06:44:53.433Z"
   },
   {
    "duration": 22,
    "start_time": "2023-02-08T06:44:53.456Z"
   },
   {
    "duration": 24,
    "start_time": "2023-02-08T06:44:53.480Z"
   },
   {
    "duration": 15,
    "start_time": "2023-02-08T06:44:53.507Z"
   },
   {
    "duration": 18,
    "start_time": "2023-02-08T06:44:53.524Z"
   },
   {
    "duration": 12,
    "start_time": "2023-02-08T06:44:53.545Z"
   },
   {
    "duration": 18,
    "start_time": "2023-02-08T06:44:53.559Z"
   },
   {
    "duration": 43,
    "start_time": "2023-02-08T06:47:35.640Z"
   },
   {
    "duration": 12,
    "start_time": "2023-02-08T06:51:20.463Z"
   },
   {
    "duration": 14,
    "start_time": "2023-02-08T06:51:50.025Z"
   },
   {
    "duration": 14,
    "start_time": "2023-02-08T06:52:11.231Z"
   },
   {
    "duration": 13,
    "start_time": "2023-02-08T06:52:32.515Z"
   },
   {
    "duration": 55,
    "start_time": "2023-02-08T06:54:28.538Z"
   },
   {
    "duration": 1260,
    "start_time": "2023-02-08T22:20:46.474Z"
   },
   {
    "duration": 503,
    "start_time": "2023-02-08T22:20:47.736Z"
   },
   {
    "duration": 21,
    "start_time": "2023-02-08T22:20:48.240Z"
   },
   {
    "duration": 10,
    "start_time": "2023-02-08T22:20:48.263Z"
   },
   {
    "duration": 4,
    "start_time": "2023-02-08T22:20:48.276Z"
   },
   {
    "duration": 78,
    "start_time": "2023-02-08T22:20:48.281Z"
   },
   {
    "duration": 76,
    "start_time": "2023-02-08T22:20:48.361Z"
   },
   {
    "duration": 63,
    "start_time": "2023-02-08T22:20:48.438Z"
   },
   {
    "duration": 57,
    "start_time": "2023-02-08T22:20:48.502Z"
   },
   {
    "duration": 7,
    "start_time": "2023-02-08T22:20:48.561Z"
   },
   {
    "duration": 13,
    "start_time": "2023-02-08T22:20:48.570Z"
   },
   {
    "duration": 21,
    "start_time": "2023-02-08T22:20:48.585Z"
   },
   {
    "duration": 4,
    "start_time": "2023-02-08T22:20:48.608Z"
   },
   {
    "duration": 41,
    "start_time": "2023-02-08T22:20:48.616Z"
   },
   {
    "duration": 26,
    "start_time": "2023-02-08T22:20:48.658Z"
   },
   {
    "duration": 2,
    "start_time": "2023-02-08T22:20:48.686Z"
   },
   {
    "duration": 74,
    "start_time": "2023-02-08T22:20:48.690Z"
   },
   {
    "duration": 7,
    "start_time": "2023-02-08T22:20:48.766Z"
   },
   {
    "duration": 6,
    "start_time": "2023-02-08T22:20:48.774Z"
   },
   {
    "duration": 5,
    "start_time": "2023-02-08T22:20:48.782Z"
   },
   {
    "duration": 392,
    "start_time": "2023-02-08T22:20:48.788Z"
   },
   {
    "duration": 25,
    "start_time": "2023-02-08T22:20:49.181Z"
   },
   {
    "duration": 4,
    "start_time": "2023-02-08T22:20:49.207Z"
   },
   {
    "duration": 70,
    "start_time": "2023-02-08T22:20:49.213Z"
   },
   {
    "duration": 15,
    "start_time": "2023-02-08T22:20:49.285Z"
   },
   {
    "duration": 35,
    "start_time": "2023-02-08T22:20:49.301Z"
   },
   {
    "duration": 21,
    "start_time": "2023-02-08T22:20:49.338Z"
   },
   {
    "duration": 6,
    "start_time": "2023-02-08T22:20:49.361Z"
   },
   {
    "duration": 70,
    "start_time": "2023-02-08T22:20:49.368Z"
   },
   {
    "duration": 12,
    "start_time": "2023-02-08T22:20:49.440Z"
   },
   {
    "duration": 35,
    "start_time": "2023-02-08T22:20:49.454Z"
   },
   {
    "duration": 16,
    "start_time": "2023-02-08T22:20:49.490Z"
   },
   {
    "duration": 13,
    "start_time": "2023-02-08T22:20:49.507Z"
   },
   {
    "duration": 27,
    "start_time": "2023-02-08T22:20:49.522Z"
   },
   {
    "duration": 236,
    "start_time": "2023-02-08T22:20:49.551Z"
   },
   {
    "duration": 31,
    "start_time": "2023-02-08T22:20:49.789Z"
   },
   {
    "duration": 27,
    "start_time": "2023-02-08T22:20:49.821Z"
   },
   {
    "duration": 50,
    "start_time": "2023-02-08T22:20:49.850Z"
   },
   {
    "duration": 124,
    "start_time": "2023-02-08T22:20:49.902Z"
   },
   {
    "duration": 5,
    "start_time": "2023-02-08T22:20:50.028Z"
   },
   {
    "duration": 11,
    "start_time": "2023-02-08T22:20:50.047Z"
   },
   {
    "duration": 16,
    "start_time": "2023-02-08T22:20:50.060Z"
   },
   {
    "duration": 10,
    "start_time": "2023-02-08T22:20:50.077Z"
   },
   {
    "duration": 17,
    "start_time": "2023-02-08T22:20:50.090Z"
   },
   {
    "duration": 9,
    "start_time": "2023-02-08T22:20:50.108Z"
   },
   {
    "duration": 8,
    "start_time": "2023-02-08T22:20:50.148Z"
   },
   {
    "duration": 14,
    "start_time": "2023-02-08T22:20:50.157Z"
   },
   {
    "duration": 11,
    "start_time": "2023-02-08T22:20:50.172Z"
   },
   {
    "duration": 10,
    "start_time": "2023-02-08T22:20:50.184Z"
   },
   {
    "duration": 10,
    "start_time": "2023-02-08T22:20:50.195Z"
   },
   {
    "duration": 10,
    "start_time": "2023-02-08T22:20:50.248Z"
   },
   {
    "duration": 53,
    "start_time": "2023-02-09T10:13:52.522Z"
   },
   {
    "duration": 1428,
    "start_time": "2023-02-09T10:13:55.737Z"
   },
   {
    "duration": 584,
    "start_time": "2023-02-09T10:13:57.167Z"
   },
   {
    "duration": 21,
    "start_time": "2023-02-09T10:13:57.752Z"
   },
   {
    "duration": 22,
    "start_time": "2023-02-09T10:13:57.776Z"
   },
   {
    "duration": 4,
    "start_time": "2023-02-09T10:13:57.800Z"
   },
   {
    "duration": 66,
    "start_time": "2023-02-09T10:13:57.806Z"
   },
   {
    "duration": 83,
    "start_time": "2023-02-09T10:13:57.883Z"
   },
   {
    "duration": 71,
    "start_time": "2023-02-09T10:13:57.968Z"
   },
   {
    "duration": 63,
    "start_time": "2023-02-09T10:13:58.041Z"
   },
   {
    "duration": 8,
    "start_time": "2023-02-09T10:13:58.106Z"
   },
   {
    "duration": 29,
    "start_time": "2023-02-09T10:13:58.116Z"
   },
   {
    "duration": 21,
    "start_time": "2023-02-09T10:13:58.147Z"
   },
   {
    "duration": 14,
    "start_time": "2023-02-09T10:13:58.170Z"
   },
   {
    "duration": 19,
    "start_time": "2023-02-09T10:13:58.194Z"
   },
   {
    "duration": 26,
    "start_time": "2023-02-09T10:13:58.215Z"
   },
   {
    "duration": 3,
    "start_time": "2023-02-09T10:13:58.242Z"
   },
   {
    "duration": 70,
    "start_time": "2023-02-09T10:13:58.247Z"
   },
   {
    "duration": 9,
    "start_time": "2023-02-09T10:13:58.318Z"
   },
   {
    "duration": 29,
    "start_time": "2023-02-09T10:13:58.330Z"
   },
   {
    "duration": 29,
    "start_time": "2023-02-09T10:13:58.361Z"
   },
   {
    "duration": 12,
    "start_time": "2023-02-09T10:13:58.392Z"
   },
   {
    "duration": 429,
    "start_time": "2023-02-09T10:13:58.405Z"
   },
   {
    "duration": 27,
    "start_time": "2023-02-09T10:13:58.836Z"
   },
   {
    "duration": 5,
    "start_time": "2023-02-09T10:13:58.865Z"
   },
   {
    "duration": 16,
    "start_time": "2023-02-09T10:13:58.882Z"
   },
   {
    "duration": 26,
    "start_time": "2023-02-09T10:13:58.900Z"
   },
   {
    "duration": 41,
    "start_time": "2023-02-09T10:13:58.928Z"
   },
   {
    "duration": 32,
    "start_time": "2023-02-09T10:13:58.974Z"
   },
   {
    "duration": 5,
    "start_time": "2023-02-09T10:13:59.007Z"
   },
   {
    "duration": 56,
    "start_time": "2023-02-09T10:13:59.014Z"
   },
   {
    "duration": 27,
    "start_time": "2023-02-09T10:13:59.073Z"
   },
   {
    "duration": 40,
    "start_time": "2023-02-09T10:13:59.102Z"
   },
   {
    "duration": 15,
    "start_time": "2023-02-09T10:13:59.144Z"
   },
   {
    "duration": 38,
    "start_time": "2023-02-09T10:13:59.160Z"
   },
   {
    "duration": 4,
    "start_time": "2023-02-09T10:13:59.200Z"
   },
   {
    "duration": 165,
    "start_time": "2023-02-09T10:13:59.205Z"
   },
   {
    "duration": 37,
    "start_time": "2023-02-09T10:13:59.372Z"
   },
   {
    "duration": 5,
    "start_time": "2023-02-09T10:13:59.411Z"
   },
   {
    "duration": 109,
    "start_time": "2023-02-09T10:13:59.418Z"
   },
   {
    "duration": 102,
    "start_time": "2023-02-09T10:13:59.528Z"
   },
   {
    "duration": 6,
    "start_time": "2023-02-09T10:13:59.631Z"
   },
   {
    "duration": 21,
    "start_time": "2023-02-09T10:13:59.638Z"
   },
   {
    "duration": 33,
    "start_time": "2023-02-09T10:13:59.661Z"
   },
   {
    "duration": 19,
    "start_time": "2023-02-09T10:13:59.696Z"
   },
   {
    "duration": 13,
    "start_time": "2023-02-09T10:13:59.717Z"
   },
   {
    "duration": 10,
    "start_time": "2023-02-09T10:13:59.732Z"
   },
   {
    "duration": 21,
    "start_time": "2023-02-09T10:13:59.744Z"
   },
   {
    "duration": 29,
    "start_time": "2023-02-09T10:13:59.767Z"
   },
   {
    "duration": 16,
    "start_time": "2023-02-09T10:13:59.798Z"
   },
   {
    "duration": 19,
    "start_time": "2023-02-09T10:13:59.815Z"
   },
   {
    "duration": 13,
    "start_time": "2023-02-09T10:13:59.837Z"
   },
   {
    "duration": 38,
    "start_time": "2023-02-09T10:13:59.852Z"
   },
   {
    "duration": 15,
    "start_time": "2023-02-09T10:14:52.200Z"
   }
  ],
  "kernelspec": {
   "display_name": "da_practicum_env2",
   "language": "python",
   "name": "python3"
  },
  "language_info": {
   "codemirror_mode": {
    "name": "ipython",
    "version": 3
   },
   "file_extension": ".py",
   "mimetype": "text/x-python",
   "name": "python",
   "nbconvert_exporter": "python",
   "pygments_lexer": "ipython3",
   "version": "3.9.13"
  },
  "toc": {
   "base_numbering": 1,
   "nav_menu": {},
   "number_sections": true,
   "sideBar": true,
   "skip_h1_title": true,
   "title_cell": "Table of Contents",
   "title_sidebar": "Contents",
   "toc_cell": false,
   "toc_position": {
    "height": "calc(100% - 180px)",
    "left": "10px",
    "top": "150px",
    "width": "243.825px"
   },
   "toc_section_display": true,
   "toc_window_display": true
  },
  "vscode": {
   "interpreter": {
    "hash": "e3032394db83c2c494a476c5588f4da7a4c8a370c24750e5ed45e62c348e99d6"
   }
  }
 },
 "nbformat": 4,
 "nbformat_minor": 2
}
